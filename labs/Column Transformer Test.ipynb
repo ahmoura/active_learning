{
 "cells": [
  {
   "cell_type": "code",
   "execution_count": 81,
   "id": "cd991b36",
   "metadata": {},
   "outputs": [],
   "source": [
    "from scipy.io import arff\n",
    "import pandas as pd\n",
    "import numpy as np\n",
    "from sklearn.preprocessing import OneHotEncoder, LabelEncoder\n",
    "from sklearn.model_selection import StratifiedShuffleSplit\n",
    "\n",
    "from sklearn.preprocessing import OneHotEncoder\n",
    "from sklearn.compose import ColumnTransformer\n",
    "\n",
    "def which_arff_dataset(dataset, n_splits=5):\n",
    "\n",
    "    data = arff.loadarff('../ALIH/datasets/' + dataset)\n",
    "    data = pd.DataFrame(data[0])\n",
    "    \n",
    "    #TODOS OS DATASETS SÃO DE CLASSIFICAÇÃO? Se não, o list [:-1] pode dar ruim\n",
    "    columnTransformer = ColumnTransformer([('encoder',\n",
    "                                            OneHotEncoder(),\n",
    "                                            list(data.select_dtypes(include=['object']).columns)[:-1])],\n",
    "                                          remainder='passthrough')\n",
    "    \n",
    "    data = pd.DataFrame(columnTransformer.fit_transform(data))\n",
    "\n",
    "    X_raw = data[data.columns[:-1]].to_numpy()\n",
    "    y_raw = data[data.columns[-1]].to_numpy()\n",
    "\n",
    "    # pq o y sem o enconding não funciona?\n",
    "    ley = LabelEncoder()\n",
    "    ley.fit(y_raw)\n",
    "    y_raw = ley.transform(y_raw)\n",
    "\n",
    "    # cross validation bags\n",
    "    data_cv = StratifiedShuffleSplit(n_splits=n_splits, train_size=0.2, random_state=0)  # n_splits\n",
    "    data_cv.get_n_splits(X_raw, y_raw)\n",
    "\n",
    "    # extraindo ids do data_cv\n",
    "    idx_data = []\n",
    "    for train_index, test_index in data_cv.split(X_raw, y_raw):\n",
    "        idx_data.append([train_index, test_index])\n",
    "\n",
    "    return X_raw, y_raw, idx_data, dataset"
   ]
  },
  {
   "cell_type": "code",
   "execution_count": 82,
   "id": "c36c435c",
   "metadata": {},
   "outputs": [],
   "source": [
    "datasets = ['1496_ringnorm.arff','1116_musk.arff']"
   ]
  },
  {
   "cell_type": "code",
   "execution_count": 87,
   "id": "7b628887",
   "metadata": {},
   "outputs": [],
   "source": [
    "X_raw, y_raw, idx_data, dataset = which_arff_dataset(datasets[1])"
   ]
  },
  {
   "cell_type": "code",
   "execution_count": 88,
   "id": "714064d4",
   "metadata": {},
   "outputs": [
    {
     "name": "stdout",
     "output_type": "stream",
     "text": [
      "[[1.0 0.0 0.0 ... -50.0 -112.0 96.0]\n",
      " [1.0 0.0 0.0 ... -61.0 -136.0 79.0]\n",
      " [1.0 0.0 0.0 ... -67.0 -145.0 39.0]\n",
      " ...\n",
      " [0.0 0.0 0.0 ... -66.0 -144.0 -6.0]\n",
      " [0.0 0.0 0.0 ... -44.0 -116.0 117.0]\n",
      " [0.0 0.0 0.0 ... -44.0 -115.0 118.0]] [1 1 1 ... 0 0 0] [[array([5384, 5885, 2999, ..., 3648, 6389, 1171]), array([6079, 5537,  188, ..., 4054, 4742, 5742])], [array([1285, 2338, 3469, ...,  793, 5448, 1454]), array([1747, 5461, 2062, ..., 5296, 6519, 4546])], [array([1391, 1338, 2472, ..., 5392, 5848, 4913]), array([  10, 1980, 4923, ..., 5378, 5268, 2786])], [array([5939,  300,  982, ..., 2366, 3733, 2699]), array([2046, 2239, 1569, ..., 3977,  132, 3895])], [array([5533, 1661, 3342, ..., 4445, 5519, 6536]), array([3685, 3122, 2099, ..., 2735, 2016, 4057])]] 1116_musk.arff\n"
     ]
    }
   ],
   "source": [
    "print(X_raw, y_raw, idx_data, dataset)"
   ]
  },
  {
   "cell_type": "code",
   "execution_count": 79,
   "id": "c0530e2d",
   "metadata": {},
   "outputs": [
    {
     "data": {
      "text/plain": [
       "['molecule_name']"
      ]
     },
     "execution_count": 79,
     "metadata": {},
     "output_type": "execute_result"
    }
   ],
   "source": [
    "#data.info()\n",
    "list(data.select_dtypes(include=['object']).columns)[:-1]"
   ]
  },
  {
   "cell_type": "code",
   "execution_count": 71,
   "id": "d30d936c",
   "metadata": {},
   "outputs": [],
   "source": [
    "columnTransformer = ColumnTransformer([('encoder',\n",
    "                                        OneHotEncoder(),\n",
    "                                        list(data.select_dtypes(include=['object']).columns)[:-1])],\n",
    "                                      remainder='passthrough')\n",
    "  \n",
    "data = pd.DataFrame(columnTransformer.fit_transform(data))"
   ]
  },
  {
   "cell_type": "code",
   "execution_count": 73,
   "id": "2dd17290",
   "metadata": {},
   "outputs": [
    {
     "data": {
      "text/plain": [
       "(6598, 269)"
      ]
     },
     "execution_count": 73,
     "metadata": {},
     "output_type": "execute_result"
    }
   ],
   "source": [
    "data.shape"
   ]
  }
 ],
 "metadata": {
  "kernelspec": {
   "display_name": "Python 3",
   "language": "python",
   "name": "python3"
  },
  "language_info": {
   "codemirror_mode": {
    "name": "ipython",
    "version": 3
   },
   "file_extension": ".py",
   "mimetype": "text/x-python",
   "name": "python",
   "nbconvert_exporter": "python",
   "pygments_lexer": "ipython3",
   "version": "3.7.10"
  }
 },
 "nbformat": 4,
 "nbformat_minor": 5
}
