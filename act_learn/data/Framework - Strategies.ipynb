{
 "cells": [
  {
   "cell_type": "markdown",
   "metadata": {},
   "source": [
    "# Active Learning - Comparando estratégias\n",
    "\n",
    "Este notebook visa comparar as diversas estratégias de aprendizado ativo encontradas no documento do Burr Settles, disponível em: http://active-learning.net/.\n",
    "\n",
    "Algumas das estratégias implementadas são:\n",
    "\n",
    "- Amostra por incerteza\n",
    "- Amostragem aleatória\n",
    "- Consulta por comitê\n",
    "- Aprendizado passivo\n",
    "- Redução do erro esperado\n",
    "- Expected Gradient Length\n",
    "\n",
    "## O Framework\n",
    "\n",
    "As estruturas do framework seguem o seguinte pipeline:\n",
    "1. É usuário define quantas instâncias ele deseja através da variável *n_queries* (nota: quanto maior o número de instâncias, maior o custo computacional);\n",
    "\n",
    "2. É definido um classificador através da função *which_classifier*, sendo os parâmentos:\n",
    "    - **Classifier:** Define qual o classificador será utilizado no processo (atualmente só existe o KNN);\n",
    "    \n",
    "3. É definido o dataset através da função *which_dataset*:\n",
    "    - **dataset:** Define o dataset a ser utilizado no framework(atualmente só possui o iris_dataset);\n",
    "    - **n_split:** Define o tamanho das divisões feitas no dataset  (*cross-validation*).\n",
    "    \n",
    "4. A função *which_dataset* é responsável por retornar:\n",
    "    - **X_raw:** Características dos dados do conjunto;\n",
    "    - **y_raw:** Rótulos dos dados do conjunto;\n",
    "    - **idx_data:** n listas (n = n_split) com a seguinte estrutura: [[train],[test]], nas listas train tendo os ids dos dados de treino e test os ids dos dados de teste. Assim, idx_data[i][j], tal que i = bag e j = treino(0) ou teste(1);\n",
    "    \n",
    "5. Após definir todo o ambiente, uma bateria de funções é executada, sendo essas as estratégias de amostragem do aprendizado ativo junto do dataset e do classificador escolhido.\n",
    "\n",
    "Cada função de estratégia possui a mesma entrada e saída para padronização do framework, sendo elas:\n",
    "\n",
    "#### Entrada\n",
    "- **X_raw:** Características dos dados do conjunto;\n",
    "- **y_raw:**  Rótulos dos dados do conjunto;\n",
    "- **idx_data:** n listas (n = n_split) de ids do conjunto;\n",
    "- **idx_bag:** Qual lista é desejado usar (idx_bag < n_splits);\n",
    "- **classifier:** Qual classificador será utilizado (definido na função *which_classifier*);\n",
    "- **init_size:**  Tamanho inicial da amostra (toda estratégia parte de um tamanho mínimo aleatório).\n",
    "\n",
    "#### Saída:\n",
    "- **score:** Acurácia do classificador + estratégia naquela bag;\n",
    "- **time_elapsed:** Tempo de execução;\n",
    "- **sample_size:** Quantidade de amostras utilizadas para treino daquele modelo;"
   ]
  },
  {
   "cell_type": "markdown",
   "metadata": {},
   "source": [
    "## Importações"
   ]
  },
  {
   "cell_type": "markdown",
   "metadata": {},
   "source": [
    "### Bibliotecas"
   ]
  },
  {
   "cell_type": "code",
   "execution_count": 1,
   "metadata": {},
   "outputs": [],
   "source": [
    "import numpy as np\n",
    "import pandas as pd\n",
    "from sklearn.model_selection import ShuffleSplit\n",
    "\n",
    "from modAL.uncertainty import classifier_uncertainty\n",
    "from modAL.models import ActiveLearner\n",
    "\n",
    "from modAL.models import ActiveLearner, Committee   "
   ]
  },
  {
   "cell_type": "code",
   "execution_count": 2,
   "metadata": {},
   "outputs": [],
   "source": [
    "from timeit import default_timer as timer\n",
    "# start = timer()\n",
    "# end = timer()\n",
    "# total_time = end - start # em segundos"
   ]
  },
  {
   "cell_type": "code",
   "execution_count": 3,
   "metadata": {},
   "outputs": [],
   "source": [
    "from copy import deepcopy"
   ]
  },
  {
   "cell_type": "markdown",
   "metadata": {},
   "source": [
    "### Pré-ajuste do conjunto de dados e dos classificadores"
   ]
  },
  {
   "cell_type": "markdown",
   "metadata": {},
   "source": [
    "#### Conjuntos de dados"
   ]
  },
  {
   "cell_type": "code",
   "execution_count": 24,
   "metadata": {},
   "outputs": [],
   "source": [
    "from sklearn.datasets import load_iris"
   ]
  },
  {
   "cell_type": "code",
   "execution_count": 25,
   "metadata": {},
   "outputs": [],
   "source": [
    "def which_dataset(dataset = \"iris\", n_splits = 5):\n",
    "    \n",
    "    # Futuramente essa etapa será ajustada para receber qualquer dataset (ou lista com datasets)\n",
    "    if (dataset == \"iris\"):\n",
    "        data = load_iris()\n",
    "        X_raw = data['data']\n",
    "        y_raw = data['target']\n",
    "        \n",
    "    # cross validation bags\n",
    "    data_cv = ShuffleSplit(n_splits= n_splits, test_size=0.3, random_state=0) #n_splits\n",
    "    \n",
    "    # extraindo ids do data_cv\n",
    "    idx_data = []\n",
    "    for train_index, test_index in data_cv.split(X_raw):\n",
    "            idx_data.append([train_index, test_index])\n",
    "\n",
    "    return X_raw, y_raw, idx_data"
   ]
  },
  {
   "cell_type": "code",
   "execution_count": 26,
   "metadata": {},
   "outputs": [
    {
     "ename": "NameError",
     "evalue": "name 'data' is not defined",
     "output_type": "error",
     "traceback": [
      "\u001b[0;31m---------------------------------------------------------------------------\u001b[0m",
      "\u001b[0;31mNameError\u001b[0m                                 Traceback (most recent call last)",
      "\u001b[0;32m<ipython-input-26-b17582dc7078>\u001b[0m in \u001b[0;36m<module>\u001b[0;34m\u001b[0m\n\u001b[0;32m----> 1\u001b[0;31m \u001b[0mX_raw\u001b[0m\u001b[0;34m,\u001b[0m \u001b[0my_raw\u001b[0m\u001b[0;34m,\u001b[0m \u001b[0midx_data\u001b[0m \u001b[0;34m=\u001b[0m \u001b[0mdata\u001b[0m\u001b[0;34m[\u001b[0m\u001b[0;36m0\u001b[0m\u001b[0;34m]\u001b[0m\u001b[0;34m,\u001b[0m\u001b[0mdata\u001b[0m\u001b[0;34m[\u001b[0m\u001b[0;36m1\u001b[0m\u001b[0;34m]\u001b[0m\u001b[0;34m,\u001b[0m\u001b[0mdata\u001b[0m\u001b[0;34m[\u001b[0m\u001b[0;36m2\u001b[0m\u001b[0;34m]\u001b[0m\u001b[0;34m\u001b[0m\u001b[0;34m\u001b[0m\u001b[0m\n\u001b[0m\u001b[1;32m      2\u001b[0m \u001b[0;31m# X_raw[idx_data[idx_bag][0][initial_idx]]\u001b[0m\u001b[0;34m\u001b[0m\u001b[0;34m\u001b[0m\u001b[0;34m\u001b[0m\u001b[0m\n\u001b[1;32m      3\u001b[0m \u001b[0;31m#X_raw[data[2][0][0]]\u001b[0m\u001b[0;34m\u001b[0m\u001b[0;34m\u001b[0m\u001b[0;34m\u001b[0m\u001b[0m\n\u001b[1;32m      4\u001b[0m \u001b[0my_raw\u001b[0m\u001b[0;34m[\u001b[0m\u001b[0midx_data\u001b[0m\u001b[0;34m[\u001b[0m\u001b[0;36m0\u001b[0m\u001b[0;34m]\u001b[0m\u001b[0;34m[\u001b[0m\u001b[0;36m1\u001b[0m\u001b[0;34m]\u001b[0m\u001b[0;34m]\u001b[0m\u001b[0;34m\u001b[0m\u001b[0;34m\u001b[0m\u001b[0m\n",
      "\u001b[0;31mNameError\u001b[0m: name 'data' is not defined"
     ]
    }
   ],
   "source": [
    "X_raw, y_raw, idx_data = data[0],data[1],data[2]\n",
    "# X_raw[idx_data[idx_bag][0][initial_idx]]\n",
    "#X_raw[data[2][0][0]]\n",
    "y_raw[idx_data[0][1]]"
   ]
  },
  {
   "cell_type": "markdown",
   "metadata": {},
   "source": [
    "#### Classificadores"
   ]
  },
  {
   "cell_type": "code",
   "execution_count": 23,
   "metadata": {},
   "outputs": [],
   "source": [
    "from sklearn.neighbors import KNeighborsClassifier"
   ]
  },
  {
   "cell_type": "code",
   "execution_count": 22,
   "metadata": {},
   "outputs": [],
   "source": [
    "def which_classifier(parameters, classifier = 'k'):\n",
    "    \n",
    "    if (classifier == 'k'):\n",
    "        return KNeighborsClassifier(parameters)"
   ]
  },
  {
   "cell_type": "markdown",
   "metadata": {},
   "source": [
    "## Estratégias"
   ]
  },
  {
   "cell_type": "markdown",
   "metadata": {},
   "source": [
    "### Amostra por incerteza"
   ]
  },
  {
   "cell_type": "code",
   "execution_count": 7,
   "metadata": {},
   "outputs": [],
   "source": [
    "def uncertain_sample(X_raw, y_raw, idx_data, idx_bag, classifier, init_size):\n",
    "    sample_size = 0\n",
    "    start = timer()\n",
    "\n",
    "    # amostragem aleatória inicial\n",
    "    \n",
    "    initial_idx = np.random.choice(range(len(idx_data[idx_bag][0])), size=init_size, replace=False)\n",
    "    X_train, y_train = X_raw[idx_data[idx_bag][0][initial_idx]], y_raw[idx_data[idx_bag][0][initial_idx]]\n",
    "    sample_size = sample_size + len(initial_idx)\n",
    "\n",
    "    # iniciando o aprendiz\n",
    "    learner = ActiveLearner(\n",
    "        estimator=classifier,\n",
    "        X_training=X_train, \n",
    "        y_training=y_train\n",
    "    )\n",
    "    unqueried_score = learner.score(X_raw[idx_data[idx_bag][1]], y_raw[idx_data[idx_bag][1]])\n",
    "    new_score = unqueried_score\n",
    "\n",
    "    i = len(idx_data[idx_bag][0])\n",
    "\n",
    "    while (learner.score(X_raw[idx_data[idx_bag][1]], y_raw[idx_data[idx_bag][1]]) < 0.90) and (i != 0):\n",
    "        stream_idx = i\n",
    "    #         print(\"i = \", i,\\\n",
    "    #               \"len X_raw: \", len(X_raw[idx_data[idx_bag][0]]),\\\n",
    "    #               \"\\tstream_idx: \", stream_idx,\\\n",
    "    #               \"\\tuncertainty: \", classifier_uncertainty(learner, X_raw[stream_idx].reshape(1, -1)),\\\n",
    "    #               \"\\tscore: \", learner.score(X_raw[idx_data[idx_bag][1]], y_raw[idx_data[idx_bag][1]]))\n",
    "        i = i - 1\n",
    "        if classifier_uncertainty(learner, X_raw[stream_idx].reshape(1, -1)) > 0.3:\n",
    "            sample_size = sample_size + 1\n",
    "            learner.teach(X_raw[stream_idx].reshape(1, -1), y_raw[stream_idx].reshape(-1, ))\n",
    "            new_score = learner.score(X_raw[idx_data[idx_bag][1]], y_raw[idx_data[idx_bag][1]])\n",
    "\n",
    "        np.delete(idx_data[idx_bag][0], i, axis = 0)\n",
    "\n",
    "    end = timer()\n",
    "    time_elapsed = end - start\n",
    "    \n",
    "    return [new_score, time_elapsed, sample_size]"
   ]
  },
  {
   "cell_type": "markdown",
   "metadata": {},
   "source": [
    "### Amostragem aleatória"
   ]
  },
  {
   "cell_type": "code",
   "execution_count": 27,
   "metadata": {},
   "outputs": [],
   "source": [
    "def random_sampling(X_raw, y_raw, idx_data, idx_bag, classifier, init_size):\n",
    "    sample_size = 0\n",
    "    start = timer()    \n",
    "\n",
    "    #amostra aleatória\n",
    "    training_indices = np.random.randint(low=0, high=len(idx_data), size=init_size)\n",
    "    sample_size = sample_size + len(training_indices)\n",
    "    \n",
    "    #sub-amostragem de treino e teste\n",
    "    X_train = X_raw[idx_data[idx_bag][0][training_indices]]\n",
    "    y_train = y_raw[idx_data[idx_bag][0][training_indices]]\n",
    "\n",
    "    X_test = np.delete(X_raw, idx_data[idx_bag][1][training_indices], axis=0)\n",
    "    y_test = np.delete(y_raw, idx_data[idx_bag][1][training_indices], axis=0)\n",
    "\n",
    "    classifier.fit(X_train, y_train)\n",
    "    pred = classifier.predict(X_test)\n",
    "    score = classifier.score(X_test,y_test)\n",
    "    \n",
    "    end = timer()\n",
    "    time_elapsed = end - start\n",
    "    \n",
    "    return [score, time_elapsed, sample_size]"
   ]
  },
  {
   "cell_type": "markdown",
   "metadata": {},
   "source": [
    "### Consulta por comitê"
   ]
  },
  {
   "cell_type": "code",
   "execution_count": 28,
   "metadata": {},
   "outputs": [],
   "source": [
    "def query_by_committee(X_raw, y_raw, idx_data, idx_bag, classifier, init_size):\n",
    "    start = timer()\n",
    "    \n",
    "    # define todos os dados como pool\n",
    "    learner_list = []\n",
    "    X_pool = X_raw[idx_data[idx_bag][0]]\n",
    "    y_pool = y_raw[idx_data[idx_bag][0]]\n",
    "\n",
    "    # definindo dados para treino\n",
    "    sample_size = 0\n",
    "    train_idx = np.random.choice(range(len(idx_data[idx_bag][0])), size=init_size, replace=False)\n",
    "    sample_size = sample_size + len(train_idx)\n",
    "    X_train = X_pool[train_idx]\n",
    "    y_train = y_pool[train_idx]\n",
    "\n",
    "    # removendo dados extraídos da pool\n",
    "    X_pool = np.delete(X_pool, train_idx, axis=0)\n",
    "    y_pool = np.delete(y_pool, train_idx)\n",
    "\n",
    "    # iniciando o aprendiz\n",
    "    learner = ActiveLearner(\n",
    "        estimator=classifier,\n",
    "        X_training=X_train, y_training=y_train\n",
    "    )\n",
    "    learner_list.append(learner)\n",
    "\n",
    "    # juntando os membros do comitê\n",
    "    committee = Committee(learner_list=learner_list)\n",
    "\n",
    "    # estratégia query by committee\n",
    "    for idx in range(init_size):\n",
    "        query_idx, query_instance = committee.query(X_pool)\n",
    "        committee.teach(\n",
    "            X=X_pool[query_idx].reshape(1, -1),\n",
    "            y=y_pool[query_idx].reshape(1, )\n",
    "        )\n",
    "\n",
    "        # removendo novas amostras do comitê\n",
    "        X_pool = np.delete(X_pool, query_idx, axis=0)\n",
    "        y_pool = np.delete(y_pool, query_idx)\n",
    "\n",
    "    \n",
    "    score = committee.score(X_raw[idx_data[idx_bag][1]], y_raw[idx_data[idx_bag][1]])\n",
    "    \n",
    "\n",
    "    end = timer()\n",
    "    time_elapsed = end - start\n",
    "    \n",
    "    return [score, time_elapsed, sample_size]"
   ]
  },
  {
   "cell_type": "markdown",
   "metadata": {},
   "source": [
    "### Aprendizado passivo"
   ]
  },
  {
   "cell_type": "code",
   "execution_count": 29,
   "metadata": {},
   "outputs": [],
   "source": [
    "def passive_learning(X_raw, y_raw, idx_data, idx_bag, classifier, init_size):\n",
    "    sample_size = 0\n",
    "    start = timer() \n",
    "    \n",
    "    from sklearn.model_selection import train_test_split\n",
    "\n",
    "    classifier.fit(X_raw[idx_data[idx_bag][0]], y_raw[idx_data[idx_bag][0]])\n",
    "    sample_size = sample_size + len(X_raw[idx_data[idx_bag][0]])\n",
    "    y_predict = classifier.predict(X_raw[idx_data[idx_bag][1]])\n",
    "\n",
    "    from sklearn.metrics import accuracy_score\n",
    "\n",
    "    score = accuracy_score(y_raw[idx_data[idx_bag][1]],y_predict)\n",
    "    \n",
    "    end = timer()\n",
    "    time_elapsed = end - start\n",
    "    \n",
    "    return [score, time_elapsed, sample_size]"
   ]
  },
  {
   "cell_type": "markdown",
   "metadata": {},
   "source": [
    "## Algoritmo"
   ]
  },
  {
   "cell_type": "markdown",
   "metadata": {},
   "source": [
    "### O Framework"
   ]
  },
  {
   "cell_type": "code",
   "execution_count": 30,
   "metadata": {
    "scrolled": true
   },
   "outputs": [],
   "source": [
    "legend = []\n",
    "n_queries = 10\n",
    "n_splits = 5\n",
    "k = 5\n",
    "\n",
    "classifier = which_classifier(k)\n",
    "\n",
    "X_raw, y_raw, idx_data = which_dataset()\n",
    "\n",
    "#idx_data[loop_cv][train_or_test][index]\n",
    "#print(\" X_raw: \\n\", iris_x[X_raw], \"\\n y_raw: \\n\", iris_y[y_raw])\n",
    "\n",
    "performance_history_total = []\n",
    "\n",
    "performance_history = []\n",
    "for idx_bag, cv_bag in enumerate(idx_data):\n",
    "    uncertain_score = uncertain_sample(X_raw, y_raw, idx_data, idx_bag, classifier, k)\n",
    "    performance_history.append(uncertain_score)\n",
    "performance_history_total.append(performance_history)\n",
    "legend.append(\"Uncertainty Sampling\")\n",
    "\n",
    "performance_history = []\n",
    "for idx_bag, cv_bag in enumerate(idx_data):\n",
    "    classifier = which_classifier(k)\n",
    "    random_score = random_sampling(X_raw, y_raw, idx_data, idx_bag, classifier, k)\n",
    "    performance_history.append(random_score)\n",
    "performance_history_total.append(performance_history)\n",
    "legend.append(\"Random Sampling\")\n",
    "\n",
    "performance_history = []\n",
    "for idx_bag, cv_bag in enumerate(idx_data):\n",
    "    classifier = which_classifier(k)\n",
    "    qbc_score = query_by_committee(X_raw, y_raw, idx_data, idx_bag, classifier, k)\n",
    "    performance_history.append(qbc_score)\n",
    "performance_history_total.append(performance_history)\n",
    "legend.append(\"Query by committee\")\n",
    "\n",
    "performance_history = []\n",
    "for idx_bag, cv_bag in enumerate(idx_data):\n",
    "    classifier = which_classifier(k)\n",
    "    passive_score = passive_learning(X_raw, y_raw, idx_data, idx_bag, classifier, k)\n",
    "    performance_history.append(passive_score)\n",
    "performance_history_total.append(performance_history)\n",
    "legend.append(\"Passive learning\")"
   ]
  },
  {
   "cell_type": "code",
   "execution_count": 12,
   "metadata": {},
   "outputs": [],
   "source": [
    "def plot_strategies_acc(performance_history_total, legend, title):\n",
    "    \n",
    "    %matplotlib inline\n",
    "    import matplotlib as mpl\n",
    "    import matplotlib.pyplot as plt\n",
    "\n",
    "    fig, ax = plt.subplots(figsize=(8.5, 6), dpi=130)\n",
    "\n",
    "    for idx,pht in enumerate(performance_history_total):\n",
    "        ax.plot(pht)\n",
    "        ax.scatter(range(len(pht)), pht, s=13)\n",
    "\n",
    "    ax.xaxis.set_major_locator(mpl.ticker.MaxNLocator(nbins=5, integer=True))\n",
    "    ax.yaxis.set_major_locator(mpl.ticker.MaxNLocator(nbins=10))\n",
    "    ax.yaxis.set_major_formatter(mpl.ticker.PercentFormatter(xmax=1))\n",
    "\n",
    "    ax.set_ylim(bottom=0, top=1)\n",
    "    ax.grid(True)\n",
    "\n",
    "    ax.set_title(title + \" - Classification accuracy with {n_queries} queries\".format(n_queries = n_queries))\n",
    "    ax.set_xlabel('Query iteration')\n",
    "    ax.set_ylabel('Classification Accuracy')\n",
    "    ax.legend(legend, loc='lower right')\n",
    "\n",
    "    plt.show()"
   ]
  },
  {
   "cell_type": "code",
   "execution_count": 31,
   "metadata": {},
   "outputs": [
    {
     "name": "stdout",
     "output_type": "stream",
     "text": [
      "0   0   0.5777777777777777\n",
      "0   1   0.3310810810810811\n",
      "0   2   0.37777777777777777\n",
      "0   3   0.9777777777777777\n",
      "0   4   0.5777777777777777\n",
      "1   0   0.3310810810810811\n",
      "1   1   0.37777777777777777\n",
      "1   2   0.9777777777777777\n",
      "1   3   0.5777777777777777\n",
      "1   4   0.3356164383561644\n",
      "2   0   0.37777777777777777\n",
      "2   1   0.9777777777777777\n",
      "2   2   0.5777777777777777\n",
      "2   3   0.3356164383561644\n",
      "2   4   0.6222222222222222\n",
      "3   0   0.9777777777777777\n",
      "3   1   0.5777777777777777\n",
      "3   2   0.3356164383561644\n",
      "3   3   0.6222222222222222\n",
      "3   4   0.9555555555555556\n"
     ]
    }
   ],
   "source": [
    "title = \"iris\"\n",
    "##plot_strategies_acc(performance_history_total, legend, title)\n",
    "# [score, time_elapsed, sample_size]\n",
    "\n",
    "inner_list = []\n",
    "for i in range(n_splits):\n",
    "    for idx,pht in enumerate(performance_history_total):\n",
    "        inner_list.append(pht[i][0])\n",
    "        \n",
    "\n",
    "for j in range(len(legend)):\n",
    "    for i in range(n_splits):\n",
    "        print(j , \" \", i, \" \", inner_list[i+j])"
   ]
  },
  {
   "cell_type": "code",
   "execution_count": 32,
   "metadata": {},
   "outputs": [
    {
     "data": {
      "text/plain": [
       "[0.5777777777777777,\n",
       " 0.3310810810810811,\n",
       " 0.37777777777777777,\n",
       " 0.9777777777777777,\n",
       " 0.5777777777777777,\n",
       " 0.3356164383561644,\n",
       " 0.6222222222222222,\n",
       " 0.9555555555555556,\n",
       " 0.9333333333333333,\n",
       " 0.3333333333333333,\n",
       " 0.6444444444444445,\n",
       " 0.9555555555555556,\n",
       " 0.4888888888888889,\n",
       " 0.3287671232876712,\n",
       " 0.6444444444444445,\n",
       " 0.9333333333333333,\n",
       " 0.5333333333333333,\n",
       " 0.3356164383561644,\n",
       " 0.9333333333333333,\n",
       " 0.9777777777777777]"
      ]
     },
     "execution_count": 32,
     "metadata": {},
     "output_type": "execute_result"
    }
   ],
   "source": [
    "inner_list"
   ]
  },
  {
   "cell_type": "code",
   "execution_count": 33,
   "metadata": {
    "scrolled": false
   },
   "outputs": [
    {
     "data": {
      "text/html": [
       "<div>\n",
       "<style scoped>\n",
       "    .dataframe tbody tr th:only-of-type {\n",
       "        vertical-align: middle;\n",
       "    }\n",
       "\n",
       "    .dataframe tbody tr th {\n",
       "        vertical-align: top;\n",
       "    }\n",
       "\n",
       "    .dataframe thead th {\n",
       "        text-align: right;\n",
       "    }\n",
       "</style>\n",
       "<table border=\"1\" class=\"dataframe\">\n",
       "  <thead>\n",
       "    <tr style=\"text-align: right;\">\n",
       "      <th></th>\n",
       "      <th>0</th>\n",
       "      <th>1</th>\n",
       "      <th>2</th>\n",
       "      <th>3</th>\n",
       "      <th>4</th>\n",
       "    </tr>\n",
       "  </thead>\n",
       "  <tbody>\n",
       "    <tr>\n",
       "      <th>Uncertainty Sampling</th>\n",
       "      <td>[0.5777777777777777, 0.3307458380000128, 15]</td>\n",
       "      <td>[0.5777777777777777, 0.25870948200000043, 15]</td>\n",
       "      <td>[0.9333333333333333, 0.1889172369999983, 16]</td>\n",
       "      <td>[0.4888888888888889, 0.27582389299999477, 11]</td>\n",
       "      <td>[0.5333333333333333, 0.36769197899999995, 20]</td>\n",
       "    </tr>\n",
       "    <tr>\n",
       "      <th>Random Sampling</th>\n",
       "      <td>[0.3310810810810811, 0.010844195999993644, 5]</td>\n",
       "      <td>[0.3356164383561644, 0.011482518999997637, 5]</td>\n",
       "      <td>[0.3333333333333333, 0.009340359000020726, 5]</td>\n",
       "      <td>[0.3287671232876712, 0.010842744000001403, 5]</td>\n",
       "      <td>[0.3356164383561644, 0.009815635999984806, 5]</td>\n",
       "    </tr>\n",
       "    <tr>\n",
       "      <th>Query by committee</th>\n",
       "      <td>[0.37777777777777777, 0.040990718999978526, 5]</td>\n",
       "      <td>[0.6222222222222222, 0.0349908869999922, 5]</td>\n",
       "      <td>[0.6444444444444445, 0.039607755000020006, 5]</td>\n",
       "      <td>[0.6444444444444445, 0.03545860399998446, 5]</td>\n",
       "      <td>[0.9333333333333333, 0.037034896000022854, 5]</td>\n",
       "    </tr>\n",
       "    <tr>\n",
       "      <th>Passive learning</th>\n",
       "      <td>[0.9777777777777777, 0.002436670999998114, 105]</td>\n",
       "      <td>[0.9555555555555556, 0.0023276729999963663, 105]</td>\n",
       "      <td>[0.9555555555555556, 0.0023195770000086213, 105]</td>\n",
       "      <td>[0.9333333333333333, 0.0024001319999911175, 105]</td>\n",
       "      <td>[0.9777777777777777, 0.00252835000000573, 105]</td>\n",
       "    </tr>\n",
       "  </tbody>\n",
       "</table>\n",
       "</div>"
      ],
      "text/plain": [
       "                                                                    0  \\\n",
       "Uncertainty Sampling     [0.5777777777777777, 0.3307458380000128, 15]   \n",
       "Random Sampling         [0.3310810810810811, 0.010844195999993644, 5]   \n",
       "Query by committee     [0.37777777777777777, 0.040990718999978526, 5]   \n",
       "Passive learning      [0.9777777777777777, 0.002436670999998114, 105]   \n",
       "\n",
       "                                                                     1  \\\n",
       "Uncertainty Sampling     [0.5777777777777777, 0.25870948200000043, 15]   \n",
       "Random Sampling          [0.3356164383561644, 0.011482518999997637, 5]   \n",
       "Query by committee         [0.6222222222222222, 0.0349908869999922, 5]   \n",
       "Passive learning      [0.9555555555555556, 0.0023276729999963663, 105]   \n",
       "\n",
       "                                                                     2  \\\n",
       "Uncertainty Sampling      [0.9333333333333333, 0.1889172369999983, 16]   \n",
       "Random Sampling          [0.3333333333333333, 0.009340359000020726, 5]   \n",
       "Query by committee       [0.6444444444444445, 0.039607755000020006, 5]   \n",
       "Passive learning      [0.9555555555555556, 0.0023195770000086213, 105]   \n",
       "\n",
       "                                                                     3  \\\n",
       "Uncertainty Sampling     [0.4888888888888889, 0.27582389299999477, 11]   \n",
       "Random Sampling          [0.3287671232876712, 0.010842744000001403, 5]   \n",
       "Query by committee        [0.6444444444444445, 0.03545860399998446, 5]   \n",
       "Passive learning      [0.9333333333333333, 0.0024001319999911175, 105]   \n",
       "\n",
       "                                                                   4  \n",
       "Uncertainty Sampling   [0.5333333333333333, 0.36769197899999995, 20]  \n",
       "Random Sampling        [0.3356164383561644, 0.009815635999984806, 5]  \n",
       "Query by committee     [0.9333333333333333, 0.037034896000022854, 5]  \n",
       "Passive learning      [0.9777777777777777, 0.00252835000000573, 105]  "
      ]
     },
     "metadata": {},
     "output_type": "display_data"
    }
   ],
   "source": [
    "df = pd.DataFrame(performance_history_total, index = legend)\n",
    "display(df)"
   ]
  },
  {
   "cell_type": "code",
   "execution_count": 16,
   "metadata": {},
   "outputs": [],
   "source": [
    "#df[['score', 'time_elapsed', 'sample_size']] = df.columns.split(\" \",expand=True,)"
   ]
  },
  {
   "cell_type": "markdown",
   "metadata": {},
   "source": [
    "## Espaço para testes"
   ]
  },
  {
   "cell_type": "markdown",
   "metadata": {},
   "source": [
    "### Redução do erro esperado\n",
    "\n",
    "__Returns:__ The indices of the instances from X chosen to be labelled; the instances from X chosen to be labelled."
   ]
  },
  {
   "cell_type": "code",
   "execution_count": 34,
   "metadata": {},
   "outputs": [
    {
     "name": "stdout",
     "output_type": "stream",
     "text": [
      "Amostra por incerteza sem redução de erro:\n",
      "[0.24444444444444444]\n"
     ]
    },
    {
     "ename": "IndexError",
     "evalue": "invalid index to scalar variable.",
     "output_type": "error",
     "traceback": [
      "\u001b[0;31m---------------------------------------------------------------------------\u001b[0m",
      "\u001b[0;31mIndexError\u001b[0m                                Traceback (most recent call last)",
      "\u001b[0;32m<ipython-input-34-f2cf44c3af31>\u001b[0m in \u001b[0;36m<module>\u001b[0;34m\u001b[0m\n\u001b[1;32m     30\u001b[0m \u001b[0mprint\u001b[0m\u001b[0;34m(\u001b[0m\u001b[0;34m[\u001b[0m\u001b[0mnew_score\u001b[0m\u001b[0;34m]\u001b[0m\u001b[0;34m)\u001b[0m\u001b[0;34m\u001b[0m\u001b[0;34m\u001b[0m\u001b[0m\n\u001b[1;32m     31\u001b[0m \u001b[0;34m\u001b[0m\u001b[0m\n\u001b[0;32m---> 32\u001b[0;31m \u001b[0msample_er\u001b[0m \u001b[0;34m=\u001b[0m \u001b[0mexpected_error_reduction\u001b[0m\u001b[0;34m(\u001b[0m\u001b[0mlearner\u001b[0m\u001b[0;34m,\u001b[0m \u001b[0mX_raw\u001b[0m\u001b[0;34m[\u001b[0m\u001b[0midx_data\u001b[0m\u001b[0;34m[\u001b[0m\u001b[0midx_bag\u001b[0m\u001b[0;34m]\u001b[0m\u001b[0;34m[\u001b[0m\u001b[0;36m0\u001b[0m\u001b[0;34m]\u001b[0m\u001b[0;34m]\u001b[0m\u001b[0;34m)\u001b[0m\u001b[0;34m[\u001b[0m\u001b[0;36m0\u001b[0m\u001b[0;34m]\u001b[0m\u001b[0;34m[\u001b[0m\u001b[0;36m0\u001b[0m\u001b[0;34m]\u001b[0m\u001b[0;34m\u001b[0m\u001b[0;34m\u001b[0m\u001b[0m\n\u001b[0m\u001b[1;32m     33\u001b[0m \u001b[0mlearner\u001b[0m\u001b[0;34m.\u001b[0m\u001b[0mteach\u001b[0m\u001b[0;34m(\u001b[0m\u001b[0mX_raw\u001b[0m\u001b[0;34m[\u001b[0m\u001b[0msample_er\u001b[0m\u001b[0;34m]\u001b[0m\u001b[0;34m.\u001b[0m\u001b[0mreshape\u001b[0m\u001b[0;34m(\u001b[0m\u001b[0;36m1\u001b[0m\u001b[0;34m,\u001b[0m \u001b[0;34m-\u001b[0m\u001b[0;36m1\u001b[0m\u001b[0;34m)\u001b[0m\u001b[0;34m,\u001b[0m \u001b[0my_raw\u001b[0m\u001b[0;34m[\u001b[0m\u001b[0msample_er\u001b[0m\u001b[0;34m]\u001b[0m\u001b[0;34m.\u001b[0m\u001b[0mreshape\u001b[0m\u001b[0;34m(\u001b[0m\u001b[0;34m-\u001b[0m\u001b[0;36m1\u001b[0m\u001b[0;34m,\u001b[0m \u001b[0;34m)\u001b[0m\u001b[0;34m)\u001b[0m\u001b[0;34m\u001b[0m\u001b[0;34m\u001b[0m\u001b[0m\n\u001b[1;32m     34\u001b[0m \u001b[0mnew_score\u001b[0m \u001b[0;34m=\u001b[0m \u001b[0mlearner\u001b[0m\u001b[0;34m.\u001b[0m\u001b[0mscore\u001b[0m\u001b[0;34m(\u001b[0m\u001b[0mX_raw\u001b[0m\u001b[0;34m[\u001b[0m\u001b[0midx_data\u001b[0m\u001b[0;34m[\u001b[0m\u001b[0midx_bag\u001b[0m\u001b[0;34m]\u001b[0m\u001b[0;34m[\u001b[0m\u001b[0;36m1\u001b[0m\u001b[0;34m]\u001b[0m\u001b[0;34m]\u001b[0m\u001b[0;34m,\u001b[0m \u001b[0my_raw\u001b[0m\u001b[0;34m[\u001b[0m\u001b[0midx_data\u001b[0m\u001b[0;34m[\u001b[0m\u001b[0midx_bag\u001b[0m\u001b[0;34m]\u001b[0m\u001b[0;34m[\u001b[0m\u001b[0;36m1\u001b[0m\u001b[0;34m]\u001b[0m\u001b[0;34m]\u001b[0m\u001b[0;34m)\u001b[0m\u001b[0;34m\u001b[0m\u001b[0;34m\u001b[0m\u001b[0m\n",
      "\u001b[0;31mIndexError\u001b[0m: invalid index to scalar variable."
     ]
    }
   ],
   "source": [
    "init_size = k = 3\n",
    "classifier = which_classifier(k)\n",
    "X_raw, y_raw, idx_data = which_dataset()\n",
    "idx_bag = 0\n",
    "\n",
    "initial_idx = np.random.choice(range(len(idx_data[idx_bag][0])), size=init_size, replace=False)\n",
    "X_train, y_train = X_raw[idx_data[idx_bag][0][initial_idx]], y_raw[idx_data[idx_bag][0][initial_idx]]\n",
    "\n",
    "learner = ActiveLearner(\n",
    "    estimator=classifier,\n",
    "    X_training=X_train, \n",
    "    y_training=y_train\n",
    ")\n",
    "unqueried_score = learner.score(X_raw[idx_data[idx_bag][1]], y_raw[idx_data[idx_bag][1]])\n",
    "new_score = unqueried_score\n",
    "\n",
    "i = len(idx_data[idx_bag][0])\n",
    "\n",
    "while (learner.score(X_raw[idx_data[idx_bag][1]], y_raw[idx_data[idx_bag][1]]) < 0.8) and (i != 0):\n",
    "    stream_idx = i\n",
    "    i = i - 1\n",
    "    if classifier_uncertainty(learner, X_raw[stream_idx].reshape(1, -1)) > 0.3:\n",
    "        learner.teach(X_raw[stream_idx].reshape(1, -1), y_raw[stream_idx].reshape(-1, ))\n",
    "        new_score = learner.score(X_raw[idx_data[idx_bag][1]], y_raw[idx_data[idx_bag][1]])\n",
    "\n",
    "    np.delete(idx_data[idx_bag][0], i, axis = 0)\n",
    "    \n",
    "from modAL.expected_error import expected_error_reduction\n",
    "print(\"Amostra por incerteza sem redução de erro:\")\n",
    "print([new_score])\n",
    "\n",
    "sample_er = expected_error_reduction(learner, X_raw[idx_data[idx_bag][0]])[0][0]\n",
    "learner.teach(X_raw[sample_er].reshape(1, -1), y_raw[sample_er].reshape(-1, ))\n",
    "new_score = learner.score(X_raw[idx_data[idx_bag][1]], y_raw[idx_data[idx_bag][1]])\n",
    "print(\"Amostra por incerteza com redução de erro:\")\n",
    "print([new_score])"
   ]
  },
  {
   "cell_type": "code",
   "execution_count": 41,
   "metadata": {},
   "outputs": [
    {
     "name": "stdout",
     "output_type": "stream",
     "text": [
      "[0]\n",
      "[5.1 3.4 1.5 0.2] \t 0\n"
     ]
    },
    {
     "ename": "IndexError",
     "evalue": "invalid index to scalar variable.",
     "output_type": "error",
     "traceback": [
      "\u001b[0;31m---------------------------------------------------------------------------\u001b[0m",
      "\u001b[0;31mIndexError\u001b[0m                                Traceback (most recent call last)",
      "\u001b[0;32m<ipython-input-41-efad54312da4>\u001b[0m in \u001b[0;36m<module>\u001b[0;34m\u001b[0m\n\u001b[1;32m      3\u001b[0m \u001b[0mprint\u001b[0m\u001b[0;34m(\u001b[0m\u001b[0mX_raw\u001b[0m\u001b[0;34m[\u001b[0m\u001b[0;36m39\u001b[0m\u001b[0;34m]\u001b[0m\u001b[0;34m,\u001b[0m\u001b[0;34m\"\\t\"\u001b[0m\u001b[0;34m,\u001b[0m \u001b[0my_raw\u001b[0m\u001b[0;34m[\u001b[0m\u001b[0;36m39\u001b[0m\u001b[0;34m]\u001b[0m\u001b[0;34m)\u001b[0m\u001b[0;34m\u001b[0m\u001b[0;34m\u001b[0m\u001b[0m\n\u001b[1;32m      4\u001b[0m \u001b[0;34m\u001b[0m\u001b[0m\n\u001b[0;32m----> 5\u001b[0;31m \u001b[0mprint\u001b[0m\u001b[0;34m(\u001b[0m\u001b[0mX_raw\u001b[0m\u001b[0;34m[\u001b[0m\u001b[0mexpected_error_reduction\u001b[0m\u001b[0;34m(\u001b[0m\u001b[0mlearner\u001b[0m\u001b[0;34m,\u001b[0m \u001b[0mX_raw\u001b[0m\u001b[0;34m[\u001b[0m\u001b[0midx_data\u001b[0m\u001b[0;34m[\u001b[0m\u001b[0midx_bag\u001b[0m\u001b[0;34m]\u001b[0m\u001b[0;34m[\u001b[0m\u001b[0;36m0\u001b[0m\u001b[0;34m]\u001b[0m\u001b[0;34m]\u001b[0m\u001b[0;34m)\u001b[0m\u001b[0;34m[\u001b[0m\u001b[0;36m0\u001b[0m\u001b[0;34m]\u001b[0m\u001b[0;34m[\u001b[0m\u001b[0;36m0\u001b[0m\u001b[0;34m]\u001b[0m\u001b[0;34m]\u001b[0m\u001b[0;34m)\u001b[0m\u001b[0;34m\u001b[0m\u001b[0;34m\u001b[0m\u001b[0m\n\u001b[0m\u001b[1;32m      6\u001b[0m \u001b[0;34m\u001b[0m\u001b[0m\n\u001b[1;32m      7\u001b[0m \u001b[0mprint\u001b[0m\u001b[0;34m(\u001b[0m\u001b[0mi\u001b[0m\u001b[0;34m)\u001b[0m\u001b[0;34m\u001b[0m\u001b[0;34m\u001b[0m\u001b[0m\n",
      "\u001b[0;31mIndexError\u001b[0m: invalid index to scalar variable."
     ]
    }
   ],
   "source": [
    "print(expected_error_reduction(learner, X_raw[idx_data[idx_bag][0]]))\n",
    "\n",
    "print(X_raw[39],\"\\t\", y_raw[39])\n",
    "\n",
    "print(X_raw[expected_error_reduction(learner, X_raw[idx_data[idx_bag][0]])[0][0]])\n",
    "\n",
    "print(i)"
   ]
  },
  {
   "cell_type": "code",
   "execution_count": null,
   "metadata": {},
   "outputs": [],
   "source": []
  },
  {
   "cell_type": "code",
   "execution_count": null,
   "metadata": {},
   "outputs": [],
   "source": []
  }
 ],
 "metadata": {
  "kernelspec": {
   "display_name": "Python 3",
   "language": "python",
   "name": "python3"
  },
  "language_info": {
   "codemirror_mode": {
    "name": "ipython",
    "version": 3
   },
   "file_extension": ".py",
   "mimetype": "text/x-python",
   "name": "python",
   "nbconvert_exporter": "python",
   "pygments_lexer": "ipython3",
   "version": "3.9.1"
  }
 },
 "nbformat": 4,
 "nbformat_minor": 4
}
