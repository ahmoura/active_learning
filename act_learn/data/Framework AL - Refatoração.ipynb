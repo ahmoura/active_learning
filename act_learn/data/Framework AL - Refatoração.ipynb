{
 "cells": [
  {
   "cell_type": "markdown",
   "metadata": {},
   "source": [
    "# Comparando estratégias"
   ]
  },
  {
   "cell_type": "markdown",
   "metadata": {},
   "source": [
    "- Amostra por incerteza\n",
    "- Amostragem aleatória\n",
    "- Consulta por comitê\n",
    "- Aprendizado passivo\n",
    "- Redução do erro esperado"
   ]
  },
  {
   "cell_type": "code",
   "execution_count": 1,
   "metadata": {},
   "outputs": [
    {
     "data": {
      "text/plain": [
       "{'divide': 'warn', 'over': 'warn', 'under': 'ignore', 'invalid': 'warn'}"
      ]
     },
     "execution_count": 1,
     "metadata": {},
     "output_type": "execute_result"
    }
   ],
   "source": [
    "import numpy as np\n",
    "np.seterr(divide='ignore', invalid='ignore')"
   ]
  },
  {
   "cell_type": "code",
   "execution_count": 2,
   "metadata": {},
   "outputs": [],
   "source": [
    "# Plots\n",
    "%matplotlib inline\n",
    "import matplotlib as mpl\n",
    "import matplotlib.pyplot as plt"
   ]
  },
  {
   "cell_type": "code",
   "execution_count": 3,
   "metadata": {},
   "outputs": [],
   "source": [
    "from copy import deepcopy"
   ]
  },
  {
   "cell_type": "code",
   "execution_count": 4,
   "metadata": {},
   "outputs": [],
   "source": [
    "from sklearn.model_selection import train_test_split"
   ]
  },
  {
   "cell_type": "code",
   "execution_count": 5,
   "metadata": {},
   "outputs": [],
   "source": [
    "from modAL.models import ActiveLearner\n",
    "from modAL.uncertainty import uncertainty_sampling"
   ]
  },
  {
   "cell_type": "code",
   "execution_count": 6,
   "metadata": {},
   "outputs": [],
   "source": [
    "from timeit import default_timer as timer"
   ]
  },
  {
   "cell_type": "code",
   "execution_count": 7,
   "metadata": {},
   "outputs": [],
   "source": [
    "from sklearn.model_selection import ShuffleSplit"
   ]
  },
  {
   "cell_type": "markdown",
   "metadata": {},
   "source": [
    "## Classificadores"
   ]
  },
  {
   "cell_type": "markdown",
   "metadata": {},
   "source": [
    "### Algoritmos"
   ]
  },
  {
   "cell_type": "code",
   "execution_count": 8,
   "metadata": {},
   "outputs": [],
   "source": [
    "from sklearn.neighbors import KNeighborsClassifier"
   ]
  },
  {
   "cell_type": "markdown",
   "metadata": {},
   "source": [
    "### Conjunto de dados"
   ]
  },
  {
   "cell_type": "code",
   "execution_count": 9,
   "metadata": {},
   "outputs": [],
   "source": [
    "from sklearn.datasets import load_iris, load_digits, load_wine, load_breast_cancer"
   ]
  },
  {
   "cell_type": "markdown",
   "metadata": {},
   "source": [
    "## Amostra por incerteza"
   ]
  },
  {
   "cell_type": "code",
   "execution_count": 54,
   "metadata": {},
   "outputs": [],
   "source": [
    "def uncertain_sampling(X_raw, y_raw, dx_data, idx_bag, classifier, init_size, n_queries):\n",
    "    \n",
    "    from modAL.uncertainty import classifier_uncertainty\n",
    "    start = timer()\n",
    "    sample_size = 0\n",
    "    performance_history = []\n",
    "    \n",
    "    initial_idx = np.random.choice(range(len(idx_data[idx_bag][0])), size=init_size, replace=False)\n",
    "    X_train, y_train = X_raw[idx_data[idx_bag][0][initial_idx]], y_raw[idx_data[idx_bag][0][initial_idx]]\n",
    "    X_test, y_test = X_raw[idx_data[idx_bag][1]], y_raw[idx_data[idx_bag][1]]\n",
    "    \n",
    "    sample_size = sample_size + len(X_train)\n",
    "\n",
    "    classifier.fit(X_train,y_train)\n",
    "\n",
    "    learner = ActiveLearner (\n",
    "        estimator=classifier,\n",
    "        query_strategy=uncertainty_sampling\n",
    "    )\n",
    "    uncertain_sample_score = learner.score(X_test, y_test)\n",
    "\n",
    "    performance_history.append(uncertain_sample_score)\n",
    "\n",
    "    total_of_samples = 0\n",
    "    while (total_of_samples != n_queries - 1):\n",
    "        \n",
    "        #X_train, X_test, y_train, y_test = train_test_split(X_raw, y_raw, train_size=0.03)\n",
    "        \n",
    "        idx = np.random.choice(range(len(idx_data[idx_bag][0])), size=init_size, replace=False)\n",
    "        X_train, y_train = X_raw[idx_data[idx_bag][0][idx]], y_raw[idx_data[idx_bag][0][idx]]\n",
    "        print(\"WHILE\", classifier_uncertainty(learner, X_train[0].reshape(1,-1)))\n",
    "        if classifier_uncertainty(learner, X_train[0].reshape(1,-1)) > 0.2:\n",
    "            print(\"IF\", learner.score(X_test, y_test))\n",
    "            sample_size = sample_size + len(X_train)\n",
    "            learner.teach(X_train, y_train)\n",
    "            uncertain_sample_score = learner.score(X_test, y_test)\n",
    "            performance_history.append(uncertain_sample_score)\n",
    "            #print(\"Uncertainty Sampling score: \", uncertain_sample_score)\n",
    "            performance_history.append(uncertain_sample_score)    \n",
    "        total_of_samples = total_of_samples + 1\n",
    "    \n",
    "    end = timer()\n",
    "    time_elapsed = end - start\n",
    "    \n",
    "    return { \"performance_history\": performance_history, \n",
    "             \"time_elapsed\": time_elapsed,\n",
    "             \"sample_size\": sample_size,\n",
    "             \"Strategy\": \"Uncertainty Sampling\"}"
   ]
  },
  {
   "cell_type": "markdown",
   "metadata": {},
   "source": [
    "## Amostragem aleatória"
   ]
  },
  {
   "cell_type": "code",
   "execution_count": null,
   "metadata": {},
   "outputs": [],
   "source": [
    "def random_sampling(X_raw, y_raw, n_queries):\n",
    "    \n",
    "    performance_history = []\n",
    "\n",
    "    for i in range(1,n_queries+1):\n",
    "\n",
    "        #high = X_raw.shape[0] = qtd amostras no dataset\n",
    "        training_indices = np.random.randint(low=0, high=X_raw.shape[0], size=k+i)\n",
    "\n",
    "        X_train = X_raw[training_indices]\n",
    "        y_train = y_raw[training_indices]\n",
    "\n",
    "        X_test = np.delete(X_raw, training_indices, axis=0)\n",
    "        y_test = np.delete(y_raw, training_indices, axis=0)\n",
    "\n",
    "        knn = KNeighborsClassifier(k)\n",
    "        knn.fit(X_train, y_train)\n",
    "\n",
    "        pred = knn.predict(X_test)\n",
    "        #print(\"Random Sampling score: \", knn.score(X_test,y_test))\n",
    "        performance_history.append(knn.score(X_test,y_test))\n",
    "\n",
    "    performance_history_total.append(performance_history)\n",
    "    legend.append(\"Random Sampling\")"
   ]
  },
  {
   "cell_type": "markdown",
   "metadata": {},
   "source": [
    "## Consulta por comitê"
   ]
  },
  {
   "cell_type": "code",
   "execution_count": null,
   "metadata": {
    "scrolled": true
   },
   "outputs": [],
   "source": [
    "def query_by_committee(X_raw,y_raw,n_queries):\n",
    "\n",
    "    from modAL.models import ActiveLearner, Committee\n",
    "    from modAL.disagreement import vote_entropy_sampling\n",
    "    performance_history = []\n",
    "\n",
    "    for i in range(1,n_queries+1):\n",
    "\n",
    "        learner_list = []\n",
    "\n",
    "        for j in range(1,n_queries+1):\n",
    "\n",
    "            X_train, _, y_train, _ = train_test_split(X_raw, y_raw, train_size=0.03)\n",
    "\n",
    "            knn = KNeighborsClassifier(k)\n",
    "            #knn.fit(X_train,y_train)\n",
    "\n",
    "            # initializing learner\n",
    "            learner = ActiveLearner(\n",
    "                estimator=knn,\n",
    "                query_strategy=uncertainty_sampling,\n",
    "                X_training = X_train, y_training = y_train \n",
    "            )\n",
    "            learner_list.append(learner)\n",
    "\n",
    "        # assembling the committee\n",
    "        committee = Committee(\n",
    "            learner_list=learner_list,\n",
    "            query_strategy=vote_entropy_sampling)\n",
    "\n",
    "        X_pool, y_pool = X_raw, y_raw\n",
    "\n",
    "        # query by committee\n",
    "        for idx in range(n_queries):\n",
    "            query_idx, query_instance = committee.query(X_pool, n_instances = k+1)\n",
    "            committee.teach(\n",
    "                X=X_pool[query_idx],\n",
    "                y=y_pool[query_idx]\n",
    "            )\n",
    "\n",
    "            X_pool = np.delete(X_pool, query_idx, axis=0)\n",
    "            y_pool = np.delete(y_pool, query_idx)\n",
    "\n",
    "        #print(idx, n_queries, \"Query by Committee: \", committee.score(X_pool, y_pool))\n",
    "\n",
    "        performance_history.append(committee.score(X_pool, y_pool))\n",
    "\n",
    "    performance_history_total.append(performance_history)\n",
    "    legend.append(\"Query by committee\")"
   ]
  },
  {
   "cell_type": "markdown",
   "metadata": {},
   "source": [
    "### Setup"
   ]
  },
  {
   "cell_type": "code",
   "execution_count": 11,
   "metadata": {},
   "outputs": [],
   "source": [
    "def which_dataset(dataset = \"iris\", n_splits = 5):\n",
    "    \n",
    "    # Futuramente essa etapa será ajustada para receber qualquer dataset (ou lista com datasets)\n",
    "    if (dataset == \"iris\"):\n",
    "        data = load_iris()\n",
    "        X_raw = data['data']\n",
    "        y_raw = data['target']\n",
    "        \n",
    "    # cross validation bags\n",
    "    data_cv = ShuffleSplit(n_splits= n_splits, test_size=0.3, random_state=0) #n_splits\n",
    "    \n",
    "    # extraindo ids do data_cv\n",
    "    idx_data = []\n",
    "    for train_index, test_index in data_cv.split(X_raw):\n",
    "            idx_data.append([train_index, test_index])\n",
    "\n",
    "    return X_raw, y_raw, idx_data"
   ]
  },
  {
   "cell_type": "code",
   "execution_count": 12,
   "metadata": {},
   "outputs": [],
   "source": [
    "def which_classifier(parameters, classifier = 'k'):\n",
    "    \n",
    "    if (classifier == 'k'):\n",
    "        return KNeighborsClassifier(parameters)"
   ]
  },
  {
   "cell_type": "code",
   "execution_count": 13,
   "metadata": {},
   "outputs": [],
   "source": [
    "n_queries = 10\n",
    "n_splits = 5\n",
    "k = 3\n",
    "performance_history_total = []\n",
    "legend = []\n",
    "\n",
    "X_raw, y_raw, idx_data = which_dataset()\n",
    "\n",
    "\n",
    "#uncertain_sampling(deepcopy(X_raw), deepcopy(y_raw), n_queries)\n",
    "#random_sampling(deepcopy(X_raw), deepcopy(y_raw), n_queries)\n",
    "#query_by_committee(X_raw,y_raw,n_queries)"
   ]
  },
  {
   "cell_type": "code",
   "execution_count": 55,
   "metadata": {},
   "outputs": [
    {
     "name": "stdout",
     "output_type": "stream",
     "text": [
      "WHILE [0.66666667]\n",
      "IF 0.35555555555555557\n",
      "WHILE [0.33333333]\n",
      "IF 0.35555555555555557\n",
      "WHILE [0.33333333]\n",
      "IF 0.6\n",
      "WHILE [0.]\n",
      "WHILE [0.]\n",
      "WHILE [0.]\n",
      "WHILE [0.]\n",
      "WHILE [0.33333333]\n",
      "IF 0.9111111111111111\n",
      "WHILE [0.33333333]\n",
      "IF 0.9111111111111111\n",
      "WHILE [0.66666667]\n",
      "IF 0.26666666666666666\n",
      "WHILE [0.33333333]\n",
      "IF 0.37777777777777777\n",
      "WHILE [0.33333333]\n",
      "IF 0.6444444444444445\n",
      "WHILE [0.]\n",
      "WHILE [0.]\n",
      "WHILE [0.]\n",
      "WHILE [0.33333333]\n",
      "IF 0.8222222222222222\n",
      "WHILE [0.33333333]\n",
      "IF 0.8888888888888888\n",
      "WHILE [0.]\n",
      "WHILE [0.66666667]\n",
      "IF 0.35555555555555557\n",
      "WHILE [0.33333333]\n",
      "IF 0.37777777777777777\n",
      "WHILE [0.33333333]\n",
      "IF 0.6888888888888889\n",
      "WHILE [0.33333333]\n",
      "IF 0.6888888888888889\n",
      "WHILE [0.]\n",
      "WHILE [0.33333333]\n",
      "IF 0.7111111111111111\n",
      "WHILE [0.]\n",
      "WHILE [0.]\n",
      "WHILE [0.]\n",
      "WHILE [0.33333333]\n",
      "IF 0.35555555555555557\n",
      "WHILE [0.33333333]\n",
      "IF 0.35555555555555557\n",
      "WHILE [0.33333333]\n",
      "IF 0.7333333333333333\n",
      "WHILE [0.33333333]\n",
      "IF 0.8\n",
      "WHILE [0.]\n",
      "WHILE [0.]\n",
      "WHILE [0.]\n",
      "WHILE [0.]\n",
      "WHILE [0.]\n",
      "WHILE [0.66666667]\n",
      "IF 0.4\n",
      "WHILE [0.66666667]\n",
      "IF 0.4\n",
      "WHILE [0.]\n",
      "WHILE [0.33333333]\n",
      "IF 0.7555555555555555\n",
      "WHILE [0.33333333]\n",
      "IF 0.8222222222222222\n",
      "WHILE [0.]\n",
      "WHILE [0.]\n",
      "WHILE [0.]\n",
      "WHILE [0.]\n"
     ]
    }
   ],
   "source": [
    "performance_history = []\n",
    "for idx_bag, cv_bag in enumerate(idx_data):\n",
    "    classifier = which_classifier(k)\n",
    "    uncertain_score = uncertain_sampling(X_raw, y_raw, idx_data, idx_bag, classifier, k, n_queries)\n",
    "    performance_history.append(uncertain_score)\n",
    "performance_history_total.append(performance_history)"
   ]
  },
  {
   "cell_type": "code",
   "execution_count": 56,
   "metadata": {},
   "outputs": [
    {
     "data": {
      "text/plain": [
       "[{'performance_history': [0.35555555555555557,\n",
       "   0.35555555555555557,\n",
       "   0.35555555555555557,\n",
       "   0.6,\n",
       "   0.6,\n",
       "   0.9111111111111111,\n",
       "   0.9111111111111111,\n",
       "   0.9111111111111111,\n",
       "   0.9111111111111111,\n",
       "   0.9111111111111111,\n",
       "   0.9111111111111111,\n",
       "   0.9111111111111111,\n",
       "   0.9111111111111111,\n",
       "   0.8888888888888888,\n",
       "   0.8888888888888888],\n",
       "  'time_elapsed': 0.09302545199898304,\n",
       "  'sample_size': 18,\n",
       "  'Strategy': 'Uncertainty Sampling'},\n",
       " {'performance_history': [0.26666666666666666,\n",
       "   0.37777777777777777,\n",
       "   0.37777777777777777,\n",
       "   0.6444444444444445,\n",
       "   0.6444444444444445,\n",
       "   0.8222222222222222,\n",
       "   0.8222222222222222,\n",
       "   0.8222222222222222,\n",
       "   0.8222222222222222,\n",
       "   0.8222222222222222,\n",
       "   0.8888888888888888,\n",
       "   0.8888888888888888,\n",
       "   0.9333333333333333,\n",
       "   0.9333333333333333,\n",
       "   0.9333333333333333],\n",
       "  'time_elapsed': 0.05336953299956804,\n",
       "  'sample_size': 18,\n",
       "  'Strategy': 'Uncertainty Sampling'},\n",
       " {'performance_history': [0.35555555555555557,\n",
       "   0.37777777777777777,\n",
       "   0.37777777777777777,\n",
       "   0.6888888888888889,\n",
       "   0.6888888888888889,\n",
       "   0.6888888888888889,\n",
       "   0.6888888888888889,\n",
       "   0.7111111111111111,\n",
       "   0.7111111111111111,\n",
       "   0.7111111111111111,\n",
       "   0.7111111111111111,\n",
       "   0.7111111111111111,\n",
       "   0.7111111111111111,\n",
       "   0.7111111111111111,\n",
       "   0.7111111111111111],\n",
       "  'time_elapsed': 0.05633942299937189,\n",
       "  'sample_size': 18,\n",
       "  'Strategy': 'Uncertainty Sampling'},\n",
       " {'performance_history': [0.35555555555555557,\n",
       "   0.35555555555555557,\n",
       "   0.35555555555555557,\n",
       "   0.7333333333333333,\n",
       "   0.7333333333333333,\n",
       "   0.8,\n",
       "   0.8,\n",
       "   0.8,\n",
       "   0.8,\n",
       "   0.8,\n",
       "   0.8,\n",
       "   0.8,\n",
       "   0.8,\n",
       "   0.8],\n",
       "  'time_elapsed': 0.06603744399944844,\n",
       "  'sample_size': 15,\n",
       "  'Strategy': 'Uncertainty Sampling'},\n",
       " {'performance_history': [0.4,\n",
       "   0.4,\n",
       "   0.4,\n",
       "   0.7555555555555555,\n",
       "   0.7555555555555555,\n",
       "   0.7555555555555555,\n",
       "   0.8222222222222222,\n",
       "   0.8222222222222222,\n",
       "   0.9333333333333333,\n",
       "   0.9333333333333333,\n",
       "   0.9333333333333333,\n",
       "   0.9333333333333333,\n",
       "   0.9333333333333333,\n",
       "   0.9333333333333333],\n",
       "  'time_elapsed': 0.05016266899838229,\n",
       "  'sample_size': 15,\n",
       "  'Strategy': 'Uncertainty Sampling'}]"
      ]
     },
     "execution_count": 56,
     "metadata": {},
     "output_type": "execute_result"
    }
   ],
   "source": [
    "performance_history"
   ]
  },
  {
   "cell_type": "code",
   "execution_count": null,
   "metadata": {},
   "outputs": [],
   "source": [
    "#  https://seaborn.pydata.org/examples/scatterplot_sizes.html"
   ]
  }
 ],
 "metadata": {
  "kernelspec": {
   "display_name": "Python 3",
   "language": "python",
   "name": "python3"
  },
  "language_info": {
   "codemirror_mode": {
    "name": "ipython",
    "version": 3
   },
   "file_extension": ".py",
   "mimetype": "text/x-python",
   "name": "python",
   "nbconvert_exporter": "python",
   "pygments_lexer": "ipython3",
   "version": "3.7.3"
  }
 },
 "nbformat": 4,
 "nbformat_minor": 4
}
