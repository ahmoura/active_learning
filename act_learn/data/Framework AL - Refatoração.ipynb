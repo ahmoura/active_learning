{
 "cells": [
  {
   "cell_type": "markdown",
   "metadata": {},
   "source": [
    "# Comparando estratégias"
   ]
  },
  {
   "cell_type": "markdown",
   "metadata": {},
   "source": [
    "- Amostra por incerteza\n",
    "- Amostragem aleatória\n",
    "- Consulta por comitê\n",
    "- Aprendizado passivo\n",
    "- Redução do erro esperado"
   ]
  },
  {
   "cell_type": "code",
   "execution_count": 1,
   "metadata": {},
   "outputs": [
    {
     "data": {
      "text/plain": [
       "{'divide': 'warn', 'over': 'warn', 'under': 'ignore', 'invalid': 'warn'}"
      ]
     },
     "execution_count": 1,
     "metadata": {},
     "output_type": "execute_result"
    }
   ],
   "source": [
    "import numpy as np\n",
    "import pandas as pd\n",
    "np.seterr(divide='ignore', invalid='ignore')"
   ]
  },
  {
   "cell_type": "code",
   "execution_count": 2,
   "metadata": {},
   "outputs": [],
   "source": [
    "# Plots\n",
    "%matplotlib inline\n",
    "import matplotlib as mpl\n",
    "import matplotlib.pyplot as plt"
   ]
  },
  {
   "cell_type": "code",
   "execution_count": 3,
   "metadata": {},
   "outputs": [],
   "source": [
    "from copy import deepcopy"
   ]
  },
  {
   "cell_type": "code",
   "execution_count": 4,
   "metadata": {},
   "outputs": [],
   "source": [
    "from sklearn.model_selection import train_test_split"
   ]
  },
  {
   "cell_type": "code",
   "execution_count": 5,
   "metadata": {},
   "outputs": [],
   "source": [
    "from modAL.models import ActiveLearner\n",
    "from modAL.uncertainty import uncertainty_sampling"
   ]
  },
  {
   "cell_type": "code",
   "execution_count": 6,
   "metadata": {},
   "outputs": [],
   "source": [
    "from timeit import default_timer as timer"
   ]
  },
  {
   "cell_type": "code",
   "execution_count": 7,
   "metadata": {},
   "outputs": [],
   "source": [
    "from sklearn.model_selection import ShuffleSplit"
   ]
  },
  {
   "cell_type": "markdown",
   "metadata": {},
   "source": [
    "## Classificadores"
   ]
  },
  {
   "cell_type": "markdown",
   "metadata": {},
   "source": [
    "### Algoritmos"
   ]
  },
  {
   "cell_type": "code",
   "execution_count": 8,
   "metadata": {},
   "outputs": [],
   "source": [
    "from sklearn.neighbors import KNeighborsClassifier"
   ]
  },
  {
   "cell_type": "markdown",
   "metadata": {},
   "source": [
    "### Conjunto de dados"
   ]
  },
  {
   "cell_type": "code",
   "execution_count": 9,
   "metadata": {},
   "outputs": [],
   "source": [
    "from sklearn.datasets import load_iris, load_digits, load_wine, load_breast_cancer"
   ]
  },
  {
   "cell_type": "markdown",
   "metadata": {},
   "source": [
    "## Amostra por incerteza"
   ]
  },
  {
   "cell_type": "code",
   "execution_count": 94,
   "metadata": {},
   "outputs": [],
   "source": [
    "def uncertain_sampling(X_raw, y_raw, idx_data, idx_bag, classifier, init_size, n_queries):\n",
    "    \n",
    "    from modAL.uncertainty import classifier_uncertainty\n",
    "    sample_size = 0 #contador de amostras utilizadas pela estratégia\n",
    "    performance_history = []\n",
    "    start = timer()\n",
    "    \n",
    "    # parte randomica inicial da estratégia\n",
    "    initial_idx = np.random.choice(range(len(idx_data[idx_bag][0])), size=init_size, replace=False)\n",
    "    X_train, y_train = X_raw[idx_data[idx_bag][0][initial_idx]], y_raw[idx_data[idx_bag][0][initial_idx]]\n",
    "    X_test, y_test = X_raw[idx_data[idx_bag][1]], y_raw[idx_data[idx_bag][1]]\n",
    "    \n",
    "    sample_size = sample_size + len(X_train)\n",
    "\n",
    "    classifier.fit(X_train,y_train)\n",
    "\n",
    "    learner = ActiveLearner (\n",
    "        estimator=classifier,\n",
    "        query_strategy=uncertainty_sampling\n",
    "    )\n",
    "    uncertain_sample_score = learner.score(X_test, y_test)\n",
    "\n",
    "    performance_history.append(uncertain_sample_score)\n",
    "\n",
    "    total_of_samples = 0\n",
    "    while (total_of_samples != n_queries - 1):\n",
    "        \n",
    "        #X_train, X_test, y_train, y_test = train_test_split(X_raw, y_raw, train_size=0.03)\n",
    "        \n",
    "        idx = np.random.choice(range(len(idx_data[idx_bag][0])), size=init_size, replace=False)\n",
    "        X_train, y_train = X_raw[idx_data[idx_bag][0][idx]], y_raw[idx_data[idx_bag][0][idx]]\n",
    "        #print(\"WHILE\", classifier_uncertainty(learner, X_train[0].reshape(1,-1)))\n",
    "        if classifier_uncertainty(learner, X_train[0].reshape(1,-1)) > 0.2: #ASK04\n",
    "            #print(\"IF\", learner.score(X_test, y_test))\n",
    "            sample_size = sample_size + len(X_train)\n",
    "            learner.teach(X_train, y_train)\n",
    "            uncertain_sample_score = learner.score(X_test, y_test)\n",
    "            performance_history.append(uncertain_sample_score)\n",
    "            #print(\"Uncertainty Sampling score: \", uncertain_sample_score)\n",
    "            performance_history.append(uncertain_sample_score)    \n",
    "        total_of_samples = total_of_samples + 1 #ASK05\n",
    "    \n",
    "    end = timer()\n",
    "    time_elapsed = end - start\n",
    "    \n",
    "    return { \"performance_history\": performance_history, \n",
    "             \"time_elapsed\": time_elapsed,\n",
    "             \"sample_size\": sample_size, # RETORNAR TODAS AS AMOSTRAS DE CADA PERFORMANCE OU SÓ DO ULTIMO\n",
    "             \"Strategy\": 2}"
   ]
  },
  {
   "cell_type": "markdown",
   "metadata": {},
   "source": [
    "## Amostragem aleatória"
   ]
  },
  {
   "cell_type": "code",
   "execution_count": 95,
   "metadata": {},
   "outputs": [],
   "source": [
    "def random_sampling(X_raw, y_raw, idx_data, idx_bag, classifier, init_size, n_queries):\n",
    "        \n",
    "    sample_size = 0 #contador de amostras utilizadas pela estratégia\n",
    "    performance_history = []\n",
    "    start = timer()\n",
    "\n",
    "    for i in range(1,n_queries+1):\n",
    "\n",
    "        #high = X_raw.shape[0] = qtd amostras no dataset\n",
    "        training_indices = np.random.randint(low=0, high=len(X_raw[idx_data[idx_bag][0]]), size=k+i) #high = qtd elementos na bag\n",
    "        sample_size = sample_size + len(training_indices)\n",
    "\n",
    "        X_train = X_raw[idx_data[idx_bag][0][training_indices]] #ASK06\n",
    "        y_train = y_raw[idx_data[idx_bag][0][training_indices]]\n",
    "\n",
    "        X_test = np.delete(X_raw, idx_data[idx_bag][0][training_indices], axis=0)\n",
    "        y_test = np.delete(y_raw, idx_data[idx_bag][0][training_indices], axis=0)\n",
    "\n",
    "        classifier.fit(X_train, y_train)\n",
    "\n",
    "        #pred = classifier.predict(X_test)\n",
    "        #print(\"Random Sampling score: \", knn.score(X_test,y_test))\n",
    "        performance_history.append(classifier.score(X_test,y_test))\n",
    "\n",
    "        \n",
    "    end = timer()\n",
    "    time_elapsed = end - start\n",
    "\n",
    "    return { \"performance_history\": performance_history, \n",
    "         \"time_elapsed\": time_elapsed,\n",
    "         \"sample_size\": sample_size, # RETORNAR TODAS AS AMOSTRAS DE CADA PERFORMANCE OU SÓ DO ULTIMO\n",
    "         \"Strategy\": 1}"
   ]
  },
  {
   "cell_type": "markdown",
   "metadata": {},
   "source": [
    "## Consulta por comitê"
   ]
  },
  {
   "cell_type": "code",
   "execution_count": 96,
   "metadata": {
    "scrolled": true
   },
   "outputs": [],
   "source": [
    "def query_by_committee(X_raw, y_raw, idx_data, idx_bag, classifier, init_size, n_queries):\n",
    "\n",
    "    from modAL.models import ActiveLearner, Committee\n",
    "    from modAL.disagreement import vote_entropy_sampling\n",
    "\n",
    "    sample_size = 0 #contador de amostras utilizadas pela estratégia\n",
    "    performance_history = []\n",
    "    start = timer()\n",
    "\n",
    "\n",
    "    for i in range(1,n_queries+1):\n",
    "\n",
    "        learner_list = []\n",
    "\n",
    "        for j in range(1,n_queries+1): # Loop para criação do comitê\n",
    "\n",
    "            X_train, _, y_train, _ = train_test_split(X_raw[idx_data[idx_bag][0]], y_raw[idx_data[idx_bag][0]], train_size=0.03)\n",
    "            sample_size = sample_size + len(X_train)\n",
    "            \n",
    "            # initializing learner\n",
    "            learner = ActiveLearner(\n",
    "                estimator=which_classifier(init_size),\n",
    "                query_strategy=uncertainty_sampling,\n",
    "                X_training = X_train, y_training = y_train \n",
    "            )\n",
    "            learner_list.append(learner)\n",
    "\n",
    "        # assembling the committee\n",
    "        committee = Committee(\n",
    "            learner_list=learner_list,\n",
    "            query_strategy=vote_entropy_sampling)\n",
    "\n",
    "        X_pool, y_pool = X_raw[idx_data[idx_bag][0]], y_raw[idx_data[idx_bag][0]]\n",
    "\n",
    "        # query by committee\n",
    "        for idx in range(n_queries):\n",
    "            query_idx, query_instance = committee.query(X_pool, n_instances = k+1)\n",
    "            sample_size = sample_size + len(query_idx)\n",
    "            committee.teach(\n",
    "                X=X_pool[query_idx],\n",
    "                y=y_pool[query_idx]\n",
    "            )\n",
    "\n",
    "            X_pool = np.delete(X_pool, query_idx, axis=0)\n",
    "            y_pool = np.delete(y_pool, query_idx)\n",
    "        performance_history.append(committee.score(X_pool, y_pool))\n",
    "\n",
    "        #print(idx, n_queries, \"Query by Committee: \", committee.score(X_pool, y_pool))\n",
    "\n",
    "        \n",
    "    end = timer()\n",
    "    time_elapsed = end - start\n",
    "\n",
    "    return { \"performance_history\": performance_history, \n",
    "         \"time_elapsed\": time_elapsed,\n",
    "         \"sample_size\": sample_size, # RETORNAR TODAS AS AMOSTRAS DE CADA PERFORMANCE OU SÓ DO ULTIMO\n",
    "         \"Strategy\": 0}"
   ]
  },
  {
   "cell_type": "markdown",
   "metadata": {},
   "source": [
    "### Setup"
   ]
  },
  {
   "cell_type": "code",
   "execution_count": 97,
   "metadata": {},
   "outputs": [],
   "source": [
    "def which_dataset(dataset = \"iris\", n_splits = 5):\n",
    "    \n",
    "    # Futuramente essa etapa será ajustada para receber qualquer dataset (ou lista com datasets)\n",
    "    if (dataset == \"iris\"):\n",
    "        data = load_iris()\n",
    "        X_raw = data['data']\n",
    "        y_raw = data['target']\n",
    "        \n",
    "    # cross validation bags\n",
    "    data_cv = ShuffleSplit(n_splits= n_splits, test_size=0.3, random_state=0) #n_splits\n",
    "    \n",
    "    # extraindo ids do data_cv\n",
    "    idx_data = []\n",
    "    for train_index, test_index in data_cv.split(X_raw):\n",
    "            idx_data.append([train_index, test_index])\n",
    "\n",
    "    return X_raw, y_raw, idx_data"
   ]
  },
  {
   "cell_type": "code",
   "execution_count": 98,
   "metadata": {},
   "outputs": [],
   "source": [
    "def which_classifier(parameters, classifier = 'knn'):\n",
    "    \n",
    "    if (classifier == 'knn'):\n",
    "        return KNeighborsClassifier(parameters)"
   ]
  },
  {
   "cell_type": "code",
   "execution_count": 145,
   "metadata": {},
   "outputs": [],
   "source": [
    "n_queries = 10 # cost\n",
    "n_splits = 5 # number of bags cv\n",
    "total_performance_history = []\n",
    "k = 3 #parameter to knn classifier\n",
    "\n",
    "idx_bag = 1\n",
    "\n",
    "classifier = which_classifier(k)\n",
    "X_raw, y_raw, idx_data = which_dataset()\n",
    "\n",
    "#para cada i em idx_bag (\"n_splits\") (1 a 5)\n",
    "for idx_bag in range(n_splits):\n",
    "    total_performance_history.append(uncertain_sampling(deepcopy(X_raw), deepcopy(y_raw), idx_data, idx_bag, classifier, k, n_queries))\n",
    "for idx_bag in range(n_splits):\n",
    "    total_performance_history.append(random_sampling(deepcopy(X_raw), deepcopy(y_raw), idx_data, idx_bag, classifier, k, n_queries))\n",
    "# for idx_bag in range(n_splits):\n",
    "#     total_performance_history.append(query_by_committee(deepcopy(X_raw), deepcopy(y_raw), idx_data, idx_bag, classifier, k, n_queries))"
   ]
  },
  {
   "cell_type": "code",
   "execution_count": 146,
   "metadata": {},
   "outputs": [
    {
     "data": {
      "text/plain": [
       "[{'performance_history': [0.24444444444444444],\n",
       "  'time_elapsed': 0.006098677999943902,\n",
       "  'sample_size': 3,\n",
       "  'Strategy': 2},\n",
       " {'performance_history': [0.35555555555555557],\n",
       "  'time_elapsed': 0.00793810699997266,\n",
       "  'sample_size': 3,\n",
       "  'Strategy': 2},\n",
       " {'performance_history': [0.26666666666666666,\n",
       "   0.35555555555555557,\n",
       "   0.35555555555555557,\n",
       "   0.6222222222222222,\n",
       "   0.6222222222222222,\n",
       "   0.8888888888888888,\n",
       "   0.8888888888888888,\n",
       "   0.8888888888888888,\n",
       "   0.8888888888888888,\n",
       "   0.9777777777777777,\n",
       "   0.9777777777777777],\n",
       "  'time_elapsed': 0.024188399000195204,\n",
       "  'sample_size': 18,\n",
       "  'Strategy': 2},\n",
       " {'performance_history': [0.35555555555555557,\n",
       "   0.37777777777777777,\n",
       "   0.37777777777777777,\n",
       "   0.7333333333333333,\n",
       "   0.7333333333333333,\n",
       "   0.7333333333333333,\n",
       "   0.7333333333333333,\n",
       "   0.8444444444444444,\n",
       "   0.8444444444444444,\n",
       "   0.8888888888888888,\n",
       "   0.8888888888888888],\n",
       "  'time_elapsed': 0.023666852999667753,\n",
       "  'sample_size': 18,\n",
       "  'Strategy': 2},\n",
       " {'performance_history': [0.24444444444444444,\n",
       "   0.4,\n",
       "   0.4,\n",
       "   0.9111111111111111,\n",
       "   0.9111111111111111,\n",
       "   0.9111111111111111,\n",
       "   0.9111111111111111,\n",
       "   0.9333333333333333,\n",
       "   0.9333333333333333,\n",
       "   0.9555555555555556,\n",
       "   0.9555555555555556],\n",
       "  'time_elapsed': 0.01932518000012351,\n",
       "  'sample_size': 18,\n",
       "  'Strategy': 2},\n",
       " {'performance_history': [0.6643835616438356,\n",
       "   0.5448275862068965,\n",
       "   0.6527777777777778,\n",
       "   0.7916666666666666,\n",
       "   0.8591549295774648,\n",
       "   0.8936170212765957,\n",
       "   0.6428571428571429,\n",
       "   0.8561151079136691,\n",
       "   0.8913043478260869,\n",
       "   0.6423357664233577],\n",
       "  'time_elapsed': 0.046179129000393004,\n",
       "  'sample_size': 85,\n",
       "  'Strategy': 1},\n",
       " {'performance_history': [0.6575342465753424,\n",
       "   0.3287671232876712,\n",
       "   0.6620689655172414,\n",
       "   0.5734265734265734,\n",
       "   0.6549295774647887,\n",
       "   0.7887323943661971,\n",
       "   0.8785714285714286,\n",
       "   0.9142857142857143,\n",
       "   0.5755395683453237,\n",
       "   0.9071428571428571],\n",
       "  'time_elapsed': 0.04182344600030774,\n",
       "  'sample_size': 85,\n",
       "  'Strategy': 1},\n",
       " {'performance_history': [0.6643835616438356,\n",
       "   0.32413793103448274,\n",
       "   0.3125,\n",
       "   0.6527777777777778,\n",
       "   0.6549295774647887,\n",
       "   0.8368794326241135,\n",
       "   0.9577464788732394,\n",
       "   0.9568345323741008,\n",
       "   0.8985507246376812,\n",
       "   0.9124087591240876],\n",
       "  'time_elapsed': 0.0401950619998388,\n",
       "  'sample_size': 85,\n",
       "  'Strategy': 1},\n",
       " {'performance_history': [0.3219178082191781,\n",
       "   0.7931034482758621,\n",
       "   0.6597222222222222,\n",
       "   0.6573426573426573,\n",
       "   0.8591549295774648,\n",
       "   0.6549295774647887,\n",
       "   0.9428571428571428,\n",
       "   0.8129496402877698,\n",
       "   0.8920863309352518,\n",
       "   0.9124087591240876],\n",
       "  'time_elapsed': 0.05187665300036315,\n",
       "  'sample_size': 85,\n",
       "  'Strategy': 1},\n",
       " {'performance_history': [0.3219178082191781,\n",
       "   0.3287671232876712,\n",
       "   0.5694444444444444,\n",
       "   0.6573426573426573,\n",
       "   0.9154929577464789,\n",
       "   0.7446808510638298,\n",
       "   0.8928571428571429,\n",
       "   0.7553956834532374,\n",
       "   0.9637681159420289,\n",
       "   0.9416058394160584],\n",
       "  'time_elapsed': 0.0466420120001203,\n",
       "  'sample_size': 85,\n",
       "  'Strategy': 1}]"
      ]
     },
     "execution_count": 146,
     "metadata": {},
     "output_type": "execute_result"
    }
   ],
   "source": [
    "total_performance_history"
   ]
  },
  {
   "cell_type": "code",
   "execution_count": 147,
   "metadata": {},
   "outputs": [],
   "source": [
    "df = pd.DataFrame.from_dict(total_performance_history)"
   ]
  },
  {
   "cell_type": "code",
   "execution_count": 148,
   "metadata": {},
   "outputs": [],
   "source": [
    "df = df.explode('performance_history')"
   ]
  },
  {
   "cell_type": "code",
   "execution_count": 149,
   "metadata": {},
   "outputs": [
    {
     "name": "stdout",
     "output_type": "stream",
     "text": [
      "<class 'pandas.core.frame.DataFrame'>\n",
      "Int64Index: 85 entries, 0 to 9\n",
      "Data columns (total 4 columns):\n",
      " #   Column               Non-Null Count  Dtype  \n",
      "---  ------               --------------  -----  \n",
      " 0   performance_history  85 non-null     object \n",
      " 1   time_elapsed         85 non-null     float64\n",
      " 2   sample_size          85 non-null     int64  \n",
      " 3   Strategy             85 non-null     int64  \n",
      "dtypes: float64(1), int64(2), object(1)\n",
      "memory usage: 3.3+ KB\n"
     ]
    }
   ],
   "source": [
    "df.info()"
   ]
  },
  {
   "cell_type": "code",
   "execution_count": 150,
   "metadata": {},
   "outputs": [],
   "source": [
    "#  https://seaborn.pydata.org/examples/scatterplot_sizes.html"
   ]
  },
  {
   "cell_type": "markdown",
   "metadata": {},
   "source": [
    "## Visualization"
   ]
  },
  {
   "cell_type": "code",
   "execution_count": 151,
   "metadata": {},
   "outputs": [],
   "source": [
    "import seaborn as sns"
   ]
  },
  {
   "cell_type": "code",
   "execution_count": 156,
   "metadata": {},
   "outputs": [
    {
     "data": {
      "text/plain": [
       "<seaborn.axisgrid.FacetGrid at 0x186fa2760>"
      ]
     },
     "execution_count": 156,
     "metadata": {},
     "output_type": "execute_result"
    },
    {
     "data": {
      "image/png": "[encoded data removed]",
      "text/plain": [
       "<Figure size 444.225x360 with 1 Axes>"
      ]
     },
     "metadata": {},
     "output_type": "display_data"
    }
   ],
   "source": [
    "g = sns.relplot(\n",
    "    data=df,\n",
    "    x=\"performance_history\", y=\"time_elapsed\",\n",
    "    hue=\"Strategy\", size=\"sample_size\",\n",
    "    palette=sns.color_palette(n_colors=2), sizes=(100, 300), alpha=0.3\n",
    ")\n",
    "g.ax.xaxis.grid(True, \"minor\", linewidth=.25)\n",
    "g.ax.yaxis.grid(True, \"minor\", linewidth=.25)\n",
    "g.despine(left=True, bottom=True)"
   ]
  },
  {
   "cell_type": "code",
   "execution_count": null,
   "metadata": {},
   "outputs": [],
   "source": []
  }
 ],
 "metadata": {
  "kernelspec": {
   "display_name": "Python 3",
   "language": "python",
   "name": "python3"
  },
  "language_info": {
   "codemirror_mode": {
    "name": "ipython",
    "version": 3
   },
   "file_extension": ".py",
   "mimetype": "text/x-python",
   "name": "python",
   "nbconvert_exporter": "python",
   "pygments_lexer": "ipython3",
   "version": "3.9.1"
  }
 },
 "nbformat": 4,
 "nbformat_minor": 4
}
