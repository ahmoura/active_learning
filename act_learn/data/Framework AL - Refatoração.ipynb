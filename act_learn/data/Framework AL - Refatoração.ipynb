{
 "cells": [
  {
   "cell_type": "markdown",
   "metadata": {},
   "source": [
    "# Comparando estratégias"
   ]
  },
  {
   "cell_type": "markdown",
   "metadata": {},
   "source": [
    "- Amostra por incerteza\n",
    "- Amostragem aleatória\n",
    "- Consulta por comitê\n",
    "- Aprendizado passivo\n",
    "- Redução do erro esperado"
   ]
  },
  {
   "cell_type": "code",
   "execution_count": 1,
   "metadata": {},
   "outputs": [
    {
     "data": {
      "text/plain": [
       "{'divide': 'warn', 'over': 'warn', 'under': 'ignore', 'invalid': 'warn'}"
      ]
     },
     "execution_count": 1,
     "metadata": {},
     "output_type": "execute_result"
    }
   ],
   "source": [
    "import numpy as np\n",
    "np.seterr(divide='ignore', invalid='ignore')"
   ]
  },
  {
   "cell_type": "code",
   "execution_count": 2,
   "metadata": {},
   "outputs": [],
   "source": [
    "# Plots\n",
    "%matplotlib inline\n",
    "import matplotlib as mpl\n",
    "import matplotlib.pyplot as plt"
   ]
  },
  {
   "cell_type": "code",
   "execution_count": 3,
   "metadata": {},
   "outputs": [],
   "source": [
    "from copy import deepcopy"
   ]
  },
  {
   "cell_type": "code",
   "execution_count": 4,
   "metadata": {},
   "outputs": [],
   "source": [
    "from sklearn.model_selection import train_test_split"
   ]
  },
  {
   "cell_type": "code",
   "execution_count": 5,
   "metadata": {},
   "outputs": [],
   "source": [
    "from modAL.models import ActiveLearner\n",
    "from modAL.uncertainty import uncertainty_sampling"
   ]
  },
  {
   "cell_type": "markdown",
   "metadata": {},
   "source": [
    "## Classificadores"
   ]
  },
  {
   "cell_type": "markdown",
   "metadata": {},
   "source": [
    "### Algoritmos"
   ]
  },
  {
   "cell_type": "code",
   "execution_count": 6,
   "metadata": {},
   "outputs": [],
   "source": [
    "from sklearn.neighbors import KNeighborsClassifier"
   ]
  },
  {
   "cell_type": "markdown",
   "metadata": {},
   "source": [
    "### Conjunto de dados"
   ]
  },
  {
   "cell_type": "code",
   "execution_count": 7,
   "metadata": {},
   "outputs": [],
   "source": [
    "from sklearn.datasets import load_iris, load_digits, load_wine, load_breast_cancer"
   ]
  },
  {
   "cell_type": "markdown",
   "metadata": {},
   "source": [
    "## Amostra por incerteza"
   ]
  },
  {
   "cell_type": "code",
   "execution_count": 8,
   "metadata": {},
   "outputs": [],
   "source": [
    "def uncertain_sampling(X_raw, y_raw, n_queries):\n",
    "    from modAL.uncertainty import classifier_uncertainty\n",
    "\n",
    "    perfomance_history = []\n",
    "\n",
    "    X_train, X_test, y_train, y_test = train_test_split(X_raw, y_raw, train_size=0.03, random_state=1)\n",
    "\n",
    "    initial_idx = np.random.choice(range(len(X_raw)), size=k+1, replace=False)\n",
    "    X_train, y_train = X_raw[initial_idx], y_raw[initial_idx]\n",
    "\n",
    "    knn = KNeighborsClassifier(k)\n",
    "    knn.fit(X_train,y_train)\n",
    "\n",
    "    learner = ActiveLearner (\n",
    "        estimator=knn,\n",
    "        query_strategy=uncertainty_sampling\n",
    "    )\n",
    "    uncertain_sample_score = learner.score(X_test, y_test)\n",
    "\n",
    "    perfomance_history.append(uncertain_sample_score)\n",
    "\n",
    "    total_of_samples = 0\n",
    "    while (total_of_samples != n_queries - 1):\n",
    "        X_train, X_test, y_train, y_test = train_test_split(X_raw, y_raw, train_size=0.03)\n",
    "        if classifier_uncertainty(learner, X_test[0].reshape(1,-1)) > 0.2:\n",
    "            learner.teach(X_train, y_train)\n",
    "            uncertain_sample_score = learner.score(X_test, y_test)\n",
    "            perfomance_history.append(uncertain_sample_score)\n",
    "            print(\"Uncertainty Sampling score: \", uncertain_sample_score)\n",
    "            total_of_samples = total_of_samples + 1\n",
    "    performance_history_total.append(perfomance_history)\n",
    "    legend.append(\"Uncertainty Sampling\")"
   ]
  },
  {
   "cell_type": "markdown",
   "metadata": {},
   "source": [
    "## Amostragem aleatória"
   ]
  },
  {
   "cell_type": "code",
   "execution_count": 9,
   "metadata": {},
   "outputs": [],
   "source": [
    "def random_sampling(X_raw, y_raw, n_queries):\n",
    "    \n",
    "    performance_history = []\n",
    "\n",
    "    for i in range(1,n_queries+1):\n",
    "\n",
    "        #high = X_raw.shape[0] = qtd amostras no dataset\n",
    "        training_indices = np.random.randint(low=0, high=X_raw.shape[0], size=k+i)\n",
    "\n",
    "        X_train = X_raw[training_indices]\n",
    "        y_train = y_raw[training_indices]\n",
    "\n",
    "        X_test = np.delete(X_raw, training_indices, axis=0)\n",
    "        y_test = np.delete(y_raw, training_indices, axis=0)\n",
    "\n",
    "        knn = KNeighborsClassifier(k)\n",
    "        knn.fit(X_train, y_train)\n",
    "\n",
    "        pred = knn.predict(X_test)\n",
    "        print(\"Random Sampling score: \", knn.score(X_test,y_test))\n",
    "        performance_history.append(knn.score(X_test,y_test))\n",
    "\n",
    "    performance_history_total.append(performance_history)\n",
    "    legend.append(\"Random Sampling\")"
   ]
  },
  {
   "cell_type": "markdown",
   "metadata": {},
   "source": [
    "## Consulta por comitê"
   ]
  },
  {
   "cell_type": "code",
   "execution_count": 18,
   "metadata": {
    "scrolled": true
   },
   "outputs": [
    {
     "name": "stdout",
     "output_type": "stream",
     "text": [
      "9 10 Query by Committee:  0.990909090909091\n",
      "9 10 Query by Committee:  0.9818181818181818\n",
      "9 10 Query by Committee:  0.9727272727272728\n",
      "9 10 Query by Committee:  0.9818181818181818\n",
      "9 10 Query by Committee:  0.9636363636363636\n",
      "9 10 Query by Committee:  0.9727272727272728\n",
      "9 10 Query by Committee:  0.9454545454545454\n",
      "9 10 Query by Committee:  0.9818181818181818\n",
      "9 10 Query by Committee:  0.9727272727272728\n",
      "9 10 Query by Committee:  0.9636363636363636\n"
     ]
    }
   ],
   "source": [
    "#def query_by_committee(X_raw,y_raw,n_queries):\n",
    "    \n",
    "from modAL.models import ActiveLearner, Committee\n",
    "from modAL.disagreement import vote_entropy_sampling\n",
    "performance_history = []\n",
    "\n",
    "for i in range(1,n_queries+1):\n",
    "\n",
    "    learner_list = []\n",
    "    \n",
    "    for j in range(1,n_queries+1):\n",
    "    \n",
    "        X_train, _, y_train, _ = train_test_split(X_raw, y_raw, train_size=0.03)\n",
    "\n",
    "        knn = KNeighborsClassifier(k)\n",
    "        #knn.fit(X_train,y_train)\n",
    "\n",
    "        # initializing learner\n",
    "        learner = ActiveLearner(\n",
    "            estimator=knn,\n",
    "            query_strategy=uncertainty_sampling,\n",
    "            X_training = X_train, y_training = y_train \n",
    "        )\n",
    "        learner_list.append(learner)\n",
    "\n",
    "    # assembling the committee\n",
    "    committee = Committee(\n",
    "        learner_list=learner_list,\n",
    "        query_strategy=vote_entropy_sampling)\n",
    "    \n",
    "    X_pool, y_pool = X_raw, y_raw\n",
    "    \n",
    "    # query by committee\n",
    "    for idx in range(n_queries):\n",
    "        query_idx, query_instance = committee.query(X_pool, n_instances = k+1)\n",
    "        committee.teach(\n",
    "            X=X_pool[query_idx],\n",
    "            y=y_pool[query_idx]\n",
    "        )\n",
    "        \n",
    "        X_pool = np.delete(X_pool, query_idx, axis=0)\n",
    "        y_pool = np.delete(y_pool, query_idx)\n",
    "        \n",
    "    print(idx, n_queries, \"Query by Committee: \", committee.score(X_pool, y_pool))\n",
    "\n",
    "    #performance_history.append()\n",
    "        \n",
    "#performance_history_total.append(performance_history)\n",
    "#legend.append(\"Query by committee\")"
   ]
  },
  {
   "cell_type": "code",
   "execution_count": null,
   "metadata": {},
   "outputs": [],
   "source": [
    "performance_history"
   ]
  },
  {
   "cell_type": "markdown",
   "metadata": {},
   "source": [
    "### Setup"
   ]
  },
  {
   "cell_type": "code",
   "execution_count": 11,
   "metadata": {},
   "outputs": [
    {
     "name": "stdout",
     "output_type": "stream",
     "text": [
      "Uncertainty Sampling score:  0.6575342465753424\n",
      "Uncertainty Sampling score:  0.4452054794520548\n",
      "Uncertainty Sampling score:  0.4931506849315068\n",
      "Uncertainty Sampling score:  0.8356164383561644\n",
      "Uncertainty Sampling score:  0.8972602739726028\n",
      "Uncertainty Sampling score:  0.8972602739726028\n",
      "Uncertainty Sampling score:  0.9041095890410958\n",
      "Uncertainty Sampling score:  0.9041095890410958\n",
      "Uncertainty Sampling score:  0.9178082191780822\n",
      "Random Sampling score:  0.3219178082191781\n",
      "Random Sampling score:  0.6620689655172414\n",
      "Random Sampling score:  0.6527777777777778\n",
      "Random Sampling score:  0.7655172413793103\n",
      "Random Sampling score:  0.9225352112676056\n",
      "Random Sampling score:  0.9219858156028369\n",
      "Random Sampling score:  0.8928571428571429\n",
      "Random Sampling score:  0.900709219858156\n",
      "Random Sampling score:  0.8768115942028986\n",
      "Random Sampling score:  0.644927536231884\n"
     ]
    }
   ],
   "source": [
    "n_queries = 10\n",
    "k = 3\n",
    "performance_history_total = []\n",
    "legend = []\n",
    "\n",
    "data = load_iris()\n",
    "X_raw = data['data']\n",
    "y_raw = data['target']\n",
    "\n",
    "uncertain_sampling(deepcopy(X_raw), deepcopy(y_raw), n_queries)\n",
    "random_sampling(deepcopy(X_raw), deepcopy(y_raw), n_queries)"
   ]
  },
  {
   "cell_type": "code",
   "execution_count": null,
   "metadata": {},
   "outputs": [],
   "source": []
  }
 ],
 "metadata": {
  "kernelspec": {
   "display_name": "Python 3",
   "language": "python",
   "name": "python3"
  },
  "language_info": {
   "codemirror_mode": {
    "name": "ipython",
    "version": 3
   },
   "file_extension": ".py",
   "mimetype": "text/x-python",
   "name": "python",
   "nbconvert_exporter": "python",
   "pygments_lexer": "ipython3",
   "version": "3.7.3"
  }
 },
 "nbformat": 4,
 "nbformat_minor": 4
}
