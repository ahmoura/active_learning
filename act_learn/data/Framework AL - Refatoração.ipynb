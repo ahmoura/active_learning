{
 "cells": [
  {
   "cell_type": "markdown",
   "metadata": {},
   "source": [
    "# Comparando estratégias"
   ]
  },
  {
   "cell_type": "markdown",
   "metadata": {},
   "source": [
    "- Amostra por incerteza\n",
    "- Amostragem aleatória\n",
    "- Consulta por comitê\n",
    "- Aprendizado passivo\n",
    "- Redução do erro esperado"
   ]
  },
  {
   "cell_type": "code",
   "execution_count": 1,
   "metadata": {},
   "outputs": [
    {
     "data": {
      "text/plain": [
       "{'divide': 'warn', 'over': 'warn', 'under': 'ignore', 'invalid': 'warn'}"
      ]
     },
     "execution_count": 1,
     "metadata": {},
     "output_type": "execute_result"
    }
   ],
   "source": [
    "import numpy as np\n",
    "import pandas as pd\n",
    "np.seterr(divide='ignore', invalid='ignore')"
   ]
  },
  {
   "cell_type": "code",
   "execution_count": 2,
   "metadata": {},
   "outputs": [],
   "source": [
    "# Plots\n",
    "%matplotlib inline\n",
    "import matplotlib as mpl\n",
    "import matplotlib.pyplot as plt"
   ]
  },
  {
   "cell_type": "code",
   "execution_count": 3,
   "metadata": {},
   "outputs": [],
   "source": [
    "from copy import deepcopy"
   ]
  },
  {
   "cell_type": "code",
   "execution_count": 4,
   "metadata": {},
   "outputs": [],
   "source": [
    "from sklearn.model_selection import train_test_split"
   ]
  },
  {
   "cell_type": "code",
   "execution_count": 5,
   "metadata": {},
   "outputs": [],
   "source": [
    "from modAL.models import ActiveLearner\n",
    "from modAL.uncertainty import uncertainty_sampling"
   ]
  },
  {
   "cell_type": "code",
   "execution_count": 6,
   "metadata": {},
   "outputs": [],
   "source": [
    "from timeit import default_timer as timer"
   ]
  },
  {
   "cell_type": "code",
   "execution_count": 7,
   "metadata": {},
   "outputs": [],
   "source": [
    "from sklearn.model_selection import ShuffleSplit"
   ]
  },
  {
   "cell_type": "markdown",
   "metadata": {},
   "source": [
    "## Classificadores"
   ]
  },
  {
   "cell_type": "markdown",
   "metadata": {},
   "source": [
    "### Algoritmos"
   ]
  },
  {
   "cell_type": "code",
   "execution_count": 8,
   "metadata": {},
   "outputs": [],
   "source": [
    "from sklearn.neighbors import KNeighborsClassifier\n",
    "from sklearn.ensemble import RandomForestClassifier"
   ]
  },
  {
   "cell_type": "markdown",
   "metadata": {},
   "source": [
    "### Conjunto de dados"
   ]
  },
  {
   "cell_type": "code",
   "execution_count": 9,
   "metadata": {},
   "outputs": [],
   "source": [
    "from sklearn.datasets import load_iris, load_digits, load_wine, load_breast_cancer"
   ]
  },
  {
   "cell_type": "markdown",
   "metadata": {},
   "source": [
    "## Amostra por incerteza"
   ]
  },
  {
   "cell_type": "code",
   "execution_count": 10,
   "metadata": {},
   "outputs": [],
   "source": [
    "def uncertain_sampling(X_raw, y_raw, idx_data, idx_bag, classifier, init_size, n_queries):\n",
    "    \n",
    "    from modAL.uncertainty import classifier_uncertainty\n",
    "    sample_size = 0 #contador de amostras utilizadas pela estratégia\n",
    "    performance_history = []\n",
    "    start = timer()\n",
    "    \n",
    "    # parte randomica inicial da estratégia\n",
    "    initial_idx = np.random.choice(range(len(idx_data[idx_bag][0])), size=init_size, replace=False)\n",
    "    X_train, y_train = X_raw[idx_data[idx_bag][0][initial_idx]], y_raw[idx_data[idx_bag][0][initial_idx]]\n",
    "    X_test, y_test = X_raw[idx_data[idx_bag][1]], y_raw[idx_data[idx_bag][1]]\n",
    "    \n",
    "    sample_size = sample_size + len(X_train)\n",
    "\n",
    "    classifier.fit(X_train,y_train)\n",
    "\n",
    "    learner = ActiveLearner (\n",
    "        estimator=classifier,\n",
    "        query_strategy=uncertainty_sampling\n",
    "    )\n",
    "    uncertain_sample_score = learner.score(X_test, y_test)\n",
    "\n",
    "    performance_history.append(uncertain_sample_score)\n",
    "\n",
    "    total_of_samples = 0\n",
    "    while (total_of_samples != n_queries - 1):\n",
    "        \n",
    "        #X_train, X_test, y_train, y_test = train_test_split(X_raw, y_raw, train_size=0.03)\n",
    "        \n",
    "        idx = np.random.choice(range(len(idx_data[idx_bag][0])), size=init_size, replace=False)\n",
    "        X_train, y_train = X_raw[idx_data[idx_bag][0][idx]], y_raw[idx_data[idx_bag][0][idx]]\n",
    "        #print(\"WHILE\", classifier_uncertainty(learner, X_train[0].reshape(1,-1)))\n",
    "        if classifier_uncertainty(learner, X_train[0].reshape(1,-1)) > 0.2: #ASK04\n",
    "            #print(\"IF\", learner.score(X_test, y_test))\n",
    "            sample_size = sample_size + len(X_train)\n",
    "            learner.teach(X_train, y_train)\n",
    "            uncertain_sample_score = learner.score(X_test, y_test)\n",
    "            performance_history.append(uncertain_sample_score)\n",
    "            #print(\"Uncertainty Sampling score: \", uncertain_sample_score)\n",
    "            performance_history.append(uncertain_sample_score)    \n",
    "        total_of_samples = total_of_samples + 1 #ASK05\n",
    "    \n",
    "    end = timer()\n",
    "    time_elapsed = end - start\n",
    "    \n",
    "    return { \"performance_history\": performance_history, \n",
    "             \"time_elapsed\": time_elapsed,\n",
    "             \"sample_size\": sample_size, # RETORNAR TODAS AS AMOSTRAS DE CADA PERFORMANCE OU SÓ DO ULTIMO\n",
    "             \"Strategy\": 2}"
   ]
  },
  {
   "cell_type": "markdown",
   "metadata": {},
   "source": [
    "## Amostragem aleatória"
   ]
  },
  {
   "cell_type": "code",
   "execution_count": 11,
   "metadata": {},
   "outputs": [],
   "source": [
    "def random_sampling(X_raw, y_raw, idx_data, idx_bag, classifier, init_size, n_queries):\n",
    "        \n",
    "    sample_size = 0 #contador de amostras utilizadas pela estratégia\n",
    "    performance_history = []\n",
    "    start = timer()\n",
    "\n",
    "    for i in range(1,n_queries+1):\n",
    "\n",
    "        #high = X_raw.shape[0] = qtd amostras no dataset\n",
    "        training_indices = np.random.randint(low=0, high=len(X_raw[idx_data[idx_bag][0]]), size=k+i) #high = qtd elementos na bag\n",
    "        sample_size = sample_size + len(training_indices)\n",
    "\n",
    "        X_train = X_raw[idx_data[idx_bag][0][training_indices]] #ASK06\n",
    "        y_train = y_raw[idx_data[idx_bag][0][training_indices]]\n",
    "\n",
    "        X_test = np.delete(X_raw, idx_data[idx_bag][0][training_indices], axis=0)\n",
    "        y_test = np.delete(y_raw, idx_data[idx_bag][0][training_indices], axis=0)\n",
    "\n",
    "        classifier.fit(X_train, y_train)\n",
    "\n",
    "        #pred = classifier.predict(X_test)\n",
    "        #print(\"Random Sampling score: \", knn.score(X_test,y_test))\n",
    "        performance_history.append(classifier.score(X_test,y_test))\n",
    "\n",
    "        \n",
    "    end = timer()\n",
    "    time_elapsed = end - start\n",
    "\n",
    "    return { \"performance_history\": performance_history, \n",
    "         \"time_elapsed\": time_elapsed,\n",
    "         \"sample_size\": sample_size, # RETORNAR TODAS AS AMOSTRAS DE CADA PERFORMANCE OU SÓ DO ULTIMO\n",
    "         \"Strategy\": 1}"
   ]
  },
  {
   "cell_type": "markdown",
   "metadata": {},
   "source": [
    "## Consulta por comitê"
   ]
  },
  {
   "cell_type": "code",
   "execution_count": 12,
   "metadata": {
    "scrolled": true
   },
   "outputs": [],
   "source": [
    "def query_by_committee(X_raw, y_raw, idx_data, idx_bag, classifier, init_size, n_queries):\n",
    "\n",
    "    from modAL.models import ActiveLearner, Committee\n",
    "    from modAL.disagreement import vote_entropy_sampling\n",
    "\n",
    "    sample_size = 0 #contador de amostras utilizadas pela estratégia\n",
    "    performance_history = []\n",
    "    start = timer()\n",
    "\n",
    "\n",
    "    for i in range(1,n_queries+1):\n",
    "\n",
    "        learner_list = []\n",
    "\n",
    "        for j in range(1,n_queries+1): # Loop para criação do comitê\n",
    "\n",
    "            X_train, _, y_train, _ = train_test_split(X_raw[idx_data[idx_bag][0]], y_raw[idx_data[idx_bag][0]], train_size=0.03)\n",
    "            sample_size = sample_size + len(X_train)\n",
    "            \n",
    "            # initializing learner\n",
    "            learner = ActiveLearner(\n",
    "                estimator=which_classifier(k, classifier = 'rfc'),\n",
    "                query_strategy=uncertainty_sampling,\n",
    "                X_training = X_train, y_training = y_train \n",
    "            )\n",
    "            learner_list.append(learner)\n",
    "\n",
    "        # assembling the committee\n",
    "        committee = Committee(\n",
    "            learner_list=learner_list,\n",
    "            query_strategy=vote_entropy_sampling)\n",
    "\n",
    "        X_pool, y_pool = X_raw[idx_data[idx_bag][0]], y_raw[idx_data[idx_bag][0]]\n",
    "\n",
    "        # query by committee\n",
    "        for idx in range(n_queries):\n",
    "            query_idx, query_instance = committee.query(X_pool, n_instances = k+1)\n",
    "            sample_size = sample_size + len(query_idx)\n",
    "            committee.teach(\n",
    "                X=X_pool[query_idx],\n",
    "                y=y_pool[query_idx]\n",
    "            )\n",
    "\n",
    "            X_pool = np.delete(X_pool, query_idx, axis=0)\n",
    "            y_pool = np.delete(y_pool, query_idx)\n",
    "        performance_history.append(committee.score(X_pool, y_pool))\n",
    "\n",
    "        #print(idx, n_queries, \"Query by Committee: \", committee.score(X_pool, y_pool))\n",
    "\n",
    "        \n",
    "    end = timer()\n",
    "    time_elapsed = end - start\n",
    "\n",
    "    return { \"performance_history\": performance_history, \n",
    "         \"time_elapsed\": time_elapsed,\n",
    "         \"sample_size\": sample_size, # RETORNAR TODAS AS AMOSTRAS DE CADA PERFORMANCE OU SÓ DO ULTIMO\n",
    "         \"Strategy\": 0}"
   ]
  },
  {
   "cell_type": "markdown",
   "metadata": {},
   "source": [
    "### Setup"
   ]
  },
  {
   "cell_type": "code",
   "execution_count": 13,
   "metadata": {},
   "outputs": [],
   "source": [
    "def which_dataset(dataset = \"iris\", n_splits = 5):\n",
    "    \n",
    "    # Futuramente essa etapa será ajustada para receber qualquer dataset (ou lista com datasets)\n",
    "    if (dataset == \"iris\"):\n",
    "        data = load_iris()\n",
    "        X_raw = data['data']\n",
    "        y_raw = data['target']\n",
    "    \n",
    "    if (dataset == \"wine\"):\n",
    "        data = load_wine()\n",
    "        X_raw = data['data']\n",
    "        y_raw = data['target']\n",
    "        \n",
    "    if (dataset == \"digits\"):\n",
    "        data = load_digits()\n",
    "        X_raw = data['data']\n",
    "        y_raw = data['target']\n",
    "        \n",
    "    # cross validation bags\n",
    "    data_cv = ShuffleSplit(n_splits= n_splits, test_size=0.3, random_state=0) #n_splits\n",
    "    \n",
    "    # extraindo ids do data_cv\n",
    "    idx_data = []\n",
    "    for train_index, test_index in data_cv.split(X_raw):\n",
    "            idx_data.append([train_index, test_index])\n",
    "\n",
    "    return X_raw, y_raw, idx_data"
   ]
  },
  {
   "cell_type": "code",
   "execution_count": 14,
   "metadata": {},
   "outputs": [],
   "source": [
    "def which_classifier(parameters, classifier = 'knn'):\n",
    "    \n",
    "    if (classifier == 'knn'):\n",
    "        return KNeighborsClassifier(parameters)\n",
    "    if (classifier == 'rfc'):\n",
    "        return RandomForestClassifier(n_estimators = 5)\n",
    "    #if (classifier == 'rfc'):\n",
    "    #    return RandomForestClassifier(n_estimators = 5)    \n",
    "    "
   ]
  },
  {
   "cell_type": "code",
   "execution_count": 16,
   "metadata": {},
   "outputs": [],
   "source": [
    "n_queries = 10 # cost\n",
    "n_splits = 5 # number of bags cv\n",
    "total_performance_history = []\n",
    "k = 3 #parameter to knn classifier\n",
    "\n",
    "idx_bag = 10\n",
    "\n",
    "classifier = which_classifier(k, classifier = 'rfc')\n",
    "X_raw, y_raw, idx_data = which_dataset(\"digits\")\n",
    "\n",
    "#para cada i em idx_bag (\"n_splits\") (1 a 5)\n",
    "for idx_bag in range(n_splits):\n",
    "    total_performance_history.append(uncertain_sampling(deepcopy(X_raw), deepcopy(y_raw), idx_data, idx_bag, classifier, k, n_queries))\n",
    "for idx_bag in range(n_splits):\n",
    "    total_performance_history.append(random_sampling(deepcopy(X_raw), deepcopy(y_raw), idx_data, idx_bag, classifier, k, n_queries))\n",
    "#for idx_bag in range(n_splits):\n",
    "#    total_performance_history.append(query_by_committee(deepcopy(X_raw), deepcopy(y_raw), idx_data, idx_bag, classifier, k, n_queries))"
   ]
  },
  {
   "cell_type": "code",
   "execution_count": 17,
   "metadata": {},
   "outputs": [
    {
     "data": {
      "text/plain": [
       "[{'performance_history': [0.1685185185185185,\n",
       "   0.13703703703703704,\n",
       "   0.13703703703703704,\n",
       "   0.16111111111111112,\n",
       "   0.16111111111111112,\n",
       "   0.22407407407407406,\n",
       "   0.22407407407407406,\n",
       "   0.20925925925925926,\n",
       "   0.20925925925925926,\n",
       "   0.26296296296296295,\n",
       "   0.26296296296296295,\n",
       "   0.32037037037037036,\n",
       "   0.32037037037037036,\n",
       "   0.37592592592592594,\n",
       "   0.37592592592592594,\n",
       "   0.34444444444444444,\n",
       "   0.34444444444444444,\n",
       "   0.3851851851851852,\n",
       "   0.3851851851851852],\n",
       "  'time_elapsed': 0.11249910399965302,\n",
       "  'sample_size': 30,\n",
       "  'Strategy': 2},\n",
       " {'performance_history': [0.19814814814814816,\n",
       "   0.10925925925925926,\n",
       "   0.10925925925925926,\n",
       "   0.14074074074074075,\n",
       "   0.14074074074074075,\n",
       "   0.21481481481481482,\n",
       "   0.21481481481481482,\n",
       "   0.2111111111111111,\n",
       "   0.2111111111111111,\n",
       "   0.2777777777777778,\n",
       "   0.2777777777777778,\n",
       "   0.35,\n",
       "   0.35,\n",
       "   0.4425925925925926,\n",
       "   0.4425925925925926,\n",
       "   0.30925925925925923,\n",
       "   0.30925925925925923,\n",
       "   0.39814814814814814,\n",
       "   0.39814814814814814],\n",
       "  'time_elapsed': 0.10585890899983497,\n",
       "  'sample_size': 30,\n",
       "  'Strategy': 2},\n",
       " {'performance_history': [0.1,\n",
       "   0.17592592592592593,\n",
       "   0.17592592592592593,\n",
       "   0.17222222222222222,\n",
       "   0.17222222222222222,\n",
       "   0.17037037037037037,\n",
       "   0.17037037037037037,\n",
       "   0.32407407407407407,\n",
       "   0.32407407407407407,\n",
       "   0.26666666666666666,\n",
       "   0.26666666666666666,\n",
       "   0.23703703703703705,\n",
       "   0.23703703703703705,\n",
       "   0.3592592592592593,\n",
       "   0.3592592592592593],\n",
       "  'time_elapsed': 0.08690117600053782,\n",
       "  'sample_size': 24,\n",
       "  'Strategy': 2},\n",
       " {'performance_history': [0.1111111111111111,\n",
       "   0.10740740740740741,\n",
       "   0.10740740740740741,\n",
       "   0.1814814814814815,\n",
       "   0.1814814814814815,\n",
       "   0.17592592592592593,\n",
       "   0.17592592592592593,\n",
       "   0.2537037037037037,\n",
       "   0.2537037037037037,\n",
       "   0.3074074074074074,\n",
       "   0.3074074074074074,\n",
       "   0.3074074074074074,\n",
       "   0.3074074074074074,\n",
       "   0.31296296296296294,\n",
       "   0.31296296296296294],\n",
       "  'time_elapsed': 0.0853427060001195,\n",
       "  'sample_size': 24,\n",
       "  'Strategy': 2},\n",
       " {'performance_history': [0.08518518518518518,\n",
       "   0.13148148148148148,\n",
       "   0.13148148148148148,\n",
       "   0.23703703703703705,\n",
       "   0.23703703703703705,\n",
       "   0.2759259259259259,\n",
       "   0.2759259259259259,\n",
       "   0.37222222222222223,\n",
       "   0.37222222222222223,\n",
       "   0.31296296296296294,\n",
       "   0.31296296296296294,\n",
       "   0.3592592592592593,\n",
       "   0.3592592592592593],\n",
       "  'time_elapsed': 0.07876584099994943,\n",
       "  'sample_size': 21,\n",
       "  'Strategy': 2},\n",
       " {'performance_history': [0.13106525376464026,\n",
       "   0.24944196428571427,\n",
       "   0.17476270240089337,\n",
       "   0.19553072625698323,\n",
       "   0.1727221911682504,\n",
       "   0.2645413870246085,\n",
       "   0.2641298265249021,\n",
       "   0.2715565509518477,\n",
       "   0.2812324929971989,\n",
       "   0.359304932735426],\n",
       "  'time_elapsed': 0.11399207300019043,\n",
       "  'sample_size': 85,\n",
       "  'Strategy': 1},\n",
       " {'performance_history': [0.16954824316787506,\n",
       "   0.18805803571428573,\n",
       "   0.1954215522054718,\n",
       "   0.1787709497206704,\n",
       "   0.2604807154835103,\n",
       "   0.3333333333333333,\n",
       "   0.27196418578623394,\n",
       "   0.22284434490481522,\n",
       "   0.23809523809523808,\n",
       "   0.28082959641255606],\n",
       "  'time_elapsed': 0.10969069299972034,\n",
       "  'sample_size': 85,\n",
       "  'Strategy': 1},\n",
       " {'performance_history': [0.18349135527049637,\n",
       "   0.13504464285714285,\n",
       "   0.2685650474595198,\n",
       "   0.26033519553072626,\n",
       "   0.2286193404136389,\n",
       "   0.2925055928411633,\n",
       "   0.22999440402909904,\n",
       "   0.2642777155655095,\n",
       "   0.18711484593837535,\n",
       "   0.25504484304932734],\n",
       "  'time_elapsed': 0.11666648000027635,\n",
       "  'sample_size': 85,\n",
       "  'Strategy': 1},\n",
       " {'performance_history': [0.1868377021751255,\n",
       "   0.18359375,\n",
       "   0.21440536013400335,\n",
       "   0.2558659217877095,\n",
       "   0.28451648965902737,\n",
       "   0.2611856823266219,\n",
       "   0.2775601566871852,\n",
       "   0.21332586786114222,\n",
       "   0.29971988795518206,\n",
       "   0.2830717488789238],\n",
       "  'time_elapsed': 0.12794648700037214,\n",
       "  'sample_size': 85,\n",
       "  'Strategy': 1},\n",
       " {'performance_history': [0.14500836586726157,\n",
       "   0.24776785714285715,\n",
       "   0.175321049692909,\n",
       "   0.20391061452513967,\n",
       "   0.17998882057015092,\n",
       "   0.23210290827740493,\n",
       "   0.19026301063234471,\n",
       "   0.22676371780515117,\n",
       "   0.253781512605042,\n",
       "   0.3301569506726457],\n",
       "  'time_elapsed': 0.14062849000038113,\n",
       "  'sample_size': 85,\n",
       "  'Strategy': 1}]"
      ]
     },
     "execution_count": 17,
     "metadata": {},
     "output_type": "execute_result"
    }
   ],
   "source": [
    "total_performance_history"
   ]
  },
  {
   "cell_type": "code",
   "execution_count": 18,
   "metadata": {},
   "outputs": [],
   "source": [
    "df = pd.DataFrame.from_dict(total_performance_history)"
   ]
  },
  {
   "cell_type": "code",
   "execution_count": 19,
   "metadata": {},
   "outputs": [],
   "source": [
    "df = df.explode('performance_history')"
   ]
  },
  {
   "cell_type": "code",
   "execution_count": 20,
   "metadata": {},
   "outputs": [
    {
     "name": "stdout",
     "output_type": "stream",
     "text": [
      "<class 'pandas.core.frame.DataFrame'>\n",
      "Int64Index: 131 entries, 0 to 9\n",
      "Data columns (total 4 columns):\n",
      " #   Column               Non-Null Count  Dtype  \n",
      "---  ------               --------------  -----  \n",
      " 0   performance_history  131 non-null    object \n",
      " 1   time_elapsed         131 non-null    float64\n",
      " 2   sample_size          131 non-null    int64  \n",
      " 3   Strategy             131 non-null    int64  \n",
      "dtypes: float64(1), int64(2), object(1)\n",
      "memory usage: 5.1+ KB\n"
     ]
    }
   ],
   "source": [
    "df.info()"
   ]
  },
  {
   "cell_type": "markdown",
   "metadata": {},
   "source": [
    "## Visualization"
   ]
  },
  {
   "cell_type": "code",
   "execution_count": 21,
   "metadata": {},
   "outputs": [],
   "source": [
    "#  https://seaborn.pydata.org/examples/scatterplot_sizes.html\n",
    "import seaborn as sns"
   ]
  },
  {
   "cell_type": "code",
   "execution_count": 25,
   "metadata": {},
   "outputs": [
    {
     "data": {
      "image/png": "[encoded data removed]",
      "text/plain": [
       "<Figure size 436.625x360 with 1 Axes>"
      ]
     },
     "metadata": {
      "needs_background": "light"
     },
     "output_type": "display_data"
    }
   ],
   "source": [
    "g = sns.relplot(\n",
    "    data=df,\n",
    "    x=\"performance_history\", y=\"time_elapsed\",\n",
    "    hue=\"Strategy\", size=\"sample_size\",\n",
    "    palette=sns.color_palette(n_colors=2), sizes=(100, 300), alpha=0.3\n",
    ")\n",
    "g.ax.xaxis.grid(True, \"minor\", linewidth=.25)\n",
    "g.ax.yaxis.grid(True, \"minor\", linewidth=.25)\n",
    "_ = g.despine(left=True, bottom=True)"
   ]
  }
 ],
 "metadata": {
  "kernelspec": {
   "display_name": "Python 3",
   "language": "python",
   "name": "python3"
  },
  "language_info": {
   "codemirror_mode": {
    "name": "ipython",
    "version": 3
   },
   "file_extension": ".py",
   "mimetype": "text/x-python",
   "name": "python",
   "nbconvert_exporter": "python",
   "pygments_lexer": "ipython3",
   "version": "3.7.3"
  }
 },
 "nbformat": 4,
 "nbformat_minor": 4
}
