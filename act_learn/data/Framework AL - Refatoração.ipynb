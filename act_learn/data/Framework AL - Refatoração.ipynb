{
 "cells": [
  {
   "cell_type": "markdown",
   "metadata": {},
   "source": [
    "# Comparando estratégias"
   ]
  },
  {
   "cell_type": "markdown",
   "metadata": {},
   "source": [
    "- Amostra por incerteza\n",
    "- Amostragem aleatória\n",
    "- Consulta por comitê\n",
    "- Aprendizado passivo\n",
    "- Redução do erro esperado"
   ]
  },
  {
   "cell_type": "code",
   "execution_count": 1,
   "metadata": {},
   "outputs": [
    {
     "data": {
      "text/plain": [
       "{'divide': 'warn', 'over': 'warn', 'under': 'ignore', 'invalid': 'warn'}"
      ]
     },
     "execution_count": 1,
     "metadata": {},
     "output_type": "execute_result"
    }
   ],
   "source": [
    "import numpy as np\n",
    "import pandas as pd\n",
    "np.seterr(divide='ignore', invalid='ignore')"
   ]
  },
  {
   "cell_type": "code",
   "execution_count": 2,
   "metadata": {},
   "outputs": [],
   "source": [
    "# Plots\n",
    "%matplotlib inline\n",
    "import matplotlib as mpl\n",
    "import matplotlib.pyplot as plt"
   ]
  },
  {
   "cell_type": "code",
   "execution_count": 3,
   "metadata": {},
   "outputs": [],
   "source": [
    "from copy import deepcopy"
   ]
  },
  {
   "cell_type": "code",
   "execution_count": 4,
   "metadata": {},
   "outputs": [],
   "source": [
    "from sklearn.model_selection import train_test_split"
   ]
  },
  {
   "cell_type": "code",
   "execution_count": 5,
   "metadata": {},
   "outputs": [],
   "source": [
    "from modAL.models import ActiveLearner\n",
    "from modAL.uncertainty import uncertainty_sampling"
   ]
  },
  {
   "cell_type": "code",
   "execution_count": 6,
   "metadata": {},
   "outputs": [],
   "source": [
    "from timeit import default_timer as timer"
   ]
  },
  {
   "cell_type": "code",
   "execution_count": 7,
   "metadata": {},
   "outputs": [],
   "source": [
    "from sklearn.model_selection import ShuffleSplit"
   ]
  },
  {
   "cell_type": "markdown",
   "metadata": {},
   "source": [
    "## Classificadores"
   ]
  },
  {
   "cell_type": "markdown",
   "metadata": {},
   "source": [
    "### Algoritmos"
   ]
  },
  {
   "cell_type": "code",
   "execution_count": 8,
   "metadata": {},
   "outputs": [],
   "source": [
    "from sklearn.neighbors import KNeighborsClassifier\n",
    "from sklearn.ensemble import RandomForestClassifier"
   ]
  },
  {
   "cell_type": "markdown",
   "metadata": {},
   "source": [
    "### Conjunto de dados"
   ]
  },
  {
   "cell_type": "code",
   "execution_count": 9,
   "metadata": {},
   "outputs": [],
   "source": [
    "from sklearn.datasets import load_iris, load_digits, load_wine, load_breast_cancer"
   ]
  },
  {
   "cell_type": "markdown",
   "metadata": {},
   "source": [
    "## Amostra por incerteza"
   ]
  },
  {
   "cell_type": "code",
   "execution_count": 10,
   "metadata": {},
   "outputs": [],
   "source": [
    "def uncertain_sampling(X_raw, y_raw, idx_data, idx_bag, classifier, init_size, n_queries):\n",
    "    \n",
    "    from modAL.uncertainty import classifier_uncertainty\n",
    "    sample_size = 0 #contador de amostras utilizadas pela estratégia\n",
    "    performance_history = []\n",
    "    start = timer()\n",
    "    \n",
    "    # parte randomica inicial da estratégia\n",
    "    initial_idx = np.random.choice(range(len(idx_data[idx_bag][0])), size=init_size, replace=False)\n",
    "    X_train, y_train = X_raw[idx_data[idx_bag][0][initial_idx]], y_raw[idx_data[idx_bag][0][initial_idx]]\n",
    "    X_test, y_test = X_raw[idx_data[idx_bag][1]], y_raw[idx_data[idx_bag][1]]\n",
    "    \n",
    "    sample_size = sample_size + len(X_train)\n",
    "\n",
    "    classifier.fit(X_train,y_train)\n",
    "\n",
    "    learner = ActiveLearner (\n",
    "        estimator=classifier,\n",
    "        query_strategy=uncertainty_sampling\n",
    "    )\n",
    "    uncertain_sample_score = learner.score(X_test, y_test)\n",
    "\n",
    "    performance_history.append(uncertain_sample_score)\n",
    "\n",
    "    total_of_samples = 0\n",
    "    while (total_of_samples != n_queries - 1):\n",
    "        \n",
    "        #X_train, X_test, y_train, y_test = train_test_split(X_raw, y_raw, train_size=0.03)\n",
    "        \n",
    "        idx = np.random.choice(range(len(idx_data[idx_bag][0])), size=init_size, replace=False)\n",
    "        X_train, y_train = X_raw[idx_data[idx_bag][0][idx]], y_raw[idx_data[idx_bag][0][idx]]\n",
    "        #print(\"WHILE\", classifier_uncertainty(learner, X_train[0].reshape(1,-1)))\n",
    "        if classifier_uncertainty(learner, X_train[0].reshape(1,-1)) > 0.2: #ASK04\n",
    "            #print(\"IF\", learner.score(X_test, y_test))\n",
    "            sample_size = sample_size + len(X_train)\n",
    "            learner.teach(X_train, y_train)\n",
    "            uncertain_sample_score = learner.score(X_test, y_test)\n",
    "            performance_history.append(uncertain_sample_score)\n",
    "            #print(\"Uncertainty Sampling score: \", uncertain_sample_score)\n",
    "            performance_history.append(uncertain_sample_score)    \n",
    "        total_of_samples = total_of_samples + 1 #ASK05\n",
    "    \n",
    "    end = timer()\n",
    "    time_elapsed = end - start\n",
    "    \n",
    "    return { \"performance_history\": performance_history, \n",
    "             \"time_elapsed\": time_elapsed,\n",
    "             \"sample_size\": sample_size, # RETORNAR TODAS AS AMOSTRAS DE CADA PERFORMANCE OU SÓ DO ULTIMO\n",
    "             \"Strategy\": 0}"
   ]
  },
  {
   "cell_type": "markdown",
   "metadata": {},
   "source": [
    "## Amostragem aleatória"
   ]
  },
  {
   "cell_type": "code",
   "execution_count": 11,
   "metadata": {},
   "outputs": [],
   "source": [
    "def random_sampling(X_raw, y_raw, idx_data, idx_bag, classifier, init_size, n_queries):\n",
    "        \n",
    "    sample_size = 0 #contador de amostras utilizadas pela estratégia\n",
    "    performance_history = []\n",
    "    start = timer()\n",
    "\n",
    "    for i in range(1,n_queries+1):\n",
    "\n",
    "        #high = X_raw.shape[0] = qtd amostras no dataset\n",
    "        training_indices = np.random.randint(low=0, high=len(X_raw[idx_data[idx_bag][0]]), size=k+i) #high = qtd elementos na bag\n",
    "        sample_size = sample_size + len(training_indices)\n",
    "\n",
    "        X_train = X_raw[idx_data[idx_bag][0][training_indices]] #ASK06\n",
    "        y_train = y_raw[idx_data[idx_bag][0][training_indices]]\n",
    "\n",
    "        X_test = np.delete(X_raw, idx_data[idx_bag][0][training_indices], axis=0)\n",
    "        y_test = np.delete(y_raw, idx_data[idx_bag][0][training_indices], axis=0)\n",
    "\n",
    "        classifier.fit(X_train, y_train)\n",
    "\n",
    "        #pred = classifier.predict(X_test)\n",
    "        #print(\"Random Sampling score: \", knn.score(X_test,y_test))\n",
    "        performance_history.append(classifier.score(X_test,y_test))\n",
    "\n",
    "        \n",
    "    end = timer()\n",
    "    time_elapsed = end - start\n",
    "\n",
    "    return { \"performance_history\": performance_history, \n",
    "         \"time_elapsed\": time_elapsed,\n",
    "         \"sample_size\": sample_size, # RETORNAR TODAS AS AMOSTRAS DE CADA PERFORMANCE OU SÓ DO ULTIMO\n",
    "         \"Strategy\": 1}"
   ]
  },
  {
   "cell_type": "markdown",
   "metadata": {},
   "source": [
    "## Consulta por comitê"
   ]
  },
  {
   "cell_type": "code",
   "execution_count": 12,
   "metadata": {
    "scrolled": true
   },
   "outputs": [],
   "source": [
    "def query_by_committee(X_raw, y_raw, idx_data, idx_bag, classifier, init_size, n_queries):\n",
    "\n",
    "    from modAL.models import ActiveLearner, Committee\n",
    "    from modAL.disagreement import vote_entropy_sampling\n",
    "\n",
    "    sample_size = 0 #contador de amostras utilizadas pela estratégia\n",
    "    performance_history = []\n",
    "    start = timer()\n",
    "\n",
    "\n",
    "    for i in range(1,n_queries+1):\n",
    "\n",
    "        learner_list = []\n",
    "\n",
    "        for j in range(1,n_queries+1): # Loop para criação do comitê\n",
    "\n",
    "            X_train, _, y_train, _ = train_test_split(X_raw[idx_data[idx_bag][0]], y_raw[idx_data[idx_bag][0]], train_size=0.03)\n",
    "            sample_size = sample_size + len(X_train)\n",
    "            \n",
    "            # initializing learner\n",
    "            learner = ActiveLearner(\n",
    "                estimator=which_classifier(k, classifier = 'rfc'),\n",
    "                query_strategy=uncertainty_sampling,\n",
    "                X_training = X_train, y_training = y_train \n",
    "            )\n",
    "            learner_list.append(learner)\n",
    "\n",
    "        # assembling the committee\n",
    "        committee = Committee(\n",
    "            learner_list=learner_list,\n",
    "            query_strategy=vote_entropy_sampling)\n",
    "\n",
    "        X_pool, y_pool = X_raw[idx_data[idx_bag][0]], y_raw[idx_data[idx_bag][0]]\n",
    "\n",
    "        # query by committee\n",
    "        for idx in range(n_queries):\n",
    "            query_idx, query_instance = committee.query(X_pool, n_instances = k+1)\n",
    "            sample_size = sample_size + len(query_idx)\n",
    "            committee.teach(\n",
    "                X=X_pool[query_idx],\n",
    "                y=y_pool[query_idx]\n",
    "            )\n",
    "\n",
    "            X_pool = np.delete(X_pool, query_idx, axis=0)\n",
    "            y_pool = np.delete(y_pool, query_idx)\n",
    "        performance_history.append(committee.score(X_pool, y_pool))\n",
    "\n",
    "        #print(idx, n_queries, \"Query by Committee: \", committee.score(X_pool, y_pool))\n",
    "\n",
    "        \n",
    "    end = timer()\n",
    "    time_elapsed = end - start\n",
    "\n",
    "    return { \"performance_history\": performance_history, \n",
    "         \"time_elapsed\": time_elapsed,\n",
    "         \"sample_size\": sample_size, # RETORNAR TODAS AS AMOSTRAS DE CADA PERFORMANCE OU SÓ DO ULTIMO\n",
    "         \"Strategy\": 2}"
   ]
  },
  {
   "cell_type": "markdown",
   "metadata": {},
   "source": [
    "## Exp Error Reduction"
   ]
  },
  {
   "cell_type": "code",
   "execution_count": 64,
   "metadata": {},
   "outputs": [],
   "source": [
    "def exp_error_reduction(X_raw, y_raw, idx_data, idx_bag, classifier, init_size, n_queries):\n",
    "\n",
    "    from modAL.expected_error import expected_error_reduction\n",
    "    sample_size = 0 #contador de amostras utilizadas pela estratégia\n",
    "    performance_history = []\n",
    "    start = timer()\n",
    "    \n",
    "    # parte randomica inicial da estratégia\n",
    "    initial_idx = np.random.choice(range(len(idx_data[idx_bag][0])), size=init_size, replace=False)\n",
    "    X_train, y_train = X_raw[idx_data[idx_bag][0][initial_idx]], y_raw[idx_data[idx_bag][0][initial_idx]]\n",
    "    X_pool, y_pool = X_raw[idx_data[idx_bag][1]], y_raw[idx_data[idx_bag][1]]\n",
    "    \n",
    "    sample_size = sample_size + len(X_train)\n",
    "\n",
    "    learner = ActiveLearner (\n",
    "        estimator=classifier,\n",
    "        X_training=X_train, \n",
    "        y_training=y_train\n",
    "    )\n",
    "    exp_er_score = learner.score(X_pool, y_pool)\n",
    "    performance_history.append(exp_er_score)\n",
    "\n",
    "    total_of_samples = 0\n",
    "    while (total_of_samples != n_queries):\n",
    "        exp_error_idx = expected_error_reduction(learner, X_pool, 'binary', n_instances=init_size)[0]\n",
    "\n",
    "        learner.teach(X_pool[exp_error_idx], y_pool[exp_error_idx])\n",
    "        sample_size = sample_size + init_size\n",
    "        exp_er_score = learner.score(X_pool, y_pool)\n",
    "    \n",
    "        np.delete(X_pool, exp_error_idx, axis=0)\n",
    "        np.delete(y_pool, exp_error_idx, axis=0)\n",
    "        performance_history.append(exp_er_score)\n",
    "        \n",
    "        total_of_samples = total_of_samples + 1\n",
    "    \n",
    "    end = timer()\n",
    "    time_elapsed = end - start\n",
    "    \n",
    "    return { \"performance_history\": performance_history, \n",
    "             \"time_elapsed\": time_elapsed,\n",
    "             \"sample_size\": sample_size, # RETORNAR TODAS AS AMOSTRAS DE CADA PERFORMANCE OU SÓ DO ULTIMO\n",
    "             \"Strategy\": 3}"
   ]
  },
  {
   "cell_type": "markdown",
   "metadata": {},
   "source": [
    "## Exp Model Change"
   ]
  },
  {
   "cell_type": "code",
   "execution_count": 73,
   "metadata": {},
   "outputs": [],
   "source": [
    "def exp_model_change(X_raw, y_raw, idx_data, idx_bag, classifier, init_size, n_queries):\n",
    "\n",
    "    from modAL.expected_error import expected_error_reduction\n",
    "    sample_size = 0 #contador de amostras utilizadas pela estratégia\n",
    "    performance_history = []\n",
    "    start = timer()\n",
    "    \n",
    "    # parte randomica inicial da estratégia\n",
    "    initial_idx = np.random.choice(range(len(idx_data[idx_bag][0])), size=init_size, replace=False)\n",
    "    X_train, y_train = X_raw[idx_data[idx_bag][0][initial_idx]], y_raw[idx_data[idx_bag][0][initial_idx]]\n",
    "    X_pool, y_pool = X_raw[idx_data[idx_bag][1]], y_raw[idx_data[idx_bag][1]]\n",
    "    \n",
    "    sample_size = sample_size + len(X_train)\n",
    "\n",
    "    learner = ActiveLearner (\n",
    "        estimator=classifier,\n",
    "        X_training=X_train, \n",
    "        y_training=y_train\n",
    "    )\n",
    "    \n",
    "#     performance_history.append(uncertain_sample_score)\n",
    "\n",
    "    total_of_samples = 0\n",
    "    while (total_of_samples != n_queries):\n",
    "        exp_error_idx = np.random.choice(range(len(X_pool)), size=init_size, replace=False)\n",
    "        aux = deepcopy(learner)\n",
    "\n",
    "        aux.teach(X_pool[exp_error_idx], y_pool[exp_error_idx])\n",
    "        score_aux = aux.score(X_pool, y_pool)\n",
    "        score_learner = learner.score(X_pool, y_pool)\n",
    "        if score_aux > score_learner:\n",
    "            #print(total_of_samples, \" YES SCIENCE\")\n",
    "            learner = deepcopy(aux)\n",
    "            sample_size = sample_size + init_size\n",
    "        np.delete(X_pool, exp_error_idx, axis=0)\n",
    "        np.delete(y_pool, exp_error_idx, axis=0)\n",
    "        performance_history.append(learner.score(X_pool, y_pool))\n",
    "\n",
    "        total_of_samples = total_of_samples + 1\n",
    "    \n",
    "    end = timer()\n",
    "    time_elapsed = end - start\n",
    "    \n",
    "    return { \"performance_history\": performance_history, \n",
    "             \"time_elapsed\": time_elapsed,\n",
    "             \"sample_size\": sample_size, # RETORNAR TODAS AS AMOSTRAS DE CADA PERFORMANCE OU SÓ DO ULTIMO\n",
    "             \"Strategy\": 4}"
   ]
  },
  {
   "cell_type": "markdown",
   "metadata": {},
   "source": [
    "### Setup"
   ]
  },
  {
   "cell_type": "code",
   "execution_count": 14,
   "metadata": {},
   "outputs": [],
   "source": [
    "def which_dataset(dataset = \"iris\", n_splits = 5):\n",
    "    \n",
    "    # Futuramente essa etapa será ajustada para receber qualquer dataset (ou lista com datasets)\n",
    "    if (dataset == \"iris\"):\n",
    "        data = load_iris()\n",
    "        X_raw = data['data']\n",
    "        y_raw = data['target']\n",
    "    \n",
    "    if (dataset == \"wine\"):\n",
    "        data = load_wine()\n",
    "        X_raw = data['data']\n",
    "        y_raw = data['target']\n",
    "        \n",
    "    if (dataset == \"digits\"):\n",
    "        data = load_digits()\n",
    "        X_raw = data['data']\n",
    "        y_raw = data['target']\n",
    "        \n",
    "    # cross validation bags\n",
    "    data_cv = ShuffleSplit(n_splits= n_splits, test_size=0.3, random_state=0) #n_splits\n",
    "    \n",
    "    # extraindo ids do data_cv\n",
    "    idx_data = []\n",
    "    for train_index, test_index in data_cv.split(X_raw):\n",
    "            idx_data.append([train_index, test_index])\n",
    "\n",
    "    return X_raw, y_raw, idx_data"
   ]
  },
  {
   "cell_type": "code",
   "execution_count": 15,
   "metadata": {},
   "outputs": [],
   "source": [
    "def which_classifier(parameters, classifier = 'knn'):\n",
    "    \n",
    "    if (classifier == 'knn'):\n",
    "        return KNeighborsClassifier(parameters)\n",
    "    if (classifier == 'rfc'):\n",
    "        return RandomForestClassifier(n_estimators = 5)"
   ]
  },
  {
   "cell_type": "code",
   "execution_count": 75,
   "metadata": {},
   "outputs": [
    {
     "name": "stdout",
     "output_type": "stream",
     "text": [
      "0  uncertain_sampling\n",
      "1  uncertain_sampling\n",
      "2  uncertain_sampling\n",
      "3  uncertain_sampling\n",
      "4  uncertain_sampling\n",
      "0  random sampling\n",
      "1  random sampling\n",
      "2  random sampling\n",
      "3  random sampling\n",
      "4  random sampling\n",
      "0  query_by_committee\n",
      "1  query_by_committee\n",
      "2  query_by_committee\n",
      "3  query_by_committee\n",
      "4  query_by_committee\n",
      "0  exp error reduction\n",
      "0   [39  3 10]\n",
      "1   [37 10  7]\n",
      "2   [30 40 33]\n",
      "3   [29 31 19]\n",
      "4   [ 5 28 29]\n",
      "5   [29 39  5]\n",
      "6   [13 28 12]\n",
      "7   [34 37  4]\n",
      "8   [ 6 29 37]\n",
      "9   [ 3  6 36]\n",
      "1  exp error reduction\n",
      "0   [12  2 27]\n",
      "1   [11  5 29]\n",
      "2   [43 25 14]\n",
      "3   [23  8 36]\n",
      "4   [16 38 39]\n",
      "5   [30 12 38]\n",
      "6   [ 0  8 16]\n",
      "7   [31 14  0]\n",
      "8   [ 0 31  6]\n",
      "9   [ 5  9 14]\n",
      "2  exp error reduction\n",
      "0   [20  3 36]\n",
      "1   [ 5 13 43]\n",
      "2   [11 31 17]\n",
      "3   [44  2 30]\n",
      "4   [14 19 34]\n",
      "5   [ 3 17 27]\n",
      "6   [38  8  3]\n",
      "7   [39 24 27]\n",
      "8   [ 3 37 38]\n",
      "9   [ 4 34 14]\n",
      "3  exp error reduction\n",
      "0   [0 1 2]\n",
      "1   [ 4 11 35]\n",
      "2   [ 5 41 12]\n",
      "3   [19 27 34]\n",
      "4   [25 40 14]\n",
      "5   [41 16 43]\n",
      "6   [24 11 10]\n",
      "7   [ 3 16 20]\n",
      "8   [34 33  3]\n",
      "9   [27  6 29]\n",
      "4  exp error reduction\n",
      "0   [11 31  5]\n",
      "1   [ 9 23 15]\n",
      "2   [12 41 10]\n",
      "3   [ 6 25 21]\n",
      "4   [28  4 32]\n",
      "5   [19 29 31]\n",
      "6   [38 15 35]\n",
      "7   [ 1 16  6]\n",
      "8   [21 28 24]\n",
      "9   [23 40 38]\n",
      "0  exp model change\n",
      "1  exp model change\n",
      "2  exp model change\n",
      "3  exp model change\n",
      "4  exp model change\n"
     ]
    }
   ],
   "source": [
    "n_queries = 10 # cost\n",
    "n_splits = 5 # number of bags cv\n",
    "total_performance_history = []\n",
    "k = 3 #parameter to knn classifier\n",
    "\n",
    "idx_bag = 10\n",
    "\n",
    "classifier = which_classifier(k, classifier = 'rfc')\n",
    "X_raw, y_raw, idx_data = which_dataset(\"iris\")\n",
    "\n",
    "#para cada i em idx_bag (\"n_splits\") (1 a 5)\n",
    "for idx_bag in range(n_splits):\n",
    "    print(idx_bag, \" uncertain_sampling\")\n",
    "    total_performance_history.append(uncertain_sampling(deepcopy(X_raw), deepcopy(y_raw), idx_data, idx_bag, classifier, k, n_queries))\n",
    "for idx_bag in range(n_splits):\n",
    "    print(idx_bag, \" random sampling\")\n",
    "    total_performance_history.append(random_sampling(deepcopy(X_raw), deepcopy(y_raw), idx_data, idx_bag, classifier, k, n_queries))\n",
    "for idx_bag in range(n_splits):\n",
    "    print(idx_bag, \" query_by_committee\")\n",
    "    total_performance_history.append(query_by_committee(deepcopy(X_raw), deepcopy(y_raw), idx_data, idx_bag, classifier, k, n_queries))\n",
    "for idx_bag in range(n_splits):\n",
    "    print(idx_bag, \" exp error reduction\")\n",
    "    total_performance_history.append(exp_error_reduction(deepcopy(X_raw), deepcopy(y_raw), idx_data, idx_bag, classifier, k, n_queries))\n",
    "for idx_bag in range(n_splits):\n",
    "    print(idx_bag, \" exp model change\")\n",
    "    total_performance_history.append(exp_model_change(deepcopy(X_raw), deepcopy(y_raw), idx_data, idx_bag, classifier, k, n_queries))"
   ]
  },
  {
   "cell_type": "code",
   "execution_count": 76,
   "metadata": {},
   "outputs": [
    {
     "data": {
      "text/plain": [
       "[{'performance_history': [0.7555555555555555,\n",
       "   0.4666666666666667,\n",
       "   0.4666666666666667,\n",
       "   0.6,\n",
       "   0.6],\n",
       "  'time_elapsed': 0.06700431799981743,\n",
       "  'sample_size': 9,\n",
       "  'Strategy': 2},\n",
       " {'performance_history': [0.26666666666666666],\n",
       "  'time_elapsed': 0.03336070299974381,\n",
       "  'sample_size': 3,\n",
       "  'Strategy': 2},\n",
       " {'performance_history': [0.35555555555555557],\n",
       "  'time_elapsed': 0.02156145299977652,\n",
       "  'sample_size': 3,\n",
       "  'Strategy': 2},\n",
       " {'performance_history': [0.6888888888888889,\n",
       "   0.37777777777777777,\n",
       "   0.37777777777777777],\n",
       "  'time_elapsed': 0.027471504999994067,\n",
       "  'sample_size': 6,\n",
       "  'Strategy': 2},\n",
       " {'performance_history': [0.7555555555555555],\n",
       "  'time_elapsed': 0.022134285999527492,\n",
       "  'sample_size': 3,\n",
       "  'Strategy': 2},\n",
       " {'performance_history': [0.6575342465753424,\n",
       "   0.8482758620689655,\n",
       "   0.4861111111111111,\n",
       "   0.6573426573426573,\n",
       "   0.7253521126760564,\n",
       "   0.7021276595744681,\n",
       "   0.9571428571428572,\n",
       "   0.7571428571428571,\n",
       "   0.9565217391304348,\n",
       "   0.948905109489051],\n",
       "  'time_elapsed': 0.11699519800004055,\n",
       "  'sample_size': 85,\n",
       "  'Strategy': 1},\n",
       " {'performance_history': [0.5616438356164384,\n",
       "   0.6551724137931034,\n",
       "   0.8263888888888888,\n",
       "   0.7972027972027972,\n",
       "   0.6971830985915493,\n",
       "   0.7304964539007093,\n",
       "   0.7304964539007093,\n",
       "   0.920863309352518,\n",
       "   0.8142857142857143,\n",
       "   0.9202898550724637],\n",
       "  'time_elapsed': 0.0869294579997586,\n",
       "  'sample_size': 85,\n",
       "  'Strategy': 1},\n",
       " {'performance_history': [0.8767123287671232,\n",
       "   0.5793103448275863,\n",
       "   0.5972222222222222,\n",
       "   0.6503496503496503,\n",
       "   0.4788732394366197,\n",
       "   0.5602836879432624,\n",
       "   0.8142857142857143,\n",
       "   0.6524822695035462,\n",
       "   0.6521739130434783,\n",
       "   0.9051094890510949],\n",
       "  'time_elapsed': 0.08661173400014377,\n",
       "  'sample_size': 85,\n",
       "  'Strategy': 1},\n",
       " {'performance_history': [0.678082191780822,\n",
       "   0.5793103448275863,\n",
       "   0.8263888888888888,\n",
       "   0.965034965034965,\n",
       "   0.9014084507042254,\n",
       "   0.9148936170212766,\n",
       "   0.6428571428571429,\n",
       "   0.8201438848920863,\n",
       "   0.8913043478260869,\n",
       "   0.7518248175182481],\n",
       "  'time_elapsed': 0.10883991599985166,\n",
       "  'sample_size': 85,\n",
       "  'Strategy': 1},\n",
       " {'performance_history': [0.3150684931506849,\n",
       "   0.6344827586206897,\n",
       "   0.6597222222222222,\n",
       "   0.7972027972027972,\n",
       "   0.6549295774647887,\n",
       "   0.9078014184397163,\n",
       "   0.9432624113475178,\n",
       "   0.8848920863309353,\n",
       "   0.8785714285714286,\n",
       "   0.9136690647482014],\n",
       "  'time_elapsed': 0.0960891039994749,\n",
       "  'sample_size': 85,\n",
       "  'Strategy': 1},\n",
       " {'performance_history': [0.9846153846153847,\n",
       "   1.0,\n",
       "   1.0,\n",
       "   0.9846153846153847,\n",
       "   0.9846153846153847,\n",
       "   0.9846153846153847,\n",
       "   0.9846153846153847,\n",
       "   1.0,\n",
       "   1.0,\n",
       "   1.0],\n",
       "  'time_elapsed': 13.033563156000127,\n",
       "  'sample_size': 700,\n",
       "  'Strategy': 0},\n",
       " {'performance_history': [1.0,\n",
       "   0.9846153846153847,\n",
       "   1.0,\n",
       "   1.0,\n",
       "   1.0,\n",
       "   1.0,\n",
       "   0.9846153846153847,\n",
       "   1.0,\n",
       "   1.0,\n",
       "   1.0],\n",
       "  'time_elapsed': 12.576030785000512,\n",
       "  'sample_size': 700,\n",
       "  'Strategy': 0},\n",
       " {'performance_history': [1.0, 1.0, 1.0, 1.0, 1.0, 1.0, 1.0, 1.0, 1.0, 1.0],\n",
       "  'time_elapsed': 12.421125687000313,\n",
       "  'sample_size': 700,\n",
       "  'Strategy': 0},\n",
       " {'performance_history': [1.0, 1.0, 1.0, 1.0, 1.0, 1.0, 1.0, 1.0, 1.0, 1.0],\n",
       "  'time_elapsed': 14.392776525000045,\n",
       "  'sample_size': 700,\n",
       "  'Strategy': 0},\n",
       " {'performance_history': [1.0,\n",
       "   0.9692307692307692,\n",
       "   0.9846153846153847,\n",
       "   1.0,\n",
       "   0.9692307692307692,\n",
       "   0.9846153846153847,\n",
       "   0.9846153846153847,\n",
       "   1.0,\n",
       "   0.9846153846153847,\n",
       "   0.9846153846153847],\n",
       "  'time_elapsed': 14.079116438999336,\n",
       "  'sample_size': 700,\n",
       "  'Strategy': 0},\n",
       " {'performance_history': [0.7555555555555555,\n",
       "   0.8444444444444444,\n",
       "   0.8222222222222222,\n",
       "   0.9777777777777777,\n",
       "   0.9777777777777777,\n",
       "   0.9333333333333333,\n",
       "   0.8444444444444444,\n",
       "   0.9333333333333333,\n",
       "   0.9333333333333333,\n",
       "   0.9333333333333333,\n",
       "   0.8666666666666667],\n",
       "  'time_elapsed': 15.347254738999254,\n",
       "  'sample_size': 33,\n",
       "  'Strategy': 3},\n",
       " {'performance_history': [0.6444444444444445,\n",
       "   0.8444444444444444,\n",
       "   0.7777777777777778,\n",
       "   0.8222222222222222,\n",
       "   0.8888888888888888,\n",
       "   0.8444444444444444,\n",
       "   0.9111111111111111,\n",
       "   0.8888888888888888,\n",
       "   0.8222222222222222,\n",
       "   0.8666666666666667,\n",
       "   0.8666666666666667],\n",
       "  'time_elapsed': 16.191247947999727,\n",
       "  'sample_size': 33,\n",
       "  'Strategy': 3},\n",
       " {'performance_history': [0.5111111111111111,\n",
       "   0.7111111111111111,\n",
       "   0.6888888888888889,\n",
       "   0.7777777777777778,\n",
       "   0.9333333333333333,\n",
       "   0.9777777777777777,\n",
       "   1.0,\n",
       "   0.9111111111111111,\n",
       "   0.9777777777777777,\n",
       "   0.9333333333333333,\n",
       "   0.9555555555555556],\n",
       "  'time_elapsed': 16.588987148000342,\n",
       "  'sample_size': 33,\n",
       "  'Strategy': 3},\n",
       " {'performance_history': [0.26666666666666666,\n",
       "   0.8666666666666667,\n",
       "   0.9111111111111111,\n",
       "   0.9333333333333333,\n",
       "   0.9777777777777777,\n",
       "   0.8888888888888888,\n",
       "   0.9777777777777777,\n",
       "   0.9111111111111111,\n",
       "   0.9777777777777777,\n",
       "   0.9777777777777777,\n",
       "   0.9111111111111111],\n",
       "  'time_elapsed': 15.0094378900003,\n",
       "  'sample_size': 33,\n",
       "  'Strategy': 3},\n",
       " {'performance_history': [0.8666666666666667,\n",
       "   0.9555555555555556,\n",
       "   0.7555555555555555,\n",
       "   0.9555555555555556,\n",
       "   0.9777777777777777,\n",
       "   0.9555555555555556,\n",
       "   0.9777777777777777,\n",
       "   0.9777777777777777,\n",
       "   0.9777777777777777,\n",
       "   0.9777777777777777,\n",
       "   0.9777777777777777],\n",
       "  'time_elapsed': 17.654074181000396,\n",
       "  'sample_size': 33,\n",
       "  'Strategy': 3},\n",
       " {'performance_history': [0.6444444444444445,\n",
       "   0.6444444444444445,\n",
       "   0.7111111111111111,\n",
       "   0.9555555555555556,\n",
       "   0.9555555555555556,\n",
       "   0.9555555555555556,\n",
       "   0.9555555555555556,\n",
       "   0.9555555555555556,\n",
       "   0.9555555555555556,\n",
       "   0.9555555555555556],\n",
       "  'time_elapsed': 0.1645005559994388,\n",
       "  'sample_size': 9,\n",
       "  'Strategy': 4},\n",
       " {'performance_history': [0.9111111111111111,\n",
       "   0.9333333333333333,\n",
       "   0.9333333333333333,\n",
       "   0.9333333333333333,\n",
       "   0.9333333333333333,\n",
       "   0.9777777777777777,\n",
       "   0.9777777777777777,\n",
       "   0.9777777777777777,\n",
       "   0.9777777777777777,\n",
       "   0.9777777777777777],\n",
       "  'time_elapsed': 0.15867719200014108,\n",
       "  'sample_size': 12,\n",
       "  'Strategy': 4},\n",
       " {'performance_history': [0.8888888888888888,\n",
       "   0.8888888888888888,\n",
       "   0.8888888888888888,\n",
       "   0.9111111111111111,\n",
       "   0.9777777777777777,\n",
       "   0.9777777777777777,\n",
       "   0.9777777777777777,\n",
       "   0.9777777777777777,\n",
       "   0.9777777777777777,\n",
       "   0.9777777777777777],\n",
       "  'time_elapsed': 0.16649103600047965,\n",
       "  'sample_size': 12,\n",
       "  'Strategy': 4},\n",
       " {'performance_history': [0.6444444444444445,\n",
       "   0.9555555555555556,\n",
       "   0.9555555555555556,\n",
       "   0.9555555555555556,\n",
       "   0.9555555555555556,\n",
       "   0.9555555555555556,\n",
       "   0.9555555555555556,\n",
       "   0.9555555555555556,\n",
       "   0.9555555555555556,\n",
       "   0.9555555555555556],\n",
       "  'time_elapsed': 0.1905110119996607,\n",
       "  'sample_size': 9,\n",
       "  'Strategy': 4},\n",
       " {'performance_history': [0.6444444444444445,\n",
       "   0.7333333333333333,\n",
       "   0.9777777777777777,\n",
       "   0.9777777777777777,\n",
       "   0.9777777777777777,\n",
       "   0.9777777777777777,\n",
       "   0.9777777777777777,\n",
       "   0.9777777777777777,\n",
       "   0.9777777777777777,\n",
       "   0.9777777777777777],\n",
       "  'time_elapsed': 0.23904583300009108,\n",
       "  'sample_size': 9,\n",
       "  'Strategy': 4}]"
      ]
     },
     "execution_count": 76,
     "metadata": {},
     "output_type": "execute_result"
    }
   ],
   "source": [
    "total_performance_history"
   ]
  },
  {
   "cell_type": "code",
   "execution_count": 77,
   "metadata": {},
   "outputs": [],
   "source": [
    "df = pd.DataFrame.from_dict(total_performance_history)"
   ]
  },
  {
   "cell_type": "code",
   "execution_count": 78,
   "metadata": {},
   "outputs": [],
   "source": [
    "df = df.explode('performance_history')"
   ]
  },
  {
   "cell_type": "code",
   "execution_count": 79,
   "metadata": {},
   "outputs": [
    {
     "name": "stdout",
     "output_type": "stream",
     "text": [
      "<class 'pandas.core.frame.DataFrame'>\n",
      "Int64Index: 216 entries, 0 to 24\n",
      "Data columns (total 4 columns):\n",
      " #   Column               Non-Null Count  Dtype  \n",
      "---  ------               --------------  -----  \n",
      " 0   performance_history  216 non-null    object \n",
      " 1   time_elapsed         216 non-null    float64\n",
      " 2   sample_size          216 non-null    int64  \n",
      " 3   Strategy             216 non-null    int64  \n",
      "dtypes: float64(1), int64(2), object(1)\n",
      "memory usage: 8.4+ KB\n"
     ]
    }
   ],
   "source": [
    "df.info()"
   ]
  },
  {
   "cell_type": "markdown",
   "metadata": {},
   "source": [
    "## Visualization"
   ]
  },
  {
   "cell_type": "code",
   "execution_count": 80,
   "metadata": {},
   "outputs": [],
   "source": [
    "#  https://seaborn.pydata.org/examples/scatterplot_sizes.html\n",
    "import seaborn as sns"
   ]
  },
  {
   "cell_type": "code",
   "execution_count": 81,
   "metadata": {},
   "outputs": [
    {
     "data": {
      "image/png": "[encoded data removed]",
      "text/plain": [
       "<Figure size 436.625x360 with 1 Axes>"
      ]
     },
     "metadata": {
      "needs_background": "light"
     },
     "output_type": "display_data"
    }
   ],
   "source": [
    "g = sns.relplot(\n",
    "    data= df,\n",
    "    x=\"performance_history\", y=\"time_elapsed\",\n",
    "    hue=\"Strategy\", size=\"sample_size\",\n",
    "    palette=sns.color_palette(n_colors=3), sizes=(100, 300), alpha=0.3\n",
    ")\n",
    "g.ax.xaxis.grid(True, \"minor\", linewidth=.25)\n",
    "g.ax.yaxis.grid(True, \"minor\", linewidth=.25)\n",
    "_ = g.despine(left=True, bottom=True)"
   ]
  },
  {
   "cell_type": "code",
   "execution_count": 110,
   "metadata": {},
   "outputs": [
    {
     "data": {
      "image/png": "[encoded data removed]",
      "text/plain": [
       "<Figure size 436.625x360 with 1 Axes>"
      ]
     },
     "metadata": {
      "needs_background": "light"
     },
     "output_type": "display_data"
    }
   ],
   "source": [
    "g = sns.relplot(\n",
    "    data= df[(df.Strategy != 0) & (df.Strategy != 3)],\n",
    "    x=\"performance_history\", y=\"time_elapsed\",\n",
    "    hue=\"Strategy\", size=\"sample_size\",\n",
    "    palette=sns.color_palette(n_colors=3), sizes=(100, 300), alpha=0.3\n",
    ")\n",
    "g.ax.xaxis.grid(True, \"minor\", linewidth=.25)\n",
    "g.ax.yaxis.grid(True, \"minor\", linewidth=.25)\n",
    "_ = g.despine(left=True, bottom=True)"
   ]
  },
  {
   "cell_type": "code",
   "execution_count": 114,
   "metadata": {},
   "outputs": [
    {
     "data": {
      "image/png": "[encoded data removed]",
      "text/plain": [
       "<Figure size 436.625x360 with 1 Axes>"
      ]
     },
     "metadata": {
      "needs_background": "light"
     },
     "output_type": "display_data"
    }
   ],
   "source": [
    "g = sns.relplot(\n",
    "    data= df[(df.Strategy == 0) | (df.Strategy == 3)],\n",
    "    x=\"performance_history\", y=\"time_elapsed\",\n",
    "    hue=\"Strategy\", size=\"sample_size\",\n",
    "    palette=sns.color_palette(n_colors=2), sizes=(100, 300), alpha=0.3\n",
    ")\n",
    "g.ax.xaxis.grid(True, \"minor\", linewidth=.25)\n",
    "g.ax.yaxis.grid(True, \"minor\", linewidth=.25)\n",
    "_ = g.despine(left=True, bottom=True)"
   ]
  }
 ],
 "metadata": {
  "kernelspec": {
   "display_name": "Python 3",
   "language": "python",
   "name": "python3"
  },
  "language_info": {
   "codemirror_mode": {
    "name": "ipython",
    "version": 3
   },
   "file_extension": ".py",
   "mimetype": "text/x-python",
   "name": "python",
   "nbconvert_exporter": "python",
   "pygments_lexer": "ipython3",
   "version": "3.7.3"
  }
 },
 "nbformat": 4,
 "nbformat_minor": 4
}
