{
 "cells": [
  {
   "cell_type": "markdown",
   "metadata": {},
   "source": [
    "##### Estratégias no artigo do Davi Pereira dos Santos\n",
    "\n",
    "- euc = euclidiana\n",
    "- man = Manhattan\n",
    "- ent = entropia\n",
    "- acu = acuracia\n",
    "\n",
    "\n",
    "- ATUeuc\n",
    "- ATUman \n",
    "\n",
    "\n",
    "- EERacu \n",
    "- EERent \n",
    "\n",
    "\n",
    "- HS \n",
    "\n",
    "\n",
    "- HTUeuc\n",
    "- HTUman \n",
    "\n",
    "\n",
    "- Mar\n",
    "- Rnd \n",
    "- SGmulti \n",
    "\n",
    "\n",
    "- TUeuc\n",
    "- TUman \n",
    "\n",
    "\n",
    "- DWeuc \n",
    "- DWman\n",
    "_____\n",
    "\n",
    "## Descartada\n",
    "- SVMsim\n",
    "- SVMbal\n",
    "- QBC"
   ]
  },
  {
   "cell_type": "markdown",
   "metadata": {},
   "source": [
    "ID_ATU(x) = (1/|U| SUM(sim(x,u)))^alpha (1/|U| SUM(sim(x,u)))^-delta"
   ]
  },
  {
   "cell_type": "markdown",
   "metadata": {},
   "source": [
    "### setup KNN"
   ]
  },
  {
   "cell_type": "code",
   "execution_count": 7,
   "metadata": {},
   "outputs": [],
   "source": [
    "import pandas as pd\n",
    "import numpy as np"
   ]
  },
  {
   "cell_type": "code",
   "execution_count": 9,
   "metadata": {},
   "outputs": [
    {
     "data": {
      "text/html": [
       "<div>\n",
       "<style scoped>\n",
       "    .dataframe tbody tr th:only-of-type {\n",
       "        vertical-align: middle;\n",
       "    }\n",
       "\n",
       "    .dataframe tbody tr th {\n",
       "        vertical-align: top;\n",
       "    }\n",
       "\n",
       "    .dataframe thead th {\n",
       "        text-align: right;\n",
       "    }\n",
       "</style>\n",
       "<table border=\"1\" class=\"dataframe\">\n",
       "  <thead>\n",
       "    <tr style=\"text-align: right;\">\n",
       "      <th></th>\n",
       "      <th>LW</th>\n",
       "      <th>LD</th>\n",
       "      <th>RW</th>\n",
       "      <th>RD</th>\n",
       "      <th>CN</th>\n",
       "    </tr>\n",
       "  </thead>\n",
       "  <tbody>\n",
       "    <tr>\n",
       "      <th>0</th>\n",
       "      <td>1</td>\n",
       "      <td>1</td>\n",
       "      <td>1</td>\n",
       "      <td>1</td>\n",
       "      <td>B</td>\n",
       "    </tr>\n",
       "    <tr>\n",
       "      <th>1</th>\n",
       "      <td>1</td>\n",
       "      <td>1</td>\n",
       "      <td>1</td>\n",
       "      <td>2</td>\n",
       "      <td>R</td>\n",
       "    </tr>\n",
       "    <tr>\n",
       "      <th>2</th>\n",
       "      <td>1</td>\n",
       "      <td>1</td>\n",
       "      <td>1</td>\n",
       "      <td>3</td>\n",
       "      <td>R</td>\n",
       "    </tr>\n",
       "    <tr>\n",
       "      <th>3</th>\n",
       "      <td>1</td>\n",
       "      <td>1</td>\n",
       "      <td>1</td>\n",
       "      <td>4</td>\n",
       "      <td>R</td>\n",
       "    </tr>\n",
       "    <tr>\n",
       "      <th>4</th>\n",
       "      <td>1</td>\n",
       "      <td>1</td>\n",
       "      <td>1</td>\n",
       "      <td>5</td>\n",
       "      <td>R</td>\n",
       "    </tr>\n",
       "  </tbody>\n",
       "</table>\n",
       "</div>"
      ],
      "text/plain": [
       "   LW  LD  RW  RD CN\n",
       "0   1   1   1   1  B\n",
       "1   1   1   1   2  R\n",
       "2   1   1   1   3  R\n",
       "3   1   1   1   4  R\n",
       "4   1   1   1   5  R"
      ]
     },
     "execution_count": 9,
     "metadata": {},
     "output_type": "execute_result"
    }
   ],
   "source": [
    "# https://archive.ics.uci.edu/ml/datasets/Balance+Scale\n",
    "\n",
    "df = pd.read_csv('balance-scale.data', header = None, names = ['CN','LW','LD','RW','RD'])\n",
    "df = df[['LW','LD','RW','RD','CN']]\n",
    "df.head()"
   ]
  },
  {
   "cell_type": "code",
   "execution_count": 18,
   "metadata": {},
   "outputs": [
    {
     "data": {
      "text/html": [
       "<div>\n",
       "<style scoped>\n",
       "    .dataframe tbody tr th:only-of-type {\n",
       "        vertical-align: middle;\n",
       "    }\n",
       "\n",
       "    .dataframe tbody tr th {\n",
       "        vertical-align: top;\n",
       "    }\n",
       "\n",
       "    .dataframe thead th {\n",
       "        text-align: right;\n",
       "    }\n",
       "</style>\n",
       "<table border=\"1\" class=\"dataframe\">\n",
       "  <thead>\n",
       "    <tr style=\"text-align: right;\">\n",
       "      <th></th>\n",
       "      <th>LD</th>\n",
       "      <th>RW</th>\n",
       "      <th>RD</th>\n",
       "      <th>CN</th>\n",
       "    </tr>\n",
       "  </thead>\n",
       "  <tbody>\n",
       "    <tr>\n",
       "      <th>0</th>\n",
       "      <td>-1.414214</td>\n",
       "      <td>-1.414214</td>\n",
       "      <td>-1.414214</td>\n",
       "      <td>-1.414214</td>\n",
       "    </tr>\n",
       "    <tr>\n",
       "      <th>1</th>\n",
       "      <td>-1.414214</td>\n",
       "      <td>-1.414214</td>\n",
       "      <td>-1.414214</td>\n",
       "      <td>-0.707107</td>\n",
       "    </tr>\n",
       "    <tr>\n",
       "      <th>2</th>\n",
       "      <td>-1.414214</td>\n",
       "      <td>-1.414214</td>\n",
       "      <td>-1.414214</td>\n",
       "      <td>0.000000</td>\n",
       "    </tr>\n",
       "    <tr>\n",
       "      <th>3</th>\n",
       "      <td>-1.414214</td>\n",
       "      <td>-1.414214</td>\n",
       "      <td>-1.414214</td>\n",
       "      <td>0.707107</td>\n",
       "    </tr>\n",
       "    <tr>\n",
       "      <th>4</th>\n",
       "      <td>-1.414214</td>\n",
       "      <td>-1.414214</td>\n",
       "      <td>-1.414214</td>\n",
       "      <td>1.414214</td>\n",
       "    </tr>\n",
       "  </tbody>\n",
       "</table>\n",
       "</div>"
      ],
      "text/plain": [
       "         LD        RW        RD        CN\n",
       "0 -1.414214 -1.414214 -1.414214 -1.414214\n",
       "1 -1.414214 -1.414214 -1.414214 -0.707107\n",
       "2 -1.414214 -1.414214 -1.414214  0.000000\n",
       "3 -1.414214 -1.414214 -1.414214  0.707107\n",
       "4 -1.414214 -1.414214 -1.414214  1.414214"
      ]
     },
     "execution_count": 18,
     "metadata": {},
     "output_type": "execute_result"
    }
   ],
   "source": [
    "# normalização dos dados\n",
    "\n",
    "from sklearn.preprocessing import StandardScaler\n",
    "scaler = StandardScaler()\n",
    "scaler.fit(df.drop('CN', axis = 1))\n",
    "df_scaled = scaler.transform(df.drop('CN',axis=1))\n",
    "df_scaled = pd.DataFrame(df_scaled, columns= df.columns[1:])\n",
    "df_scaled.head()"
   ]
  },
  {
   "cell_type": "code",
   "execution_count": 19,
   "metadata": {},
   "outputs": [],
   "source": [
    "from sklearn.model_selection import train_test_split\n",
    "\n",
    "X = df_feat\n",
    "y = df['CN']\n",
    "\n",
    "X_labeled, X_unlabeled, y_labeled, _ = train_test_split(X, y, test_size=0.3, random_state = 1)"
   ]
  },
  {
   "cell_type": "code",
   "execution_count": 22,
   "metadata": {},
   "outputs": [
    {
     "data": {
      "text/plain": [
       "KNeighborsClassifier(algorithm='auto', leaf_size=30, metric='minkowski',\n",
       "                     metric_params=None, n_jobs=None, n_neighbors=3, p=2,\n",
       "                     weights='uniform')"
      ]
     },
     "execution_count": 22,
     "metadata": {},
     "output_type": "execute_result"
    }
   ],
   "source": [
    "from sklearn.neighbors import KNeighborsClassifier\n",
    "\n",
    "knn = KNeighborsClassifier(n_neighbors=3)\n",
    "knn.fit(X_labeled, y_labeled)"
   ]
  },
  {
   "cell_type": "markdown",
   "metadata": {},
   "source": [
    "## Algoritmo 2: Amostragem ativa baseada na reserva de exemplos"
   ]
  },
  {
   "cell_type": "code",
   "execution_count": 238,
   "metadata": {},
   "outputs": [],
   "source": [
    "def get_pool():\n",
    "    from sklearn.linear_model import LinearRegression\n",
    "\n",
    "    data = pd.read_csv('preco-imovel.csv', sep=';')\n",
    "\n",
    "    data['log_Valor'] = np.log(data['Valor'])\n",
    "    data['log_Area'] = np.log(data['Area'])\n",
    "    data['log_Dist_Praia'] = np.log(data['Dist_Praia'] + 1)\n",
    "    data['log_Dist_Farmacia'] = np.log(data['Dist_Farmacia'] + 1)\n",
    "\n",
    "\n",
    "    X = data[['log_Area', 'log_Dist_Praia', 'log_Dist_Farmacia']]\n",
    "    y = data['log_Valor']\n",
    "\n",
    "    X_labeled, X_unlabeled, y_labeled, _ = train_test_split(X, y, test_size=0.2, random_state=1)\n",
    "    \n",
    "    l = {'X':X_labeled, 'y':y_labeled}\n",
    "    u = {'X':X_unlabeled}\n",
    "    \n",
    "    return l, u"
   ]
  },
  {
   "cell_type": "code",
   "execution_count": 61,
   "metadata": {},
   "outputs": [],
   "source": [
    "def induct_model(l):\n",
    "    model = LinearRegression()\n",
    "    model.fit(l[\"X\"], l[\"y\"])\n",
    "    return model"
   ]
  },
  {
   "cell_type": "code",
   "execution_count": 236,
   "metadata": {},
   "outputs": [],
   "source": [
    "# predict X_unlabeled\n",
    "# take argmax of predict values\n",
    "# i = index of max value\n",
    "# extract index\n",
    "\n",
    "def arg_max(model, u):\n",
    "    pred = model.predict(u[\"X\"])\n",
    "    max_v = np.amax(pred)\n",
    "    i = pred == max_v\n",
    "    i = np.nonzero(i)\n",
    "    i[0][0]\n",
    "    ex = {'index':i[0][0], 'oracle':pred[i[0][0]]}\n",
    "    return ex"
   ]
  },
  {
   "cell_type": "code",
   "execution_count": null,
   "metadata": {},
   "outputs": [],
   "source": [
    "def concat_l(l, ex):\n",
    "    l2 = l\n",
    "    locx = u[\"X\"].iloc[ex[\"index\"]]\n",
    "    locy = ex[\"oracle\"]\n",
    "\n",
    "    l2[\"X\"].append(locx, ignore_index=True)\n",
    "    l2[\"y\"].append(pd.Series([locy]), ignore_index=True)\n",
    "    \n",
    "    return l2\n",
    "\n",
    "def remove_u(u, ex):\n",
    "    "
   ]
  },
  {
   "cell_type": "code",
   "execution_count": 105,
   "metadata": {},
   "outputs": [],
   "source": [
    "def active_sample(u, l, phi, q, c):\n",
    "    if c == 0:\n",
    "        return l\n",
    "    else:\n",
    "        model = phi(l);\n",
    "        ex = q(model,u);\n",
    "        l2 = concat_l(l,ex)\n",
    "        u2 = remove_u(u,ex)\n",
    "        return active_sample(u2, l2, phi, q, c-1)"
   ]
  },
  {
   "cell_type": "code",
   "execution_count": 294,
   "metadata": {},
   "outputs": [
    {
     "data": {
      "text/plain": [
       "log_Area             7.600902\n",
       "log_Dist_Praia       0.160679\n",
       "log_Dist_Farmacia    0.268945\n",
       "Name: 3693, dtype: float64"
      ]
     },
     "execution_count": 294,
     "metadata": {},
     "output_type": "execute_result"
    }
   ],
   "source": [
    "u[\"X\"].iloc[ex[\"index\"]]"
   ]
  },
  {
   "cell_type": "code",
   "execution_count": 244,
   "metadata": {},
   "outputs": [
    {
     "data": {
      "text/plain": [
       "{'X':       log_Area  log_Dist_Praia  log_Dist_Farmacia\n",
       " 2764  4.882802        0.738724           0.622371\n",
       " 4767  5.214936        0.873405           0.202240\n",
       " 3814  4.158883        1.952026           0.188169\n",
       " 3499  4.025352        2.852740           0.475234\n",
       " 2735  4.499810        0.290537           0.188499\n",
       " ...        ...             ...                ...\n",
       " 448   4.007333        2.032718           0.281887\n",
       " 921   4.077537        1.965363           0.597445\n",
       " 4087  4.700480        2.065791           0.404373\n",
       " 1242  4.382027        0.808076           0.133670\n",
       " 2242  3.688879        0.120906           0.510717\n",
       " \n",
       " [1000 rows x 3 columns]}"
      ]
     },
     "execution_count": 244,
     "metadata": {},
     "output_type": "execute_result"
    }
   ],
   "source": [
    "l, u = get_pool()\n",
    "phi = induct_model\n",
    "q = arg_max\n",
    "c = 5\n",
    "\n",
    "final_l = active_sample(u, l, phi, q, c)\n",
    "final_l"
   ]
  }
 ],
 "metadata": {
  "kernelspec": {
   "display_name": "Python 3",
   "language": "python",
   "name": "python3"
  },
  "language_info": {
   "codemirror_mode": {
    "name": "ipython",
    "version": 3
   },
   "file_extension": ".py",
   "mimetype": "text/x-python",
   "name": "python",
   "nbconvert_exporter": "python",
   "pygments_lexer": "ipython3",
   "version": "3.7.3"
  }
 },
 "nbformat": 4,
 "nbformat_minor": 4
}
