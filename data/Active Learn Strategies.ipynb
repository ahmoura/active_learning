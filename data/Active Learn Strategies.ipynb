{
 "cells": [
  {
   "cell_type": "markdown",
   "metadata": {},
   "source": [
    "# Active Learning - Comparando estratégias"
   ]
  },
  {
   "cell_type": "markdown",
   "metadata": {},
   "source": [
    "- Amostra por incerteza\n",
    "- Amostragem aleatória\n",
    "- Consulta por comitê\n",
    "- Aprendizado passivo\n",
    "- Redução do erro esperado"
   ]
  },
  {
   "cell_type": "code",
   "execution_count": 1,
   "metadata": {},
   "outputs": [],
   "source": [
    "%run set_environment"
   ]
  },
  {
   "cell_type": "markdown",
   "metadata": {},
   "source": [
    "## Bibliotecas"
   ]
  },
  {
   "cell_type": "code",
   "execution_count": 2,
   "metadata": {},
   "outputs": [
    {
     "data": {
      "text/plain": [
       "{'divide': 'warn', 'over': 'warn', 'under': 'ignore', 'invalid': 'warn'}"
      ]
     },
     "execution_count": 2,
     "metadata": {},
     "output_type": "execute_result"
    }
   ],
   "source": [
    "#importing_libraries.py\n",
    "\n",
    "import numpy as np\n",
    "import pandas as pd\n",
    "np.seterr(divide='ignore', invalid='ignore')"
   ]
  },
  {
   "cell_type": "code",
   "execution_count": 3,
   "metadata": {},
   "outputs": [],
   "source": [
    "%matplotlib inline\n",
    "import matplotlib as mpl\n",
    "import matplotlib.pyplot as plt\n",
    "import seaborn as sns"
   ]
  },
  {
   "cell_type": "code",
   "execution_count": 4,
   "metadata": {},
   "outputs": [],
   "source": [
    "from copy import deepcopy"
   ]
  },
  {
   "cell_type": "code",
   "execution_count": 5,
   "metadata": {},
   "outputs": [],
   "source": [
    "from sklearn.model_selection import ShuffleSplit, train_test_split\n",
    "from sklearn import preprocessing"
   ]
  },
  {
   "cell_type": "code",
   "execution_count": 6,
   "metadata": {},
   "outputs": [],
   "source": [
    "from modAL.models import ActiveLearner\n",
    "from modAL.uncertainty import uncertainty_sampling"
   ]
  },
  {
   "cell_type": "code",
   "execution_count": 7,
   "metadata": {},
   "outputs": [],
   "source": [
    "from timeit import default_timer as timer"
   ]
  },
  {
   "cell_type": "code",
   "execution_count": 8,
   "metadata": {},
   "outputs": [],
   "source": [
    "from scipy.io import arff"
   ]
  },
  {
   "cell_type": "markdown",
   "metadata": {},
   "source": [
    "## Classificadores"
   ]
  },
  {
   "cell_type": "markdown",
   "metadata": {},
   "source": [
    "### Algoritmos"
   ]
  },
  {
   "cell_type": "code",
   "execution_count": 9,
   "metadata": {},
   "outputs": [],
   "source": [
    "from sklearn.neighbors import KNeighborsClassifier\n",
    "from sklearn.ensemble import RandomForestClassifier\n",
    "from sklearn import tree\n",
    "from sklearn.naive_bayes import GaussianNB\n",
    "from sklearn.svm import SVC\n",
    "\n",
    "#TO DO mais classificadores"
   ]
  },
  {
   "cell_type": "markdown",
   "metadata": {},
   "source": [
    "### Conjunto de dados"
   ]
  },
  {
   "cell_type": "code",
   "execution_count": 10,
   "metadata": {},
   "outputs": [],
   "source": [
    "from sklearn.datasets import load_iris, load_digits, load_wine, load_breast_cancer"
   ]
  },
  {
   "cell_type": "code",
   "execution_count": 11,
   "metadata": {},
   "outputs": [],
   "source": [
    "# Datasets OpenML\n",
    "import openml\n",
    "import os"
   ]
  },
  {
   "cell_type": "code",
   "execution_count": 12,
   "metadata": {},
   "outputs": [],
   "source": [
    "openml.config.cache_directory = os.path.expanduser('./datasets/openML')\n",
    "openml_list = openml.datasets.list_datasets()\n",
    "\n",
    "datalist = pd.DataFrame.from_dict(openml_list, orient=\"index\")\n",
    "datalist = list(datalist[(datalist.NumberOfClasses.isnull() == False) & (datalist.NumberOfClasses != 0)][\"did\"])"
   ]
  },
  {
   "cell_type": "markdown",
   "metadata": {},
   "source": [
    "## Estatratégias"
   ]
  },
  {
   "cell_type": "markdown",
   "metadata": {},
   "source": [
    "### Amostra por incerteza"
   ]
  },
  {
   "cell_type": "code",
   "execution_count": 13,
   "metadata": {},
   "outputs": [],
   "source": [
    "def uncertain_sampling(X_raw, y_raw, idx_data, idx_bag, classifier, init_size, cost):\n",
    "    \n",
    "    from modAL.uncertainty import classifier_uncertainty\n",
    "    \n",
    "    sample_size = 0 #contador de amostras utilizadas pela estratégia\n",
    "    performance_history = []\n",
    "    start = timer()\n",
    "    \n",
    "    # parte randomica inicial da estratégia\n",
    "    initial_idx = np.random.choice(range(len(idx_data[idx_bag][TRAIN])), size=init_size, replace=False)\n",
    "    X_train, y_train = X_raw[idx_data[idx_bag][TRAIN][initial_idx]], y_raw[idx_data[idx_bag][TRAIN][initial_idx]]\n",
    "    X_test, y_test = X_raw[idx_data[idx_bag][TEST]], y_raw[idx_data[idx_bag][TEST]]\n",
    "    \n",
    "    sample_size = sample_size + len(X_train)\n",
    "\n",
    "    classifier.fit(X_train,y_train)\n",
    "\n",
    "    learner = ActiveLearner (\n",
    "        estimator=classifier,\n",
    "        query_strategy=uncertainty_sampling\n",
    "    )\n",
    "    \n",
    "    uncertain_sample_score = learner.score(X_test, y_test)\n",
    "    performance_history.append(uncertain_sample_score)\n",
    "\n",
    "    total_of_samples = 1\n",
    "    while (total_of_samples != cost):\n",
    "        \n",
    "        #X_train, X_test, y_train, y_test = train_test_split(X_raw, y_raw, train_size=0.03)\n",
    "        \n",
    "        idx = np.random.choice(range(len(idx_data[idx_bag][TRAIN])), size=init_size, replace=False)\n",
    "        X_train, y_train = X_raw[idx_data[idx_bag][TRAIN][idx]], y_raw[idx_data[idx_bag][TRAIN][idx]]\n",
    "        \n",
    "        if classifier_uncertainty(learner, X_train[0].reshape(1,-1)) > 0.2:\n",
    "            #print(\"IF\", learner.score(X_test, y_test))\n",
    "            sample_size = sample_size + len(X_train)\n",
    "            learner.teach(X_train, y_train)\n",
    "            uncertain_sample_score = learner.score(X_test, y_test)\n",
    "            performance_history.append(uncertain_sample_score)\n",
    "        total_of_samples = total_of_samples + 1\n",
    "    \n",
    "    end = timer()\n",
    "    time_elapsed = end - start\n",
    "    \n",
    "    return { \"performance_history\": performance_history[-1], \n",
    "             \"time_elapsed\": time_elapsed,\n",
    "             \"sample_size\": sample_size, # RETORNAR TODAS AS AMOSTRAS DE CADA PERFORMANCE OU SÓ DO ULTIMO\n",
    "             \"Strategy\": \"Uncertain Sampling\"}"
   ]
  },
  {
   "cell_type": "markdown",
   "metadata": {},
   "source": [
    "### Amostragem aleatória"
   ]
  },
  {
   "cell_type": "code",
   "execution_count": 14,
   "metadata": {},
   "outputs": [],
   "source": [
    "def random_sampling(X_raw, y_raw, idx_data, idx_bag, classifier, init_size, cost):\n",
    "        \n",
    "    sample_size = 0 #contador de amostras utilizadas pela estratégia\n",
    "    performance_history = []\n",
    "    start = timer()\n",
    "\n",
    "    for i in range(1, cost+1):\n",
    "\n",
    "        #high = X_raw.shape[0] = qtd amostras no dataset\n",
    "        training_indices = np.random.randint(low=0, high=len(X_raw[idx_data[idx_bag][TRAIN]]), size=k+i) #high = qtd elementos na bag\n",
    "        sample_size = sample_size + len(training_indices)\n",
    "\n",
    "        X_train = X_raw[idx_data[idx_bag][TRAIN][training_indices]] #ASK06\n",
    "        y_train = y_raw[idx_data[idx_bag][TRAIN][training_indices]]\n",
    "\n",
    "        X_test = np.delete(X_raw, idx_data[idx_bag][TRAIN][training_indices], axis=0)\n",
    "        y_test = np.delete(y_raw, idx_data[idx_bag][TRAIN][training_indices], axis=0)\n",
    "\n",
    "        classifier.fit(X_train, y_train)\n",
    "\n",
    "        random_sampling_score = classifier.score(X_test,y_test)\n",
    "        performance_history.append(random_sampling_score)\n",
    "\n",
    "        \n",
    "    end = timer()\n",
    "    time_elapsed = end - start\n",
    "    \n",
    "    return { \"performance_history\": performance_history[-1], \n",
    "             \"time_elapsed\": time_elapsed,\n",
    "             \"sample_size\": sample_size,\n",
    "             \"Strategy\": \"Random Sampling\"}"
   ]
  },
  {
   "cell_type": "markdown",
   "metadata": {},
   "source": [
    "### Consulta por comitê"
   ]
  },
  {
   "cell_type": "code",
   "execution_count": 15,
   "metadata": {
    "scrolled": true
   },
   "outputs": [],
   "source": [
    "def query_by_committee(X_raw, y_raw, idx_data, idx_bag, classifier, init_size, cost):\n",
    "\n",
    "    from modAL.models import ActiveLearner, Committee\n",
    "    from modAL.disagreement import vote_entropy_sampling\n",
    "\n",
    "    sample_size = 0 #contador de amostras utilizadas pela estratégia\n",
    "    performance_history = []\n",
    "    start = timer()\n",
    "\n",
    "    learner_list = []\n",
    "\n",
    "    for j in range(1, cost+1): # Loop para criação do comitê\n",
    "\n",
    "        X_train, _, y_train, _ = train_test_split(X_raw[idx_data[idx_bag][TRAIN]], y_raw[idx_data[idx_bag][TRAIN]], test_size=0.97)\n",
    "        sample_size = sample_size + len(X_train)\n",
    "\n",
    "        # initializing learner\n",
    "        learner = ActiveLearner(\n",
    "            estimator= which_classifier(classifier),\n",
    "            query_strategy=uncertainty_sampling,\n",
    "            X_training = X_train, y_training = y_train \n",
    "        )\n",
    "        learner_list.append(learner)\n",
    "\n",
    "    # assembling the committee\n",
    "    committee = Committee(\n",
    "        learner_list=learner_list,\n",
    "        query_strategy=vote_entropy_sampling)\n",
    "\n",
    "    X_pool, y_pool = X_raw[idx_data[idx_bag][TRAIN]], y_raw[idx_data[idx_bag][TRAIN]]\n",
    "\n",
    "    # query by committee\n",
    "    for idx in range(cost):\n",
    "        query_idx, query_instance = committee.query(X_pool, n_instances = k+1)\n",
    "        sample_size = sample_size + len(query_idx)\n",
    "        committee.teach(\n",
    "            X=X_pool[query_idx],\n",
    "            y=y_pool[query_idx]\n",
    "        )\n",
    "\n",
    "        X_pool = np.delete(X_pool, query_idx, axis=0)\n",
    "        y_pool = np.delete(y_pool, query_idx)            \n",
    "        query_by_committee_score = committee.score(X_pool, y_pool)\n",
    "        performance_history.append(query_by_committee_score)\n",
    "\n",
    "        \n",
    "    end = timer()\n",
    "    time_elapsed = end - start\n",
    "\n",
    "    return { \"performance_history\": performance_history[-1], \n",
    "             \"time_elapsed\": time_elapsed,\n",
    "             \"sample_size\": sample_size,\n",
    "             \"Strategy\": \"Query by Committee\"}"
   ]
  },
  {
   "cell_type": "markdown",
   "metadata": {},
   "source": [
    "### Expected Error Reduction"
   ]
  },
  {
   "cell_type": "code",
   "execution_count": 16,
   "metadata": {},
   "outputs": [],
   "source": [
    "def exp_error_reduction(X_raw, y_raw, idx_data, idx_bag, classifier, init_size, cost):\n",
    "\n",
    "    from modAL.expected_error import expected_error_reduction\n",
    "    \n",
    "    sample_size = 0 #contador de amostras utilizadas pela estratégia\n",
    "    performance_history = []\n",
    "    start = timer()\n",
    "    \n",
    "    # parte randomica inicial da estratégia\n",
    "    initial_idx = np.random.choice(range(len(idx_data[idx_bag][TRAIN])), size=init_size, replace=False)\n",
    "    X_train, y_train = X_raw[idx_data[idx_bag][TRAIN][initial_idx]], y_raw[idx_data[idx_bag][TRAIN][initial_idx]]\n",
    "    X_pool, y_pool = X_raw[idx_data[idx_bag][TEST]], y_raw[idx_data[idx_bag][TEST]]\n",
    "    \n",
    "    sample_size = sample_size + len(X_train)\n",
    "\n",
    "    learner = ActiveLearner (\n",
    "        estimator=classifier,\n",
    "        X_training=X_train, \n",
    "        y_training=y_train\n",
    "    )\n",
    "    exp_er_score = learner.score(X_pool, y_pool)\n",
    "    performance_history.append(exp_er_score)\n",
    "\n",
    "    total_of_samples = 1\n",
    "    while (total_of_samples != cost):\n",
    "        exp_error_idx = expected_error_reduction(learner, X_pool, 'binary', n_instances=init_size)[0]\n",
    "\n",
    "        learner.teach(X_pool[exp_error_idx], y_pool[exp_error_idx])\n",
    "        sample_size = sample_size + init_size\n",
    "    \n",
    "        np.delete(X_pool, exp_error_idx, axis=0)\n",
    "        np.delete(y_pool, exp_error_idx, axis=0)\n",
    "        \n",
    "        exp_er_score = learner.score(X_pool, y_pool)\n",
    "        performance_history.append(exp_er_score)\n",
    "        \n",
    "        total_of_samples = total_of_samples + 1\n",
    "    \n",
    "    end = timer()\n",
    "    time_elapsed = end - start\n",
    "    \n",
    "    return { \"performance_history\": performance_history[-1], \n",
    "             \"time_elapsed\": time_elapsed,\n",
    "             \"sample_size\": sample_size, # RETORNAR TODAS AS AMOSTRAS DE CADA PERFORMANCE OU SÓ DO ULTIMO\n",
    "             \"Strategy\": \"Expected Error Reduction\"}"
   ]
  },
  {
   "cell_type": "markdown",
   "metadata": {},
   "source": [
    "### Expected Model Change"
   ]
  },
  {
   "cell_type": "code",
   "execution_count": 17,
   "metadata": {},
   "outputs": [],
   "source": [
    "def exp_model_change(X_raw, y_raw, idx_data, idx_bag, classifier, init_size, cost):\n",
    "\n",
    "    from modAL.expected_error import expected_error_reduction\n",
    "    sample_size = 0 #contador de amostras utilizadas pela estratégia\n",
    "    performance_history = []\n",
    "    start = timer()\n",
    "    \n",
    "    # parte randomica inicial da estratégia\n",
    "    initial_idx = np.random.choice(range(len(idx_data[idx_bag][0])), size=init_size, replace=False)\n",
    "    X_train, y_train = X_raw[idx_data[idx_bag][0][initial_idx]], y_raw[idx_data[idx_bag][0][initial_idx]]\n",
    "    X_pool, y_pool = X_raw[idx_data[idx_bag][1]], y_raw[idx_data[idx_bag][1]]\n",
    "    \n",
    "    sample_size = sample_size + len(X_train)\n",
    "\n",
    "    learner = ActiveLearner (\n",
    "        estimator=classifier,\n",
    "        X_training=X_train, \n",
    "        y_training=y_train\n",
    "    )\n",
    "    \n",
    "#     performance_history.append(uncertain_sample_score)\n",
    "\n",
    "    total_of_samples = 1\n",
    "    while (total_of_samples != cost):\n",
    "        exp_error_idx = np.random.choice(range(len(X_pool)), size=init_size, replace=False)\n",
    "        aux = deepcopy(learner)\n",
    "\n",
    "        aux.teach(X_pool[exp_error_idx], y_pool[exp_error_idx])\n",
    "        score_aux = aux.score(X_pool, y_pool)\n",
    "        score_learner = learner.score(X_pool, y_pool)\n",
    "\n",
    "        if score_aux > score_learner:\n",
    "            learner = deepcopy(aux)\n",
    "            sample_size = sample_size + init_size\n",
    "        \n",
    "        np.delete(X_pool, exp_error_idx, axis=0)\n",
    "        np.delete(y_pool, exp_error_idx, axis=0)\n",
    "        \n",
    "        exp_mo_score = learner.score(X_pool, y_pool)\n",
    "        performance_history.append(exp_mo_score)\n",
    "\n",
    "        total_of_samples = total_of_samples + 1\n",
    "    \n",
    "    end = timer()\n",
    "    time_elapsed = end - start\n",
    "    \n",
    "    return { \"performance_history\": performance_history[-1], \n",
    "             \"time_elapsed\": time_elapsed,\n",
    "             \"sample_size\": sample_size, # RETORNAR TODAS AS AMOSTRAS DE CADA PERFORMANCE OU SÓ DO ULTIMO\n",
    "             \"Strategy\": \"Expected Model Change\"}"
   ]
  },
  {
   "cell_type": "markdown",
   "metadata": {},
   "source": [
    "## Setup"
   ]
  },
  {
   "cell_type": "code",
   "execution_count": 18,
   "metadata": {},
   "outputs": [],
   "source": [
    "def which_dataset(dataset = \"iris\", n_splits = 5):\n",
    "    \n",
    "    # Futuramente essa etapa será ajustada para receber qualquer dataset (ou lista com datasets)\n",
    "    if (dataset == \"iris\"):\n",
    "        data = load_iris()\n",
    "        X_raw = data['data']\n",
    "        y_raw = data['target']\n",
    "    \n",
    "    if (dataset == \"wine\"):\n",
    "        data = load_wine()\n",
    "        X_raw = data['data']\n",
    "        y_raw = data['target']\n",
    "        \n",
    "    if (dataset == \"digits\"):\n",
    "        data = load_digits()\n",
    "        X_raw = data['data']\n",
    "        y_raw = data['target']\n",
    "        \n",
    "    # cross validation bags\n",
    "    data_cv = ShuffleSplit(n_splits= n_splits, train_size=0.7, random_state=0) #n_splits\n",
    "    \n",
    "    # extraindo ids do data_cv\n",
    "    idx_data = []\n",
    "    for train_index, test_index in data_cv.split(X_raw):\n",
    "            idx_data.append([train_index, test_index])\n",
    "\n",
    "    return X_raw, y_raw, idx_data"
   ]
  },
  {
   "cell_type": "code",
   "execution_count": 19,
   "metadata": {},
   "outputs": [],
   "source": [
    "def which_oml_dataset(dataset_id, n_splits = 5):\n",
    "    data = openml.datasets.get_dataset(dataset_id)\n",
    "    \n",
    "    X_raw, y_raw, categorical_indicator, attribute_names = data.get_data(\n",
    "    dataset_format=\"array\", target=data.default_target_attribute)\n",
    "    \n",
    "    le = preprocessing.LabelEncoder()\n",
    "    le.fit(y_raw)\n",
    "    y_raw = le.transform(y_raw)\n",
    "    \n",
    "    X_raw = np.nan_to_num(X_raw)\n",
    "    \n",
    "    data_cv = ShuffleSplit(n_splits= n_splits, train_size=0.7, random_state=0) #n_splits\n",
    "    \n",
    "    idx_data = []\n",
    "    for train_index, test_index in data_cv.split(X_raw):\n",
    "            idx_data.append([train_index, test_index])\n",
    "\n",
    "    return X_raw, y_raw, idx_data, data.name"
   ]
  },
  {
   "cell_type": "code",
   "execution_count": 20,
   "metadata": {},
   "outputs": [],
   "source": [
    "def which_arff_dataset(dataset, n_splits = 5):\n",
    "   \n",
    "    from sklearn.preprocessing import OrdinalEncoder\n",
    "    \n",
    "    data = arff.loadarff('datasets/luis/' + dataset)\n",
    "    data = pd.DataFrame(data[0])\n",
    "\n",
    "    X_raw = data[data.columns[:-1]].to_numpy()\n",
    "    y_raw = data[data.columns[-1]].to_numpy()\n",
    "    \n",
    "    lex = preprocessing.OrdinalEncoder()\n",
    "    lex.fit(X_raw)\n",
    "    X_raw = lex.transform(X_raw)\n",
    "        \n",
    "    ley = preprocessing.LabelEncoder()\n",
    "    ley.fit(y_raw)\n",
    "    y_raw = ley.transform(y_raw)\n",
    "    \n",
    "    # cross validation bags\n",
    "    data_cv = ShuffleSplit(n_splits= n_splits, train_size=0.7, random_state=0) #n_splits\n",
    "    \n",
    "    # extraindo ids do data_cv\n",
    "    idx_data = []\n",
    "    for train_index, test_index in data_cv.split(X_raw):\n",
    "            idx_data.append([train_index, test_index])\n",
    "\n",
    "    return X_raw, y_raw, idx_data, dataset"
   ]
  },
  {
   "cell_type": "code",
   "execution_count": 21,
   "metadata": {},
   "outputs": [],
   "source": [
    "def which_classifier(classifier = '5NN'):\n",
    "    \n",
    "    if (classifier == '5NN'):\n",
    "        return KNeighborsClassifier(5)\n",
    "    elif (classifier == 'C4.5'):\n",
    "        return tree.DecisionTreeClassifier()\n",
    "    elif (classifier == 'NB'):\n",
    "        return GaussianNB()\n",
    "    elif (classifier == 'SVM'):\n",
    "        return SVC(probability=True, gamma='auto')\n",
    "    elif (classifier == 'RF'):\n",
    "        return RandomForestClassifier()"
   ]
  },
  {
   "cell_type": "code",
   "execution_count": 22,
   "metadata": {},
   "outputs": [
    {
     "name": "stderr",
     "output_type": "stream",
     "text": [
      "/home/ahmoura/ProgramFiles/anaconda3/lib/python3.7/site-packages/sklearn/model_selection/_split.py:1788: FutureWarning: From version 0.21, test_size will always complement train_size unless both are specified.\n",
      "  FutureWarning)\n"
     ]
    },
    {
     "name": "stdout",
     "output_type": "stream",
     "text": [
      "3_kr-vs-kp.arff 5NN   0   5  uncertain_sampling\n",
      "3_kr-vs-kp.arff 5NN   1   5  uncertain_sampling\n",
      "3_kr-vs-kp.arff 5NN   2   5  uncertain_sampling\n",
      "3_kr-vs-kp.arff 5NN   3   5  uncertain_sampling\n",
      "3_kr-vs-kp.arff 5NN   4   5  uncertain_sampling\n"
     ]
    },
    {
     "name": "stderr",
     "output_type": "stream",
     "text": [
      "/home/ahmoura/ProgramFiles/anaconda3/lib/python3.7/site-packages/sklearn/model_selection/_split.py:1788: FutureWarning: From version 0.21, test_size will always complement train_size unless both are specified.\n",
      "  FutureWarning)\n"
     ]
    },
    {
     "name": "stdout",
     "output_type": "stream",
     "text": [
      "3_kr-vs-kp.arff C4.5   0   5  uncertain_sampling\n",
      "3_kr-vs-kp.arff C4.5   1   5  uncertain_sampling\n",
      "3_kr-vs-kp.arff C4.5   2   5  uncertain_sampling\n",
      "3_kr-vs-kp.arff C4.5   3   5  uncertain_sampling\n",
      "3_kr-vs-kp.arff C4.5   4   5  uncertain_sampling\n"
     ]
    },
    {
     "name": "stderr",
     "output_type": "stream",
     "text": [
      "/home/ahmoura/ProgramFiles/anaconda3/lib/python3.7/site-packages/sklearn/model_selection/_split.py:1788: FutureWarning: From version 0.21, test_size will always complement train_size unless both are specified.\n",
      "  FutureWarning)\n"
     ]
    },
    {
     "name": "stdout",
     "output_type": "stream",
     "text": [
      "3_kr-vs-kp.arff NB   0   5  uncertain_sampling\n",
      "3_kr-vs-kp.arff NB   1   5  uncertain_sampling\n",
      "3_kr-vs-kp.arff NB   2   5  uncertain_sampling\n",
      "3_kr-vs-kp.arff NB   3   5  uncertain_sampling\n",
      "3_kr-vs-kp.arff NB   4   5  uncertain_sampling\n"
     ]
    },
    {
     "name": "stderr",
     "output_type": "stream",
     "text": [
      "/home/ahmoura/ProgramFiles/anaconda3/lib/python3.7/site-packages/sklearn/model_selection/_split.py:1788: FutureWarning: From version 0.21, test_size will always complement train_size unless both are specified.\n",
      "  FutureWarning)\n",
      "/home/ahmoura/ProgramFiles/anaconda3/lib/python3.7/site-packages/sklearn/ensemble/forest.py:246: FutureWarning: The default value of n_estimators will change from 10 in version 0.20 to 100 in 0.22.\n",
      "  \"10 in version 0.20 to 100 in 0.22.\", FutureWarning)\n"
     ]
    },
    {
     "name": "stdout",
     "output_type": "stream",
     "text": [
      "3_kr-vs-kp.arff RF   0   5  uncertain_sampling\n",
      "3_kr-vs-kp.arff RF   1   5  uncertain_sampling\n",
      "3_kr-vs-kp.arff RF   2   5  uncertain_sampling\n",
      "3_kr-vs-kp.arff RF   3   5  uncertain_sampling\n",
      "3_kr-vs-kp.arff RF   4   5  uncertain_sampling\n"
     ]
    }
   ],
   "source": [
    "classifiers = ['5NN', 'C4.5', 'NB','RF']\n",
    "\n",
    "for cls in classifiers:\n",
    "    classifier = which_classifier(cls)\n",
    "    X_raw, y_raw, idx_data, dataset_name = which_arff_dataset('3_kr-vs-kp.arff')\n",
    "    for idx_bag in range(n_splits):\n",
    "        print('3_kr-vs-kp.arff', cls, \" \", idx_bag, \" \", n_splits, \" uncertain_sampling\")\n",
    "        total_performance_history.append(uncertain_sampling(deepcopy(X_raw), deepcopy(y_raw), idx_data, idx_bag, classifier, k, cost))"
   ]
  },
  {
   "cell_type": "code",
   "execution_count": 25,
   "metadata": {},
   "outputs": [
    {
     "name": "stderr",
     "output_type": "stream",
     "text": [
      "/home/ahmoura/ProgramFiles/anaconda3/lib/python3.7/site-packages/sklearn/model_selection/_split.py:1788: FutureWarning: From version 0.21, test_size will always complement train_size unless both are specified.\n",
      "  FutureWarning)\n"
     ]
    },
    {
     "name": "stdout",
     "output_type": "stream",
     "text": [
      "21_car.arff   5NN   0   5  uncertain_sampling\n",
      "21_car.arff   5NN   1   5  uncertain_sampling\n",
      "21_car.arff   5NN   2   5  uncertain_sampling\n",
      "21_car.arff   5NN   3   5  uncertain_sampling\n",
      "21_car.arff   5NN   4   5  uncertain_sampling\n",
      "21_car.arff   5NN   0   5  random sampling\n",
      "21_car.arff   5NN   1   5  random sampling\n",
      "21_car.arff   5NN   2   5  random sampling\n",
      "21_car.arff   5NN   3   5  random sampling\n",
      "21_car.arff   5NN   4   5  random sampling\n",
      "21_car.arff   5NN   0   5  query_by_committee\n",
      "21_car.arff   5NN   1   5  query_by_committee\n",
      "21_car.arff   5NN   2   5  query_by_committee\n",
      "21_car.arff   5NN   3   5  query_by_committee\n",
      "21_car.arff   5NN   4   5  query_by_committee\n",
      "21_car.arff   5NN   0   5  exp error reduction\n",
      "21_car.arff   5NN   1   5  exp error reduction\n",
      "21_car.arff   5NN   2   5  exp error reduction\n",
      "21_car.arff   5NN   3   5  exp error reduction\n",
      "21_car.arff   5NN   4   5  exp error reduction\n",
      "21_car.arff   5NN   0   5  exp model change\n",
      "21_car.arff   5NN   1   5  exp model change\n",
      "21_car.arff   5NN   2   5  exp model change\n",
      "21_car.arff   5NN   3   5  exp model change\n",
      "21_car.arff   5NN   4   5  exp model change\n",
      "21_car.arff   C4.5   0   5  uncertain_sampling\n",
      "21_car.arff   C4.5   1   5  uncertain_sampling\n"
     ]
    },
    {
     "name": "stderr",
     "output_type": "stream",
     "text": [
      "/home/ahmoura/ProgramFiles/anaconda3/lib/python3.7/site-packages/sklearn/model_selection/_split.py:1788: FutureWarning: From version 0.21, test_size will always complement train_size unless both are specified.\n",
      "  FutureWarning)\n"
     ]
    },
    {
     "name": "stdout",
     "output_type": "stream",
     "text": [
      "21_car.arff   C4.5   2   5  uncertain_sampling\n",
      "21_car.arff   C4.5   3   5  uncertain_sampling\n",
      "21_car.arff   C4.5   4   5  uncertain_sampling\n",
      "21_car.arff   C4.5   0   5  random sampling\n",
      "21_car.arff   C4.5   1   5  random sampling\n",
      "21_car.arff   C4.5   2   5  random sampling\n",
      "21_car.arff   C4.5   3   5  random sampling\n",
      "21_car.arff   C4.5   4   5  random sampling\n",
      "21_car.arff   C4.5   0   5  query_by_committee\n",
      "21_car.arff   C4.5   1   5  query_by_committee\n",
      "21_car.arff   C4.5   2   5  query_by_committee\n",
      "21_car.arff   C4.5   3   5  query_by_committee\n",
      "21_car.arff   C4.5   4   5  query_by_committee\n",
      "21_car.arff   C4.5   0   5  exp error reduction\n",
      "21_car.arff   C4.5   1   5  exp error reduction\n",
      "21_car.arff   C4.5   2   5  exp error reduction\n",
      "21_car.arff   C4.5   3   5  exp error reduction\n",
      "21_car.arff   C4.5   4   5  exp error reduction\n",
      "21_car.arff   C4.5   0   5  exp model change\n",
      "21_car.arff   C4.5   1   5  exp model change\n",
      "21_car.arff   C4.5   2   5  exp model change\n",
      "21_car.arff   C4.5   3   5  exp model change\n",
      "21_car.arff   C4.5   4   5  exp model change\n",
      "21_car.arff   NB   0   5  uncertain_sampling\n",
      "21_car.arff   NB   1   5  uncertain_sampling\n",
      "21_car.arff   NB   2   5  uncertain_sampling\n",
      "21_car.arff   NB   3   5  uncertain_sampling\n",
      "21_car.arff   NB   4   5  uncertain_sampling\n",
      "21_car.arff   NB   0   5  random sampling\n",
      "21_car.arff   NB   1   5  random sampling\n",
      "21_car.arff   NB   2   5  random sampling\n",
      "21_car.arff   NB   3   5  random sampling\n",
      "21_car.arff   NB   4   5  random sampling\n"
     ]
    },
    {
     "name": "stderr",
     "output_type": "stream",
     "text": [
      "/home/ahmoura/ProgramFiles/anaconda3/lib/python3.7/site-packages/sklearn/model_selection/_split.py:1788: FutureWarning: From version 0.21, test_size will always complement train_size unless both are specified.\n",
      "  FutureWarning)\n"
     ]
    },
    {
     "name": "stdout",
     "output_type": "stream",
     "text": [
      "21_car.arff   NB   0   5  query_by_committee\n",
      "21_car.arff   NB   1   5  query_by_committee\n",
      "21_car.arff   NB   2   5  query_by_committee\n",
      "21_car.arff   NB   3   5  query_by_committee\n",
      "21_car.arff   NB   4   5  query_by_committee\n",
      "21_car.arff   NB   0   5  exp error reduction\n",
      "21_car.arff   NB   1   5  exp error reduction\n",
      "21_car.arff   NB   2   5  exp error reduction\n",
      "21_car.arff   NB   3   5  exp error reduction\n",
      "21_car.arff   NB   4   5  exp error reduction\n",
      "21_car.arff   NB   0   5  exp model change\n",
      "21_car.arff   NB   1   5  exp model change\n",
      "21_car.arff   NB   2   5  exp model change\n",
      "21_car.arff   NB   3   5  exp model change\n",
      "21_car.arff   NB   4   5  exp model change\n",
      "21_car.arff   RF   0   5  uncertain_sampling\n",
      "21_car.arff   RF   1   5  uncertain_sampling\n"
     ]
    },
    {
     "name": "stderr",
     "output_type": "stream",
     "text": [
      "/home/ahmoura/ProgramFiles/anaconda3/lib/python3.7/site-packages/sklearn/model_selection/_split.py:1788: FutureWarning: From version 0.21, test_size will always complement train_size unless both are specified.\n",
      "  FutureWarning)\n",
      "/home/ahmoura/ProgramFiles/anaconda3/lib/python3.7/site-packages/sklearn/ensemble/forest.py:246: FutureWarning: The default value of n_estimators will change from 10 in version 0.20 to 100 in 0.22.\n",
      "  \"10 in version 0.20 to 100 in 0.22.\", FutureWarning)\n"
     ]
    },
    {
     "name": "stdout",
     "output_type": "stream",
     "text": [
      "21_car.arff   RF   2   5  uncertain_sampling\n",
      "21_car.arff   RF   3   5  uncertain_sampling\n",
      "21_car.arff   RF   4   5  uncertain_sampling\n",
      "21_car.arff   RF   0   5  random sampling\n",
      "21_car.arff   RF   1   5  random sampling\n",
      "21_car.arff   RF   2   5  random sampling\n",
      "21_car.arff   RF   3   5  random sampling\n",
      "21_car.arff   RF   4   5  random sampling\n",
      "21_car.arff   RF   0   5  query_by_committee\n"
     ]
    },
    {
     "name": "stderr",
     "output_type": "stream",
     "text": [
      "/home/ahmoura/ProgramFiles/anaconda3/lib/python3.7/site-packages/sklearn/ensemble/forest.py:246: FutureWarning: The default value of n_estimators will change from 10 in version 0.20 to 100 in 0.22.\n",
      "  \"10 in version 0.20 to 100 in 0.22.\", FutureWarning)\n",
      "/home/ahmoura/ProgramFiles/anaconda3/lib/python3.7/site-packages/sklearn/ensemble/forest.py:246: FutureWarning: The default value of n_estimators will change from 10 in version 0.20 to 100 in 0.22.\n",
      "  \"10 in version 0.20 to 100 in 0.22.\", FutureWarning)\n",
      "/home/ahmoura/ProgramFiles/anaconda3/lib/python3.7/site-packages/sklearn/ensemble/forest.py:246: FutureWarning: The default value of n_estimators will change from 10 in version 0.20 to 100 in 0.22.\n",
      "  \"10 in version 0.20 to 100 in 0.22.\", FutureWarning)\n",
      "/home/ahmoura/ProgramFiles/anaconda3/lib/python3.7/site-packages/sklearn/ensemble/forest.py:246: FutureWarning: The default value of n_estimators will change from 10 in version 0.20 to 100 in 0.22.\n",
      "  \"10 in version 0.20 to 100 in 0.22.\", FutureWarning)\n",
      "/home/ahmoura/ProgramFiles/anaconda3/lib/python3.7/site-packages/sklearn/ensemble/forest.py:246: FutureWarning: The default value of n_estimators will change from 10 in version 0.20 to 100 in 0.22.\n",
      "  \"10 in version 0.20 to 100 in 0.22.\", FutureWarning)\n",
      "/home/ahmoura/ProgramFiles/anaconda3/lib/python3.7/site-packages/sklearn/ensemble/forest.py:246: FutureWarning: The default value of n_estimators will change from 10 in version 0.20 to 100 in 0.22.\n",
      "  \"10 in version 0.20 to 100 in 0.22.\", FutureWarning)\n",
      "/home/ahmoura/ProgramFiles/anaconda3/lib/python3.7/site-packages/sklearn/ensemble/forest.py:246: FutureWarning: The default value of n_estimators will change from 10 in version 0.20 to 100 in 0.22.\n",
      "  \"10 in version 0.20 to 100 in 0.22.\", FutureWarning)\n",
      "/home/ahmoura/ProgramFiles/anaconda3/lib/python3.7/site-packages/sklearn/ensemble/forest.py:246: FutureWarning: The default value of n_estimators will change from 10 in version 0.20 to 100 in 0.22.\n",
      "  \"10 in version 0.20 to 100 in 0.22.\", FutureWarning)\n",
      "/home/ahmoura/ProgramFiles/anaconda3/lib/python3.7/site-packages/sklearn/ensemble/forest.py:246: FutureWarning: The default value of n_estimators will change from 10 in version 0.20 to 100 in 0.22.\n",
      "  \"10 in version 0.20 to 100 in 0.22.\", FutureWarning)\n",
      "/home/ahmoura/ProgramFiles/anaconda3/lib/python3.7/site-packages/sklearn/ensemble/forest.py:246: FutureWarning: The default value of n_estimators will change from 10 in version 0.20 to 100 in 0.22.\n",
      "  \"10 in version 0.20 to 100 in 0.22.\", FutureWarning)\n"
     ]
    },
    {
     "name": "stdout",
     "output_type": "stream",
     "text": [
      "21_car.arff   RF   1   5  query_by_committee\n"
     ]
    },
    {
     "name": "stderr",
     "output_type": "stream",
     "text": [
      "/home/ahmoura/ProgramFiles/anaconda3/lib/python3.7/site-packages/sklearn/ensemble/forest.py:246: FutureWarning: The default value of n_estimators will change from 10 in version 0.20 to 100 in 0.22.\n",
      "  \"10 in version 0.20 to 100 in 0.22.\", FutureWarning)\n",
      "/home/ahmoura/ProgramFiles/anaconda3/lib/python3.7/site-packages/sklearn/ensemble/forest.py:246: FutureWarning: The default value of n_estimators will change from 10 in version 0.20 to 100 in 0.22.\n",
      "  \"10 in version 0.20 to 100 in 0.22.\", FutureWarning)\n",
      "/home/ahmoura/ProgramFiles/anaconda3/lib/python3.7/site-packages/sklearn/ensemble/forest.py:246: FutureWarning: The default value of n_estimators will change from 10 in version 0.20 to 100 in 0.22.\n",
      "  \"10 in version 0.20 to 100 in 0.22.\", FutureWarning)\n",
      "/home/ahmoura/ProgramFiles/anaconda3/lib/python3.7/site-packages/sklearn/ensemble/forest.py:246: FutureWarning: The default value of n_estimators will change from 10 in version 0.20 to 100 in 0.22.\n",
      "  \"10 in version 0.20 to 100 in 0.22.\", FutureWarning)\n",
      "/home/ahmoura/ProgramFiles/anaconda3/lib/python3.7/site-packages/sklearn/ensemble/forest.py:246: FutureWarning: The default value of n_estimators will change from 10 in version 0.20 to 100 in 0.22.\n",
      "  \"10 in version 0.20 to 100 in 0.22.\", FutureWarning)\n",
      "/home/ahmoura/ProgramFiles/anaconda3/lib/python3.7/site-packages/sklearn/ensemble/forest.py:246: FutureWarning: The default value of n_estimators will change from 10 in version 0.20 to 100 in 0.22.\n",
      "  \"10 in version 0.20 to 100 in 0.22.\", FutureWarning)\n",
      "/home/ahmoura/ProgramFiles/anaconda3/lib/python3.7/site-packages/sklearn/ensemble/forest.py:246: FutureWarning: The default value of n_estimators will change from 10 in version 0.20 to 100 in 0.22.\n",
      "  \"10 in version 0.20 to 100 in 0.22.\", FutureWarning)\n",
      "/home/ahmoura/ProgramFiles/anaconda3/lib/python3.7/site-packages/sklearn/ensemble/forest.py:246: FutureWarning: The default value of n_estimators will change from 10 in version 0.20 to 100 in 0.22.\n",
      "  \"10 in version 0.20 to 100 in 0.22.\", FutureWarning)\n",
      "/home/ahmoura/ProgramFiles/anaconda3/lib/python3.7/site-packages/sklearn/ensemble/forest.py:246: FutureWarning: The default value of n_estimators will change from 10 in version 0.20 to 100 in 0.22.\n",
      "  \"10 in version 0.20 to 100 in 0.22.\", FutureWarning)\n",
      "/home/ahmoura/ProgramFiles/anaconda3/lib/python3.7/site-packages/sklearn/ensemble/forest.py:246: FutureWarning: The default value of n_estimators will change from 10 in version 0.20 to 100 in 0.22.\n",
      "  \"10 in version 0.20 to 100 in 0.22.\", FutureWarning)\n"
     ]
    },
    {
     "name": "stdout",
     "output_type": "stream",
     "text": [
      "21_car.arff   RF   2   5  query_by_committee\n"
     ]
    },
    {
     "name": "stderr",
     "output_type": "stream",
     "text": [
      "/home/ahmoura/ProgramFiles/anaconda3/lib/python3.7/site-packages/sklearn/ensemble/forest.py:246: FutureWarning: The default value of n_estimators will change from 10 in version 0.20 to 100 in 0.22.\n",
      "  \"10 in version 0.20 to 100 in 0.22.\", FutureWarning)\n",
      "/home/ahmoura/ProgramFiles/anaconda3/lib/python3.7/site-packages/sklearn/ensemble/forest.py:246: FutureWarning: The default value of n_estimators will change from 10 in version 0.20 to 100 in 0.22.\n",
      "  \"10 in version 0.20 to 100 in 0.22.\", FutureWarning)\n",
      "/home/ahmoura/ProgramFiles/anaconda3/lib/python3.7/site-packages/sklearn/ensemble/forest.py:246: FutureWarning: The default value of n_estimators will change from 10 in version 0.20 to 100 in 0.22.\n",
      "  \"10 in version 0.20 to 100 in 0.22.\", FutureWarning)\n",
      "/home/ahmoura/ProgramFiles/anaconda3/lib/python3.7/site-packages/sklearn/ensemble/forest.py:246: FutureWarning: The default value of n_estimators will change from 10 in version 0.20 to 100 in 0.22.\n",
      "  \"10 in version 0.20 to 100 in 0.22.\", FutureWarning)\n",
      "/home/ahmoura/ProgramFiles/anaconda3/lib/python3.7/site-packages/sklearn/ensemble/forest.py:246: FutureWarning: The default value of n_estimators will change from 10 in version 0.20 to 100 in 0.22.\n",
      "  \"10 in version 0.20 to 100 in 0.22.\", FutureWarning)\n",
      "/home/ahmoura/ProgramFiles/anaconda3/lib/python3.7/site-packages/sklearn/ensemble/forest.py:246: FutureWarning: The default value of n_estimators will change from 10 in version 0.20 to 100 in 0.22.\n",
      "  \"10 in version 0.20 to 100 in 0.22.\", FutureWarning)\n",
      "/home/ahmoura/ProgramFiles/anaconda3/lib/python3.7/site-packages/sklearn/ensemble/forest.py:246: FutureWarning: The default value of n_estimators will change from 10 in version 0.20 to 100 in 0.22.\n",
      "  \"10 in version 0.20 to 100 in 0.22.\", FutureWarning)\n",
      "/home/ahmoura/ProgramFiles/anaconda3/lib/python3.7/site-packages/sklearn/ensemble/forest.py:246: FutureWarning: The default value of n_estimators will change from 10 in version 0.20 to 100 in 0.22.\n",
      "  \"10 in version 0.20 to 100 in 0.22.\", FutureWarning)\n",
      "/home/ahmoura/ProgramFiles/anaconda3/lib/python3.7/site-packages/sklearn/ensemble/forest.py:246: FutureWarning: The default value of n_estimators will change from 10 in version 0.20 to 100 in 0.22.\n",
      "  \"10 in version 0.20 to 100 in 0.22.\", FutureWarning)\n",
      "/home/ahmoura/ProgramFiles/anaconda3/lib/python3.7/site-packages/sklearn/ensemble/forest.py:246: FutureWarning: The default value of n_estimators will change from 10 in version 0.20 to 100 in 0.22.\n",
      "  \"10 in version 0.20 to 100 in 0.22.\", FutureWarning)\n"
     ]
    },
    {
     "name": "stdout",
     "output_type": "stream",
     "text": [
      "21_car.arff   RF   3   5  query_by_committee\n"
     ]
    },
    {
     "name": "stderr",
     "output_type": "stream",
     "text": [
      "/home/ahmoura/ProgramFiles/anaconda3/lib/python3.7/site-packages/sklearn/ensemble/forest.py:246: FutureWarning: The default value of n_estimators will change from 10 in version 0.20 to 100 in 0.22.\n",
      "  \"10 in version 0.20 to 100 in 0.22.\", FutureWarning)\n",
      "/home/ahmoura/ProgramFiles/anaconda3/lib/python3.7/site-packages/sklearn/ensemble/forest.py:246: FutureWarning: The default value of n_estimators will change from 10 in version 0.20 to 100 in 0.22.\n",
      "  \"10 in version 0.20 to 100 in 0.22.\", FutureWarning)\n",
      "/home/ahmoura/ProgramFiles/anaconda3/lib/python3.7/site-packages/sklearn/ensemble/forest.py:246: FutureWarning: The default value of n_estimators will change from 10 in version 0.20 to 100 in 0.22.\n",
      "  \"10 in version 0.20 to 100 in 0.22.\", FutureWarning)\n",
      "/home/ahmoura/ProgramFiles/anaconda3/lib/python3.7/site-packages/sklearn/ensemble/forest.py:246: FutureWarning: The default value of n_estimators will change from 10 in version 0.20 to 100 in 0.22.\n",
      "  \"10 in version 0.20 to 100 in 0.22.\", FutureWarning)\n",
      "/home/ahmoura/ProgramFiles/anaconda3/lib/python3.7/site-packages/sklearn/ensemble/forest.py:246: FutureWarning: The default value of n_estimators will change from 10 in version 0.20 to 100 in 0.22.\n",
      "  \"10 in version 0.20 to 100 in 0.22.\", FutureWarning)\n",
      "/home/ahmoura/ProgramFiles/anaconda3/lib/python3.7/site-packages/sklearn/ensemble/forest.py:246: FutureWarning: The default value of n_estimators will change from 10 in version 0.20 to 100 in 0.22.\n",
      "  \"10 in version 0.20 to 100 in 0.22.\", FutureWarning)\n",
      "/home/ahmoura/ProgramFiles/anaconda3/lib/python3.7/site-packages/sklearn/ensemble/forest.py:246: FutureWarning: The default value of n_estimators will change from 10 in version 0.20 to 100 in 0.22.\n",
      "  \"10 in version 0.20 to 100 in 0.22.\", FutureWarning)\n",
      "/home/ahmoura/ProgramFiles/anaconda3/lib/python3.7/site-packages/sklearn/ensemble/forest.py:246: FutureWarning: The default value of n_estimators will change from 10 in version 0.20 to 100 in 0.22.\n",
      "  \"10 in version 0.20 to 100 in 0.22.\", FutureWarning)\n",
      "/home/ahmoura/ProgramFiles/anaconda3/lib/python3.7/site-packages/sklearn/ensemble/forest.py:246: FutureWarning: The default value of n_estimators will change from 10 in version 0.20 to 100 in 0.22.\n",
      "  \"10 in version 0.20 to 100 in 0.22.\", FutureWarning)\n",
      "/home/ahmoura/ProgramFiles/anaconda3/lib/python3.7/site-packages/sklearn/ensemble/forest.py:246: FutureWarning: The default value of n_estimators will change from 10 in version 0.20 to 100 in 0.22.\n",
      "  \"10 in version 0.20 to 100 in 0.22.\", FutureWarning)\n"
     ]
    },
    {
     "name": "stdout",
     "output_type": "stream",
     "text": [
      "21_car.arff   RF   4   5  query_by_committee\n"
     ]
    },
    {
     "name": "stderr",
     "output_type": "stream",
     "text": [
      "/home/ahmoura/ProgramFiles/anaconda3/lib/python3.7/site-packages/sklearn/ensemble/forest.py:246: FutureWarning: The default value of n_estimators will change from 10 in version 0.20 to 100 in 0.22.\n",
      "  \"10 in version 0.20 to 100 in 0.22.\", FutureWarning)\n",
      "/home/ahmoura/ProgramFiles/anaconda3/lib/python3.7/site-packages/sklearn/ensemble/forest.py:246: FutureWarning: The default value of n_estimators will change from 10 in version 0.20 to 100 in 0.22.\n",
      "  \"10 in version 0.20 to 100 in 0.22.\", FutureWarning)\n",
      "/home/ahmoura/ProgramFiles/anaconda3/lib/python3.7/site-packages/sklearn/ensemble/forest.py:246: FutureWarning: The default value of n_estimators will change from 10 in version 0.20 to 100 in 0.22.\n",
      "  \"10 in version 0.20 to 100 in 0.22.\", FutureWarning)\n",
      "/home/ahmoura/ProgramFiles/anaconda3/lib/python3.7/site-packages/sklearn/ensemble/forest.py:246: FutureWarning: The default value of n_estimators will change from 10 in version 0.20 to 100 in 0.22.\n",
      "  \"10 in version 0.20 to 100 in 0.22.\", FutureWarning)\n",
      "/home/ahmoura/ProgramFiles/anaconda3/lib/python3.7/site-packages/sklearn/ensemble/forest.py:246: FutureWarning: The default value of n_estimators will change from 10 in version 0.20 to 100 in 0.22.\n",
      "  \"10 in version 0.20 to 100 in 0.22.\", FutureWarning)\n",
      "/home/ahmoura/ProgramFiles/anaconda3/lib/python3.7/site-packages/sklearn/ensemble/forest.py:246: FutureWarning: The default value of n_estimators will change from 10 in version 0.20 to 100 in 0.22.\n",
      "  \"10 in version 0.20 to 100 in 0.22.\", FutureWarning)\n",
      "/home/ahmoura/ProgramFiles/anaconda3/lib/python3.7/site-packages/sklearn/ensemble/forest.py:246: FutureWarning: The default value of n_estimators will change from 10 in version 0.20 to 100 in 0.22.\n",
      "  \"10 in version 0.20 to 100 in 0.22.\", FutureWarning)\n",
      "/home/ahmoura/ProgramFiles/anaconda3/lib/python3.7/site-packages/sklearn/ensemble/forest.py:246: FutureWarning: The default value of n_estimators will change from 10 in version 0.20 to 100 in 0.22.\n",
      "  \"10 in version 0.20 to 100 in 0.22.\", FutureWarning)\n",
      "/home/ahmoura/ProgramFiles/anaconda3/lib/python3.7/site-packages/sklearn/ensemble/forest.py:246: FutureWarning: The default value of n_estimators will change from 10 in version 0.20 to 100 in 0.22.\n",
      "  \"10 in version 0.20 to 100 in 0.22.\", FutureWarning)\n",
      "/home/ahmoura/ProgramFiles/anaconda3/lib/python3.7/site-packages/sklearn/ensemble/forest.py:246: FutureWarning: The default value of n_estimators will change from 10 in version 0.20 to 100 in 0.22.\n",
      "  \"10 in version 0.20 to 100 in 0.22.\", FutureWarning)\n"
     ]
    },
    {
     "name": "stdout",
     "output_type": "stream",
     "text": [
      "21_car.arff   RF   0   5  exp error reduction\n",
      "21_car.arff   RF   1   5  exp error reduction\n",
      "21_car.arff   RF   2   5  exp error reduction\n",
      "21_car.arff   RF   3   5  exp error reduction\n",
      "21_car.arff   RF   4   5  exp error reduction\n",
      "21_car.arff   RF   0   5  exp model change\n",
      "21_car.arff   RF   1   5  exp model change\n",
      "21_car.arff   RF   2   5  exp model change\n",
      "21_car.arff   RF   3   5  exp model change\n",
      "21_car.arff   RF   4   5  exp model change\n"
     ]
    },
    {
     "name": "stderr",
     "output_type": "stream",
     "text": [
      "/home/ahmoura/ProgramFiles/anaconda3/lib/python3.7/site-packages/sklearn/model_selection/_split.py:1788: FutureWarning: From version 0.21, test_size will always complement train_size unless both are specified.\n",
      "  FutureWarning)\n"
     ]
    },
    {
     "name": "stdout",
     "output_type": "stream",
     "text": [
      "40474_thyroid-allbp.arff   5NN   0   5  uncertain_sampling\n",
      "40474_thyroid-allbp.arff   5NN   1   5  uncertain_sampling\n",
      "40474_thyroid-allbp.arff   5NN   2   5  uncertain_sampling\n",
      "40474_thyroid-allbp.arff   5NN   3   5  uncertain_sampling\n",
      "40474_thyroid-allbp.arff   5NN   4   5  uncertain_sampling\n",
      "40474_thyroid-allbp.arff   5NN   0   5  random sampling\n",
      "40474_thyroid-allbp.arff   5NN   1   5  random sampling\n",
      "40474_thyroid-allbp.arff   5NN   2   5  random sampling\n",
      "40474_thyroid-allbp.arff   5NN   3   5  random sampling\n",
      "40474_thyroid-allbp.arff   5NN   4   5  random sampling\n",
      "40474_thyroid-allbp.arff   5NN   0   5  query_by_committee\n",
      "40474_thyroid-allbp.arff   5NN   1   5  query_by_committee\n",
      "40474_thyroid-allbp.arff   5NN   2   5  query_by_committee\n",
      "40474_thyroid-allbp.arff   5NN   3   5  query_by_committee\n",
      "40474_thyroid-allbp.arff   5NN   4   5  query_by_committee\n",
      "40474_thyroid-allbp.arff   5NN   0   5  exp error reduction\n",
      "40474_thyroid-allbp.arff   5NN   1   5  exp error reduction\n",
      "40474_thyroid-allbp.arff   5NN   2   5  exp error reduction\n",
      "40474_thyroid-allbp.arff   5NN   3   5  exp error reduction\n",
      "40474_thyroid-allbp.arff   5NN   4   5  exp error reduction\n",
      "40474_thyroid-allbp.arff   5NN   0   5  exp model change\n",
      "40474_thyroid-allbp.arff   5NN   1   5  exp model change\n",
      "40474_thyroid-allbp.arff   5NN   2   5  exp model change\n",
      "40474_thyroid-allbp.arff   5NN   3   5  exp model change\n",
      "40474_thyroid-allbp.arff   5NN   4   5  exp model change\n"
     ]
    },
    {
     "name": "stderr",
     "output_type": "stream",
     "text": [
      "/home/ahmoura/ProgramFiles/anaconda3/lib/python3.7/site-packages/sklearn/model_selection/_split.py:1788: FutureWarning: From version 0.21, test_size will always complement train_size unless both are specified.\n",
      "  FutureWarning)\n"
     ]
    },
    {
     "name": "stdout",
     "output_type": "stream",
     "text": [
      "40474_thyroid-allbp.arff   C4.5   0   5  uncertain_sampling\n",
      "40474_thyroid-allbp.arff   C4.5   1   5  uncertain_sampling\n",
      "40474_thyroid-allbp.arff   C4.5   2   5  uncertain_sampling\n",
      "40474_thyroid-allbp.arff   C4.5   3   5  uncertain_sampling\n",
      "40474_thyroid-allbp.arff   C4.5   4   5  uncertain_sampling\n",
      "40474_thyroid-allbp.arff   C4.5   0   5  random sampling\n",
      "40474_thyroid-allbp.arff   C4.5   1   5  random sampling\n",
      "40474_thyroid-allbp.arff   C4.5   2   5  random sampling\n",
      "40474_thyroid-allbp.arff   C4.5   3   5  random sampling\n",
      "40474_thyroid-allbp.arff   C4.5   4   5  random sampling\n",
      "40474_thyroid-allbp.arff   C4.5   0   5  query_by_committee\n",
      "40474_thyroid-allbp.arff   C4.5   1   5  query_by_committee\n",
      "40474_thyroid-allbp.arff   C4.5   2   5  query_by_committee\n",
      "40474_thyroid-allbp.arff   C4.5   3   5  query_by_committee\n",
      "40474_thyroid-allbp.arff   C4.5   4   5  query_by_committee\n",
      "40474_thyroid-allbp.arff   C4.5   0   5  exp error reduction\n",
      "40474_thyroid-allbp.arff   C4.5   1   5  exp error reduction\n",
      "40474_thyroid-allbp.arff   C4.5   2   5  exp error reduction\n",
      "40474_thyroid-allbp.arff   C4.5   3   5  exp error reduction\n",
      "40474_thyroid-allbp.arff   C4.5   4   5  exp error reduction\n",
      "40474_thyroid-allbp.arff   C4.5   0   5  exp model change\n",
      "40474_thyroid-allbp.arff   C4.5   1   5  exp model change\n",
      "40474_thyroid-allbp.arff   C4.5   2   5  exp model change\n",
      "40474_thyroid-allbp.arff   C4.5   3   5  exp model change\n",
      "40474_thyroid-allbp.arff   C4.5   4   5  exp model change\n",
      "40474_thyroid-allbp.arff   NB   0   5  uncertain_sampling\n",
      "40474_thyroid-allbp.arff   NB   1   5  uncertain_sampling\n",
      "40474_thyroid-allbp.arff   NB   2   5  uncertain_sampling\n"
     ]
    },
    {
     "name": "stderr",
     "output_type": "stream",
     "text": [
      "/home/ahmoura/ProgramFiles/anaconda3/lib/python3.7/site-packages/sklearn/model_selection/_split.py:1788: FutureWarning: From version 0.21, test_size will always complement train_size unless both are specified.\n",
      "  FutureWarning)\n"
     ]
    },
    {
     "name": "stdout",
     "output_type": "stream",
     "text": [
      "40474_thyroid-allbp.arff   NB   3   5  uncertain_sampling\n",
      "40474_thyroid-allbp.arff   NB   4   5  uncertain_sampling\n",
      "40474_thyroid-allbp.arff   NB   0   5  random sampling\n",
      "40474_thyroid-allbp.arff   NB   1   5  random sampling\n",
      "40474_thyroid-allbp.arff   NB   2   5  random sampling\n",
      "40474_thyroid-allbp.arff   NB   3   5  random sampling\n",
      "40474_thyroid-allbp.arff   NB   4   5  random sampling\n",
      "40474_thyroid-allbp.arff   NB   0   5  query_by_committee\n",
      "40474_thyroid-allbp.arff   NB   1   5  query_by_committee\n",
      "40474_thyroid-allbp.arff   NB   2   5  query_by_committee\n",
      "40474_thyroid-allbp.arff   NB   3   5  query_by_committee\n",
      "40474_thyroid-allbp.arff   NB   4   5  query_by_committee\n",
      "40474_thyroid-allbp.arff   NB   0   5  exp error reduction\n",
      "40474_thyroid-allbp.arff   NB   1   5  exp error reduction\n",
      "40474_thyroid-allbp.arff   NB   2   5  exp error reduction\n",
      "40474_thyroid-allbp.arff   NB   3   5  exp error reduction\n",
      "40474_thyroid-allbp.arff   NB   4   5  exp error reduction\n",
      "40474_thyroid-allbp.arff   NB   0   5  exp model change\n",
      "40474_thyroid-allbp.arff   NB   1   5  exp model change\n",
      "40474_thyroid-allbp.arff   NB   2   5  exp model change\n",
      "40474_thyroid-allbp.arff   NB   3   5  exp model change\n",
      "40474_thyroid-allbp.arff   NB   4   5  exp model change\n"
     ]
    },
    {
     "name": "stderr",
     "output_type": "stream",
     "text": [
      "/home/ahmoura/ProgramFiles/anaconda3/lib/python3.7/site-packages/sklearn/model_selection/_split.py:1788: FutureWarning: From version 0.21, test_size will always complement train_size unless both are specified.\n",
      "  FutureWarning)\n",
      "/home/ahmoura/ProgramFiles/anaconda3/lib/python3.7/site-packages/sklearn/ensemble/forest.py:246: FutureWarning: The default value of n_estimators will change from 10 in version 0.20 to 100 in 0.22.\n",
      "  \"10 in version 0.20 to 100 in 0.22.\", FutureWarning)\n"
     ]
    },
    {
     "name": "stdout",
     "output_type": "stream",
     "text": [
      "40474_thyroid-allbp.arff   RF   0   5  uncertain_sampling\n",
      "40474_thyroid-allbp.arff   RF   1   5  uncertain_sampling\n",
      "40474_thyroid-allbp.arff   RF   2   5  uncertain_sampling\n",
      "40474_thyroid-allbp.arff   RF   3   5  uncertain_sampling\n",
      "40474_thyroid-allbp.arff   RF   4   5  uncertain_sampling\n",
      "40474_thyroid-allbp.arff   RF   0   5  random sampling\n",
      "40474_thyroid-allbp.arff   RF   1   5  random sampling\n",
      "40474_thyroid-allbp.arff   RF   2   5  random sampling\n",
      "40474_thyroid-allbp.arff   RF   3   5  random sampling\n",
      "40474_thyroid-allbp.arff   RF   4   5  random sampling\n",
      "40474_thyroid-allbp.arff   RF   0   5  query_by_committee\n"
     ]
    },
    {
     "name": "stderr",
     "output_type": "stream",
     "text": [
      "/home/ahmoura/ProgramFiles/anaconda3/lib/python3.7/site-packages/sklearn/ensemble/forest.py:246: FutureWarning: The default value of n_estimators will change from 10 in version 0.20 to 100 in 0.22.\n",
      "  \"10 in version 0.20 to 100 in 0.22.\", FutureWarning)\n",
      "/home/ahmoura/ProgramFiles/anaconda3/lib/python3.7/site-packages/sklearn/ensemble/forest.py:246: FutureWarning: The default value of n_estimators will change from 10 in version 0.20 to 100 in 0.22.\n",
      "  \"10 in version 0.20 to 100 in 0.22.\", FutureWarning)\n",
      "/home/ahmoura/ProgramFiles/anaconda3/lib/python3.7/site-packages/sklearn/ensemble/forest.py:246: FutureWarning: The default value of n_estimators will change from 10 in version 0.20 to 100 in 0.22.\n",
      "  \"10 in version 0.20 to 100 in 0.22.\", FutureWarning)\n",
      "/home/ahmoura/ProgramFiles/anaconda3/lib/python3.7/site-packages/sklearn/ensemble/forest.py:246: FutureWarning: The default value of n_estimators will change from 10 in version 0.20 to 100 in 0.22.\n",
      "  \"10 in version 0.20 to 100 in 0.22.\", FutureWarning)\n",
      "/home/ahmoura/ProgramFiles/anaconda3/lib/python3.7/site-packages/sklearn/ensemble/forest.py:246: FutureWarning: The default value of n_estimators will change from 10 in version 0.20 to 100 in 0.22.\n",
      "  \"10 in version 0.20 to 100 in 0.22.\", FutureWarning)\n",
      "/home/ahmoura/ProgramFiles/anaconda3/lib/python3.7/site-packages/sklearn/ensemble/forest.py:246: FutureWarning: The default value of n_estimators will change from 10 in version 0.20 to 100 in 0.22.\n",
      "  \"10 in version 0.20 to 100 in 0.22.\", FutureWarning)\n",
      "/home/ahmoura/ProgramFiles/anaconda3/lib/python3.7/site-packages/sklearn/ensemble/forest.py:246: FutureWarning: The default value of n_estimators will change from 10 in version 0.20 to 100 in 0.22.\n",
      "  \"10 in version 0.20 to 100 in 0.22.\", FutureWarning)\n",
      "/home/ahmoura/ProgramFiles/anaconda3/lib/python3.7/site-packages/sklearn/ensemble/forest.py:246: FutureWarning: The default value of n_estimators will change from 10 in version 0.20 to 100 in 0.22.\n",
      "  \"10 in version 0.20 to 100 in 0.22.\", FutureWarning)\n",
      "/home/ahmoura/ProgramFiles/anaconda3/lib/python3.7/site-packages/sklearn/ensemble/forest.py:246: FutureWarning: The default value of n_estimators will change from 10 in version 0.20 to 100 in 0.22.\n",
      "  \"10 in version 0.20 to 100 in 0.22.\", FutureWarning)\n",
      "/home/ahmoura/ProgramFiles/anaconda3/lib/python3.7/site-packages/sklearn/ensemble/forest.py:246: FutureWarning: The default value of n_estimators will change from 10 in version 0.20 to 100 in 0.22.\n",
      "  \"10 in version 0.20 to 100 in 0.22.\", FutureWarning)\n"
     ]
    },
    {
     "name": "stdout",
     "output_type": "stream",
     "text": [
      "40474_thyroid-allbp.arff   RF   1   5  query_by_committee\n"
     ]
    },
    {
     "name": "stderr",
     "output_type": "stream",
     "text": [
      "/home/ahmoura/ProgramFiles/anaconda3/lib/python3.7/site-packages/sklearn/ensemble/forest.py:246: FutureWarning: The default value of n_estimators will change from 10 in version 0.20 to 100 in 0.22.\n",
      "  \"10 in version 0.20 to 100 in 0.22.\", FutureWarning)\n",
      "/home/ahmoura/ProgramFiles/anaconda3/lib/python3.7/site-packages/sklearn/ensemble/forest.py:246: FutureWarning: The default value of n_estimators will change from 10 in version 0.20 to 100 in 0.22.\n",
      "  \"10 in version 0.20 to 100 in 0.22.\", FutureWarning)\n",
      "/home/ahmoura/ProgramFiles/anaconda3/lib/python3.7/site-packages/sklearn/ensemble/forest.py:246: FutureWarning: The default value of n_estimators will change from 10 in version 0.20 to 100 in 0.22.\n",
      "  \"10 in version 0.20 to 100 in 0.22.\", FutureWarning)\n",
      "/home/ahmoura/ProgramFiles/anaconda3/lib/python3.7/site-packages/sklearn/ensemble/forest.py:246: FutureWarning: The default value of n_estimators will change from 10 in version 0.20 to 100 in 0.22.\n",
      "  \"10 in version 0.20 to 100 in 0.22.\", FutureWarning)\n",
      "/home/ahmoura/ProgramFiles/anaconda3/lib/python3.7/site-packages/sklearn/ensemble/forest.py:246: FutureWarning: The default value of n_estimators will change from 10 in version 0.20 to 100 in 0.22.\n",
      "  \"10 in version 0.20 to 100 in 0.22.\", FutureWarning)\n",
      "/home/ahmoura/ProgramFiles/anaconda3/lib/python3.7/site-packages/sklearn/ensemble/forest.py:246: FutureWarning: The default value of n_estimators will change from 10 in version 0.20 to 100 in 0.22.\n",
      "  \"10 in version 0.20 to 100 in 0.22.\", FutureWarning)\n",
      "/home/ahmoura/ProgramFiles/anaconda3/lib/python3.7/site-packages/sklearn/ensemble/forest.py:246: FutureWarning: The default value of n_estimators will change from 10 in version 0.20 to 100 in 0.22.\n",
      "  \"10 in version 0.20 to 100 in 0.22.\", FutureWarning)\n",
      "/home/ahmoura/ProgramFiles/anaconda3/lib/python3.7/site-packages/sklearn/ensemble/forest.py:246: FutureWarning: The default value of n_estimators will change from 10 in version 0.20 to 100 in 0.22.\n",
      "  \"10 in version 0.20 to 100 in 0.22.\", FutureWarning)\n",
      "/home/ahmoura/ProgramFiles/anaconda3/lib/python3.7/site-packages/sklearn/ensemble/forest.py:246: FutureWarning: The default value of n_estimators will change from 10 in version 0.20 to 100 in 0.22.\n",
      "  \"10 in version 0.20 to 100 in 0.22.\", FutureWarning)\n",
      "/home/ahmoura/ProgramFiles/anaconda3/lib/python3.7/site-packages/sklearn/ensemble/forest.py:246: FutureWarning: The default value of n_estimators will change from 10 in version 0.20 to 100 in 0.22.\n",
      "  \"10 in version 0.20 to 100 in 0.22.\", FutureWarning)\n"
     ]
    },
    {
     "name": "stdout",
     "output_type": "stream",
     "text": [
      "40474_thyroid-allbp.arff   RF   2   5  query_by_committee\n"
     ]
    },
    {
     "name": "stderr",
     "output_type": "stream",
     "text": [
      "/home/ahmoura/ProgramFiles/anaconda3/lib/python3.7/site-packages/sklearn/ensemble/forest.py:246: FutureWarning: The default value of n_estimators will change from 10 in version 0.20 to 100 in 0.22.\n",
      "  \"10 in version 0.20 to 100 in 0.22.\", FutureWarning)\n",
      "/home/ahmoura/ProgramFiles/anaconda3/lib/python3.7/site-packages/sklearn/ensemble/forest.py:246: FutureWarning: The default value of n_estimators will change from 10 in version 0.20 to 100 in 0.22.\n",
      "  \"10 in version 0.20 to 100 in 0.22.\", FutureWarning)\n",
      "/home/ahmoura/ProgramFiles/anaconda3/lib/python3.7/site-packages/sklearn/ensemble/forest.py:246: FutureWarning: The default value of n_estimators will change from 10 in version 0.20 to 100 in 0.22.\n",
      "  \"10 in version 0.20 to 100 in 0.22.\", FutureWarning)\n",
      "/home/ahmoura/ProgramFiles/anaconda3/lib/python3.7/site-packages/sklearn/ensemble/forest.py:246: FutureWarning: The default value of n_estimators will change from 10 in version 0.20 to 100 in 0.22.\n",
      "  \"10 in version 0.20 to 100 in 0.22.\", FutureWarning)\n",
      "/home/ahmoura/ProgramFiles/anaconda3/lib/python3.7/site-packages/sklearn/ensemble/forest.py:246: FutureWarning: The default value of n_estimators will change from 10 in version 0.20 to 100 in 0.22.\n",
      "  \"10 in version 0.20 to 100 in 0.22.\", FutureWarning)\n",
      "/home/ahmoura/ProgramFiles/anaconda3/lib/python3.7/site-packages/sklearn/ensemble/forest.py:246: FutureWarning: The default value of n_estimators will change from 10 in version 0.20 to 100 in 0.22.\n",
      "  \"10 in version 0.20 to 100 in 0.22.\", FutureWarning)\n",
      "/home/ahmoura/ProgramFiles/anaconda3/lib/python3.7/site-packages/sklearn/ensemble/forest.py:246: FutureWarning: The default value of n_estimators will change from 10 in version 0.20 to 100 in 0.22.\n",
      "  \"10 in version 0.20 to 100 in 0.22.\", FutureWarning)\n",
      "/home/ahmoura/ProgramFiles/anaconda3/lib/python3.7/site-packages/sklearn/ensemble/forest.py:246: FutureWarning: The default value of n_estimators will change from 10 in version 0.20 to 100 in 0.22.\n",
      "  \"10 in version 0.20 to 100 in 0.22.\", FutureWarning)\n",
      "/home/ahmoura/ProgramFiles/anaconda3/lib/python3.7/site-packages/sklearn/ensemble/forest.py:246: FutureWarning: The default value of n_estimators will change from 10 in version 0.20 to 100 in 0.22.\n",
      "  \"10 in version 0.20 to 100 in 0.22.\", FutureWarning)\n",
      "/home/ahmoura/ProgramFiles/anaconda3/lib/python3.7/site-packages/sklearn/ensemble/forest.py:246: FutureWarning: The default value of n_estimators will change from 10 in version 0.20 to 100 in 0.22.\n",
      "  \"10 in version 0.20 to 100 in 0.22.\", FutureWarning)\n"
     ]
    },
    {
     "name": "stdout",
     "output_type": "stream",
     "text": [
      "40474_thyroid-allbp.arff   RF   3   5  query_by_committee\n"
     ]
    },
    {
     "name": "stderr",
     "output_type": "stream",
     "text": [
      "/home/ahmoura/ProgramFiles/anaconda3/lib/python3.7/site-packages/sklearn/ensemble/forest.py:246: FutureWarning: The default value of n_estimators will change from 10 in version 0.20 to 100 in 0.22.\n",
      "  \"10 in version 0.20 to 100 in 0.22.\", FutureWarning)\n",
      "/home/ahmoura/ProgramFiles/anaconda3/lib/python3.7/site-packages/sklearn/ensemble/forest.py:246: FutureWarning: The default value of n_estimators will change from 10 in version 0.20 to 100 in 0.22.\n",
      "  \"10 in version 0.20 to 100 in 0.22.\", FutureWarning)\n",
      "/home/ahmoura/ProgramFiles/anaconda3/lib/python3.7/site-packages/sklearn/ensemble/forest.py:246: FutureWarning: The default value of n_estimators will change from 10 in version 0.20 to 100 in 0.22.\n",
      "  \"10 in version 0.20 to 100 in 0.22.\", FutureWarning)\n",
      "/home/ahmoura/ProgramFiles/anaconda3/lib/python3.7/site-packages/sklearn/ensemble/forest.py:246: FutureWarning: The default value of n_estimators will change from 10 in version 0.20 to 100 in 0.22.\n",
      "  \"10 in version 0.20 to 100 in 0.22.\", FutureWarning)\n",
      "/home/ahmoura/ProgramFiles/anaconda3/lib/python3.7/site-packages/sklearn/ensemble/forest.py:246: FutureWarning: The default value of n_estimators will change from 10 in version 0.20 to 100 in 0.22.\n",
      "  \"10 in version 0.20 to 100 in 0.22.\", FutureWarning)\n",
      "/home/ahmoura/ProgramFiles/anaconda3/lib/python3.7/site-packages/sklearn/ensemble/forest.py:246: FutureWarning: The default value of n_estimators will change from 10 in version 0.20 to 100 in 0.22.\n",
      "  \"10 in version 0.20 to 100 in 0.22.\", FutureWarning)\n",
      "/home/ahmoura/ProgramFiles/anaconda3/lib/python3.7/site-packages/sklearn/ensemble/forest.py:246: FutureWarning: The default value of n_estimators will change from 10 in version 0.20 to 100 in 0.22.\n",
      "  \"10 in version 0.20 to 100 in 0.22.\", FutureWarning)\n",
      "/home/ahmoura/ProgramFiles/anaconda3/lib/python3.7/site-packages/sklearn/ensemble/forest.py:246: FutureWarning: The default value of n_estimators will change from 10 in version 0.20 to 100 in 0.22.\n",
      "  \"10 in version 0.20 to 100 in 0.22.\", FutureWarning)\n",
      "/home/ahmoura/ProgramFiles/anaconda3/lib/python3.7/site-packages/sklearn/ensemble/forest.py:246: FutureWarning: The default value of n_estimators will change from 10 in version 0.20 to 100 in 0.22.\n",
      "  \"10 in version 0.20 to 100 in 0.22.\", FutureWarning)\n",
      "/home/ahmoura/ProgramFiles/anaconda3/lib/python3.7/site-packages/sklearn/ensemble/forest.py:246: FutureWarning: The default value of n_estimators will change from 10 in version 0.20 to 100 in 0.22.\n",
      "  \"10 in version 0.20 to 100 in 0.22.\", FutureWarning)\n"
     ]
    },
    {
     "name": "stdout",
     "output_type": "stream",
     "text": [
      "40474_thyroid-allbp.arff   RF   4   5  query_by_committee\n"
     ]
    },
    {
     "name": "stderr",
     "output_type": "stream",
     "text": [
      "/home/ahmoura/ProgramFiles/anaconda3/lib/python3.7/site-packages/sklearn/ensemble/forest.py:246: FutureWarning: The default value of n_estimators will change from 10 in version 0.20 to 100 in 0.22.\n",
      "  \"10 in version 0.20 to 100 in 0.22.\", FutureWarning)\n",
      "/home/ahmoura/ProgramFiles/anaconda3/lib/python3.7/site-packages/sklearn/ensemble/forest.py:246: FutureWarning: The default value of n_estimators will change from 10 in version 0.20 to 100 in 0.22.\n",
      "  \"10 in version 0.20 to 100 in 0.22.\", FutureWarning)\n",
      "/home/ahmoura/ProgramFiles/anaconda3/lib/python3.7/site-packages/sklearn/ensemble/forest.py:246: FutureWarning: The default value of n_estimators will change from 10 in version 0.20 to 100 in 0.22.\n",
      "  \"10 in version 0.20 to 100 in 0.22.\", FutureWarning)\n",
      "/home/ahmoura/ProgramFiles/anaconda3/lib/python3.7/site-packages/sklearn/ensemble/forest.py:246: FutureWarning: The default value of n_estimators will change from 10 in version 0.20 to 100 in 0.22.\n",
      "  \"10 in version 0.20 to 100 in 0.22.\", FutureWarning)\n",
      "/home/ahmoura/ProgramFiles/anaconda3/lib/python3.7/site-packages/sklearn/ensemble/forest.py:246: FutureWarning: The default value of n_estimators will change from 10 in version 0.20 to 100 in 0.22.\n",
      "  \"10 in version 0.20 to 100 in 0.22.\", FutureWarning)\n",
      "/home/ahmoura/ProgramFiles/anaconda3/lib/python3.7/site-packages/sklearn/ensemble/forest.py:246: FutureWarning: The default value of n_estimators will change from 10 in version 0.20 to 100 in 0.22.\n",
      "  \"10 in version 0.20 to 100 in 0.22.\", FutureWarning)\n",
      "/home/ahmoura/ProgramFiles/anaconda3/lib/python3.7/site-packages/sklearn/ensemble/forest.py:246: FutureWarning: The default value of n_estimators will change from 10 in version 0.20 to 100 in 0.22.\n",
      "  \"10 in version 0.20 to 100 in 0.22.\", FutureWarning)\n",
      "/home/ahmoura/ProgramFiles/anaconda3/lib/python3.7/site-packages/sklearn/ensemble/forest.py:246: FutureWarning: The default value of n_estimators will change from 10 in version 0.20 to 100 in 0.22.\n",
      "  \"10 in version 0.20 to 100 in 0.22.\", FutureWarning)\n",
      "/home/ahmoura/ProgramFiles/anaconda3/lib/python3.7/site-packages/sklearn/ensemble/forest.py:246: FutureWarning: The default value of n_estimators will change from 10 in version 0.20 to 100 in 0.22.\n",
      "  \"10 in version 0.20 to 100 in 0.22.\", FutureWarning)\n",
      "/home/ahmoura/ProgramFiles/anaconda3/lib/python3.7/site-packages/sklearn/ensemble/forest.py:246: FutureWarning: The default value of n_estimators will change from 10 in version 0.20 to 100 in 0.22.\n",
      "  \"10 in version 0.20 to 100 in 0.22.\", FutureWarning)\n"
     ]
    },
    {
     "name": "stdout",
     "output_type": "stream",
     "text": [
      "40474_thyroid-allbp.arff   RF   0   5  exp error reduction\n",
      "40474_thyroid-allbp.arff   RF   1   5  exp error reduction\n",
      "40474_thyroid-allbp.arff   RF   2   5  exp error reduction\n",
      "40474_thyroid-allbp.arff   RF   3   5  exp error reduction\n",
      "40474_thyroid-allbp.arff   RF   4   5  exp error reduction\n",
      "40474_thyroid-allbp.arff   RF   0   5  exp model change\n",
      "40474_thyroid-allbp.arff   RF   1   5  exp model change\n",
      "40474_thyroid-allbp.arff   RF   2   5  exp model change\n",
      "40474_thyroid-allbp.arff   RF   3   5  exp model change\n",
      "40474_thyroid-allbp.arff   RF   4   5  exp model change\n"
     ]
    },
    {
     "name": "stderr",
     "output_type": "stream",
     "text": [
      "/home/ahmoura/ProgramFiles/anaconda3/lib/python3.7/site-packages/sklearn/model_selection/_split.py:1788: FutureWarning: From version 0.21, test_size will always complement train_size unless both are specified.\n",
      "  FutureWarning)\n"
     ]
    },
    {
     "name": "stdout",
     "output_type": "stream",
     "text": [
      "1501_semeion.arff   5NN   0   5  uncertain_sampling\n",
      "1501_semeion.arff   5NN   1   5  uncertain_sampling\n",
      "1501_semeion.arff   5NN   2   5  uncertain_sampling\n",
      "1501_semeion.arff   5NN   3   5  uncertain_sampling\n",
      "1501_semeion.arff   5NN   4   5  uncertain_sampling\n",
      "1501_semeion.arff   5NN   0   5  random sampling\n",
      "1501_semeion.arff   5NN   1   5  random sampling\n",
      "1501_semeion.arff   5NN   2   5  random sampling\n",
      "1501_semeion.arff   5NN   3   5  random sampling\n",
      "1501_semeion.arff   5NN   4   5  random sampling\n",
      "1501_semeion.arff   5NN   0   5  query_by_committee\n",
      "1501_semeion.arff   5NN   1   5  query_by_committee\n",
      "1501_semeion.arff   5NN   2   5  query_by_committee\n",
      "1501_semeion.arff   5NN   3   5  query_by_committee\n",
      "1501_semeion.arff   5NN   4   5  query_by_committee\n",
      "1501_semeion.arff   5NN   0   5  exp error reduction\n",
      "1501_semeion.arff   5NN   1   5  exp error reduction\n",
      "1501_semeion.arff   5NN   2   5  exp error reduction\n",
      "1501_semeion.arff   5NN   3   5  exp error reduction\n",
      "1501_semeion.arff   5NN   4   5  exp error reduction\n",
      "1501_semeion.arff   5NN   0   5  exp model change\n",
      "1501_semeion.arff   5NN   1   5  exp model change\n",
      "1501_semeion.arff   5NN   2   5  exp model change\n",
      "1501_semeion.arff   5NN   3   5  exp model change\n",
      "1501_semeion.arff   5NN   4   5  exp model change\n"
     ]
    },
    {
     "name": "stderr",
     "output_type": "stream",
     "text": [
      "/home/ahmoura/ProgramFiles/anaconda3/lib/python3.7/site-packages/sklearn/model_selection/_split.py:1788: FutureWarning: From version 0.21, test_size will always complement train_size unless both are specified.\n",
      "  FutureWarning)\n"
     ]
    },
    {
     "name": "stdout",
     "output_type": "stream",
     "text": [
      "1501_semeion.arff   C4.5   0   5  uncertain_sampling\n",
      "1501_semeion.arff   C4.5   1   5  uncertain_sampling\n",
      "1501_semeion.arff   C4.5   2   5  uncertain_sampling\n",
      "1501_semeion.arff   C4.5   3   5  uncertain_sampling\n",
      "1501_semeion.arff   C4.5   4   5  uncertain_sampling\n",
      "1501_semeion.arff   C4.5   0   5  random sampling\n",
      "1501_semeion.arff   C4.5   1   5  random sampling\n",
      "1501_semeion.arff   C4.5   2   5  random sampling\n",
      "1501_semeion.arff   C4.5   3   5  random sampling\n",
      "1501_semeion.arff   C4.5   4   5  random sampling\n",
      "1501_semeion.arff   C4.5   0   5  query_by_committee\n",
      "1501_semeion.arff   C4.5   1   5  query_by_committee\n",
      "1501_semeion.arff   C4.5   2   5  query_by_committee\n",
      "1501_semeion.arff   C4.5   3   5  query_by_committee\n",
      "1501_semeion.arff   C4.5   4   5  query_by_committee\n",
      "1501_semeion.arff   C4.5   0   5  exp error reduction\n",
      "1501_semeion.arff   C4.5   1   5  exp error reduction\n",
      "1501_semeion.arff   C4.5   2   5  exp error reduction\n",
      "1501_semeion.arff   C4.5   3   5  exp error reduction\n",
      "1501_semeion.arff   C4.5   4   5  exp error reduction\n",
      "1501_semeion.arff   C4.5   0   5  exp model change\n",
      "1501_semeion.arff   C4.5   1   5  exp model change\n",
      "1501_semeion.arff   C4.5   2   5  exp model change\n",
      "1501_semeion.arff   C4.5   3   5  exp model change\n",
      "1501_semeion.arff   C4.5   4   5  exp model change\n"
     ]
    },
    {
     "name": "stderr",
     "output_type": "stream",
     "text": [
      "/home/ahmoura/ProgramFiles/anaconda3/lib/python3.7/site-packages/sklearn/model_selection/_split.py:1788: FutureWarning: From version 0.21, test_size will always complement train_size unless both are specified.\n",
      "  FutureWarning)\n"
     ]
    },
    {
     "name": "stdout",
     "output_type": "stream",
     "text": [
      "1501_semeion.arff   NB   0   5  uncertain_sampling\n",
      "1501_semeion.arff   NB   1   5  uncertain_sampling\n",
      "1501_semeion.arff   NB   2   5  uncertain_sampling\n",
      "1501_semeion.arff   NB   3   5  uncertain_sampling\n",
      "1501_semeion.arff   NB   4   5  uncertain_sampling\n",
      "1501_semeion.arff   NB   0   5  random sampling\n",
      "1501_semeion.arff   NB   1   5  random sampling\n",
      "1501_semeion.arff   NB   2   5  random sampling\n",
      "1501_semeion.arff   NB   3   5  random sampling\n",
      "1501_semeion.arff   NB   4   5  random sampling\n",
      "1501_semeion.arff   NB   0   5  query_by_committee\n",
      "1501_semeion.arff   NB   1   5  query_by_committee\n",
      "1501_semeion.arff   NB   2   5  query_by_committee\n",
      "1501_semeion.arff   NB   3   5  query_by_committee\n",
      "1501_semeion.arff   NB   4   5  query_by_committee\n",
      "1501_semeion.arff   NB   0   5  exp error reduction\n",
      "1501_semeion.arff   NB   1   5  exp error reduction\n",
      "1501_semeion.arff   NB   2   5  exp error reduction\n",
      "1501_semeion.arff   NB   3   5  exp error reduction\n",
      "1501_semeion.arff   NB   4   5  exp error reduction\n",
      "1501_semeion.arff   NB   0   5  exp model change\n",
      "1501_semeion.arff   NB   1   5  exp model change\n",
      "1501_semeion.arff   NB   2   5  exp model change\n",
      "1501_semeion.arff   NB   3   5  exp model change\n",
      "1501_semeion.arff   NB   4   5  exp model change\n"
     ]
    },
    {
     "name": "stderr",
     "output_type": "stream",
     "text": [
      "/home/ahmoura/ProgramFiles/anaconda3/lib/python3.7/site-packages/sklearn/model_selection/_split.py:1788: FutureWarning: From version 0.21, test_size will always complement train_size unless both are specified.\n",
      "  FutureWarning)\n",
      "/home/ahmoura/ProgramFiles/anaconda3/lib/python3.7/site-packages/sklearn/ensemble/forest.py:246: FutureWarning: The default value of n_estimators will change from 10 in version 0.20 to 100 in 0.22.\n",
      "  \"10 in version 0.20 to 100 in 0.22.\", FutureWarning)\n"
     ]
    },
    {
     "name": "stdout",
     "output_type": "stream",
     "text": [
      "1501_semeion.arff   RF   0   5  uncertain_sampling\n",
      "1501_semeion.arff   RF   1   5  uncertain_sampling\n",
      "1501_semeion.arff   RF   2   5  uncertain_sampling\n",
      "1501_semeion.arff   RF   3   5  uncertain_sampling\n",
      "1501_semeion.arff   RF   4   5  uncertain_sampling\n",
      "1501_semeion.arff   RF   0   5  random sampling\n",
      "1501_semeion.arff   RF   1   5  random sampling\n",
      "1501_semeion.arff   RF   2   5  random sampling\n",
      "1501_semeion.arff   RF   3   5  random sampling\n",
      "1501_semeion.arff   RF   4   5  random sampling\n",
      "1501_semeion.arff   RF   0   5  query_by_committee\n"
     ]
    },
    {
     "name": "stderr",
     "output_type": "stream",
     "text": [
      "/home/ahmoura/ProgramFiles/anaconda3/lib/python3.7/site-packages/sklearn/ensemble/forest.py:246: FutureWarning: The default value of n_estimators will change from 10 in version 0.20 to 100 in 0.22.\n",
      "  \"10 in version 0.20 to 100 in 0.22.\", FutureWarning)\n",
      "/home/ahmoura/ProgramFiles/anaconda3/lib/python3.7/site-packages/sklearn/ensemble/forest.py:246: FutureWarning: The default value of n_estimators will change from 10 in version 0.20 to 100 in 0.22.\n",
      "  \"10 in version 0.20 to 100 in 0.22.\", FutureWarning)\n",
      "/home/ahmoura/ProgramFiles/anaconda3/lib/python3.7/site-packages/sklearn/ensemble/forest.py:246: FutureWarning: The default value of n_estimators will change from 10 in version 0.20 to 100 in 0.22.\n",
      "  \"10 in version 0.20 to 100 in 0.22.\", FutureWarning)\n",
      "/home/ahmoura/ProgramFiles/anaconda3/lib/python3.7/site-packages/sklearn/ensemble/forest.py:246: FutureWarning: The default value of n_estimators will change from 10 in version 0.20 to 100 in 0.22.\n",
      "  \"10 in version 0.20 to 100 in 0.22.\", FutureWarning)\n",
      "/home/ahmoura/ProgramFiles/anaconda3/lib/python3.7/site-packages/sklearn/ensemble/forest.py:246: FutureWarning: The default value of n_estimators will change from 10 in version 0.20 to 100 in 0.22.\n",
      "  \"10 in version 0.20 to 100 in 0.22.\", FutureWarning)\n",
      "/home/ahmoura/ProgramFiles/anaconda3/lib/python3.7/site-packages/sklearn/ensemble/forest.py:246: FutureWarning: The default value of n_estimators will change from 10 in version 0.20 to 100 in 0.22.\n",
      "  \"10 in version 0.20 to 100 in 0.22.\", FutureWarning)\n",
      "/home/ahmoura/ProgramFiles/anaconda3/lib/python3.7/site-packages/sklearn/ensemble/forest.py:246: FutureWarning: The default value of n_estimators will change from 10 in version 0.20 to 100 in 0.22.\n",
      "  \"10 in version 0.20 to 100 in 0.22.\", FutureWarning)\n",
      "/home/ahmoura/ProgramFiles/anaconda3/lib/python3.7/site-packages/sklearn/ensemble/forest.py:246: FutureWarning: The default value of n_estimators will change from 10 in version 0.20 to 100 in 0.22.\n",
      "  \"10 in version 0.20 to 100 in 0.22.\", FutureWarning)\n",
      "/home/ahmoura/ProgramFiles/anaconda3/lib/python3.7/site-packages/sklearn/ensemble/forest.py:246: FutureWarning: The default value of n_estimators will change from 10 in version 0.20 to 100 in 0.22.\n",
      "  \"10 in version 0.20 to 100 in 0.22.\", FutureWarning)\n",
      "/home/ahmoura/ProgramFiles/anaconda3/lib/python3.7/site-packages/sklearn/ensemble/forest.py:246: FutureWarning: The default value of n_estimators will change from 10 in version 0.20 to 100 in 0.22.\n",
      "  \"10 in version 0.20 to 100 in 0.22.\", FutureWarning)\n"
     ]
    },
    {
     "name": "stdout",
     "output_type": "stream",
     "text": [
      "1501_semeion.arff   RF   1   5  query_by_committee\n"
     ]
    },
    {
     "name": "stderr",
     "output_type": "stream",
     "text": [
      "/home/ahmoura/ProgramFiles/anaconda3/lib/python3.7/site-packages/sklearn/ensemble/forest.py:246: FutureWarning: The default value of n_estimators will change from 10 in version 0.20 to 100 in 0.22.\n",
      "  \"10 in version 0.20 to 100 in 0.22.\", FutureWarning)\n",
      "/home/ahmoura/ProgramFiles/anaconda3/lib/python3.7/site-packages/sklearn/ensemble/forest.py:246: FutureWarning: The default value of n_estimators will change from 10 in version 0.20 to 100 in 0.22.\n",
      "  \"10 in version 0.20 to 100 in 0.22.\", FutureWarning)\n",
      "/home/ahmoura/ProgramFiles/anaconda3/lib/python3.7/site-packages/sklearn/ensemble/forest.py:246: FutureWarning: The default value of n_estimators will change from 10 in version 0.20 to 100 in 0.22.\n",
      "  \"10 in version 0.20 to 100 in 0.22.\", FutureWarning)\n",
      "/home/ahmoura/ProgramFiles/anaconda3/lib/python3.7/site-packages/sklearn/ensemble/forest.py:246: FutureWarning: The default value of n_estimators will change from 10 in version 0.20 to 100 in 0.22.\n",
      "  \"10 in version 0.20 to 100 in 0.22.\", FutureWarning)\n",
      "/home/ahmoura/ProgramFiles/anaconda3/lib/python3.7/site-packages/sklearn/ensemble/forest.py:246: FutureWarning: The default value of n_estimators will change from 10 in version 0.20 to 100 in 0.22.\n",
      "  \"10 in version 0.20 to 100 in 0.22.\", FutureWarning)\n",
      "/home/ahmoura/ProgramFiles/anaconda3/lib/python3.7/site-packages/sklearn/ensemble/forest.py:246: FutureWarning: The default value of n_estimators will change from 10 in version 0.20 to 100 in 0.22.\n",
      "  \"10 in version 0.20 to 100 in 0.22.\", FutureWarning)\n",
      "/home/ahmoura/ProgramFiles/anaconda3/lib/python3.7/site-packages/sklearn/ensemble/forest.py:246: FutureWarning: The default value of n_estimators will change from 10 in version 0.20 to 100 in 0.22.\n",
      "  \"10 in version 0.20 to 100 in 0.22.\", FutureWarning)\n",
      "/home/ahmoura/ProgramFiles/anaconda3/lib/python3.7/site-packages/sklearn/ensemble/forest.py:246: FutureWarning: The default value of n_estimators will change from 10 in version 0.20 to 100 in 0.22.\n",
      "  \"10 in version 0.20 to 100 in 0.22.\", FutureWarning)\n",
      "/home/ahmoura/ProgramFiles/anaconda3/lib/python3.7/site-packages/sklearn/ensemble/forest.py:246: FutureWarning: The default value of n_estimators will change from 10 in version 0.20 to 100 in 0.22.\n",
      "  \"10 in version 0.20 to 100 in 0.22.\", FutureWarning)\n",
      "/home/ahmoura/ProgramFiles/anaconda3/lib/python3.7/site-packages/sklearn/ensemble/forest.py:246: FutureWarning: The default value of n_estimators will change from 10 in version 0.20 to 100 in 0.22.\n",
      "  \"10 in version 0.20 to 100 in 0.22.\", FutureWarning)\n"
     ]
    },
    {
     "name": "stdout",
     "output_type": "stream",
     "text": [
      "1501_semeion.arff   RF   2   5  query_by_committee\n"
     ]
    },
    {
     "name": "stderr",
     "output_type": "stream",
     "text": [
      "/home/ahmoura/ProgramFiles/anaconda3/lib/python3.7/site-packages/sklearn/ensemble/forest.py:246: FutureWarning: The default value of n_estimators will change from 10 in version 0.20 to 100 in 0.22.\n",
      "  \"10 in version 0.20 to 100 in 0.22.\", FutureWarning)\n",
      "/home/ahmoura/ProgramFiles/anaconda3/lib/python3.7/site-packages/sklearn/ensemble/forest.py:246: FutureWarning: The default value of n_estimators will change from 10 in version 0.20 to 100 in 0.22.\n",
      "  \"10 in version 0.20 to 100 in 0.22.\", FutureWarning)\n",
      "/home/ahmoura/ProgramFiles/anaconda3/lib/python3.7/site-packages/sklearn/ensemble/forest.py:246: FutureWarning: The default value of n_estimators will change from 10 in version 0.20 to 100 in 0.22.\n",
      "  \"10 in version 0.20 to 100 in 0.22.\", FutureWarning)\n",
      "/home/ahmoura/ProgramFiles/anaconda3/lib/python3.7/site-packages/sklearn/ensemble/forest.py:246: FutureWarning: The default value of n_estimators will change from 10 in version 0.20 to 100 in 0.22.\n",
      "  \"10 in version 0.20 to 100 in 0.22.\", FutureWarning)\n",
      "/home/ahmoura/ProgramFiles/anaconda3/lib/python3.7/site-packages/sklearn/ensemble/forest.py:246: FutureWarning: The default value of n_estimators will change from 10 in version 0.20 to 100 in 0.22.\n",
      "  \"10 in version 0.20 to 100 in 0.22.\", FutureWarning)\n",
      "/home/ahmoura/ProgramFiles/anaconda3/lib/python3.7/site-packages/sklearn/ensemble/forest.py:246: FutureWarning: The default value of n_estimators will change from 10 in version 0.20 to 100 in 0.22.\n",
      "  \"10 in version 0.20 to 100 in 0.22.\", FutureWarning)\n",
      "/home/ahmoura/ProgramFiles/anaconda3/lib/python3.7/site-packages/sklearn/ensemble/forest.py:246: FutureWarning: The default value of n_estimators will change from 10 in version 0.20 to 100 in 0.22.\n",
      "  \"10 in version 0.20 to 100 in 0.22.\", FutureWarning)\n",
      "/home/ahmoura/ProgramFiles/anaconda3/lib/python3.7/site-packages/sklearn/ensemble/forest.py:246: FutureWarning: The default value of n_estimators will change from 10 in version 0.20 to 100 in 0.22.\n",
      "  \"10 in version 0.20 to 100 in 0.22.\", FutureWarning)\n",
      "/home/ahmoura/ProgramFiles/anaconda3/lib/python3.7/site-packages/sklearn/ensemble/forest.py:246: FutureWarning: The default value of n_estimators will change from 10 in version 0.20 to 100 in 0.22.\n",
      "  \"10 in version 0.20 to 100 in 0.22.\", FutureWarning)\n",
      "/home/ahmoura/ProgramFiles/anaconda3/lib/python3.7/site-packages/sklearn/ensemble/forest.py:246: FutureWarning: The default value of n_estimators will change from 10 in version 0.20 to 100 in 0.22.\n",
      "  \"10 in version 0.20 to 100 in 0.22.\", FutureWarning)\n"
     ]
    },
    {
     "name": "stdout",
     "output_type": "stream",
     "text": [
      "1501_semeion.arff   RF   3   5  query_by_committee\n"
     ]
    },
    {
     "name": "stderr",
     "output_type": "stream",
     "text": [
      "/home/ahmoura/ProgramFiles/anaconda3/lib/python3.7/site-packages/sklearn/ensemble/forest.py:246: FutureWarning: The default value of n_estimators will change from 10 in version 0.20 to 100 in 0.22.\n",
      "  \"10 in version 0.20 to 100 in 0.22.\", FutureWarning)\n",
      "/home/ahmoura/ProgramFiles/anaconda3/lib/python3.7/site-packages/sklearn/ensemble/forest.py:246: FutureWarning: The default value of n_estimators will change from 10 in version 0.20 to 100 in 0.22.\n",
      "  \"10 in version 0.20 to 100 in 0.22.\", FutureWarning)\n",
      "/home/ahmoura/ProgramFiles/anaconda3/lib/python3.7/site-packages/sklearn/ensemble/forest.py:246: FutureWarning: The default value of n_estimators will change from 10 in version 0.20 to 100 in 0.22.\n",
      "  \"10 in version 0.20 to 100 in 0.22.\", FutureWarning)\n",
      "/home/ahmoura/ProgramFiles/anaconda3/lib/python3.7/site-packages/sklearn/ensemble/forest.py:246: FutureWarning: The default value of n_estimators will change from 10 in version 0.20 to 100 in 0.22.\n",
      "  \"10 in version 0.20 to 100 in 0.22.\", FutureWarning)\n",
      "/home/ahmoura/ProgramFiles/anaconda3/lib/python3.7/site-packages/sklearn/ensemble/forest.py:246: FutureWarning: The default value of n_estimators will change from 10 in version 0.20 to 100 in 0.22.\n",
      "  \"10 in version 0.20 to 100 in 0.22.\", FutureWarning)\n",
      "/home/ahmoura/ProgramFiles/anaconda3/lib/python3.7/site-packages/sklearn/ensemble/forest.py:246: FutureWarning: The default value of n_estimators will change from 10 in version 0.20 to 100 in 0.22.\n",
      "  \"10 in version 0.20 to 100 in 0.22.\", FutureWarning)\n",
      "/home/ahmoura/ProgramFiles/anaconda3/lib/python3.7/site-packages/sklearn/ensemble/forest.py:246: FutureWarning: The default value of n_estimators will change from 10 in version 0.20 to 100 in 0.22.\n",
      "  \"10 in version 0.20 to 100 in 0.22.\", FutureWarning)\n",
      "/home/ahmoura/ProgramFiles/anaconda3/lib/python3.7/site-packages/sklearn/ensemble/forest.py:246: FutureWarning: The default value of n_estimators will change from 10 in version 0.20 to 100 in 0.22.\n",
      "  \"10 in version 0.20 to 100 in 0.22.\", FutureWarning)\n",
      "/home/ahmoura/ProgramFiles/anaconda3/lib/python3.7/site-packages/sklearn/ensemble/forest.py:246: FutureWarning: The default value of n_estimators will change from 10 in version 0.20 to 100 in 0.22.\n",
      "  \"10 in version 0.20 to 100 in 0.22.\", FutureWarning)\n",
      "/home/ahmoura/ProgramFiles/anaconda3/lib/python3.7/site-packages/sklearn/ensemble/forest.py:246: FutureWarning: The default value of n_estimators will change from 10 in version 0.20 to 100 in 0.22.\n",
      "  \"10 in version 0.20 to 100 in 0.22.\", FutureWarning)\n"
     ]
    },
    {
     "name": "stdout",
     "output_type": "stream",
     "text": [
      "1501_semeion.arff   RF   4   5  query_by_committee\n"
     ]
    },
    {
     "name": "stderr",
     "output_type": "stream",
     "text": [
      "/home/ahmoura/ProgramFiles/anaconda3/lib/python3.7/site-packages/sklearn/ensemble/forest.py:246: FutureWarning: The default value of n_estimators will change from 10 in version 0.20 to 100 in 0.22.\n",
      "  \"10 in version 0.20 to 100 in 0.22.\", FutureWarning)\n",
      "/home/ahmoura/ProgramFiles/anaconda3/lib/python3.7/site-packages/sklearn/ensemble/forest.py:246: FutureWarning: The default value of n_estimators will change from 10 in version 0.20 to 100 in 0.22.\n",
      "  \"10 in version 0.20 to 100 in 0.22.\", FutureWarning)\n",
      "/home/ahmoura/ProgramFiles/anaconda3/lib/python3.7/site-packages/sklearn/ensemble/forest.py:246: FutureWarning: The default value of n_estimators will change from 10 in version 0.20 to 100 in 0.22.\n",
      "  \"10 in version 0.20 to 100 in 0.22.\", FutureWarning)\n",
      "/home/ahmoura/ProgramFiles/anaconda3/lib/python3.7/site-packages/sklearn/ensemble/forest.py:246: FutureWarning: The default value of n_estimators will change from 10 in version 0.20 to 100 in 0.22.\n",
      "  \"10 in version 0.20 to 100 in 0.22.\", FutureWarning)\n",
      "/home/ahmoura/ProgramFiles/anaconda3/lib/python3.7/site-packages/sklearn/ensemble/forest.py:246: FutureWarning: The default value of n_estimators will change from 10 in version 0.20 to 100 in 0.22.\n",
      "  \"10 in version 0.20 to 100 in 0.22.\", FutureWarning)\n",
      "/home/ahmoura/ProgramFiles/anaconda3/lib/python3.7/site-packages/sklearn/ensemble/forest.py:246: FutureWarning: The default value of n_estimators will change from 10 in version 0.20 to 100 in 0.22.\n",
      "  \"10 in version 0.20 to 100 in 0.22.\", FutureWarning)\n",
      "/home/ahmoura/ProgramFiles/anaconda3/lib/python3.7/site-packages/sklearn/ensemble/forest.py:246: FutureWarning: The default value of n_estimators will change from 10 in version 0.20 to 100 in 0.22.\n",
      "  \"10 in version 0.20 to 100 in 0.22.\", FutureWarning)\n",
      "/home/ahmoura/ProgramFiles/anaconda3/lib/python3.7/site-packages/sklearn/ensemble/forest.py:246: FutureWarning: The default value of n_estimators will change from 10 in version 0.20 to 100 in 0.22.\n",
      "  \"10 in version 0.20 to 100 in 0.22.\", FutureWarning)\n",
      "/home/ahmoura/ProgramFiles/anaconda3/lib/python3.7/site-packages/sklearn/ensemble/forest.py:246: FutureWarning: The default value of n_estimators will change from 10 in version 0.20 to 100 in 0.22.\n",
      "  \"10 in version 0.20 to 100 in 0.22.\", FutureWarning)\n",
      "/home/ahmoura/ProgramFiles/anaconda3/lib/python3.7/site-packages/sklearn/ensemble/forest.py:246: FutureWarning: The default value of n_estimators will change from 10 in version 0.20 to 100 in 0.22.\n",
      "  \"10 in version 0.20 to 100 in 0.22.\", FutureWarning)\n"
     ]
    },
    {
     "name": "stdout",
     "output_type": "stream",
     "text": [
      "1501_semeion.arff   RF   0   5  exp error reduction\n",
      "1501_semeion.arff   RF   1   5  exp error reduction\n",
      "1501_semeion.arff   RF   2   5  exp error reduction\n",
      "1501_semeion.arff   RF   3   5  exp error reduction\n",
      "1501_semeion.arff   RF   4   5  exp error reduction\n",
      "1501_semeion.arff   RF   0   5  exp model change\n",
      "1501_semeion.arff   RF   1   5  exp model change\n",
      "1501_semeion.arff   RF   2   5  exp model change\n",
      "1501_semeion.arff   RF   3   5  exp model change\n",
      "1501_semeion.arff   RF   4   5  exp model change\n",
      "1121_badges2.arff   5NN   0   5  uncertain_sampling\n",
      "1121_badges2.arff   5NN   1   5  uncertain_sampling\n",
      "1121_badges2.arff   5NN   2   5  uncertain_sampling\n",
      "1121_badges2.arff   5NN   3   5  uncertain_sampling\n",
      "1121_badges2.arff   5NN   4   5  uncertain_sampling\n"
     ]
    },
    {
     "name": "stderr",
     "output_type": "stream",
     "text": [
      "/home/ahmoura/ProgramFiles/anaconda3/lib/python3.7/site-packages/sklearn/model_selection/_split.py:1788: FutureWarning: From version 0.21, test_size will always complement train_size unless both are specified.\n",
      "  FutureWarning)\n"
     ]
    },
    {
     "name": "stdout",
     "output_type": "stream",
     "text": [
      "1121_badges2.arff   5NN   0   5  random sampling\n",
      "1121_badges2.arff   5NN   1   5  random sampling\n",
      "1121_badges2.arff   5NN   2   5  random sampling\n",
      "1121_badges2.arff   5NN   3   5  random sampling\n",
      "1121_badges2.arff   5NN   4   5  random sampling\n",
      "1121_badges2.arff   5NN   0   5  query_by_committee\n",
      "1121_badges2.arff   5NN   1   5  query_by_committee\n",
      "1121_badges2.arff   5NN   2   5  query_by_committee\n",
      "1121_badges2.arff   5NN   3   5  query_by_committee\n",
      "1121_badges2.arff   5NN   4   5  query_by_committee\n",
      "1121_badges2.arff   5NN   0   5  exp error reduction\n",
      "1121_badges2.arff   5NN   1   5  exp error reduction\n",
      "1121_badges2.arff   5NN   2   5  exp error reduction\n",
      "1121_badges2.arff   5NN   3   5  exp error reduction\n",
      "1121_badges2.arff   5NN   4   5  exp error reduction\n",
      "1121_badges2.arff   5NN   0   5  exp model change\n",
      "1121_badges2.arff   5NN   1   5  exp model change\n",
      "1121_badges2.arff   5NN   2   5  exp model change\n",
      "1121_badges2.arff   5NN   3   5  exp model change\n",
      "1121_badges2.arff   5NN   4   5  exp model change\n",
      "1121_badges2.arff   C4.5   0   5  uncertain_sampling\n",
      "1121_badges2.arff   C4.5   1   5  uncertain_sampling\n",
      "1121_badges2.arff   C4.5   2   5  uncertain_sampling\n",
      "1121_badges2.arff   C4.5   3   5  uncertain_sampling\n",
      "1121_badges2.arff   C4.5   4   5  uncertain_sampling\n",
      "1121_badges2.arff   C4.5   0   5  random sampling\n",
      "1121_badges2.arff   C4.5   1   5  random sampling\n",
      "1121_badges2.arff   C4.5   2   5  random sampling\n",
      "1121_badges2.arff   C4.5   3   5  random sampling\n",
      "1121_badges2.arff   C4.5   4   5  random sampling\n",
      "1121_badges2.arff   C4.5   0   5  query_by_committee\n"
     ]
    },
    {
     "name": "stderr",
     "output_type": "stream",
     "text": [
      "/home/ahmoura/ProgramFiles/anaconda3/lib/python3.7/site-packages/sklearn/model_selection/_split.py:1788: FutureWarning: From version 0.21, test_size will always complement train_size unless both are specified.\n",
      "  FutureWarning)\n"
     ]
    },
    {
     "name": "stdout",
     "output_type": "stream",
     "text": [
      "1121_badges2.arff   C4.5   1   5  query_by_committee\n",
      "1121_badges2.arff   C4.5   2   5  query_by_committee\n",
      "1121_badges2.arff   C4.5   3   5  query_by_committee\n",
      "1121_badges2.arff   C4.5   4   5  query_by_committee\n",
      "1121_badges2.arff   C4.5   0   5  exp error reduction\n",
      "1121_badges2.arff   C4.5   1   5  exp error reduction\n",
      "1121_badges2.arff   C4.5   2   5  exp error reduction\n",
      "1121_badges2.arff   C4.5   3   5  exp error reduction\n",
      "1121_badges2.arff   C4.5   4   5  exp error reduction\n",
      "1121_badges2.arff   C4.5   0   5  exp model change\n",
      "1121_badges2.arff   C4.5   1   5  exp model change\n",
      "1121_badges2.arff   C4.5   2   5  exp model change\n",
      "1121_badges2.arff   C4.5   3   5  exp model change\n",
      "1121_badges2.arff   C4.5   4   5  exp model change\n",
      "1121_badges2.arff   NB   0   5  uncertain_sampling\n",
      "1121_badges2.arff   NB   1   5  uncertain_sampling\n",
      "1121_badges2.arff   NB   2   5  uncertain_sampling\n",
      "1121_badges2.arff   NB   3   5  uncertain_sampling\n",
      "1121_badges2.arff   NB   4   5  uncertain_sampling\n",
      "1121_badges2.arff   NB   0   5  random sampling\n",
      "1121_badges2.arff   NB   1   5  random sampling\n",
      "1121_badges2.arff   NB   2   5  random sampling\n",
      "1121_badges2.arff   NB   3   5  random sampling\n",
      "1121_badges2.arff   NB   4   5  random sampling\n",
      "1121_badges2.arff   NB   0   5  query_by_committee\n"
     ]
    },
    {
     "name": "stderr",
     "output_type": "stream",
     "text": [
      "/home/ahmoura/ProgramFiles/anaconda3/lib/python3.7/site-packages/sklearn/model_selection/_split.py:1788: FutureWarning: From version 0.21, test_size will always complement train_size unless both are specified.\n",
      "  FutureWarning)\n"
     ]
    },
    {
     "name": "stdout",
     "output_type": "stream",
     "text": [
      "1121_badges2.arff   NB   1   5  query_by_committee\n",
      "1121_badges2.arff   NB   2   5  query_by_committee\n",
      "1121_badges2.arff   NB   3   5  query_by_committee\n",
      "1121_badges2.arff   NB   4   5  query_by_committee\n",
      "1121_badges2.arff   NB   0   5  exp error reduction\n",
      "1121_badges2.arff   NB   1   5  exp error reduction\n",
      "1121_badges2.arff   NB   2   5  exp error reduction\n",
      "1121_badges2.arff   NB   3   5  exp error reduction\n",
      "1121_badges2.arff   NB   4   5  exp error reduction\n",
      "1121_badges2.arff   NB   0   5  exp model change\n",
      "1121_badges2.arff   NB   1   5  exp model change\n",
      "1121_badges2.arff   NB   2   5  exp model change\n",
      "1121_badges2.arff   NB   3   5  exp model change\n",
      "1121_badges2.arff   NB   4   5  exp model change\n",
      "1121_badges2.arff   RF   0   5  uncertain_sampling\n",
      "1121_badges2.arff   RF   1   5  uncertain_sampling\n",
      "1121_badges2.arff   RF   2   5  uncertain_sampling\n",
      "1121_badges2.arff   RF   3   5  uncertain_sampling\n"
     ]
    },
    {
     "name": "stderr",
     "output_type": "stream",
     "text": [
      "/home/ahmoura/ProgramFiles/anaconda3/lib/python3.7/site-packages/sklearn/model_selection/_split.py:1788: FutureWarning: From version 0.21, test_size will always complement train_size unless both are specified.\n",
      "  FutureWarning)\n",
      "/home/ahmoura/ProgramFiles/anaconda3/lib/python3.7/site-packages/sklearn/ensemble/forest.py:246: FutureWarning: The default value of n_estimators will change from 10 in version 0.20 to 100 in 0.22.\n",
      "  \"10 in version 0.20 to 100 in 0.22.\", FutureWarning)\n"
     ]
    },
    {
     "name": "stdout",
     "output_type": "stream",
     "text": [
      "1121_badges2.arff   RF   4   5  uncertain_sampling\n",
      "1121_badges2.arff   RF   0   5  random sampling\n",
      "1121_badges2.arff   RF   1   5  random sampling\n",
      "1121_badges2.arff   RF   2   5  random sampling\n",
      "1121_badges2.arff   RF   3   5  random sampling\n",
      "1121_badges2.arff   RF   4   5  random sampling\n",
      "1121_badges2.arff   RF   0   5  query_by_committee\n"
     ]
    },
    {
     "name": "stderr",
     "output_type": "stream",
     "text": [
      "/home/ahmoura/ProgramFiles/anaconda3/lib/python3.7/site-packages/sklearn/ensemble/forest.py:246: FutureWarning: The default value of n_estimators will change from 10 in version 0.20 to 100 in 0.22.\n",
      "  \"10 in version 0.20 to 100 in 0.22.\", FutureWarning)\n",
      "/home/ahmoura/ProgramFiles/anaconda3/lib/python3.7/site-packages/sklearn/ensemble/forest.py:246: FutureWarning: The default value of n_estimators will change from 10 in version 0.20 to 100 in 0.22.\n",
      "  \"10 in version 0.20 to 100 in 0.22.\", FutureWarning)\n",
      "/home/ahmoura/ProgramFiles/anaconda3/lib/python3.7/site-packages/sklearn/ensemble/forest.py:246: FutureWarning: The default value of n_estimators will change from 10 in version 0.20 to 100 in 0.22.\n",
      "  \"10 in version 0.20 to 100 in 0.22.\", FutureWarning)\n",
      "/home/ahmoura/ProgramFiles/anaconda3/lib/python3.7/site-packages/sklearn/ensemble/forest.py:246: FutureWarning: The default value of n_estimators will change from 10 in version 0.20 to 100 in 0.22.\n",
      "  \"10 in version 0.20 to 100 in 0.22.\", FutureWarning)\n",
      "/home/ahmoura/ProgramFiles/anaconda3/lib/python3.7/site-packages/sklearn/ensemble/forest.py:246: FutureWarning: The default value of n_estimators will change from 10 in version 0.20 to 100 in 0.22.\n",
      "  \"10 in version 0.20 to 100 in 0.22.\", FutureWarning)\n",
      "/home/ahmoura/ProgramFiles/anaconda3/lib/python3.7/site-packages/sklearn/ensemble/forest.py:246: FutureWarning: The default value of n_estimators will change from 10 in version 0.20 to 100 in 0.22.\n",
      "  \"10 in version 0.20 to 100 in 0.22.\", FutureWarning)\n",
      "/home/ahmoura/ProgramFiles/anaconda3/lib/python3.7/site-packages/sklearn/ensemble/forest.py:246: FutureWarning: The default value of n_estimators will change from 10 in version 0.20 to 100 in 0.22.\n",
      "  \"10 in version 0.20 to 100 in 0.22.\", FutureWarning)\n",
      "/home/ahmoura/ProgramFiles/anaconda3/lib/python3.7/site-packages/sklearn/ensemble/forest.py:246: FutureWarning: The default value of n_estimators will change from 10 in version 0.20 to 100 in 0.22.\n",
      "  \"10 in version 0.20 to 100 in 0.22.\", FutureWarning)\n",
      "/home/ahmoura/ProgramFiles/anaconda3/lib/python3.7/site-packages/sklearn/ensemble/forest.py:246: FutureWarning: The default value of n_estimators will change from 10 in version 0.20 to 100 in 0.22.\n",
      "  \"10 in version 0.20 to 100 in 0.22.\", FutureWarning)\n",
      "/home/ahmoura/ProgramFiles/anaconda3/lib/python3.7/site-packages/sklearn/ensemble/forest.py:246: FutureWarning: The default value of n_estimators will change from 10 in version 0.20 to 100 in 0.22.\n",
      "  \"10 in version 0.20 to 100 in 0.22.\", FutureWarning)\n"
     ]
    },
    {
     "name": "stdout",
     "output_type": "stream",
     "text": [
      "1121_badges2.arff   RF   1   5  query_by_committee\n"
     ]
    },
    {
     "name": "stderr",
     "output_type": "stream",
     "text": [
      "/home/ahmoura/ProgramFiles/anaconda3/lib/python3.7/site-packages/sklearn/ensemble/forest.py:246: FutureWarning: The default value of n_estimators will change from 10 in version 0.20 to 100 in 0.22.\n",
      "  \"10 in version 0.20 to 100 in 0.22.\", FutureWarning)\n",
      "/home/ahmoura/ProgramFiles/anaconda3/lib/python3.7/site-packages/sklearn/ensemble/forest.py:246: FutureWarning: The default value of n_estimators will change from 10 in version 0.20 to 100 in 0.22.\n",
      "  \"10 in version 0.20 to 100 in 0.22.\", FutureWarning)\n",
      "/home/ahmoura/ProgramFiles/anaconda3/lib/python3.7/site-packages/sklearn/ensemble/forest.py:246: FutureWarning: The default value of n_estimators will change from 10 in version 0.20 to 100 in 0.22.\n",
      "  \"10 in version 0.20 to 100 in 0.22.\", FutureWarning)\n",
      "/home/ahmoura/ProgramFiles/anaconda3/lib/python3.7/site-packages/sklearn/ensemble/forest.py:246: FutureWarning: The default value of n_estimators will change from 10 in version 0.20 to 100 in 0.22.\n",
      "  \"10 in version 0.20 to 100 in 0.22.\", FutureWarning)\n",
      "/home/ahmoura/ProgramFiles/anaconda3/lib/python3.7/site-packages/sklearn/ensemble/forest.py:246: FutureWarning: The default value of n_estimators will change from 10 in version 0.20 to 100 in 0.22.\n",
      "  \"10 in version 0.20 to 100 in 0.22.\", FutureWarning)\n",
      "/home/ahmoura/ProgramFiles/anaconda3/lib/python3.7/site-packages/sklearn/ensemble/forest.py:246: FutureWarning: The default value of n_estimators will change from 10 in version 0.20 to 100 in 0.22.\n",
      "  \"10 in version 0.20 to 100 in 0.22.\", FutureWarning)\n",
      "/home/ahmoura/ProgramFiles/anaconda3/lib/python3.7/site-packages/sklearn/ensemble/forest.py:246: FutureWarning: The default value of n_estimators will change from 10 in version 0.20 to 100 in 0.22.\n",
      "  \"10 in version 0.20 to 100 in 0.22.\", FutureWarning)\n",
      "/home/ahmoura/ProgramFiles/anaconda3/lib/python3.7/site-packages/sklearn/ensemble/forest.py:246: FutureWarning: The default value of n_estimators will change from 10 in version 0.20 to 100 in 0.22.\n",
      "  \"10 in version 0.20 to 100 in 0.22.\", FutureWarning)\n",
      "/home/ahmoura/ProgramFiles/anaconda3/lib/python3.7/site-packages/sklearn/ensemble/forest.py:246: FutureWarning: The default value of n_estimators will change from 10 in version 0.20 to 100 in 0.22.\n",
      "  \"10 in version 0.20 to 100 in 0.22.\", FutureWarning)\n",
      "/home/ahmoura/ProgramFiles/anaconda3/lib/python3.7/site-packages/sklearn/ensemble/forest.py:246: FutureWarning: The default value of n_estimators will change from 10 in version 0.20 to 100 in 0.22.\n",
      "  \"10 in version 0.20 to 100 in 0.22.\", FutureWarning)\n"
     ]
    },
    {
     "name": "stdout",
     "output_type": "stream",
     "text": [
      "1121_badges2.arff   RF   2   5  query_by_committee\n"
     ]
    },
    {
     "name": "stderr",
     "output_type": "stream",
     "text": [
      "/home/ahmoura/ProgramFiles/anaconda3/lib/python3.7/site-packages/sklearn/ensemble/forest.py:246: FutureWarning: The default value of n_estimators will change from 10 in version 0.20 to 100 in 0.22.\n",
      "  \"10 in version 0.20 to 100 in 0.22.\", FutureWarning)\n",
      "/home/ahmoura/ProgramFiles/anaconda3/lib/python3.7/site-packages/sklearn/ensemble/forest.py:246: FutureWarning: The default value of n_estimators will change from 10 in version 0.20 to 100 in 0.22.\n",
      "  \"10 in version 0.20 to 100 in 0.22.\", FutureWarning)\n",
      "/home/ahmoura/ProgramFiles/anaconda3/lib/python3.7/site-packages/sklearn/ensemble/forest.py:246: FutureWarning: The default value of n_estimators will change from 10 in version 0.20 to 100 in 0.22.\n",
      "  \"10 in version 0.20 to 100 in 0.22.\", FutureWarning)\n",
      "/home/ahmoura/ProgramFiles/anaconda3/lib/python3.7/site-packages/sklearn/ensemble/forest.py:246: FutureWarning: The default value of n_estimators will change from 10 in version 0.20 to 100 in 0.22.\n",
      "  \"10 in version 0.20 to 100 in 0.22.\", FutureWarning)\n",
      "/home/ahmoura/ProgramFiles/anaconda3/lib/python3.7/site-packages/sklearn/ensemble/forest.py:246: FutureWarning: The default value of n_estimators will change from 10 in version 0.20 to 100 in 0.22.\n",
      "  \"10 in version 0.20 to 100 in 0.22.\", FutureWarning)\n",
      "/home/ahmoura/ProgramFiles/anaconda3/lib/python3.7/site-packages/sklearn/ensemble/forest.py:246: FutureWarning: The default value of n_estimators will change from 10 in version 0.20 to 100 in 0.22.\n",
      "  \"10 in version 0.20 to 100 in 0.22.\", FutureWarning)\n",
      "/home/ahmoura/ProgramFiles/anaconda3/lib/python3.7/site-packages/sklearn/ensemble/forest.py:246: FutureWarning: The default value of n_estimators will change from 10 in version 0.20 to 100 in 0.22.\n",
      "  \"10 in version 0.20 to 100 in 0.22.\", FutureWarning)\n",
      "/home/ahmoura/ProgramFiles/anaconda3/lib/python3.7/site-packages/sklearn/ensemble/forest.py:246: FutureWarning: The default value of n_estimators will change from 10 in version 0.20 to 100 in 0.22.\n",
      "  \"10 in version 0.20 to 100 in 0.22.\", FutureWarning)\n",
      "/home/ahmoura/ProgramFiles/anaconda3/lib/python3.7/site-packages/sklearn/ensemble/forest.py:246: FutureWarning: The default value of n_estimators will change from 10 in version 0.20 to 100 in 0.22.\n",
      "  \"10 in version 0.20 to 100 in 0.22.\", FutureWarning)\n",
      "/home/ahmoura/ProgramFiles/anaconda3/lib/python3.7/site-packages/sklearn/ensemble/forest.py:246: FutureWarning: The default value of n_estimators will change from 10 in version 0.20 to 100 in 0.22.\n",
      "  \"10 in version 0.20 to 100 in 0.22.\", FutureWarning)\n"
     ]
    },
    {
     "name": "stdout",
     "output_type": "stream",
     "text": [
      "1121_badges2.arff   RF   3   5  query_by_committee\n"
     ]
    },
    {
     "name": "stderr",
     "output_type": "stream",
     "text": [
      "/home/ahmoura/ProgramFiles/anaconda3/lib/python3.7/site-packages/sklearn/ensemble/forest.py:246: FutureWarning: The default value of n_estimators will change from 10 in version 0.20 to 100 in 0.22.\n",
      "  \"10 in version 0.20 to 100 in 0.22.\", FutureWarning)\n",
      "/home/ahmoura/ProgramFiles/anaconda3/lib/python3.7/site-packages/sklearn/ensemble/forest.py:246: FutureWarning: The default value of n_estimators will change from 10 in version 0.20 to 100 in 0.22.\n",
      "  \"10 in version 0.20 to 100 in 0.22.\", FutureWarning)\n",
      "/home/ahmoura/ProgramFiles/anaconda3/lib/python3.7/site-packages/sklearn/ensemble/forest.py:246: FutureWarning: The default value of n_estimators will change from 10 in version 0.20 to 100 in 0.22.\n",
      "  \"10 in version 0.20 to 100 in 0.22.\", FutureWarning)\n",
      "/home/ahmoura/ProgramFiles/anaconda3/lib/python3.7/site-packages/sklearn/ensemble/forest.py:246: FutureWarning: The default value of n_estimators will change from 10 in version 0.20 to 100 in 0.22.\n",
      "  \"10 in version 0.20 to 100 in 0.22.\", FutureWarning)\n",
      "/home/ahmoura/ProgramFiles/anaconda3/lib/python3.7/site-packages/sklearn/ensemble/forest.py:246: FutureWarning: The default value of n_estimators will change from 10 in version 0.20 to 100 in 0.22.\n",
      "  \"10 in version 0.20 to 100 in 0.22.\", FutureWarning)\n",
      "/home/ahmoura/ProgramFiles/anaconda3/lib/python3.7/site-packages/sklearn/ensemble/forest.py:246: FutureWarning: The default value of n_estimators will change from 10 in version 0.20 to 100 in 0.22.\n",
      "  \"10 in version 0.20 to 100 in 0.22.\", FutureWarning)\n",
      "/home/ahmoura/ProgramFiles/anaconda3/lib/python3.7/site-packages/sklearn/ensemble/forest.py:246: FutureWarning: The default value of n_estimators will change from 10 in version 0.20 to 100 in 0.22.\n",
      "  \"10 in version 0.20 to 100 in 0.22.\", FutureWarning)\n",
      "/home/ahmoura/ProgramFiles/anaconda3/lib/python3.7/site-packages/sklearn/ensemble/forest.py:246: FutureWarning: The default value of n_estimators will change from 10 in version 0.20 to 100 in 0.22.\n",
      "  \"10 in version 0.20 to 100 in 0.22.\", FutureWarning)\n",
      "/home/ahmoura/ProgramFiles/anaconda3/lib/python3.7/site-packages/sklearn/ensemble/forest.py:246: FutureWarning: The default value of n_estimators will change from 10 in version 0.20 to 100 in 0.22.\n",
      "  \"10 in version 0.20 to 100 in 0.22.\", FutureWarning)\n",
      "/home/ahmoura/ProgramFiles/anaconda3/lib/python3.7/site-packages/sklearn/ensemble/forest.py:246: FutureWarning: The default value of n_estimators will change from 10 in version 0.20 to 100 in 0.22.\n",
      "  \"10 in version 0.20 to 100 in 0.22.\", FutureWarning)\n"
     ]
    },
    {
     "name": "stdout",
     "output_type": "stream",
     "text": [
      "1121_badges2.arff   RF   4   5  query_by_committee\n"
     ]
    },
    {
     "name": "stderr",
     "output_type": "stream",
     "text": [
      "/home/ahmoura/ProgramFiles/anaconda3/lib/python3.7/site-packages/sklearn/ensemble/forest.py:246: FutureWarning: The default value of n_estimators will change from 10 in version 0.20 to 100 in 0.22.\n",
      "  \"10 in version 0.20 to 100 in 0.22.\", FutureWarning)\n",
      "/home/ahmoura/ProgramFiles/anaconda3/lib/python3.7/site-packages/sklearn/ensemble/forest.py:246: FutureWarning: The default value of n_estimators will change from 10 in version 0.20 to 100 in 0.22.\n",
      "  \"10 in version 0.20 to 100 in 0.22.\", FutureWarning)\n",
      "/home/ahmoura/ProgramFiles/anaconda3/lib/python3.7/site-packages/sklearn/ensemble/forest.py:246: FutureWarning: The default value of n_estimators will change from 10 in version 0.20 to 100 in 0.22.\n",
      "  \"10 in version 0.20 to 100 in 0.22.\", FutureWarning)\n",
      "/home/ahmoura/ProgramFiles/anaconda3/lib/python3.7/site-packages/sklearn/ensemble/forest.py:246: FutureWarning: The default value of n_estimators will change from 10 in version 0.20 to 100 in 0.22.\n",
      "  \"10 in version 0.20 to 100 in 0.22.\", FutureWarning)\n",
      "/home/ahmoura/ProgramFiles/anaconda3/lib/python3.7/site-packages/sklearn/ensemble/forest.py:246: FutureWarning: The default value of n_estimators will change from 10 in version 0.20 to 100 in 0.22.\n",
      "  \"10 in version 0.20 to 100 in 0.22.\", FutureWarning)\n",
      "/home/ahmoura/ProgramFiles/anaconda3/lib/python3.7/site-packages/sklearn/ensemble/forest.py:246: FutureWarning: The default value of n_estimators will change from 10 in version 0.20 to 100 in 0.22.\n",
      "  \"10 in version 0.20 to 100 in 0.22.\", FutureWarning)\n",
      "/home/ahmoura/ProgramFiles/anaconda3/lib/python3.7/site-packages/sklearn/ensemble/forest.py:246: FutureWarning: The default value of n_estimators will change from 10 in version 0.20 to 100 in 0.22.\n",
      "  \"10 in version 0.20 to 100 in 0.22.\", FutureWarning)\n",
      "/home/ahmoura/ProgramFiles/anaconda3/lib/python3.7/site-packages/sklearn/ensemble/forest.py:246: FutureWarning: The default value of n_estimators will change from 10 in version 0.20 to 100 in 0.22.\n",
      "  \"10 in version 0.20 to 100 in 0.22.\", FutureWarning)\n",
      "/home/ahmoura/ProgramFiles/anaconda3/lib/python3.7/site-packages/sklearn/ensemble/forest.py:246: FutureWarning: The default value of n_estimators will change from 10 in version 0.20 to 100 in 0.22.\n",
      "  \"10 in version 0.20 to 100 in 0.22.\", FutureWarning)\n",
      "/home/ahmoura/ProgramFiles/anaconda3/lib/python3.7/site-packages/sklearn/ensemble/forest.py:246: FutureWarning: The default value of n_estimators will change from 10 in version 0.20 to 100 in 0.22.\n",
      "  \"10 in version 0.20 to 100 in 0.22.\", FutureWarning)\n"
     ]
    },
    {
     "name": "stdout",
     "output_type": "stream",
     "text": [
      "1121_badges2.arff   RF   0   5  exp error reduction\n",
      "1121_badges2.arff   RF   1   5  exp error reduction\n",
      "1121_badges2.arff   RF   2   5  exp error reduction\n",
      "1121_badges2.arff   RF   3   5  exp error reduction\n",
      "1121_badges2.arff   RF   4   5  exp error reduction\n",
      "1121_badges2.arff   RF   0   5  exp model change\n",
      "1121_badges2.arff   RF   1   5  exp model change\n",
      "1121_badges2.arff   RF   2   5  exp model change\n",
      "1121_badges2.arff   RF   3   5  exp model change\n",
      "1121_badges2.arff   RF   4   5  exp model change\n",
      "1528_volcanoes-a2.arff   5NN   0   5  uncertain_sampling\n",
      "1528_volcanoes-a2.arff   5NN   1   5  uncertain_sampling\n",
      "1528_volcanoes-a2.arff   5NN   2   5  uncertain_sampling\n",
      "1528_volcanoes-a2.arff   5NN   3   5  uncertain_sampling\n"
     ]
    },
    {
     "name": "stderr",
     "output_type": "stream",
     "text": [
      "/home/ahmoura/ProgramFiles/anaconda3/lib/python3.7/site-packages/sklearn/model_selection/_split.py:1788: FutureWarning: From version 0.21, test_size will always complement train_size unless both are specified.\n",
      "  FutureWarning)\n"
     ]
    },
    {
     "name": "stdout",
     "output_type": "stream",
     "text": [
      "1528_volcanoes-a2.arff   5NN   4   5  uncertain_sampling\n",
      "1528_volcanoes-a2.arff   5NN   0   5  random sampling\n",
      "1528_volcanoes-a2.arff   5NN   1   5  random sampling\n",
      "1528_volcanoes-a2.arff   5NN   2   5  random sampling\n",
      "1528_volcanoes-a2.arff   5NN   3   5  random sampling\n",
      "1528_volcanoes-a2.arff   5NN   4   5  random sampling\n",
      "1528_volcanoes-a2.arff   5NN   0   5  query_by_committee\n",
      "1528_volcanoes-a2.arff   5NN   1   5  query_by_committee\n",
      "1528_volcanoes-a2.arff   5NN   2   5  query_by_committee\n",
      "1528_volcanoes-a2.arff   5NN   3   5  query_by_committee\n",
      "1528_volcanoes-a2.arff   5NN   4   5  query_by_committee\n",
      "1528_volcanoes-a2.arff   5NN   0   5  exp error reduction\n",
      "1528_volcanoes-a2.arff   5NN   1   5  exp error reduction\n",
      "1528_volcanoes-a2.arff   5NN   2   5  exp error reduction\n",
      "1528_volcanoes-a2.arff   5NN   3   5  exp error reduction\n",
      "1528_volcanoes-a2.arff   5NN   4   5  exp error reduction\n",
      "1528_volcanoes-a2.arff   5NN   0   5  exp model change\n",
      "1528_volcanoes-a2.arff   5NN   1   5  exp model change\n",
      "1528_volcanoes-a2.arff   5NN   2   5  exp model change\n",
      "1528_volcanoes-a2.arff   5NN   3   5  exp model change\n",
      "1528_volcanoes-a2.arff   5NN   4   5  exp model change\n",
      "1528_volcanoes-a2.arff   C4.5   0   5  uncertain_sampling\n",
      "1528_volcanoes-a2.arff   C4.5   1   5  uncertain_sampling\n",
      "1528_volcanoes-a2.arff   C4.5   2   5  uncertain_sampling\n",
      "1528_volcanoes-a2.arff   C4.5   3   5  uncertain_sampling\n",
      "1528_volcanoes-a2.arff   C4.5   4   5  uncertain_sampling\n"
     ]
    },
    {
     "name": "stderr",
     "output_type": "stream",
     "text": [
      "/home/ahmoura/ProgramFiles/anaconda3/lib/python3.7/site-packages/sklearn/model_selection/_split.py:1788: FutureWarning: From version 0.21, test_size will always complement train_size unless both are specified.\n",
      "  FutureWarning)\n"
     ]
    },
    {
     "name": "stdout",
     "output_type": "stream",
     "text": [
      "1528_volcanoes-a2.arff   C4.5   0   5  random sampling\n",
      "1528_volcanoes-a2.arff   C4.5   1   5  random sampling\n",
      "1528_volcanoes-a2.arff   C4.5   2   5  random sampling\n",
      "1528_volcanoes-a2.arff   C4.5   3   5  random sampling\n",
      "1528_volcanoes-a2.arff   C4.5   4   5  random sampling\n",
      "1528_volcanoes-a2.arff   C4.5   0   5  query_by_committee\n",
      "1528_volcanoes-a2.arff   C4.5   1   5  query_by_committee\n",
      "1528_volcanoes-a2.arff   C4.5   2   5  query_by_committee\n",
      "1528_volcanoes-a2.arff   C4.5   3   5  query_by_committee\n",
      "1528_volcanoes-a2.arff   C4.5   4   5  query_by_committee\n",
      "1528_volcanoes-a2.arff   C4.5   0   5  exp error reduction\n",
      "1528_volcanoes-a2.arff   C4.5   1   5  exp error reduction\n",
      "1528_volcanoes-a2.arff   C4.5   2   5  exp error reduction\n",
      "1528_volcanoes-a2.arff   C4.5   3   5  exp error reduction\n",
      "1528_volcanoes-a2.arff   C4.5   4   5  exp error reduction\n",
      "1528_volcanoes-a2.arff   C4.5   0   5  exp model change\n",
      "1528_volcanoes-a2.arff   C4.5   1   5  exp model change\n",
      "1528_volcanoes-a2.arff   C4.5   2   5  exp model change\n",
      "1528_volcanoes-a2.arff   C4.5   3   5  exp model change\n",
      "1528_volcanoes-a2.arff   C4.5   4   5  exp model change\n",
      "1528_volcanoes-a2.arff   NB   0   5  uncertain_sampling\n",
      "1528_volcanoes-a2.arff   NB   1   5  uncertain_sampling\n",
      "1528_volcanoes-a2.arff   NB   2   5  uncertain_sampling\n",
      "1528_volcanoes-a2.arff   NB   3   5  uncertain_sampling\n",
      "1528_volcanoes-a2.arff   NB   4   5  uncertain_sampling\n",
      "1528_volcanoes-a2.arff   NB   0   5  random sampling\n",
      "1528_volcanoes-a2.arff   NB   1   5  random sampling\n",
      "1528_volcanoes-a2.arff   NB   2   5  random sampling\n",
      "1528_volcanoes-a2.arff   NB   3   5  random sampling\n",
      "1528_volcanoes-a2.arff   NB   4   5  random sampling\n",
      "1528_volcanoes-a2.arff   NB   0   5  query_by_committee\n"
     ]
    },
    {
     "name": "stderr",
     "output_type": "stream",
     "text": [
      "/home/ahmoura/ProgramFiles/anaconda3/lib/python3.7/site-packages/sklearn/model_selection/_split.py:1788: FutureWarning: From version 0.21, test_size will always complement train_size unless both are specified.\n",
      "  FutureWarning)\n"
     ]
    },
    {
     "name": "stdout",
     "output_type": "stream",
     "text": [
      "1528_volcanoes-a2.arff   NB   1   5  query_by_committee\n",
      "1528_volcanoes-a2.arff   NB   2   5  query_by_committee\n",
      "1528_volcanoes-a2.arff   NB   3   5  query_by_committee\n",
      "1528_volcanoes-a2.arff   NB   4   5  query_by_committee\n",
      "1528_volcanoes-a2.arff   NB   0   5  exp error reduction\n",
      "1528_volcanoes-a2.arff   NB   1   5  exp error reduction\n",
      "1528_volcanoes-a2.arff   NB   2   5  exp error reduction\n",
      "1528_volcanoes-a2.arff   NB   3   5  exp error reduction\n",
      "1528_volcanoes-a2.arff   NB   4   5  exp error reduction\n",
      "1528_volcanoes-a2.arff   NB   0   5  exp model change\n",
      "1528_volcanoes-a2.arff   NB   1   5  exp model change\n",
      "1528_volcanoes-a2.arff   NB   2   5  exp model change\n",
      "1528_volcanoes-a2.arff   NB   3   5  exp model change\n",
      "1528_volcanoes-a2.arff   NB   4   5  exp model change\n",
      "1528_volcanoes-a2.arff   RF   0   5  uncertain_sampling\n",
      "1528_volcanoes-a2.arff   RF   1   5  uncertain_sampling\n",
      "1528_volcanoes-a2.arff   RF   2   5  uncertain_sampling\n",
      "1528_volcanoes-a2.arff   RF   3   5  uncertain_sampling\n"
     ]
    },
    {
     "name": "stderr",
     "output_type": "stream",
     "text": [
      "/home/ahmoura/ProgramFiles/anaconda3/lib/python3.7/site-packages/sklearn/model_selection/_split.py:1788: FutureWarning: From version 0.21, test_size will always complement train_size unless both are specified.\n",
      "  FutureWarning)\n",
      "/home/ahmoura/ProgramFiles/anaconda3/lib/python3.7/site-packages/sklearn/ensemble/forest.py:246: FutureWarning: The default value of n_estimators will change from 10 in version 0.20 to 100 in 0.22.\n",
      "  \"10 in version 0.20 to 100 in 0.22.\", FutureWarning)\n"
     ]
    },
    {
     "name": "stdout",
     "output_type": "stream",
     "text": [
      "1528_volcanoes-a2.arff   RF   4   5  uncertain_sampling\n",
      "1528_volcanoes-a2.arff   RF   0   5  random sampling\n",
      "1528_volcanoes-a2.arff   RF   1   5  random sampling\n",
      "1528_volcanoes-a2.arff   RF   2   5  random sampling\n",
      "1528_volcanoes-a2.arff   RF   3   5  random sampling\n",
      "1528_volcanoes-a2.arff   RF   4   5  random sampling\n",
      "1528_volcanoes-a2.arff   RF   0   5  query_by_committee\n"
     ]
    },
    {
     "name": "stderr",
     "output_type": "stream",
     "text": [
      "/home/ahmoura/ProgramFiles/anaconda3/lib/python3.7/site-packages/sklearn/ensemble/forest.py:246: FutureWarning: The default value of n_estimators will change from 10 in version 0.20 to 100 in 0.22.\n",
      "  \"10 in version 0.20 to 100 in 0.22.\", FutureWarning)\n",
      "/home/ahmoura/ProgramFiles/anaconda3/lib/python3.7/site-packages/sklearn/ensemble/forest.py:246: FutureWarning: The default value of n_estimators will change from 10 in version 0.20 to 100 in 0.22.\n",
      "  \"10 in version 0.20 to 100 in 0.22.\", FutureWarning)\n",
      "/home/ahmoura/ProgramFiles/anaconda3/lib/python3.7/site-packages/sklearn/ensemble/forest.py:246: FutureWarning: The default value of n_estimators will change from 10 in version 0.20 to 100 in 0.22.\n",
      "  \"10 in version 0.20 to 100 in 0.22.\", FutureWarning)\n",
      "/home/ahmoura/ProgramFiles/anaconda3/lib/python3.7/site-packages/sklearn/ensemble/forest.py:246: FutureWarning: The default value of n_estimators will change from 10 in version 0.20 to 100 in 0.22.\n",
      "  \"10 in version 0.20 to 100 in 0.22.\", FutureWarning)\n",
      "/home/ahmoura/ProgramFiles/anaconda3/lib/python3.7/site-packages/sklearn/ensemble/forest.py:246: FutureWarning: The default value of n_estimators will change from 10 in version 0.20 to 100 in 0.22.\n",
      "  \"10 in version 0.20 to 100 in 0.22.\", FutureWarning)\n",
      "/home/ahmoura/ProgramFiles/anaconda3/lib/python3.7/site-packages/sklearn/ensemble/forest.py:246: FutureWarning: The default value of n_estimators will change from 10 in version 0.20 to 100 in 0.22.\n",
      "  \"10 in version 0.20 to 100 in 0.22.\", FutureWarning)\n",
      "/home/ahmoura/ProgramFiles/anaconda3/lib/python3.7/site-packages/sklearn/ensemble/forest.py:246: FutureWarning: The default value of n_estimators will change from 10 in version 0.20 to 100 in 0.22.\n",
      "  \"10 in version 0.20 to 100 in 0.22.\", FutureWarning)\n",
      "/home/ahmoura/ProgramFiles/anaconda3/lib/python3.7/site-packages/sklearn/ensemble/forest.py:246: FutureWarning: The default value of n_estimators will change from 10 in version 0.20 to 100 in 0.22.\n",
      "  \"10 in version 0.20 to 100 in 0.22.\", FutureWarning)\n",
      "/home/ahmoura/ProgramFiles/anaconda3/lib/python3.7/site-packages/sklearn/ensemble/forest.py:246: FutureWarning: The default value of n_estimators will change from 10 in version 0.20 to 100 in 0.22.\n",
      "  \"10 in version 0.20 to 100 in 0.22.\", FutureWarning)\n",
      "/home/ahmoura/ProgramFiles/anaconda3/lib/python3.7/site-packages/sklearn/ensemble/forest.py:246: FutureWarning: The default value of n_estimators will change from 10 in version 0.20 to 100 in 0.22.\n",
      "  \"10 in version 0.20 to 100 in 0.22.\", FutureWarning)\n"
     ]
    },
    {
     "name": "stdout",
     "output_type": "stream",
     "text": [
      "1528_volcanoes-a2.arff   RF   1   5  query_by_committee\n"
     ]
    },
    {
     "name": "stderr",
     "output_type": "stream",
     "text": [
      "/home/ahmoura/ProgramFiles/anaconda3/lib/python3.7/site-packages/sklearn/ensemble/forest.py:246: FutureWarning: The default value of n_estimators will change from 10 in version 0.20 to 100 in 0.22.\n",
      "  \"10 in version 0.20 to 100 in 0.22.\", FutureWarning)\n",
      "/home/ahmoura/ProgramFiles/anaconda3/lib/python3.7/site-packages/sklearn/ensemble/forest.py:246: FutureWarning: The default value of n_estimators will change from 10 in version 0.20 to 100 in 0.22.\n",
      "  \"10 in version 0.20 to 100 in 0.22.\", FutureWarning)\n",
      "/home/ahmoura/ProgramFiles/anaconda3/lib/python3.7/site-packages/sklearn/ensemble/forest.py:246: FutureWarning: The default value of n_estimators will change from 10 in version 0.20 to 100 in 0.22.\n",
      "  \"10 in version 0.20 to 100 in 0.22.\", FutureWarning)\n",
      "/home/ahmoura/ProgramFiles/anaconda3/lib/python3.7/site-packages/sklearn/ensemble/forest.py:246: FutureWarning: The default value of n_estimators will change from 10 in version 0.20 to 100 in 0.22.\n",
      "  \"10 in version 0.20 to 100 in 0.22.\", FutureWarning)\n",
      "/home/ahmoura/ProgramFiles/anaconda3/lib/python3.7/site-packages/sklearn/ensemble/forest.py:246: FutureWarning: The default value of n_estimators will change from 10 in version 0.20 to 100 in 0.22.\n",
      "  \"10 in version 0.20 to 100 in 0.22.\", FutureWarning)\n",
      "/home/ahmoura/ProgramFiles/anaconda3/lib/python3.7/site-packages/sklearn/ensemble/forest.py:246: FutureWarning: The default value of n_estimators will change from 10 in version 0.20 to 100 in 0.22.\n",
      "  \"10 in version 0.20 to 100 in 0.22.\", FutureWarning)\n",
      "/home/ahmoura/ProgramFiles/anaconda3/lib/python3.7/site-packages/sklearn/ensemble/forest.py:246: FutureWarning: The default value of n_estimators will change from 10 in version 0.20 to 100 in 0.22.\n",
      "  \"10 in version 0.20 to 100 in 0.22.\", FutureWarning)\n",
      "/home/ahmoura/ProgramFiles/anaconda3/lib/python3.7/site-packages/sklearn/ensemble/forest.py:246: FutureWarning: The default value of n_estimators will change from 10 in version 0.20 to 100 in 0.22.\n",
      "  \"10 in version 0.20 to 100 in 0.22.\", FutureWarning)\n",
      "/home/ahmoura/ProgramFiles/anaconda3/lib/python3.7/site-packages/sklearn/ensemble/forest.py:246: FutureWarning: The default value of n_estimators will change from 10 in version 0.20 to 100 in 0.22.\n",
      "  \"10 in version 0.20 to 100 in 0.22.\", FutureWarning)\n",
      "/home/ahmoura/ProgramFiles/anaconda3/lib/python3.7/site-packages/sklearn/ensemble/forest.py:246: FutureWarning: The default value of n_estimators will change from 10 in version 0.20 to 100 in 0.22.\n",
      "  \"10 in version 0.20 to 100 in 0.22.\", FutureWarning)\n"
     ]
    },
    {
     "name": "stdout",
     "output_type": "stream",
     "text": [
      "1528_volcanoes-a2.arff   RF   2   5  query_by_committee\n"
     ]
    },
    {
     "name": "stderr",
     "output_type": "stream",
     "text": [
      "/home/ahmoura/ProgramFiles/anaconda3/lib/python3.7/site-packages/sklearn/ensemble/forest.py:246: FutureWarning: The default value of n_estimators will change from 10 in version 0.20 to 100 in 0.22.\n",
      "  \"10 in version 0.20 to 100 in 0.22.\", FutureWarning)\n",
      "/home/ahmoura/ProgramFiles/anaconda3/lib/python3.7/site-packages/sklearn/ensemble/forest.py:246: FutureWarning: The default value of n_estimators will change from 10 in version 0.20 to 100 in 0.22.\n",
      "  \"10 in version 0.20 to 100 in 0.22.\", FutureWarning)\n",
      "/home/ahmoura/ProgramFiles/anaconda3/lib/python3.7/site-packages/sklearn/ensemble/forest.py:246: FutureWarning: The default value of n_estimators will change from 10 in version 0.20 to 100 in 0.22.\n",
      "  \"10 in version 0.20 to 100 in 0.22.\", FutureWarning)\n",
      "/home/ahmoura/ProgramFiles/anaconda3/lib/python3.7/site-packages/sklearn/ensemble/forest.py:246: FutureWarning: The default value of n_estimators will change from 10 in version 0.20 to 100 in 0.22.\n",
      "  \"10 in version 0.20 to 100 in 0.22.\", FutureWarning)\n",
      "/home/ahmoura/ProgramFiles/anaconda3/lib/python3.7/site-packages/sklearn/ensemble/forest.py:246: FutureWarning: The default value of n_estimators will change from 10 in version 0.20 to 100 in 0.22.\n",
      "  \"10 in version 0.20 to 100 in 0.22.\", FutureWarning)\n",
      "/home/ahmoura/ProgramFiles/anaconda3/lib/python3.7/site-packages/sklearn/ensemble/forest.py:246: FutureWarning: The default value of n_estimators will change from 10 in version 0.20 to 100 in 0.22.\n",
      "  \"10 in version 0.20 to 100 in 0.22.\", FutureWarning)\n",
      "/home/ahmoura/ProgramFiles/anaconda3/lib/python3.7/site-packages/sklearn/ensemble/forest.py:246: FutureWarning: The default value of n_estimators will change from 10 in version 0.20 to 100 in 0.22.\n",
      "  \"10 in version 0.20 to 100 in 0.22.\", FutureWarning)\n",
      "/home/ahmoura/ProgramFiles/anaconda3/lib/python3.7/site-packages/sklearn/ensemble/forest.py:246: FutureWarning: The default value of n_estimators will change from 10 in version 0.20 to 100 in 0.22.\n",
      "  \"10 in version 0.20 to 100 in 0.22.\", FutureWarning)\n",
      "/home/ahmoura/ProgramFiles/anaconda3/lib/python3.7/site-packages/sklearn/ensemble/forest.py:246: FutureWarning: The default value of n_estimators will change from 10 in version 0.20 to 100 in 0.22.\n",
      "  \"10 in version 0.20 to 100 in 0.22.\", FutureWarning)\n",
      "/home/ahmoura/ProgramFiles/anaconda3/lib/python3.7/site-packages/sklearn/ensemble/forest.py:246: FutureWarning: The default value of n_estimators will change from 10 in version 0.20 to 100 in 0.22.\n",
      "  \"10 in version 0.20 to 100 in 0.22.\", FutureWarning)\n"
     ]
    },
    {
     "name": "stdout",
     "output_type": "stream",
     "text": [
      "1528_volcanoes-a2.arff   RF   3   5  query_by_committee\n"
     ]
    },
    {
     "name": "stderr",
     "output_type": "stream",
     "text": [
      "/home/ahmoura/ProgramFiles/anaconda3/lib/python3.7/site-packages/sklearn/ensemble/forest.py:246: FutureWarning: The default value of n_estimators will change from 10 in version 0.20 to 100 in 0.22.\n",
      "  \"10 in version 0.20 to 100 in 0.22.\", FutureWarning)\n",
      "/home/ahmoura/ProgramFiles/anaconda3/lib/python3.7/site-packages/sklearn/ensemble/forest.py:246: FutureWarning: The default value of n_estimators will change from 10 in version 0.20 to 100 in 0.22.\n",
      "  \"10 in version 0.20 to 100 in 0.22.\", FutureWarning)\n",
      "/home/ahmoura/ProgramFiles/anaconda3/lib/python3.7/site-packages/sklearn/ensemble/forest.py:246: FutureWarning: The default value of n_estimators will change from 10 in version 0.20 to 100 in 0.22.\n",
      "  \"10 in version 0.20 to 100 in 0.22.\", FutureWarning)\n",
      "/home/ahmoura/ProgramFiles/anaconda3/lib/python3.7/site-packages/sklearn/ensemble/forest.py:246: FutureWarning: The default value of n_estimators will change from 10 in version 0.20 to 100 in 0.22.\n",
      "  \"10 in version 0.20 to 100 in 0.22.\", FutureWarning)\n",
      "/home/ahmoura/ProgramFiles/anaconda3/lib/python3.7/site-packages/sklearn/ensemble/forest.py:246: FutureWarning: The default value of n_estimators will change from 10 in version 0.20 to 100 in 0.22.\n",
      "  \"10 in version 0.20 to 100 in 0.22.\", FutureWarning)\n",
      "/home/ahmoura/ProgramFiles/anaconda3/lib/python3.7/site-packages/sklearn/ensemble/forest.py:246: FutureWarning: The default value of n_estimators will change from 10 in version 0.20 to 100 in 0.22.\n",
      "  \"10 in version 0.20 to 100 in 0.22.\", FutureWarning)\n",
      "/home/ahmoura/ProgramFiles/anaconda3/lib/python3.7/site-packages/sklearn/ensemble/forest.py:246: FutureWarning: The default value of n_estimators will change from 10 in version 0.20 to 100 in 0.22.\n",
      "  \"10 in version 0.20 to 100 in 0.22.\", FutureWarning)\n",
      "/home/ahmoura/ProgramFiles/anaconda3/lib/python3.7/site-packages/sklearn/ensemble/forest.py:246: FutureWarning: The default value of n_estimators will change from 10 in version 0.20 to 100 in 0.22.\n",
      "  \"10 in version 0.20 to 100 in 0.22.\", FutureWarning)\n",
      "/home/ahmoura/ProgramFiles/anaconda3/lib/python3.7/site-packages/sklearn/ensemble/forest.py:246: FutureWarning: The default value of n_estimators will change from 10 in version 0.20 to 100 in 0.22.\n",
      "  \"10 in version 0.20 to 100 in 0.22.\", FutureWarning)\n",
      "/home/ahmoura/ProgramFiles/anaconda3/lib/python3.7/site-packages/sklearn/ensemble/forest.py:246: FutureWarning: The default value of n_estimators will change from 10 in version 0.20 to 100 in 0.22.\n",
      "  \"10 in version 0.20 to 100 in 0.22.\", FutureWarning)\n"
     ]
    },
    {
     "name": "stdout",
     "output_type": "stream",
     "text": [
      "1528_volcanoes-a2.arff   RF   4   5  query_by_committee\n"
     ]
    },
    {
     "name": "stderr",
     "output_type": "stream",
     "text": [
      "/home/ahmoura/ProgramFiles/anaconda3/lib/python3.7/site-packages/sklearn/ensemble/forest.py:246: FutureWarning: The default value of n_estimators will change from 10 in version 0.20 to 100 in 0.22.\n",
      "  \"10 in version 0.20 to 100 in 0.22.\", FutureWarning)\n",
      "/home/ahmoura/ProgramFiles/anaconda3/lib/python3.7/site-packages/sklearn/ensemble/forest.py:246: FutureWarning: The default value of n_estimators will change from 10 in version 0.20 to 100 in 0.22.\n",
      "  \"10 in version 0.20 to 100 in 0.22.\", FutureWarning)\n",
      "/home/ahmoura/ProgramFiles/anaconda3/lib/python3.7/site-packages/sklearn/ensemble/forest.py:246: FutureWarning: The default value of n_estimators will change from 10 in version 0.20 to 100 in 0.22.\n",
      "  \"10 in version 0.20 to 100 in 0.22.\", FutureWarning)\n",
      "/home/ahmoura/ProgramFiles/anaconda3/lib/python3.7/site-packages/sklearn/ensemble/forest.py:246: FutureWarning: The default value of n_estimators will change from 10 in version 0.20 to 100 in 0.22.\n",
      "  \"10 in version 0.20 to 100 in 0.22.\", FutureWarning)\n",
      "/home/ahmoura/ProgramFiles/anaconda3/lib/python3.7/site-packages/sklearn/ensemble/forest.py:246: FutureWarning: The default value of n_estimators will change from 10 in version 0.20 to 100 in 0.22.\n",
      "  \"10 in version 0.20 to 100 in 0.22.\", FutureWarning)\n",
      "/home/ahmoura/ProgramFiles/anaconda3/lib/python3.7/site-packages/sklearn/ensemble/forest.py:246: FutureWarning: The default value of n_estimators will change from 10 in version 0.20 to 100 in 0.22.\n",
      "  \"10 in version 0.20 to 100 in 0.22.\", FutureWarning)\n",
      "/home/ahmoura/ProgramFiles/anaconda3/lib/python3.7/site-packages/sklearn/ensemble/forest.py:246: FutureWarning: The default value of n_estimators will change from 10 in version 0.20 to 100 in 0.22.\n",
      "  \"10 in version 0.20 to 100 in 0.22.\", FutureWarning)\n",
      "/home/ahmoura/ProgramFiles/anaconda3/lib/python3.7/site-packages/sklearn/ensemble/forest.py:246: FutureWarning: The default value of n_estimators will change from 10 in version 0.20 to 100 in 0.22.\n",
      "  \"10 in version 0.20 to 100 in 0.22.\", FutureWarning)\n",
      "/home/ahmoura/ProgramFiles/anaconda3/lib/python3.7/site-packages/sklearn/ensemble/forest.py:246: FutureWarning: The default value of n_estimators will change from 10 in version 0.20 to 100 in 0.22.\n",
      "  \"10 in version 0.20 to 100 in 0.22.\", FutureWarning)\n",
      "/home/ahmoura/ProgramFiles/anaconda3/lib/python3.7/site-packages/sklearn/ensemble/forest.py:246: FutureWarning: The default value of n_estimators will change from 10 in version 0.20 to 100 in 0.22.\n",
      "  \"10 in version 0.20 to 100 in 0.22.\", FutureWarning)\n"
     ]
    },
    {
     "name": "stdout",
     "output_type": "stream",
     "text": [
      "1528_volcanoes-a2.arff   RF   0   5  exp error reduction\n",
      "1528_volcanoes-a2.arff   RF   1   5  exp error reduction\n",
      "1528_volcanoes-a2.arff   RF   2   5  exp error reduction\n",
      "1528_volcanoes-a2.arff   RF   3   5  exp error reduction\n",
      "1528_volcanoes-a2.arff   RF   4   5  exp error reduction\n",
      "1528_volcanoes-a2.arff   RF   0   5  exp model change\n",
      "1528_volcanoes-a2.arff   RF   1   5  exp model change\n",
      "1528_volcanoes-a2.arff   RF   2   5  exp model change\n",
      "1528_volcanoes-a2.arff   RF   3   5  exp model change\n",
      "1528_volcanoes-a2.arff   RF   4   5  exp model change\n",
      "1465_breast-tissue.arff   5NN   0   5  uncertain_sampling\n",
      "1465_breast-tissue.arff   5NN   1   5  uncertain_sampling\n",
      "1465_breast-tissue.arff   5NN   2   5  uncertain_sampling\n",
      "1465_breast-tissue.arff   5NN   3   5  uncertain_sampling\n"
     ]
    },
    {
     "name": "stderr",
     "output_type": "stream",
     "text": [
      "/home/ahmoura/ProgramFiles/anaconda3/lib/python3.7/site-packages/sklearn/model_selection/_split.py:1788: FutureWarning: From version 0.21, test_size will always complement train_size unless both are specified.\n",
      "  FutureWarning)\n"
     ]
    },
    {
     "name": "stdout",
     "output_type": "stream",
     "text": [
      "1465_breast-tissue.arff   5NN   4   5  uncertain_sampling\n",
      "1465_breast-tissue.arff   5NN   0   5  random sampling\n",
      "1465_breast-tissue.arff   5NN   1   5  random sampling\n",
      "1465_breast-tissue.arff   5NN   2   5  random sampling\n",
      "1465_breast-tissue.arff   5NN   3   5  random sampling\n",
      "1465_breast-tissue.arff   5NN   4   5  random sampling\n",
      "1465_breast-tissue.arff   5NN   0   5  query_by_committee\n"
     ]
    },
    {
     "ename": "ValueError",
     "evalue": "Expected n_neighbors <= n_samples,  but n_samples = 2, n_neighbors = 5",
     "output_type": "error",
     "traceback": [
      "\u001b[0;31m---------------------------------------------------------------------------\u001b[0m",
      "\u001b[0;31mValueError\u001b[0m                                Traceback (most recent call last)",
      "\u001b[0;32m<ipython-input-25-e2d191996b6c>\u001b[0m in \u001b[0;36m<module>\u001b[0;34m\u001b[0m\n\u001b[1;32m     16\u001b[0m         \u001b[0;32mfor\u001b[0m \u001b[0midx_bag\u001b[0m \u001b[0;32min\u001b[0m \u001b[0mrange\u001b[0m\u001b[0;34m(\u001b[0m\u001b[0mn_splits\u001b[0m\u001b[0;34m)\u001b[0m\u001b[0;34m:\u001b[0m\u001b[0;34m\u001b[0m\u001b[0;34m\u001b[0m\u001b[0m\n\u001b[1;32m     17\u001b[0m             \u001b[0mprint\u001b[0m\u001b[0;34m(\u001b[0m\u001b[0mds\u001b[0m\u001b[0;34m,\u001b[0m \u001b[0;34m\" \"\u001b[0m\u001b[0;34m,\u001b[0m \u001b[0mcls\u001b[0m\u001b[0;34m,\u001b[0m \u001b[0;34m\" \"\u001b[0m\u001b[0;34m,\u001b[0m \u001b[0midx_bag\u001b[0m\u001b[0;34m,\u001b[0m \u001b[0;34m\" \"\u001b[0m\u001b[0;34m,\u001b[0m \u001b[0mn_splits\u001b[0m\u001b[0;34m,\u001b[0m \u001b[0;34m\" query_by_committee\"\u001b[0m\u001b[0;34m)\u001b[0m\u001b[0;34m\u001b[0m\u001b[0;34m\u001b[0m\u001b[0m\n\u001b[0;32m---> 18\u001b[0;31m             \u001b[0mtotal_performance_history\u001b[0m\u001b[0;34m.\u001b[0m\u001b[0mappend\u001b[0m\u001b[0;34m(\u001b[0m\u001b[0mquery_by_committee\u001b[0m\u001b[0;34m(\u001b[0m\u001b[0mdeepcopy\u001b[0m\u001b[0;34m(\u001b[0m\u001b[0mX_raw\u001b[0m\u001b[0;34m)\u001b[0m\u001b[0;34m,\u001b[0m \u001b[0mdeepcopy\u001b[0m\u001b[0;34m(\u001b[0m\u001b[0my_raw\u001b[0m\u001b[0;34m)\u001b[0m\u001b[0;34m,\u001b[0m \u001b[0midx_data\u001b[0m\u001b[0;34m,\u001b[0m \u001b[0midx_bag\u001b[0m\u001b[0;34m,\u001b[0m \u001b[0mcls\u001b[0m\u001b[0;34m,\u001b[0m \u001b[0mk\u001b[0m\u001b[0;34m,\u001b[0m \u001b[0mcost\u001b[0m\u001b[0;34m)\u001b[0m\u001b[0;34m)\u001b[0m\u001b[0;34m\u001b[0m\u001b[0;34m\u001b[0m\u001b[0m\n\u001b[0m\u001b[1;32m     19\u001b[0m         \u001b[0;32mfor\u001b[0m \u001b[0midx_bag\u001b[0m \u001b[0;32min\u001b[0m \u001b[0mrange\u001b[0m\u001b[0;34m(\u001b[0m\u001b[0mn_splits\u001b[0m\u001b[0;34m)\u001b[0m\u001b[0;34m:\u001b[0m\u001b[0;34m\u001b[0m\u001b[0;34m\u001b[0m\u001b[0m\n\u001b[1;32m     20\u001b[0m             \u001b[0mprint\u001b[0m\u001b[0;34m(\u001b[0m\u001b[0mds\u001b[0m\u001b[0;34m,\u001b[0m \u001b[0;34m\" \"\u001b[0m\u001b[0;34m,\u001b[0m \u001b[0mcls\u001b[0m\u001b[0;34m,\u001b[0m \u001b[0;34m\" \"\u001b[0m\u001b[0;34m,\u001b[0m \u001b[0midx_bag\u001b[0m\u001b[0;34m,\u001b[0m \u001b[0;34m\" \"\u001b[0m\u001b[0;34m,\u001b[0m \u001b[0mn_splits\u001b[0m\u001b[0;34m,\u001b[0m \u001b[0;34m\" exp error reduction\"\u001b[0m\u001b[0;34m)\u001b[0m\u001b[0;34m\u001b[0m\u001b[0;34m\u001b[0m\u001b[0m\n",
      "\u001b[0;32m<ipython-input-15-738f745040d0>\u001b[0m in \u001b[0;36mquery_by_committee\u001b[0;34m(X_raw, y_raw, idx_data, idx_bag, classifier, init_size, cost)\u001b[0m\n\u001b[1;32m     32\u001b[0m     \u001b[0;31m# query by committee\u001b[0m\u001b[0;34m\u001b[0m\u001b[0;34m\u001b[0m\u001b[0;34m\u001b[0m\u001b[0m\n\u001b[1;32m     33\u001b[0m     \u001b[0;32mfor\u001b[0m \u001b[0midx\u001b[0m \u001b[0;32min\u001b[0m \u001b[0mrange\u001b[0m\u001b[0;34m(\u001b[0m\u001b[0mcost\u001b[0m\u001b[0;34m)\u001b[0m\u001b[0;34m:\u001b[0m\u001b[0;34m\u001b[0m\u001b[0;34m\u001b[0m\u001b[0m\n\u001b[0;32m---> 34\u001b[0;31m         \u001b[0mquery_idx\u001b[0m\u001b[0;34m,\u001b[0m \u001b[0mquery_instance\u001b[0m \u001b[0;34m=\u001b[0m \u001b[0mcommittee\u001b[0m\u001b[0;34m.\u001b[0m\u001b[0mquery\u001b[0m\u001b[0;34m(\u001b[0m\u001b[0mX_pool\u001b[0m\u001b[0;34m,\u001b[0m \u001b[0mn_instances\u001b[0m \u001b[0;34m=\u001b[0m \u001b[0mk\u001b[0m\u001b[0;34m+\u001b[0m\u001b[0;36m1\u001b[0m\u001b[0;34m)\u001b[0m\u001b[0;34m\u001b[0m\u001b[0;34m\u001b[0m\u001b[0m\n\u001b[0m\u001b[1;32m     35\u001b[0m         \u001b[0msample_size\u001b[0m \u001b[0;34m=\u001b[0m \u001b[0msample_size\u001b[0m \u001b[0;34m+\u001b[0m \u001b[0mlen\u001b[0m\u001b[0;34m(\u001b[0m\u001b[0mquery_idx\u001b[0m\u001b[0;34m)\u001b[0m\u001b[0;34m\u001b[0m\u001b[0;34m\u001b[0m\u001b[0m\n\u001b[1;32m     36\u001b[0m         committee.teach(\n",
      "\u001b[0;32m~/ProgramFiles/anaconda3/lib/python3.7/site-packages/modAL/models/base.py\u001b[0m in \u001b[0;36mquery\u001b[0;34m(self, *query_args, **query_kwargs)\u001b[0m\n\u001b[1;32m    317\u001b[0m             \u001b[0mbe\u001b[0m \u001b[0mlabelled\u001b[0m \u001b[0mupon\u001b[0m \u001b[0mquery\u001b[0m \u001b[0msynthesis\u001b[0m\u001b[0;34m.\u001b[0m\u001b[0;34m\u001b[0m\u001b[0;34m\u001b[0m\u001b[0m\n\u001b[1;32m    318\u001b[0m         \"\"\"\n\u001b[0;32m--> 319\u001b[0;31m         \u001b[0mquery_result\u001b[0m \u001b[0;34m=\u001b[0m \u001b[0mself\u001b[0m\u001b[0;34m.\u001b[0m\u001b[0mquery_strategy\u001b[0m\u001b[0;34m(\u001b[0m\u001b[0mself\u001b[0m\u001b[0;34m,\u001b[0m \u001b[0;34m*\u001b[0m\u001b[0mquery_args\u001b[0m\u001b[0;34m,\u001b[0m \u001b[0;34m**\u001b[0m\u001b[0mquery_kwargs\u001b[0m\u001b[0;34m)\u001b[0m\u001b[0;34m\u001b[0m\u001b[0;34m\u001b[0m\u001b[0m\n\u001b[0m\u001b[1;32m    320\u001b[0m         \u001b[0;32mreturn\u001b[0m \u001b[0mquery_result\u001b[0m\u001b[0;34m\u001b[0m\u001b[0;34m\u001b[0m\u001b[0m\n\u001b[1;32m    321\u001b[0m \u001b[0;34m\u001b[0m\u001b[0m\n",
      "\u001b[0;32m~/ProgramFiles/anaconda3/lib/python3.7/site-packages/modAL/disagreement.py\u001b[0m in \u001b[0;36mvote_entropy_sampling\u001b[0;34m(committee, X, n_instances, random_tie_break, **disagreement_measure_kwargs)\u001b[0m\n\u001b[1;32m    122\u001b[0m          \u001b[0mthe\u001b[0m \u001b[0minstances\u001b[0m \u001b[0;32mfrom\u001b[0m \u001b[0mX\u001b[0m \u001b[0mchosen\u001b[0m \u001b[0mto\u001b[0m \u001b[0mbe\u001b[0m \u001b[0mlabelled\u001b[0m\u001b[0;34m.\u001b[0m\u001b[0;34m\u001b[0m\u001b[0;34m\u001b[0m\u001b[0m\n\u001b[1;32m    123\u001b[0m     \"\"\"\n\u001b[0;32m--> 124\u001b[0;31m     \u001b[0mdisagreement\u001b[0m \u001b[0;34m=\u001b[0m \u001b[0mvote_entropy\u001b[0m\u001b[0;34m(\u001b[0m\u001b[0mcommittee\u001b[0m\u001b[0;34m,\u001b[0m \u001b[0mX\u001b[0m\u001b[0;34m,\u001b[0m \u001b[0;34m**\u001b[0m\u001b[0mdisagreement_measure_kwargs\u001b[0m\u001b[0;34m)\u001b[0m\u001b[0;34m\u001b[0m\u001b[0;34m\u001b[0m\u001b[0m\n\u001b[0m\u001b[1;32m    125\u001b[0m \u001b[0;34m\u001b[0m\u001b[0m\n\u001b[1;32m    126\u001b[0m     \u001b[0;32mif\u001b[0m \u001b[0;32mnot\u001b[0m \u001b[0mrandom_tie_break\u001b[0m\u001b[0;34m:\u001b[0m\u001b[0;34m\u001b[0m\u001b[0;34m\u001b[0m\u001b[0m\n",
      "\u001b[0;32m~/ProgramFiles/anaconda3/lib/python3.7/site-packages/modAL/disagreement.py\u001b[0m in \u001b[0;36mvote_entropy\u001b[0;34m(committee, X, **predict_proba_kwargs)\u001b[0m\n\u001b[1;32m     31\u001b[0m     \u001b[0mn_learners\u001b[0m \u001b[0;34m=\u001b[0m \u001b[0mlen\u001b[0m\u001b[0;34m(\u001b[0m\u001b[0mcommittee\u001b[0m\u001b[0;34m)\u001b[0m\u001b[0;34m\u001b[0m\u001b[0;34m\u001b[0m\u001b[0m\n\u001b[1;32m     32\u001b[0m     \u001b[0;32mtry\u001b[0m\u001b[0;34m:\u001b[0m\u001b[0;34m\u001b[0m\u001b[0;34m\u001b[0m\u001b[0m\n\u001b[0;32m---> 33\u001b[0;31m         \u001b[0mvotes\u001b[0m \u001b[0;34m=\u001b[0m \u001b[0mcommittee\u001b[0m\u001b[0;34m.\u001b[0m\u001b[0mvote\u001b[0m\u001b[0;34m(\u001b[0m\u001b[0mX\u001b[0m\u001b[0;34m,\u001b[0m \u001b[0;34m**\u001b[0m\u001b[0mpredict_proba_kwargs\u001b[0m\u001b[0;34m)\u001b[0m\u001b[0;34m\u001b[0m\u001b[0;34m\u001b[0m\u001b[0m\n\u001b[0m\u001b[1;32m     34\u001b[0m     \u001b[0;32mexcept\u001b[0m \u001b[0mNotFittedError\u001b[0m\u001b[0;34m:\u001b[0m\u001b[0;34m\u001b[0m\u001b[0;34m\u001b[0m\u001b[0m\n\u001b[1;32m     35\u001b[0m         \u001b[0;32mreturn\u001b[0m \u001b[0mnp\u001b[0m\u001b[0;34m.\u001b[0m\u001b[0mzeros\u001b[0m\u001b[0;34m(\u001b[0m\u001b[0mshape\u001b[0m\u001b[0;34m=\u001b[0m\u001b[0;34m(\u001b[0m\u001b[0mX\u001b[0m\u001b[0;34m.\u001b[0m\u001b[0mshape\u001b[0m\u001b[0;34m[\u001b[0m\u001b[0;36m0\u001b[0m\u001b[0;34m]\u001b[0m\u001b[0;34m,\u001b[0m\u001b[0;34m)\u001b[0m\u001b[0;34m)\u001b[0m\u001b[0;34m\u001b[0m\u001b[0;34m\u001b[0m\u001b[0m\n",
      "\u001b[0;32m~/ProgramFiles/anaconda3/lib/python3.7/site-packages/modAL/models/learners.py\u001b[0m in \u001b[0;36mvote\u001b[0;34m(self, X, **predict_kwargs)\u001b[0m\n\u001b[1;32m    377\u001b[0m \u001b[0;34m\u001b[0m\u001b[0m\n\u001b[1;32m    378\u001b[0m         \u001b[0;32mfor\u001b[0m \u001b[0mlearner_idx\u001b[0m\u001b[0;34m,\u001b[0m \u001b[0mlearner\u001b[0m \u001b[0;32min\u001b[0m \u001b[0menumerate\u001b[0m\u001b[0;34m(\u001b[0m\u001b[0mself\u001b[0m\u001b[0;34m.\u001b[0m\u001b[0mlearner_list\u001b[0m\u001b[0;34m)\u001b[0m\u001b[0;34m:\u001b[0m\u001b[0;34m\u001b[0m\u001b[0;34m\u001b[0m\u001b[0m\n\u001b[0;32m--> 379\u001b[0;31m             \u001b[0mprediction\u001b[0m\u001b[0;34m[\u001b[0m\u001b[0;34m:\u001b[0m\u001b[0;34m,\u001b[0m \u001b[0mlearner_idx\u001b[0m\u001b[0;34m]\u001b[0m \u001b[0;34m=\u001b[0m \u001b[0mlearner\u001b[0m\u001b[0;34m.\u001b[0m\u001b[0mpredict\u001b[0m\u001b[0;34m(\u001b[0m\u001b[0mX\u001b[0m\u001b[0;34m,\u001b[0m \u001b[0;34m**\u001b[0m\u001b[0mpredict_kwargs\u001b[0m\u001b[0;34m)\u001b[0m\u001b[0;34m\u001b[0m\u001b[0;34m\u001b[0m\u001b[0m\n\u001b[0m\u001b[1;32m    380\u001b[0m \u001b[0;34m\u001b[0m\u001b[0m\n\u001b[1;32m    381\u001b[0m         \u001b[0;32mreturn\u001b[0m \u001b[0mprediction\u001b[0m\u001b[0;34m\u001b[0m\u001b[0;34m\u001b[0m\u001b[0m\n",
      "\u001b[0;32m~/ProgramFiles/anaconda3/lib/python3.7/site-packages/modAL/models/base.py\u001b[0m in \u001b[0;36mpredict\u001b[0;34m(self, X, **predict_kwargs)\u001b[0m\n\u001b[1;32m    171\u001b[0m             \u001b[0mEstimator\u001b[0m \u001b[0mpredictions\u001b[0m \u001b[0;32mfor\u001b[0m \u001b[0mX\u001b[0m\u001b[0;34m.\u001b[0m\u001b[0;34m\u001b[0m\u001b[0;34m\u001b[0m\u001b[0m\n\u001b[1;32m    172\u001b[0m         \"\"\"\n\u001b[0;32m--> 173\u001b[0;31m         \u001b[0;32mreturn\u001b[0m \u001b[0mself\u001b[0m\u001b[0;34m.\u001b[0m\u001b[0mestimator\u001b[0m\u001b[0;34m.\u001b[0m\u001b[0mpredict\u001b[0m\u001b[0;34m(\u001b[0m\u001b[0mX\u001b[0m\u001b[0;34m,\u001b[0m \u001b[0;34m**\u001b[0m\u001b[0mpredict_kwargs\u001b[0m\u001b[0;34m)\u001b[0m\u001b[0;34m\u001b[0m\u001b[0;34m\u001b[0m\u001b[0m\n\u001b[0m\u001b[1;32m    174\u001b[0m \u001b[0;34m\u001b[0m\u001b[0m\n\u001b[1;32m    175\u001b[0m     \u001b[0;32mdef\u001b[0m \u001b[0mpredict_proba\u001b[0m\u001b[0;34m(\u001b[0m\u001b[0mself\u001b[0m\u001b[0;34m,\u001b[0m \u001b[0mX\u001b[0m\u001b[0;34m:\u001b[0m \u001b[0mmodALinput\u001b[0m\u001b[0;34m,\u001b[0m \u001b[0;34m**\u001b[0m\u001b[0mpredict_proba_kwargs\u001b[0m\u001b[0;34m)\u001b[0m \u001b[0;34m->\u001b[0m \u001b[0mAny\u001b[0m\u001b[0;34m:\u001b[0m\u001b[0;34m\u001b[0m\u001b[0;34m\u001b[0m\u001b[0m\n",
      "\u001b[0;32m~/ProgramFiles/anaconda3/lib/python3.7/site-packages/sklearn/neighbors/classification.py\u001b[0m in \u001b[0;36mpredict\u001b[0;34m(self, X)\u001b[0m\n\u001b[1;32m    147\u001b[0m         \u001b[0mX\u001b[0m \u001b[0;34m=\u001b[0m \u001b[0mcheck_array\u001b[0m\u001b[0;34m(\u001b[0m\u001b[0mX\u001b[0m\u001b[0;34m,\u001b[0m \u001b[0maccept_sparse\u001b[0m\u001b[0;34m=\u001b[0m\u001b[0;34m'csr'\u001b[0m\u001b[0;34m)\u001b[0m\u001b[0;34m\u001b[0m\u001b[0;34m\u001b[0m\u001b[0m\n\u001b[1;32m    148\u001b[0m \u001b[0;34m\u001b[0m\u001b[0m\n\u001b[0;32m--> 149\u001b[0;31m         \u001b[0mneigh_dist\u001b[0m\u001b[0;34m,\u001b[0m \u001b[0mneigh_ind\u001b[0m \u001b[0;34m=\u001b[0m \u001b[0mself\u001b[0m\u001b[0;34m.\u001b[0m\u001b[0mkneighbors\u001b[0m\u001b[0;34m(\u001b[0m\u001b[0mX\u001b[0m\u001b[0;34m)\u001b[0m\u001b[0;34m\u001b[0m\u001b[0;34m\u001b[0m\u001b[0m\n\u001b[0m\u001b[1;32m    150\u001b[0m         \u001b[0mclasses_\u001b[0m \u001b[0;34m=\u001b[0m \u001b[0mself\u001b[0m\u001b[0;34m.\u001b[0m\u001b[0mclasses_\u001b[0m\u001b[0;34m\u001b[0m\u001b[0;34m\u001b[0m\u001b[0m\n\u001b[1;32m    151\u001b[0m         \u001b[0m_y\u001b[0m \u001b[0;34m=\u001b[0m \u001b[0mself\u001b[0m\u001b[0;34m.\u001b[0m\u001b[0m_y\u001b[0m\u001b[0;34m\u001b[0m\u001b[0;34m\u001b[0m\u001b[0m\n",
      "\u001b[0;32m~/ProgramFiles/anaconda3/lib/python3.7/site-packages/sklearn/neighbors/base.py\u001b[0m in \u001b[0;36mkneighbors\u001b[0;34m(self, X, n_neighbors, return_distance)\u001b[0m\n\u001b[1;32m    414\u001b[0m                 \u001b[0;34m\"Expected n_neighbors <= n_samples, \"\u001b[0m\u001b[0;34m\u001b[0m\u001b[0;34m\u001b[0m\u001b[0m\n\u001b[1;32m    415\u001b[0m                 \u001b[0;34m\" but n_samples = %d, n_neighbors = %d\"\u001b[0m \u001b[0;34m%\u001b[0m\u001b[0;34m\u001b[0m\u001b[0;34m\u001b[0m\u001b[0m\n\u001b[0;32m--> 416\u001b[0;31m                 \u001b[0;34m(\u001b[0m\u001b[0mtrain_size\u001b[0m\u001b[0;34m,\u001b[0m \u001b[0mn_neighbors\u001b[0m\u001b[0;34m)\u001b[0m\u001b[0;34m\u001b[0m\u001b[0;34m\u001b[0m\u001b[0m\n\u001b[0m\u001b[1;32m    417\u001b[0m             )\n\u001b[1;32m    418\u001b[0m         \u001b[0mn_samples\u001b[0m\u001b[0;34m,\u001b[0m \u001b[0m_\u001b[0m \u001b[0;34m=\u001b[0m \u001b[0mX\u001b[0m\u001b[0;34m.\u001b[0m\u001b[0mshape\u001b[0m\u001b[0;34m\u001b[0m\u001b[0;34m\u001b[0m\u001b[0m\n",
      "\u001b[0;31mValueError\u001b[0m: Expected n_neighbors <= n_samples,  but n_samples = 2, n_neighbors = 5"
     ]
    }
   ],
   "source": [
    "datasets = os.listdir('./datasets/luis')\n",
    "classifiers = ['5NN', 'C4.5', 'NB','RF']\n",
    "\n",
    "for ds in datasets:\n",
    "    for cls in classifiers:\n",
    "        classifier = which_classifier(cls)\n",
    "        X_raw, y_raw, idx_data, dataset_name = which_arff_dataset(ds)\n",
    "\n",
    "        #para cada i em idx_bag (\"n_splits\") (1 a 5)\n",
    "        for idx_bag in range(n_splits):\n",
    "            print(ds, \" \", cls, \" \", idx_bag, \" \", n_splits, \" uncertain_sampling\")\n",
    "            total_performance_history.append(uncertain_sampling(deepcopy(X_raw), deepcopy(y_raw), idx_data, idx_bag, classifier, k, cost))\n",
    "        for idx_bag in range(n_splits):\n",
    "            print(ds, \" \", cls, \" \", idx_bag, \" \", n_splits, \" random sampling\")\n",
    "            total_performance_history.append(random_sampling(deepcopy(X_raw), deepcopy(y_raw), idx_data, idx_bag, classifier, k, cost))\n",
    "        for idx_bag in range(n_splits):\n",
    "            print(ds, \" \", cls, \" \", idx_bag, \" \", n_splits, \" query_by_committee\")\n",
    "            total_performance_history.append(query_by_committee(deepcopy(X_raw), deepcopy(y_raw), idx_data, idx_bag, cls, k, cost))\n",
    "        for idx_bag in range(n_splits):\n",
    "            print(ds, \" \", cls, \" \", idx_bag, \" \", n_splits, \" exp error reduction\")\n",
    "            total_performance_history.append(exp_error_reduction(deepcopy(X_raw), deepcopy(y_raw), idx_data, idx_bag, classifier, k, cost))\n",
    "        for idx_bag in range(n_splits):\n",
    "            print(ds, \" \", cls, \" \", idx_bag, \" \", n_splits, \" exp model change\")\n",
    "            total_performance_history.append(exp_model_change(deepcopy(X_raw), deepcopy(y_raw), idx_data, idx_bag, classifier, k, cost))"
   ]
  },
  {
   "cell_type": "code",
   "execution_count": 24,
   "metadata": {},
   "outputs": [
    {
     "data": {
      "text/plain": [
       "[{'performance_history': 0.5125,\n",
       "  'time_elapsed': 0.04636150999976962,\n",
       "  'sample_size': 5,\n",
       "  'Strategy': 'Uncertain Sampling'},\n",
       " {'performance_history': 0.509375,\n",
       "  'time_elapsed': 0.03427030999955605,\n",
       "  'sample_size': 10,\n",
       "  'Strategy': 'Uncertain Sampling'},\n",
       " {'performance_history': 0.690625,\n",
       "  'time_elapsed': 0.08426199499990616,\n",
       "  'sample_size': 30,\n",
       "  'Strategy': 'Uncertain Sampling'},\n",
       " {'performance_history': 0.6875,\n",
       "  'time_elapsed': 0.2064452020003955,\n",
       "  'sample_size': 40,\n",
       "  'Strategy': 'Uncertain Sampling'},\n",
       " {'performance_history': 0.51875,\n",
       "  'time_elapsed': 0.04832541500036314,\n",
       "  'sample_size': 5,\n",
       "  'Strategy': 'Uncertain Sampling'},\n",
       " {'performance_history': 0.496875,\n",
       "  'time_elapsed': 0.007117846000255668,\n",
       "  'sample_size': 5,\n",
       "  'Strategy': 'Uncertain Sampling'},\n",
       " {'performance_history': 0.546875,\n",
       "  'time_elapsed': 0.006794312999772956,\n",
       "  'sample_size': 5,\n",
       "  'Strategy': 'Uncertain Sampling'},\n",
       " {'performance_history': 0.665625,\n",
       "  'time_elapsed': 0.008544811000319896,\n",
       "  'sample_size': 5,\n",
       "  'Strategy': 'Uncertain Sampling'},\n",
       " {'performance_history': 0.584375,\n",
       "  'time_elapsed': 0.006825722999565187,\n",
       "  'sample_size': 5,\n",
       "  'Strategy': 'Uncertain Sampling'},\n",
       " {'performance_history': 0.509375,\n",
       "  'time_elapsed': 0.007134758998290636,\n",
       "  'sample_size': 5,\n",
       "  'Strategy': 'Uncertain Sampling'},\n",
       " {'performance_history': 0.4875,\n",
       "  'time_elapsed': 0.014271009000367485,\n",
       "  'sample_size': 5,\n",
       "  'Strategy': 'Uncertain Sampling'},\n",
       " {'performance_history': 0.509375,\n",
       "  'time_elapsed': 0.009120733999225195,\n",
       "  'sample_size': 5,\n",
       "  'Strategy': 'Uncertain Sampling'},\n",
       " {'performance_history': 0.578125,\n",
       "  'time_elapsed': 0.01149769600124273,\n",
       "  'sample_size': 5,\n",
       "  'Strategy': 'Uncertain Sampling'},\n",
       " {'performance_history': 0.578125,\n",
       "  'time_elapsed': 0.016099260999908438,\n",
       "  'sample_size': 5,\n",
       "  'Strategy': 'Uncertain Sampling'},\n",
       " {'performance_history': 0.50625,\n",
       "  'time_elapsed': 0.018497536999348085,\n",
       "  'sample_size': 5,\n",
       "  'Strategy': 'Uncertain Sampling'},\n",
       " {'performance_history': 0.771875,\n",
       "  'time_elapsed': 0.09657660999982909,\n",
       "  'sample_size': 40,\n",
       "  'Strategy': 'Uncertain Sampling'},\n",
       " {'performance_history': 0.60625,\n",
       "  'time_elapsed': 0.0713874749999377,\n",
       "  'sample_size': 30,\n",
       "  'Strategy': 'Uncertain Sampling'},\n",
       " {'performance_history': 0.790625,\n",
       "  'time_elapsed': 0.14236297999923408,\n",
       "  'sample_size': 40,\n",
       "  'Strategy': 'Uncertain Sampling'},\n",
       " {'performance_history': 0.503125,\n",
       "  'time_elapsed': 0.034486829999877955,\n",
       "  'sample_size': 10,\n",
       "  'Strategy': 'Uncertain Sampling'},\n",
       " {'performance_history': 0.48125,\n",
       "  'time_elapsed': 0.024576144000093336,\n",
       "  'sample_size': 5,\n",
       "  'Strategy': 'Uncertain Sampling'},\n",
       " {'performance_history': 0.6936416184971098,\n",
       "  'time_elapsed': 0.023445820001143147,\n",
       "  'sample_size': 30,\n",
       "  'Strategy': 'Uncertain Sampling'},\n",
       " {'performance_history': 0.6473988439306358,\n",
       "  'time_elapsed': 0.030310685999211273,\n",
       "  'sample_size': 40,\n",
       "  'Strategy': 'Uncertain Sampling'},\n",
       " {'performance_history': 0.6589595375722543,\n",
       "  'time_elapsed': 0.023462801000277977,\n",
       "  'sample_size': 50,\n",
       "  'Strategy': 'Uncertain Sampling'},\n",
       " {'performance_history': 0.6936416184971098,\n",
       "  'time_elapsed': 0.018869841998821357,\n",
       "  'sample_size': 45,\n",
       "  'Strategy': 'Uncertain Sampling'},\n",
       " {'performance_history': 0.6878612716763006,\n",
       "  'time_elapsed': 0.020239408000634285,\n",
       "  'sample_size': 50,\n",
       "  'Strategy': 'Uncertain Sampling'},\n",
       " {'performance_history': 0.7075306479859895,\n",
       "  'time_elapsed': 0.02690124100081448,\n",
       "  'sample_size': 105,\n",
       "  'Strategy': 'Random Sampling'},\n",
       " {'performance_history': 0.7005253940455342,\n",
       "  'time_elapsed': 0.026145709000047646,\n",
       "  'sample_size': 105,\n",
       "  'Strategy': 'Random Sampling'}]"
      ]
     },
     "execution_count": 24,
     "metadata": {},
     "output_type": "execute_result"
    }
   ],
   "source": [
    "total_performance_history"
   ]
  },
  {
   "cell_type": "markdown",
   "metadata": {},
   "source": [
    "## Visualization"
   ]
  },
  {
   "cell_type": "markdown",
   "metadata": {},
   "source": [
    "### Preprocessing"
   ]
  },
  {
   "cell_type": "code",
   "execution_count": 26,
   "metadata": {},
   "outputs": [],
   "source": [
    "df = pd.DataFrame.from_dict(total_performance_history)"
   ]
  },
  {
   "cell_type": "code",
   "execution_count": 27,
   "metadata": {},
   "outputs": [],
   "source": [
    "df = df.explode('performance_history')"
   ]
  },
  {
   "cell_type": "code",
   "execution_count": 33,
   "metadata": {},
   "outputs": [
    {
     "data": {
      "text/html": [
       "<div>\n",
       "<style scoped>\n",
       "    .dataframe tbody tr th:only-of-type {\n",
       "        vertical-align: middle;\n",
       "    }\n",
       "\n",
       "    .dataframe tbody tr th {\n",
       "        vertical-align: top;\n",
       "    }\n",
       "\n",
       "    .dataframe thead th {\n",
       "        text-align: right;\n",
       "    }\n",
       "</style>\n",
       "<table border=\"1\" class=\"dataframe\">\n",
       "  <thead>\n",
       "    <tr style=\"text-align: right;\">\n",
       "      <th></th>\n",
       "      <th>performance_history</th>\n",
       "      <th>time_elapsed</th>\n",
       "      <th>sample_size</th>\n",
       "      <th>Strategy</th>\n",
       "    </tr>\n",
       "  </thead>\n",
       "  <tbody>\n",
       "    <tr>\n",
       "      <th>418</th>\n",
       "      <td>1.00000</td>\n",
       "      <td>4.827460</td>\n",
       "      <td>50</td>\n",
       "      <td>Expected Error Reduction</td>\n",
       "    </tr>\n",
       "    <tr>\n",
       "      <th>354</th>\n",
       "      <td>1.00000</td>\n",
       "      <td>0.004039</td>\n",
       "      <td>5</td>\n",
       "      <td>Uncertain Sampling</td>\n",
       "    </tr>\n",
       "    <tr>\n",
       "      <th>368</th>\n",
       "      <td>1.00000</td>\n",
       "      <td>0.214306</td>\n",
       "      <td>50</td>\n",
       "      <td>Expected Error Reduction</td>\n",
       "    </tr>\n",
       "    <tr>\n",
       "      <th>367</th>\n",
       "      <td>1.00000</td>\n",
       "      <td>0.228743</td>\n",
       "      <td>50</td>\n",
       "      <td>Expected Error Reduction</td>\n",
       "    </tr>\n",
       "    <tr>\n",
       "      <th>361</th>\n",
       "      <td>1.00000</td>\n",
       "      <td>0.006477</td>\n",
       "      <td>105</td>\n",
       "      <td>Random Sampling</td>\n",
       "    </tr>\n",
       "    <tr>\n",
       "      <th>...</th>\n",
       "      <td>...</td>\n",
       "      <td>...</td>\n",
       "      <td>...</td>\n",
       "      <td>...</td>\n",
       "    </tr>\n",
       "    <tr>\n",
       "      <th>252</th>\n",
       "      <td>0.13750</td>\n",
       "      <td>0.005481</td>\n",
       "      <td>5</td>\n",
       "      <td>Uncertain Sampling</td>\n",
       "    </tr>\n",
       "    <tr>\n",
       "      <th>279</th>\n",
       "      <td>0.11875</td>\n",
       "      <td>0.008610</td>\n",
       "      <td>5</td>\n",
       "      <td>Uncertain Sampling</td>\n",
       "    </tr>\n",
       "    <tr>\n",
       "      <th>255</th>\n",
       "      <td>0.11250</td>\n",
       "      <td>0.005454</td>\n",
       "      <td>5</td>\n",
       "      <td>Uncertain Sampling</td>\n",
       "    </tr>\n",
       "    <tr>\n",
       "      <th>280</th>\n",
       "      <td>0.11250</td>\n",
       "      <td>0.009305</td>\n",
       "      <td>5</td>\n",
       "      <td>Uncertain Sampling</td>\n",
       "    </tr>\n",
       "    <tr>\n",
       "      <th>256</th>\n",
       "      <td>0.08125</td>\n",
       "      <td>0.005721</td>\n",
       "      <td>5</td>\n",
       "      <td>Uncertain Sampling</td>\n",
       "    </tr>\n",
       "  </tbody>\n",
       "</table>\n",
       "<p>437 rows × 4 columns</p>\n",
       "</div>"
      ],
      "text/plain": [
       "     performance_history  time_elapsed  sample_size                  Strategy\n",
       "418              1.00000      4.827460           50  Expected Error Reduction\n",
       "354              1.00000      0.004039            5        Uncertain Sampling\n",
       "368              1.00000      0.214306           50  Expected Error Reduction\n",
       "367              1.00000      0.228743           50  Expected Error Reduction\n",
       "361              1.00000      0.006477          105           Random Sampling\n",
       "..                   ...           ...          ...                       ...\n",
       "252              0.13750      0.005481            5        Uncertain Sampling\n",
       "279              0.11875      0.008610            5        Uncertain Sampling\n",
       "255              0.11250      0.005454            5        Uncertain Sampling\n",
       "280              0.11250      0.009305            5        Uncertain Sampling\n",
       "256              0.08125      0.005721            5        Uncertain Sampling\n",
       "\n",
       "[437 rows x 4 columns]"
      ]
     },
     "execution_count": 33,
     "metadata": {},
     "output_type": "execute_result"
    }
   ],
   "source": [
    "df[df.Strategy != 'Query by Committee'].sort_values('performance_history', ascending = False)"
   ]
  },
  {
   "cell_type": "code",
   "execution_count": null,
   "metadata": {
    "scrolled": true
   },
   "outputs": [],
   "source": [
    "df.info()"
   ]
  },
  {
   "cell_type": "markdown",
   "metadata": {},
   "source": [
    "### Plots"
   ]
  },
  {
   "cell_type": "code",
   "execution_count": null,
   "metadata": {},
   "outputs": [],
   "source": [
    "g = sns.relplot(\n",
    "    data= df,\n",
    "    x=\"performance_history\", y=\"time_elapsed\",\n",
    "    hue=\"Strategy\", size=\"sample_size\",\n",
    "    palette=sns.color_palette(n_colors=1), sizes=(100, 300), alpha=0.3\n",
    ")\n",
    "g.ax.xaxis.grid(True, \"minor\", linewidth=.25)\n",
    "g.ax.yaxis.grid(True, \"minor\", linewidth=.25)\n",
    "_ = g.despine(left=True, bottom=True)"
   ]
  },
  {
   "cell_type": "code",
   "execution_count": null,
   "metadata": {},
   "outputs": [],
   "source": [
    "g = sns.relplot(\n",
    "    data= df,\n",
    "    x=\"performance_history\", y=\"time_elapsed\",\n",
    "    hue=\"Strategy\", size=\"sample_size\",\n",
    "    palette=sns.color_palette(n_colors=5), sizes=(100, 300), alpha=0.3\n",
    ")\n",
    "g.ax.xaxis.grid(True, \"minor\", linewidth=.25)\n",
    "g.ax.yaxis.grid(True, \"minor\", linewidth=.25)\n",
    "_ = g.despine(left=True, bottom=True)"
   ]
  },
  {
   "cell_type": "code",
   "execution_count": null,
   "metadata": {},
   "outputs": [],
   "source": [
    "g = sns.relplot(\n",
    "    data= df[(df.Strategy != \"Uncertain Sampling\") & (df.Strategy != \"Query by Committee\")],\n",
    "    x=\"performance_history\", y=\"time_elapsed\",\n",
    "    hue=\"Strategy\", size=\"sample_size\",\n",
    "    palette=sns.color_palette(n_colors=3), sizes=(100, 300), alpha=0.3\n",
    ")\n",
    "g.ax.xaxis.grid(True, \"minor\", linewidth=.25)\n",
    "g.ax.yaxis.grid(True, \"minor\", linewidth=.25)\n",
    "_ = g.despine(left=True, bottom=True)"
   ]
  },
  {
   "cell_type": "code",
   "execution_count": null,
   "metadata": {},
   "outputs": [],
   "source": [
    "g = sns.relplot(\n",
    "    data= df[(df.Strategy == \"Uncertain Sampling\") | (df.Strategy == \"Query by Committee\")],\n",
    "    x=\"performance_history\", y=\"time_elapsed\",\n",
    "    hue=\"Strategy\", size=\"sample_size\",\n",
    "    palette=sns.color_palette(n_colors=2), sizes=(100, 300), alpha=0.3\n",
    ")\n",
    "g.ax.xaxis.grid(True, \"minor\", linewidth=.25)\n",
    "g.ax.yaxis.grid(True, \"minor\", linewidth=.25)\n",
    "_ = g.despine(left=True, bottom=True)"
   ]
  },
  {
   "cell_type": "markdown",
   "metadata": {},
   "source": [
    "## Baixando datasets"
   ]
  },
  {
   "cell_type": "code",
   "execution_count": null,
   "metadata": {},
   "outputs": [],
   "source": [
    "from tqdm.notebook import tqdm, trange\n",
    "p_bar = tqdm(datalist)\n",
    "for dataset_id in p_bar:\n",
    "    X_raw, y_raw, idx_data, dataset_name = which_oml_dataset(dataset_id)\n",
    "    p_bar.set_description(f'\"{dataset_name}\"')"
   ]
  }
 ],
 "metadata": {
  "kernelspec": {
   "display_name": "Python 3",
   "language": "python",
   "name": "python3"
  },
  "language_info": {
   "codemirror_mode": {
    "name": "ipython",
    "version": 3
   },
   "file_extension": ".py",
   "mimetype": "text/x-python",
   "name": "python",
   "nbconvert_exporter": "python",
   "pygments_lexer": "ipython3",
   "version": "3.7.3"
  }
 },
 "nbformat": 4,
 "nbformat_minor": 4
}
