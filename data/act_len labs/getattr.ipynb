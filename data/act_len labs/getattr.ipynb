{
 "cells": [
  {
   "cell_type": "code",
   "execution_count": 14,
   "id": "8cbf37f0",
   "metadata": {},
   "outputs": [],
   "source": [
    "def test(x):\n",
    "    if (x == 1):\n",
    "        print(\"funcionou\" + str(x))\n",
    "    if (x == 2):\n",
    "        print(\"funcionou\" + str(x))"
   ]
  },
  {
   "cell_type": "code",
   "execution_count": 11,
   "id": "fc54afa1",
   "metadata": {},
   "outputs": [
    {
     "ename": "NameError",
     "evalue": "name '__main__' is not defined",
     "output_type": "error",
     "traceback": [
      "\u001b[0;31m---------------------------------------------------------------------------\u001b[0m",
      "\u001b[0;31mNameError\u001b[0m                                 Traceback (most recent call last)",
      "\u001b[0;32m<ipython-input-11-3dece23a7001>\u001b[0m in \u001b[0;36m<module>\u001b[0;34m\u001b[0m\n\u001b[0;32m----> 1\u001b[0;31m \u001b[0mgetattr\u001b[0m\u001b[0;34m(\u001b[0m\u001b[0m__main__\u001b[0m\u001b[0;34m,\u001b[0m \u001b[0;34m\"test\"\u001b[0m\u001b[0;34m)\u001b[0m\u001b[0;34m\u001b[0m\u001b[0;34m\u001b[0m\u001b[0m\n\u001b[0m",
      "\u001b[0;31mNameError\u001b[0m: name '__main__' is not defined"
     ]
    }
   ],
   "source": [
    "getattr(__main__, \"test\")"
   ]
  },
  {
   "cell_type": "code",
   "execution_count": 17,
   "id": "cdf77356",
   "metadata": {},
   "outputs": [],
   "source": [
    "eval(\"test(3)\")"
   ]
  },
  {
   "cell_type": "code",
   "execution_count": 18,
   "id": "a7d4ddcf",
   "metadata": {},
   "outputs": [],
   "source": [
    "def config(section, filename='./strategies.config'):\n",
    "    from configparser import ConfigParser\n",
    "\n",
    "    # create a parser\n",
    "    parser = ConfigParser()\n",
    "    # read config file\n",
    "    parser.read(filename)\n",
    "    # get section, default to postgresql\n",
    "    strategy = {}\n",
    "    if parser.has_section(section):\n",
    "        params = parser.items(section)\n",
    "        for param in params:\n",
    "            strategy[param[0]] = param[1]\n",
    "    else:\n",
    "        raise Exception('Section {0} not found in the {1} file'.format(section, filename))\n",
    "\n",
    "    return strategy"
   ]
  },
  {
   "cell_type": "code",
   "execution_count": 80,
   "id": "934107e1",
   "metadata": {},
   "outputs": [],
   "source": [
    "conf = config(\"H\")"
   ]
  },
  {
   "cell_type": "code",
   "execution_count": 81,
   "id": "5c2b8157",
   "metadata": {},
   "outputs": [
    {
     "data": {
      "text/plain": [
       "{'name': 'Lowest Harmfulness Sampling',\n",
       " 'measure': 'Harmfulness',\n",
       " 'sortby': 'feature_Harmfulness',\n",
       " 'ascending': 'False,True'}"
      ]
     },
     "execution_count": 81,
     "metadata": {},
     "output_type": "execute_result"
    }
   ],
   "source": [
    "conf"
   ]
  },
  {
   "cell_type": "code",
   "execution_count": 82,
   "id": "1b6f1a90",
   "metadata": {},
   "outputs": [
    {
     "data": {
      "text/plain": [
       "[False, True]"
      ]
     },
     "execution_count": 82,
     "metadata": {},
     "output_type": "execute_result"
    }
   ],
   "source": [
    "list(map(lambda x: bool(0 if x == \"False\" else 1), conf['ascending'].split(',')))"
   ]
  },
  {
   "cell_type": "code",
   "execution_count": 59,
   "id": "83c5a9fb",
   "metadata": {},
   "outputs": [
    {
     "data": {
      "text/plain": [
       "True"
      ]
     },
     "execution_count": 59,
     "metadata": {},
     "output_type": "execute_result"
    }
   ],
   "source": [
    "bool(1)"
   ]
  }
 ],
 "metadata": {
  "kernelspec": {
   "display_name": "Python 3",
   "language": "python",
   "name": "python3"
  },
  "language_info": {
   "codemirror_mode": {
    "name": "ipython",
    "version": 3
   },
   "file_extension": ".py",
   "mimetype": "text/x-python",
   "name": "python",
   "nbconvert_exporter": "python",
   "pygments_lexer": "ipython3",
   "version": "3.7.10"
  }
 },
 "nbformat": 4,
 "nbformat_minor": 5
}
