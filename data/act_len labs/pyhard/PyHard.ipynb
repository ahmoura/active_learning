{
 "cells": [
  {
   "cell_type": "code",
   "execution_count": 1,
   "id": "bound-aluminum",
   "metadata": {
    "scrolled": true
   },
   "outputs": [
    {
     "name": "stdout",
     "output_type": "stream",
     "text": [
      "run 'pyhard --help' to see all options.\n",
      "[INFO] 2021-04-13 22:30:00,363 - Configuration file: '/Users/tiagocabral/Documents/UnB/EstudosEmIA/active_learning/data/act_len labs/pyhard/config.yaml'\n",
      "[INFO] 2021-04-13 22:30:00,363 - Reading input dataset: '/Users/tiagocabral/Documents/UnB/EstudosEmIA/active_learning/data/act_len labs/pyhard/data.csv'\n",
      "[INFO] 2021-04-13 22:30:00,365 - Type of problem: 'classification'\n",
      "[INFO] 2021-04-13 22:30:00,365 - Building metadata.\n",
      "[INFO] 2021-04-13 22:30:01,927 - Calculating measure 'N2'\n",
      "[INFO] 2021-04-13 22:30:01,992 - Hyper parameter optimization enabled\n",
      "[INFO] 2021-04-13 22:30:01,992 - Assessing performance of classifier 'random_forest'\n",
      "[INFO] 2021-04-13 22:30:01,992 - Estimating instance performance...\n",
      "[INFO] 2021-04-13 22:30:01,993 - Evaluating testing fold #1\n",
      "[INFO] 2021-04-13 22:30:01,994 - Optimizing classifier hyper-parameters\n",
      "100%|████████| 20/20 [00:06<00:00,  3.05trial/s, best loss: -0.9157848324514991]\n",
      "[INFO] 2021-04-13 22:30:08,673 - Test fold mean accuracy: 0.9523809523809523\n",
      "[INFO] 2021-04-13 22:30:08,673 - Evaluating testing fold #2\n",
      "[INFO] 2021-04-13 22:30:08,674 - Optimizing classifier hyper-parameters\n",
      "100%|████████| 20/20 [00:06<00:00,  3.15trial/s, best loss: -0.9391534391534391]\n",
      "[INFO] 2021-04-13 22:30:15,073 - Test fold mean accuracy: 1.0\n",
      "[INFO] 2021-04-13 22:30:15,073 - Evaluating testing fold #3\n",
      "[INFO] 2021-04-13 22:30:15,074 - Optimizing classifier hyper-parameters\n",
      "100%|████████| 20/20 [00:05<00:00,  3.62trial/s, best loss: -0.9638447971781305]\n",
      "[INFO] 2021-04-13 22:30:20,733 - Test fold mean accuracy: 0.8571428571428571\n",
      "[INFO] 2021-04-13 22:30:20,734 - Evaluating testing fold #4\n",
      "[INFO] 2021-04-13 22:30:20,734 - Optimizing classifier hyper-parameters\n",
      "100%|████████| 20/20 [00:05<00:00,  3.75trial/s, best loss: -0.9276895943562611]\n",
      "[INFO] 2021-04-13 22:30:26,200 - Test fold mean accuracy: 1.0\n",
      "[INFO] 2021-04-13 22:30:26,200 - Evaluating testing fold #5\n",
      "[INFO] 2021-04-13 22:30:26,201 - Optimizing classifier hyper-parameters\n",
      "100%|████████| 20/20 [00:05<00:00,  3.48trial/s, best loss: -0.9047619047619048]\n",
      "[INFO] 2021-04-13 22:30:32,080 - Test fold mean accuracy: 1.0\n",
      "[INFO] 2021-04-13 22:30:32,080 - Iteration 1/1 completed.\n",
      "[INFO] 2021-04-13 22:30:32,081 - Mean accuracy on test instances (iteration #1): 0.9619\n",
      "[INFO] 2021-04-13 22:30:32,088 - Skipping feature selection: number of features already satisfied (1 <= max_n_features (10))\n",
      "[INFO] 2021-04-13 22:30:32,088 - Running Instance Space Analysis with 'python' engine.\n",
      "[INFO] 2021-04-13 22:30:32,093 - Calculating the binary measure of performance\n",
      "[INFO] 2021-04-13 22:30:32,093 - An algorithm is good if its performace is less than 0.8949\n",
      "[INFO] 2021-04-13 22:30:32,093 - For 0.0% of the instances there is more than one best algorithm. Random selection is used to break ties.\n",
      "[INFO] 2021-04-13 22:30:32,093 - Auto pre-processing.\n",
      "[INFO] 2021-04-13 22:30:32,093 - Removing extreme outliers from the feature values.\n",
      "[INFO] 2021-04-13 22:30:32,094 - Auto-normalizing the data using Box-Cox and Z transformations.\n",
      "[INFO] 2021-04-13 22:30:32,098 - Calling PILOT to find the optimal projection.\n",
      "[INFO] 2021-04-13 22:30:32,098 - PILOT is solving numerically the projection problem.\n",
      "[INFO] 2021-04-13 22:30:32,109 - PILOT has completed trial 1\n",
      "[INFO] 2021-04-13 22:30:32,118 - PILOT has completed trial 2\n",
      "[INFO] 2021-04-13 22:30:32,126 - PILOT has completed trial 3\n",
      "[INFO] 2021-04-13 22:30:32,137 - PILOT has completed trial 4\n",
      "[INFO] 2021-04-13 22:30:32,149 - PILOT has completed trial 5\n",
      "[INFO] 2021-04-13 22:30:32,149 - PILOT has completed.\n",
      "[INFO] 2021-04-13 22:30:32,151 - Adjusting the IS rotation.\n",
      "[INFO] 2021-04-13 22:30:32,151 - Calling TRACE to perform the footprint analysis.\n",
      "[INFO] 2021-04-13 22:30:32,151 - TRACE is calculating the space area and density.\n",
      "Traceback (most recent call last):\n",
      "  File \"/Users/tiagocabral/anaconda3/envs/ALEnv/bin/pyhard\", line 8, in <module>\n",
      "    sys.exit(cli())\n",
      "  File \"/Users/tiagocabral/anaconda3/envs/ALEnv/lib/python3.9/site-packages/pyhard/cli.py\", line 198, in cli\n",
      "    main(args)\n",
      "  File \"/Users/tiagocabral/anaconda3/envs/ALEnv/lib/python3.9/site-packages/pyhard/cli.py\", line 105, in main\n",
      "    model = integrator.run_isa(rootdir=rootdir_path, settings=other,\n",
      "  File \"/Users/tiagocabral/anaconda3/envs/ALEnv/lib/python3.9/site-packages/pyhard/integrator.py\", line 153, in run_isa\n",
      "    out = train_is(metadata, opts, rotation_adjust)\n",
      "  File \"/Users/tiagocabral/anaconda3/envs/ALEnv/lib/python3.9/site-packages/pyispace/train.py\", line 143, in train_is\n",
      "    model.trace = trace(model.pilot.Z, model.data.Ybin, model.data.P,\n",
      "  File \"/Users/tiagocabral/anaconda3/envs/ALEnv/lib/python3.9/site-packages/pyispace/trace.py\", line 148, in trace\n",
      "    space = trace_build(Z, np.ones(ninst, dtype=bool), kwargs['PI'])\n",
      "  File \"/Users/tiagocabral/anaconda3/envs/ALEnv/lib/python3.9/site-packages/pyispace/trace.py\", line 248, in trace_build\n",
      "    raise TraceException\n",
      "pyispace.trace.TraceException: There are not enough instances to calculate a footprint. The subset of instances used is too small.\n"
     ]
    }
   ],
   "source": [
    "!pyhard"
   ]
  },
  {
   "cell_type": "code",
   "execution_count": 4,
   "id": "peripheral-selling",
   "metadata": {},
   "outputs": [],
   "source": [
    "import pandas as pd"
   ]
  },
  {
   "cell_type": "code",
   "execution_count": 5,
   "id": "third-truth",
   "metadata": {
    "scrolled": true
   },
   "outputs": [],
   "source": [
    "df = pd.read_csv('metadata.csv')"
   ]
  },
  {
   "cell_type": "code",
   "execution_count": 6,
   "id": "registered-illustration",
   "metadata": {},
   "outputs": [
    {
     "data": {
      "text/html": [
       "<div>\n",
       "<style scoped>\n",
       "    .dataframe tbody tr th:only-of-type {\n",
       "        vertical-align: middle;\n",
       "    }\n",
       "\n",
       "    .dataframe tbody tr th {\n",
       "        vertical-align: top;\n",
       "    }\n",
       "\n",
       "    .dataframe thead th {\n",
       "        text-align: right;\n",
       "    }\n",
       "</style>\n",
       "<table border=\"1\" class=\"dataframe\">\n",
       "  <thead>\n",
       "    <tr style=\"text-align: right;\">\n",
       "      <th></th>\n",
       "      <th>instances</th>\n",
       "      <th>feature_N2</th>\n",
       "      <th>algo_random_forest</th>\n",
       "    </tr>\n",
       "  </thead>\n",
       "  <tbody>\n",
       "    <tr>\n",
       "      <th>0</th>\n",
       "      <td>1</td>\n",
       "      <td>0.102745</td>\n",
       "      <td>9.992007e-16</td>\n",
       "    </tr>\n",
       "    <tr>\n",
       "      <th>1</th>\n",
       "      <td>2</td>\n",
       "      <td>0.083516</td>\n",
       "      <td>9.992007e-16</td>\n",
       "    </tr>\n",
       "    <tr>\n",
       "      <th>2</th>\n",
       "      <td>3</td>\n",
       "      <td>0.131819</td>\n",
       "      <td>9.992007e-16</td>\n",
       "    </tr>\n",
       "    <tr>\n",
       "      <th>3</th>\n",
       "      <td>4</td>\n",
       "      <td>0.209435</td>\n",
       "      <td>9.992007e-16</td>\n",
       "    </tr>\n",
       "    <tr>\n",
       "      <th>4</th>\n",
       "      <td>5</td>\n",
       "      <td>0.276836</td>\n",
       "      <td>9.992007e-16</td>\n",
       "    </tr>\n",
       "    <tr>\n",
       "      <th>...</th>\n",
       "      <td>...</td>\n",
       "      <td>...</td>\n",
       "      <td>...</td>\n",
       "    </tr>\n",
       "    <tr>\n",
       "      <th>99</th>\n",
       "      <td>100</td>\n",
       "      <td>0.100079</td>\n",
       "      <td>9.992007e-16</td>\n",
       "    </tr>\n",
       "    <tr>\n",
       "      <th>100</th>\n",
       "      <td>101</td>\n",
       "      <td>0.236026</td>\n",
       "      <td>9.992007e-16</td>\n",
       "    </tr>\n",
       "    <tr>\n",
       "      <th>101</th>\n",
       "      <td>102</td>\n",
       "      <td>0.072393</td>\n",
       "      <td>9.992007e-16</td>\n",
       "    </tr>\n",
       "    <tr>\n",
       "      <th>102</th>\n",
       "      <td>103</td>\n",
       "      <td>0.060787</td>\n",
       "      <td>9.992007e-16</td>\n",
       "    </tr>\n",
       "    <tr>\n",
       "      <th>103</th>\n",
       "      <td>104</td>\n",
       "      <td>0.026786</td>\n",
       "      <td>1.360565e-02</td>\n",
       "    </tr>\n",
       "  </tbody>\n",
       "</table>\n",
       "<p>104 rows × 3 columns</p>\n",
       "</div>"
      ],
      "text/plain": [
       "     instances  feature_N2  algo_random_forest\n",
       "0            1    0.102745        9.992007e-16\n",
       "1            2    0.083516        9.992007e-16\n",
       "2            3    0.131819        9.992007e-16\n",
       "3            4    0.209435        9.992007e-16\n",
       "4            5    0.276836        9.992007e-16\n",
       "..         ...         ...                 ...\n",
       "99         100    0.100079        9.992007e-16\n",
       "100        101    0.236026        9.992007e-16\n",
       "101        102    0.072393        9.992007e-16\n",
       "102        103    0.060787        9.992007e-16\n",
       "103        104    0.026786        1.360565e-02\n",
       "\n",
       "[104 rows x 3 columns]"
      ]
     },
     "execution_count": 6,
     "metadata": {},
     "output_type": "execute_result"
    }
   ],
   "source": [
    "df"
   ]
  },
  {
   "cell_type": "code",
   "execution_count": 1,
   "id": "aggressive-chapter",
   "metadata": {},
   "outputs": [
    {
     "ename": "NameError",
     "evalue": "name 'df' is not defined",
     "output_type": "error",
     "traceback": [
      "\u001b[0;31m------------------------------------------------------------------------\u001b[0m",
      "\u001b[0;31mNameError\u001b[0m                              Traceback (most recent call last)",
      "\u001b[0;32m<ipython-input-1-00cf07b74dcd>\u001b[0m in \u001b[0;36m<module>\u001b[0;34m\u001b[0m\n\u001b[0;32m----> 1\u001b[0;31m \u001b[0mdf\u001b[0m\u001b[0;34m\u001b[0m\u001b[0;34m\u001b[0m\u001b[0m\n\u001b[0m",
      "\u001b[0;31mNameError\u001b[0m: name 'df' is not defined"
     ]
    }
   ],
   "source": [
    "df"
   ]
  },
  {
   "cell_type": "code",
   "execution_count": null,
   "id": "comfortable-apartment",
   "metadata": {},
   "outputs": [],
   "source": []
  }
 ],
 "metadata": {
  "kernelspec": {
   "display_name": "Python 3",
   "language": "python",
   "name": "python3"
  },
  "language_info": {
   "codemirror_mode": {
    "name": "ipython",
    "version": 3
   },
   "file_extension": ".py",
   "mimetype": "text/x-python",
   "name": "python",
   "nbconvert_exporter": "python",
   "pygments_lexer": "ipython3",
   "version": "3.9.1"
  }
 },
 "nbformat": 4,
 "nbformat_minor": 5
}
