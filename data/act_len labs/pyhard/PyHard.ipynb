{
 "cells": [
  {
   "cell_type": "code",
   "execution_count": 1,
   "id": "bound-aluminum",
   "metadata": {
    "scrolled": true
   },
   "outputs": [
    {
     "name": "stdout",
     "output_type": "stream",
     "text": [
      "run 'pyhard --help' to see all options.\n",
      "[INFO] 2021-05-18 00:27:30,480 - Configuration file: '/mnt/c/Users/ahmou/OneDrive/Documentos/ubuntu_wd/act_len/active_learning/data/act_len labs/pyhard/config.yaml'\n",
      "[INFO] 2021-05-18 00:27:30,482 - Reading input dataset: '/mnt/c/Users/ahmou/OneDrive/Documentos/ubuntu_wd/act_len/active_learning/data/act_len labs/pyhard/data.csv'\n",
      "[INFO] 2021-05-18 00:27:30,491 - Type of problem: 'classification'\n",
      "[INFO] 2021-05-18 00:27:30,491 - Building metadata.\n",
      "[INFO] 2021-05-18 00:27:33,916 - Calculating measure 'F3'\n",
      "[INFO] 2021-05-18 00:27:33,991 - Assessing performance of classifier 'random_forest'\n",
      "[INFO] 2021-05-18 00:27:33,991 - Estimating instance performance...\n",
      "[INFO] 2021-05-18 00:27:33,992 - Evaluating testing fold #1\n",
      "[INFO] 2021-05-18 00:27:34,529 - Test fold mean accuracy: 0.8179824561403509\n",
      "[INFO] 2021-05-18 00:27:34,529 - Evaluating testing fold #2\n",
      "[INFO] 2021-05-18 00:27:35,065 - Test fold mean accuracy: 0.8417582417582418\n",
      "[INFO] 2021-05-18 00:27:35,066 - Iteration 1/1 completed.\n",
      "[INFO] 2021-05-18 00:27:35,066 - Mean accuracy on test instances (iteration #1): 0.8299\n",
      "[INFO] 2021-05-18 00:27:35,089 - Skipping feature selection: number of features already satisfied (1 <= max_n_features (10))\n",
      "[INFO] 2021-05-18 00:27:35,089 - Running Instance Space Analysis with 'python' engine.\n",
      "[INFO] 2021-05-18 00:27:35,105 - Calculating the binary measure of performance\n",
      "[INFO] 2021-05-18 00:27:35,106 - An algorithm is good if its performace is less than 0.6926\n",
      "[INFO] 2021-05-18 00:27:35,106 - For 0.0% of the instances there is more than one best algorithm. Random selection is used to break ties.\n",
      "[INFO] 2021-05-18 00:27:35,106 - Auto pre-processing.\n",
      "[INFO] 2021-05-18 00:27:35,106 - Removing extreme outliers from the feature values.\n",
      "[INFO] 2021-05-18 00:27:35,106 - Auto-normalizing the data using Box-Cox and Z transformations.\n",
      "[INFO] 2021-05-18 00:27:35,112 - Calling PILOT to find the optimal projection.\n",
      "[INFO] 2021-05-18 00:27:35,112 - PILOT is solving numerically the projection problem.\n",
      "[INFO] 2021-05-18 00:27:35,131 - PILOT has completed trial 1\n",
      "[INFO] 2021-05-18 00:27:35,146 - PILOT has completed trial 2\n",
      "[INFO] 2021-05-18 00:27:35,160 - PILOT has completed trial 3\n",
      "[INFO] 2021-05-18 00:27:35,179 - PILOT has completed trial 4\n",
      "[INFO] 2021-05-18 00:27:35,200 - PILOT has completed trial 5\n",
      "[INFO] 2021-05-18 00:27:35,233 - PILOT has completed.\n",
      "[INFO] 2021-05-18 00:27:35,253 - Adjusting the IS rotation.\n",
      "[INFO] 2021-05-18 00:27:35,253 - Calling TRACE to perform the footprint analysis.\n",
      "[INFO] 2021-05-18 00:27:35,253 - TRACE is calculating the space area and density.\n",
      "Traceback (most recent call last):\n",
      "  File \"/mnt/c/Users/ahmou/Onedrive/Documentos/ubuntu_wd/act_len/bin/pyhard\", line 8, in <module>\n",
      "    sys.exit(cli())\n",
      "  File \"/mnt/c/Users/ahmou/Onedrive/Documentos/ubuntu_wd/act_len/lib/python3.7/site-packages/pyhard/cli.py\", line 198, in cli\n",
      "    main(args)\n",
      "  File \"/mnt/c/Users/ahmou/Onedrive/Documentos/ubuntu_wd/act_len/lib/python3.7/site-packages/pyhard/cli.py\", line 106, in main\n",
      "    rotation_adjust=conf.get('adjust_rotation'))\n",
      "  File \"/mnt/c/Users/ahmou/Onedrive/Documentos/ubuntu_wd/act_len/lib/python3.7/site-packages/pyhard/integrator.py\", line 153, in run_isa\n",
      "    out = train_is(metadata, opts, rotation_adjust)\n",
      "  File \"/mnt/c/Users/ahmou/Onedrive/Documentos/ubuntu_wd/act_len/lib/python3.7/site-packages/pyispace/train.py\", line 144, in train_is\n",
      "    model.data.beta, model.data.algolabels, **opts['trace'])\n",
      "  File \"/mnt/c/Users/ahmou/Onedrive/Documentos/ubuntu_wd/act_len/lib/python3.7/site-packages/pyispace/trace.py\", line 148, in trace\n",
      "    space = trace_build(Z, np.ones(ninst, dtype=bool), kwargs['PI'])\n",
      "  File \"/mnt/c/Users/ahmou/Onedrive/Documentos/ubuntu_wd/act_len/lib/python3.7/site-packages/pyispace/trace.py\", line 227, in trace_build\n",
      "    concave_hull = alphashape_optm(polydata, 2)\n",
      "  File \"/mnt/c/Users/ahmou/Onedrive/Documentos/ubuntu_wd/act_len/lib/python3.7/site-packages/pyispace/trace.py\", line 91, in alphashape_optm\n",
      "    hull = alphashape.alphashape(points, alpha_ini)\n",
      "  File \"/mnt/c/Users/ahmou/Onedrive/Documentos/ubuntu_wd/act_len/lib/python3.7/site-packages/alphashape/alphashape.py\", line 134, in alphashape\n",
      "    if isinstance(points, geopandas.geoseries.GeoSeries):\n",
      "NameError: name 'geopandas' is not defined\n"
     ]
    }
   ],
   "source": [
    "!pyhard"
   ]
  },
  {
   "cell_type": "code",
   "execution_count": 2,
   "id": "peripheral-selling",
   "metadata": {},
   "outputs": [],
   "source": [
    "import pandas as pd"
   ]
  },
  {
   "cell_type": "code",
   "execution_count": 3,
   "id": "third-truth",
   "metadata": {
    "scrolled": true
   },
   "outputs": [],
   "source": [
    "df = pd.read_csv('metadata.csv')"
   ]
  },
  {
   "cell_type": "code",
   "execution_count": 4,
   "id": "registered-illustration",
   "metadata": {},
   "outputs": [
    {
     "data": {
      "text/html": [
       "<div>\n",
       "<style scoped>\n",
       "    .dataframe tbody tr th:only-of-type {\n",
       "        vertical-align: middle;\n",
       "    }\n",
       "\n",
       "    .dataframe tbody tr th {\n",
       "        vertical-align: top;\n",
       "    }\n",
       "\n",
       "    .dataframe thead th {\n",
       "        text-align: right;\n",
       "    }\n",
       "</style>\n",
       "<table border=\"1\" class=\"dataframe\">\n",
       "  <thead>\n",
       "    <tr style=\"text-align: right;\">\n",
       "      <th></th>\n",
       "      <th>instances</th>\n",
       "      <th>feature_F3</th>\n",
       "      <th>algo_random_forest</th>\n",
       "    </tr>\n",
       "  </thead>\n",
       "  <tbody>\n",
       "    <tr>\n",
       "      <th>0</th>\n",
       "      <td>1</td>\n",
       "      <td>0.599906</td>\n",
       "      <td>9.992007e-16</td>\n",
       "    </tr>\n",
       "    <tr>\n",
       "      <th>1</th>\n",
       "      <td>2</td>\n",
       "      <td>0.596030</td>\n",
       "      <td>6.539265e-01</td>\n",
       "    </tr>\n",
       "    <tr>\n",
       "      <th>2</th>\n",
       "      <td>3</td>\n",
       "      <td>0.598428</td>\n",
       "      <td>4.155154e-01</td>\n",
       "    </tr>\n",
       "    <tr>\n",
       "      <th>3</th>\n",
       "      <td>4</td>\n",
       "      <td>0.607003</td>\n",
       "      <td>8.439701e-01</td>\n",
       "    </tr>\n",
       "    <tr>\n",
       "      <th>4</th>\n",
       "      <td>5</td>\n",
       "      <td>0.598580</td>\n",
       "      <td>6.187540e-02</td>\n",
       "    </tr>\n",
       "    <tr>\n",
       "      <th>...</th>\n",
       "      <td>...</td>\n",
       "      <td>...</td>\n",
       "      <td>...</td>\n",
       "    </tr>\n",
       "    <tr>\n",
       "      <th>906</th>\n",
       "      <td>907</td>\n",
       "      <td>0.606570</td>\n",
       "      <td>3.045921e-02</td>\n",
       "    </tr>\n",
       "    <tr>\n",
       "      <th>907</th>\n",
       "      <td>908</td>\n",
       "      <td>0.599581</td>\n",
       "      <td>1.005034e-02</td>\n",
       "    </tr>\n",
       "    <tr>\n",
       "      <th>908</th>\n",
       "      <td>909</td>\n",
       "      <td>0.594923</td>\n",
       "      <td>2.020271e-02</td>\n",
       "    </tr>\n",
       "    <tr>\n",
       "      <th>909</th>\n",
       "      <td>910</td>\n",
       "      <td>0.595060</td>\n",
       "      <td>4.462871e-01</td>\n",
       "    </tr>\n",
       "    <tr>\n",
       "      <th>910</th>\n",
       "      <td>911</td>\n",
       "      <td>0.597228</td>\n",
       "      <td>3.147107e-01</td>\n",
       "    </tr>\n",
       "  </tbody>\n",
       "</table>\n",
       "<p>911 rows × 3 columns</p>\n",
       "</div>"
      ],
      "text/plain": [
       "     instances  feature_F3  algo_random_forest\n",
       "0            1    0.599906        9.992007e-16\n",
       "1            2    0.596030        6.539265e-01\n",
       "2            3    0.598428        4.155154e-01\n",
       "3            4    0.607003        8.439701e-01\n",
       "4            5    0.598580        6.187540e-02\n",
       "..         ...         ...                 ...\n",
       "906        907    0.606570        3.045921e-02\n",
       "907        908    0.599581        1.005034e-02\n",
       "908        909    0.594923        2.020271e-02\n",
       "909        910    0.595060        4.462871e-01\n",
       "910        911    0.597228        3.147107e-01\n",
       "\n",
       "[911 rows x 3 columns]"
      ]
     },
     "execution_count": 4,
     "metadata": {},
     "output_type": "execute_result"
    }
   ],
   "source": [
    "df"
   ]
  }
 ],
 "metadata": {
  "kernelspec": {
   "display_name": "Python 3",
   "language": "python",
   "name": "python3"
  },
  "language_info": {
   "codemirror_mode": {
    "name": "ipython",
    "version": 3
   },
   "file_extension": ".py",
   "mimetype": "text/x-python",
   "name": "python",
   "nbconvert_exporter": "python",
   "pygments_lexer": "ipython3",
   "version": "3.7.10"
  }
 },
 "nbformat": 4,
 "nbformat_minor": 5
}
